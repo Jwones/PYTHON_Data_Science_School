{
 "cells": [
  {
   "cell_type": "markdown",
   "metadata": {},
   "source": [
    "## 학습목표\n",
    " 1. 수치해석 라이브러리인 numpy의 이해 및 사용\n",
    " 2. 데이터 분석 라이브러이인 pandas의 이해 및 사용"
   ]
  },
  {
   "cell_type": "markdown",
   "metadata": {},
   "source": [
    "## numpy\n",
    " - 파이썬의 대표적인 수치해석 라이브러리\n",
    " - 벡터, 행렬등의 최적화된 data structure와 다양한 연산 제공\n",
    " - 다른 많은 machine learnig, 혹은 data analysis 패키지들에서 많이 사용 됨"
   ]
  },
  {
   "cell_type": "markdown",
   "metadata": {},
   "source": [
    "* **numpy 모듈**\n",
    "  - 모듈 설치 \n",
    "    - pip install numpy\n",
    "  - 모듈 임포트\n",
    "    - import numpy as np (관례적으로 np 사용)"
   ]
  },
  {
   "cell_type": "code",
   "execution_count": 170,
   "metadata": {},
   "outputs": [
    {
     "name": "stdout",
     "output_type": "stream",
     "text": [
      "1.13.1\n"
     ]
    }
   ],
   "source": [
    "import numpy as np\n",
    "print(np.__version__)"
   ]
  },
  {
   "cell_type": "markdown",
   "metadata": {},
   "source": [
    "* **ndarray**\n",
    " - numpy의 기본 타입\n",
    " - n dimentional array를 의미\n",
    " - vector, matrix를 표현\n",
    " - numpy.array([])로 생성"
   ]
  },
  {
   "cell_type": "code",
   "execution_count": null,
   "metadata": {
    "collapsed": true
   },
   "outputs": [],
   "source": [
    "arr1 = np.array([1, 3, 4, 6]) # 1차원 벡터 생성\n",
    "arr2 = np.array([[0, 1, 2], [2, 4, 6]]) # 2차원 행렬 생성\n",
    "\n",
    "print(arr1, type(arr1))\n",
    "print(arr2, type(arr2))"
   ]
  },
  {
   "cell_type": "code",
   "execution_count": null,
   "metadata": {
    "collapsed": true
   },
   "outputs": [],
   "source": [
    "pure_arrary = range(10)\n",
    "np_array = np.array([[1, 2], [3, 4]])\n",
    "np_array\n",
    "np_array.shape"
   ]
  },
  {
   "cell_type": "markdown",
   "metadata": {},
   "source": [
    "* **arange**\n",
    " - 내장 함수 range()와 동일한 기능을 수행함\n",
    " - ndarray 반환"
   ]
  },
  {
   "cell_type": "code",
   "execution_count": null,
   "metadata": {
    "collapsed": true
   },
   "outputs": [],
   "source": [
    "arr3 = np.arange(1, 11)\n",
    "print(arr3, type(arr3))\n",
    "arr3.shape"
   ]
  },
  {
   "cell_type": "markdown",
   "metadata": {},
   "source": [
    "* **linspace**\n",
    " - start, end를 n-1개의 균일한 간격으로 분할"
   ]
  },
  {
   "cell_type": "code",
   "execution_count": null,
   "metadata": {
    "collapsed": true
   },
   "outputs": [],
   "source": [
    "# 0 - 10의 범위를 n-1 등분 한다는 이야기\n",
    "arr4 = np.linspace(0, 10, 100)\n",
    "print(arr4)"
   ]
  },
  {
   "cell_type": "markdown",
   "metadata": {},
   "source": [
    "* **zeros**\n",
    " - 전달된 tuple 사이즈 행렬 반환\n",
    " - 0으로 채워짐"
   ]
  },
  {
   "cell_type": "code",
   "execution_count": null,
   "metadata": {
    "collapsed": true
   },
   "outputs": [],
   "source": [
    "print(np.zeros((2, 4)))\n",
    "print(np.zeros(4))\n",
    "\n",
    "print(np.zeros((2, 2, 2)))"
   ]
  },
  {
   "cell_type": "markdown",
   "metadata": {},
   "source": [
    "* **ones**\n",
    " - 전달된 tuple 사이즈 행렬 반환\n",
    " - 1로 채워짐"
   ]
  },
  {
   "cell_type": "code",
   "execution_count": null,
   "metadata": {
    "collapsed": true
   },
   "outputs": [],
   "source": [
    "print(np.ones((3, 3, 2, 7, 8)))\n",
    "#print np.ones(3)"
   ]
  },
  {
   "cell_type": "markdown",
   "metadata": {},
   "source": [
    "* **random sub package**\n",
    "  - 다양한 확률 분포를 이용한 랜덤 숫자로 채워진 ndarray 혹은 단일 값을 생성할 때 주로 사용"
   ]
  },
  {
   "cell_type": "code",
   "execution_count": null,
   "metadata": {
    "collapsed": true
   },
   "outputs": [],
   "source": [
    "print(np.random.rand(3, 2)) # [0, 1) 사이 출력\n",
    "print(np.random.randn(3)) # 정규분포 normal distribution"
   ]
  },
  {
   "cell_type": "code",
   "execution_count": null,
   "metadata": {
    "collapsed": true
   },
   "outputs": [],
   "source": [
    "a = np.random.rand(3, 2, 2)\n",
    "a"
   ]
  },
  {
   "cell_type": "code",
   "execution_count": null,
   "metadata": {
    "collapsed": true
   },
   "outputs": [],
   "source": [
    "# 임의의 정수 한개 생성 [1, 100)\n",
    "np.random.randint(1, 100)"
   ]
  },
  {
   "cell_type": "code",
   "execution_count": null,
   "metadata": {
    "collapsed": true
   },
   "outputs": [],
   "source": [
    "# 임의의 정수 tensor 생성 \n",
    "np.random.randint(1, 100, size=(4, 3))"
   ]
  },
  {
   "cell_type": "code",
   "execution_count": null,
   "metadata": {
    "collapsed": true
   },
   "outputs": [],
   "source": [
    "# 범위 지정을 원할 경우 uniform 함수 이용\n",
    "np.random.uniform(low=1.0, high=2.0, size=(4))"
   ]
  },
  {
   "cell_type": "code",
   "execution_count": null,
   "metadata": {
    "collapsed": true
   },
   "outputs": [],
   "source": [
    "# 각 확률분포에 해당하는 함수가 존재\n",
    "np.random.binomial(10, 0.9)"
   ]
  },
  {
   "cell_type": "code",
   "execution_count": null,
   "metadata": {
    "collapsed": true
   },
   "outputs": [],
   "source": [
    "# choice함수를 이용하여 샘플링 가능\n",
    "np.random.choice(range(10), size=40, replace=True)"
   ]
  },
  {
   "cell_type": "markdown",
   "metadata": {},
   "source": [
    "* **연습문제)**\n",
    " 1. 20 - 30 사이의 임의의 정수 4개를 출력하시오(중복 허용)\n",
    " 2. 20 - 30 사이의 임의의 정수 4개를 출력하시오(중복 x)\n",
    " 3. 20 - 30 사이의 임의의 실수 4개를 출력하시오\n",
    " 4. 0.01 - 1 사이의 임의의 실수 4개를 출력하시오 "
   ]
  },
  {
   "cell_type": "code",
   "execution_count": null,
   "metadata": {
    "collapsed": true
   },
   "outputs": [],
   "source": [
    "np.random.randint(20, 31, size=4)"
   ]
  },
  {
   "cell_type": "code",
   "execution_count": null,
   "metadata": {
    "collapsed": true
   },
   "outputs": [],
   "source": [
    "np.random.choice(np.arange(20, 31), size=4, replace=False)"
   ]
  },
  {
   "cell_type": "code",
   "execution_count": null,
   "metadata": {
    "collapsed": true
   },
   "outputs": [],
   "source": [
    "np.random.uniform(20, 30, size=4)"
   ]
  },
  {
   "cell_type": "code",
   "execution_count": null,
   "metadata": {
    "collapsed": true
   },
   "outputs": [],
   "source": [
    "np.random.uniform(0.01, 1, size=4)"
   ]
  },
  {
   "cell_type": "code",
   "execution_count": null,
   "metadata": {
    "collapsed": true
   },
   "outputs": [],
   "source": [
    "n = np.random.uniform(0, 2, size=4)\n",
    "10 ** -n"
   ]
  },
  {
   "cell_type": "markdown",
   "metadata": {},
   "source": [
    "* ** seed ** \n",
    " - 실험, 분석 등을 할 때, 랜덤 값 생성 시, 해당 값을 추후에 또 사용해야 할 경우가 필요\n",
    " - 해당 경우에는 seed함수를 미리 호출하여 랜덤한 값을 동일 한 값으로 유지 할 수 있음\n",
    " - seed() 함수 호출 시, 정수를 전달"
   ]
  },
  {
   "cell_type": "code",
   "execution_count": null,
   "metadata": {
    "collapsed": true
   },
   "outputs": [],
   "source": [
    "np.random.seed(100)\n",
    "print(np.random.rand(2, 3))"
   ]
  },
  {
   "cell_type": "code",
   "execution_count": null,
   "metadata": {
    "collapsed": true
   },
   "outputs": [],
   "source": [
    "np.random.randint(1, 101, 10)"
   ]
  },
  {
   "cell_type": "code",
   "execution_count": null,
   "metadata": {
    "collapsed": true
   },
   "outputs": [],
   "source": [
    "np.random.seed(0) # 랜덤한 값을 계속 유지하고 싶을 때 사용\n",
    "print(np.random.rand())\n",
    "\n",
    "np.random.seed(2) # 랜덤한 값을 계속 유지하고 싶을 때 사용\n",
    "print(np.random.rand())"
   ]
  },
  {
   "cell_type": "markdown",
   "metadata": {},
   "source": [
    "* **slicing**\n",
    " - 리스트, 문자열 slicing과 동일함\n",
    " - 단, ndarray의 차원이 높을 경우에는, 각 차원별로 slicing, indexing 가능"
   ]
  },
  {
   "cell_type": "code",
   "execution_count": null,
   "metadata": {
    "collapsed": true
   },
   "outputs": [],
   "source": [
    "arr1 = np.array([1, 3, 4, 6])\n",
    "arr2 = np.array([[0, 1, 3], [2, 4, 6], [3, 7, 8]])"
   ]
  },
  {
   "cell_type": "code",
   "execution_count": null,
   "metadata": {
    "collapsed": true
   },
   "outputs": [],
   "source": [
    "print(arr1[0])\n",
    "print(arr1[1:-1])"
   ]
  },
  {
   "cell_type": "code",
   "execution_count": null,
   "metadata": {
    "collapsed": true
   },
   "outputs": [],
   "source": [
    "arr2"
   ]
  },
  {
   "cell_type": "code",
   "execution_count": null,
   "metadata": {
    "collapsed": true
   },
   "outputs": [],
   "source": [
    "print(arr2[1, :1])\n",
    "print(arr2[1, 0])"
   ]
  },
  {
   "cell_type": "code",
   "execution_count": null,
   "metadata": {
    "collapsed": true
   },
   "outputs": [],
   "source": [
    "arr2 = np.array([[0, 1, 3], [2, 4, 6]])\n",
    "\n",
    "print(arr2[0])\n",
    "print(arr2[0, 1])\n",
    "print(arr2[1:, :2])\n",
    "print(arr2[:, 2])\n",
    "print(arr2[:, 1:])"
   ]
  },
  {
   "cell_type": "markdown",
   "metadata": {},
   "source": [
    "* **Boolean selection**\n",
    "  - bool 리스트로 해당 값이 True인 조건만 필터링"
   ]
  },
  {
   "cell_type": "code",
   "execution_count": null,
   "metadata": {
    "collapsed": true
   },
   "outputs": [],
   "source": [
    "arr = np.array([1, 2, 4, 8, 9, 6, 12, 13])\n",
    "lst = [1, 2, 4, 8, 9, 6, 12, 13]\n",
    "\n",
    "print(arr % 2 == 0)"
   ]
  },
  {
   "cell_type": "code",
   "execution_count": null,
   "metadata": {
    "collapsed": true
   },
   "outputs": [],
   "source": [
    "even_mask = (arr % 2 == 0)\n",
    "print(arr[even_mask])\n",
    "\n",
    "print(arr[arr % 2 == 0])"
   ]
  },
  {
   "cell_type": "markdown",
   "metadata": {},
   "source": [
    "* multiple conditions\n",
    " - and, or, not 키워드 사용 불가\n",
    " - & - AND \n",
    " - | - OR "
   ]
  },
  {
   "cell_type": "code",
   "execution_count": null,
   "metadata": {
    "collapsed": true
   },
   "outputs": [],
   "source": [
    "arr[(arr > 7) | (arr <= 5)]"
   ]
  },
  {
   "cell_type": "code",
   "execution_count": null,
   "metadata": {
    "collapsed": true
   },
   "outputs": [],
   "source": [
    "arr[(arr % 2 == 0) & (arr <= 8)]"
   ]
  },
  {
   "cell_type": "markdown",
   "metadata": {},
   "source": [
    "* **ndarray operations**\n",
    "  - scala와의 연산은 전체 원소에 대해 적용\n",
    "  - 다른 ndarray와의 연산은 element-wise로 적용"
   ]
  },
  {
   "cell_type": "code",
   "execution_count": null,
   "metadata": {
    "collapsed": true
   },
   "outputs": [],
   "source": [
    "arr = np.arange(1, 7) * 5\n",
    "print(arr)"
   ]
  },
  {
   "cell_type": "code",
   "execution_count": null,
   "metadata": {
    "collapsed": true
   },
   "outputs": [],
   "source": [
    "arr2 = arr ** 4\n",
    "print(arr2)\n",
    "print(arr2 ** 0.5)"
   ]
  },
  {
   "cell_type": "code",
   "execution_count": null,
   "metadata": {
    "collapsed": true
   },
   "outputs": [],
   "source": [
    "arr1 = np.arange(0, 30, 3) + 3\n",
    "arr2 = np.arange(1, 11)\n",
    "print(arr1, arr2)\n",
    "\n",
    "print(arr1 - arr2)\n",
    "print(arr1 * arr2)\n",
    "print(arr1 * arr1)\n",
    "#print arr1 ^2 \n",
    "print(arr1 ** 2)"
   ]
  },
  {
   "cell_type": "code",
   "execution_count": null,
   "metadata": {
    "collapsed": true
   },
   "outputs": [],
   "source": [
    "arr1 = np.array([[1, 1], [1, 1]])\n",
    "arr2 = np.array([[2, 2], [2, 2]])\n",
    "\n",
    "print(arr1 * arr2)  # 원소끼리의 곱\n",
    "print(arr1.dot(arr2)) # 행렬 곱"
   ]
  },
  {
   "cell_type": "markdown",
   "metadata": {},
   "source": [
    "* **logical operator**\n",
    "  - all()\n",
    "    - 모든 원소가 조건을 만족 시키면 True, 아니면 False\n",
    "  - any()\n",
    "    - 어떤 원소라도 조건을 만족 시키면 True, 아니면 False"
   ]
  },
  {
   "cell_type": "code",
   "execution_count": null,
   "metadata": {
    "collapsed": true
   },
   "outputs": [],
   "source": [
    "arr = np.random.randint(1, 10, size = (4,4))\n",
    "print(arr)"
   ]
  },
  {
   "cell_type": "code",
   "execution_count": null,
   "metadata": {
    "collapsed": true
   },
   "outputs": [],
   "source": [
    "print(np.all(arr < 7))"
   ]
  },
  {
   "cell_type": "code",
   "execution_count": null,
   "metadata": {
    "collapsed": true
   },
   "outputs": [],
   "source": [
    "print(np.any(arr == 9))"
   ]
  },
  {
   "cell_type": "markdown",
   "metadata": {},
   "source": [
    "* **ravel**\n",
    "  - 다차원배열을 1차원으로 변경"
   ]
  },
  {
   "cell_type": "code",
   "execution_count": null,
   "metadata": {
    "collapsed": true
   },
   "outputs": [],
   "source": [
    "arr = np.array([np.arange(1, 6), np.arange(10, 15)])\n",
    "print(arr)"
   ]
  },
  {
   "cell_type": "code",
   "execution_count": null,
   "metadata": {
    "collapsed": true
   },
   "outputs": [],
   "source": [
    "print(arr.ravel())"
   ]
  },
  {
   "cell_type": "markdown",
   "metadata": {},
   "source": [
    "* **flatten**\n",
    " - 다차원 배열을 1차원으로 변경\n",
    " - copy를 생성하여 변경함"
   ]
  },
  {
   "cell_type": "code",
   "execution_count": null,
   "metadata": {
    "collapsed": true
   },
   "outputs": [],
   "source": [
    "print(arr.flatten())"
   ]
  },
  {
   "cell_type": "code",
   "execution_count": null,
   "metadata": {
    "collapsed": true
   },
   "outputs": [],
   "source": [
    "print(arr.flatten('F')) # column을 우선으로 변경"
   ]
  },
  {
   "cell_type": "code",
   "execution_count": null,
   "metadata": {
    "collapsed": true
   },
   "outputs": [],
   "source": [
    "# ravel vs flatten\n",
    "f_arr = arr.flatten() # copy를 반환\n",
    "r_arr = arr.ravel() # 원본 ndarray와 메모리 공유\n",
    "\n",
    "r_arr[0] = 60\n",
    "\n",
    "print(f_arr)\n",
    "print(r_arr)\n",
    "print(arr)"
   ]
  },
  {
   "cell_type": "markdown",
   "metadata": {},
   "source": [
    "* **reshaping**\n",
    " - array의 shape을 재정렬\n",
    " - 이때, 서로의 전체 원소 개수가 맞아야 가능\n",
    " - 데이터 정제에 가장 많이 사용\n",
    "   e.g) 이미지의 경우, 2차원 픽셀로 표현되나, 이것을 ml library로 전달하기 위해 reshape하여 사용"
   ]
  },
  {
   "cell_type": "code",
   "execution_count": null,
   "metadata": {
    "collapsed": true
   },
   "outputs": [],
   "source": [
    "np.arange(1, 17).reshape(4, 4)"
   ]
  },
  {
   "cell_type": "code",
   "execution_count": null,
   "metadata": {
    "collapsed": true
   },
   "outputs": [],
   "source": [
    "arr = np.arange(1, 16)\n",
    "print(arr)\n",
    "arr2 = arr.reshape(3, 5)\n",
    "print(arr2)\n",
    "print(arr)"
   ]
  },
  {
   "cell_type": "markdown",
   "metadata": {},
   "source": [
    "* **자주 쓰는 numpy 함수**"
   ]
  },
  {
   "cell_type": "code",
   "execution_count": null,
   "metadata": {
    "collapsed": true
   },
   "outputs": [],
   "source": [
    "print(arr)\n",
    "print(np.min(arr))\n",
    "print(np.mean(arr))\n",
    "print(np.median(arr))\n",
    "print(np.max(arr))\n",
    "print(np.maximum(arr, np.array([99, 1, 2, 3, 4, 5, 6, 7, 8, 9, 20, 21, 22, 23, 24])))\n",
    "print(np.std(arr))\n",
    "print(np.argmin(arr))\n",
    "print(np.argmax(arr))\n",
    "print(np.sum(arr))\n",
    "print(np.sqrt(arr))"
   ]
  },
  {
   "cell_type": "markdown",
   "metadata": {},
   "source": [
    "* **axis**\n",
    " - 몇몇 함수에는 axis keyword 파라미터가 존재\n",
    " - axis값이 없는 경우에는 전체 데이터에 대해 적용\n",
    " - axis값이 있는 경우에는, 해당 axis를 **따라서** 연산 적용"
   ]
  },
  {
   "cell_type": "code",
   "execution_count": null,
   "metadata": {
    "collapsed": true
   },
   "outputs": [],
   "source": [
    "arr2 = np.array([[1, 2, 3], [4, 5, 6]])\n",
    "print(np.sum(arr2))"
   ]
  },
  {
   "cell_type": "code",
   "execution_count": null,
   "metadata": {
    "collapsed": true
   },
   "outputs": [],
   "source": [
    "# 1차원 적용\n",
    "arr2 = np.array([1, 2, 3])\n",
    "print(np.sum(arr2, axis=0))"
   ]
  },
  {
   "cell_type": "code",
   "execution_count": null,
   "metadata": {
    "collapsed": true
   },
   "outputs": [],
   "source": [
    "arr2 = np.array([[1, 2, 3], [4, 5, 6]])\n",
    "print(arr2)"
   ]
  },
  {
   "cell_type": "code",
   "execution_count": null,
   "metadata": {
    "collapsed": true
   },
   "outputs": [],
   "source": [
    "# 2차원 적용\n",
    "\n",
    "print(np.sum(arr2, axis=0))\n",
    "print(np.sum(arr2, axis=1))"
   ]
  },
  {
   "cell_type": "code",
   "execution_count": null,
   "metadata": {
    "collapsed": true
   },
   "outputs": [],
   "source": [
    "# 3차원 적용\n",
    "arr2 = np.array([[[1, 2, 3], [4, 5, 6]], [[1, 1, 1], [2, 2, 2]]] )\n",
    "print(np.sum(arr2, axis=0))\n",
    "print(np.sum(arr2, axis=1))\n",
    "print(np.sum(arr2, axis=2))"
   ]
  },
  {
   "cell_type": "markdown",
   "metadata": {},
   "source": [
    " * **numpy broadcasting**\n",
    "  - 연산시, 차원이 맞지 않은 경우, 적은 차원의 ndarray를 상위 차원으로 broadcast하여 연산 진행"
   ]
  },
  {
   "cell_type": "code",
   "execution_count": null,
   "metadata": {
    "collapsed": true
   },
   "outputs": [],
   "source": [
    "arr = np.arange(10)\n",
    "arr2 = np.arange(2, 12)\n",
    "arr3 = np.arange(10).reshape(2, 5)\n",
    "\n",
    "arr + arr2 # 기본적으로 element-wise 연산"
   ]
  },
  {
   "cell_type": "code",
   "execution_count": null,
   "metadata": {
    "collapsed": true
   },
   "outputs": [],
   "source": [
    "arr + 1"
   ]
  },
  {
   "cell_type": "code",
   "execution_count": null,
   "metadata": {
    "collapsed": true
   },
   "outputs": [],
   "source": [
    "2 ** arr "
   ]
  },
  {
   "cell_type": "code",
   "execution_count": null,
   "metadata": {
    "collapsed": true
   },
   "outputs": [],
   "source": [
    "arr ** 2"
   ]
  },
  {
   "cell_type": "code",
   "execution_count": null,
   "metadata": {
    "collapsed": true
   },
   "outputs": [],
   "source": [
    "arr3"
   ]
  },
  {
   "cell_type": "code",
   "execution_count": null,
   "metadata": {
    "collapsed": true
   },
   "outputs": [],
   "source": [
    "arr3 + arr[1:6]"
   ]
  },
  {
   "cell_type": "code",
   "execution_count": null,
   "metadata": {
    "collapsed": true
   },
   "outputs": [],
   "source": [
    "arr3.shape, arr[1:6].shape"
   ]
  },
  {
   "cell_type": "code",
   "execution_count": null,
   "metadata": {
    "collapsed": true
   },
   "outputs": [],
   "source": [
    "arr3 + 3"
   ]
  },
  {
   "cell_type": "markdown",
   "metadata": {},
   "source": [
    "* **where 함수**\n",
    " - condition에 따라 x, y선별적으로 선택"
   ]
  },
  {
   "cell_type": "code",
   "execution_count": 2,
   "metadata": {},
   "outputs": [
    {
     "data": {
      "text/plain": [
       "(array([ 1,  2,  4,  9, 10]), array([0, 4, 9, 8, 7]))"
      ]
     },
     "execution_count": 2,
     "metadata": {},
     "output_type": "execute_result"
    }
   ],
   "source": [
    "a = np.array([1, 2, 4, 9, 10])\n",
    "b = np.array([0, 4, 9, 8, 7])\n",
    "a, b"
   ]
  },
  {
   "cell_type": "code",
   "execution_count": 3,
   "metadata": {},
   "outputs": [
    {
     "data": {
      "text/plain": [
       "array([ 0,  4,  9,  9, 10])"
      ]
     },
     "execution_count": 3,
     "metadata": {},
     "output_type": "execute_result"
    }
   ],
   "source": [
    "# 조건이 참이면 a, 거짓이면 b에서 선택\n",
    "np.where(a > 7, a, b) "
   ]
  },
  {
   "cell_type": "code",
   "execution_count": 4,
   "metadata": {},
   "outputs": [
    {
     "data": {
      "text/plain": [
       "array([ 1,  4,  4,  9, 10])"
      ]
     },
     "execution_count": 4,
     "metadata": {},
     "output_type": "execute_result"
    }
   ],
   "source": [
    "np.where([True, False, True, True, True], a, b)"
   ]
  },
  {
   "cell_type": "code",
   "execution_count": 5,
   "metadata": {},
   "outputs": [
    {
     "data": {
      "text/plain": [
       "array([ 1,  1,  1,  9, 10])"
      ]
     },
     "execution_count": 5,
     "metadata": {},
     "output_type": "execute_result"
    }
   ],
   "source": [
    "# 조건이 참이면 a, 거짓이면 1로 선택\n",
    "np.where(a > 7, a, 1)"
   ]
  },
  {
   "cell_type": "markdown",
   "metadata": {},
   "source": [
    "* **연습문제**\n",
    " 1. np.random.randn(5, 5)로 생성된 행렬에서 음수값을 0으로 변경하세요\n",
    " 2. numpy를 이용하여 Math.pi 값을 다시 구해봅시다.\n",
    " 3. python 기본 리스트 객체로 만든 두 행렬을 곱하는 코드를 작성하시오."
   ]
  },
  {
   "cell_type": "code",
   "execution_count": 11,
   "metadata": {},
   "outputs": [
    {
     "data": {
      "text/plain": [
       "array([[ 0.41131791,  1.31030649, -0.23668765, -0.30528409,  0.09033047],\n",
       "       [-0.05838178,  0.92937745,  1.7436467 ,  0.76352219, -2.1890129 ],\n",
       "       [-0.1060826 ,  1.49910704,  0.0936409 , -0.24863372,  1.87658308],\n",
       "       [ 0.22880261, -1.40054011,  3.19462821,  0.72049533, -1.12786569],\n",
       "       [-0.39945311,  0.46404525,  0.70384209,  2.03191153,  1.02699383]])"
      ]
     },
     "execution_count": 11,
     "metadata": {},
     "output_type": "execute_result"
    }
   ],
   "source": [
    "#1번\n",
    "\n",
    "a = np.random.randn(5, 5)\n",
    "a"
   ]
  },
  {
   "cell_type": "code",
   "execution_count": 12,
   "metadata": {},
   "outputs": [
    {
     "data": {
      "text/plain": [
       "array([[ 0.41131791,  1.31030649,  0.        ,  0.        ,  0.09033047],\n",
       "       [ 0.        ,  0.92937745,  1.7436467 ,  0.76352219,  0.        ],\n",
       "       [ 0.        ,  1.49910704,  0.0936409 ,  0.        ,  1.87658308],\n",
       "       [ 0.22880261,  0.        ,  3.19462821,  0.72049533,  0.        ],\n",
       "       [ 0.        ,  0.46404525,  0.70384209,  2.03191153,  1.02699383]])"
      ]
     },
     "execution_count": 12,
     "metadata": {},
     "output_type": "execute_result"
    }
   ],
   "source": [
    "#1번\n",
    "\n",
    "np.where(a > 0, a, 0)"
   ]
  },
  {
   "cell_type": "code",
   "execution_count": 25,
   "metadata": {
    "scrolled": true
   },
   "outputs": [
    {
     "ename": "IndexError",
     "evalue": "index 2 is out of bounds for axis 0 with size 2",
     "output_type": "error",
     "traceback": [
      "\u001b[1;31m---------------------------------------------------------------------------\u001b[0m",
      "\u001b[1;31mIndexError\u001b[0m                                Traceback (most recent call last)",
      "\u001b[1;32m<ipython-input-25-c632e3155fe4>\u001b[0m in \u001b[0;36m<module>\u001b[1;34m()\u001b[0m\n\u001b[0;32m      9\u001b[0m \u001b[1;32mfor\u001b[0m \u001b[0mi\u001b[0m \u001b[1;32min\u001b[0m \u001b[0mm\u001b[0m\u001b[1;33m:\u001b[0m\u001b[1;33m\u001b[0m\u001b[0m\n\u001b[0;32m     10\u001b[0m     \u001b[1;32mfor\u001b[0m \u001b[0mj\u001b[0m \u001b[1;32min\u001b[0m \u001b[0mn\u001b[0m\u001b[1;33m:\u001b[0m\u001b[1;33m\u001b[0m\u001b[0m\n\u001b[1;32m---> 11\u001b[1;33m         \u001b[0ma\u001b[0m \u001b[1;33m=\u001b[0m \u001b[0mm\u001b[0m\u001b[1;33m[\u001b[0m\u001b[1;36m0\u001b[0m\u001b[1;33m]\u001b[0m\u001b[1;33m[\u001b[0m \u001b[1;36m0\u001b[0m\u001b[1;33m]\u001b[0m \u001b[1;33m*\u001b[0m \u001b[0mn\u001b[0m\u001b[1;33m[\u001b[0m\u001b[1;36m0\u001b[0m\u001b[1;33m]\u001b[0m\u001b[1;33m[\u001b[0m\u001b[1;36m0\u001b[0m\u001b[1;33m]\u001b[0m \u001b[1;33m+\u001b[0m \u001b[0mm\u001b[0m\u001b[1;33m[\u001b[0m\u001b[1;36m0\u001b[0m\u001b[1;33m]\u001b[0m\u001b[1;33m[\u001b[0m\u001b[1;36m1\u001b[0m\u001b[1;33m]\u001b[0m \u001b[1;33m*\u001b[0m \u001b[0mn\u001b[0m\u001b[1;33m[\u001b[0m\u001b[1;36m0\u001b[0m\u001b[1;33m]\u001b[0m\u001b[1;33m[\u001b[0m\u001b[1;36m1\u001b[0m\u001b[1;33m]\u001b[0m \u001b[1;33m+\u001b[0m \u001b[0mm\u001b[0m\u001b[1;33m[\u001b[0m\u001b[1;36m0\u001b[0m\u001b[1;33m]\u001b[0m\u001b[1;33m[\u001b[0m\u001b[1;36m2\u001b[0m\u001b[1;33m]\u001b[0m \u001b[1;33m*\u001b[0m \u001b[0mn\u001b[0m\u001b[1;33m[\u001b[0m\u001b[1;36m0\u001b[0m\u001b[1;33m]\u001b[0m\u001b[1;33m[\u001b[0m\u001b[1;36m2\u001b[0m\u001b[1;33m]\u001b[0m\u001b[1;33m\u001b[0m\u001b[0m\n\u001b[0m\u001b[0;32m     12\u001b[0m         \u001b[0mb\u001b[0m \u001b[1;33m=\u001b[0m \u001b[0mm\u001b[0m\u001b[1;33m[\u001b[0m\u001b[1;36m1\u001b[0m\u001b[1;33m]\u001b[0m\u001b[1;33m[\u001b[0m\u001b[1;36m0\u001b[0m\u001b[1;33m]\u001b[0m \u001b[1;33m*\u001b[0m \u001b[0mn\u001b[0m\u001b[1;33m[\u001b[0m\u001b[1;36m1\u001b[0m\u001b[1;33m]\u001b[0m\u001b[1;33m[\u001b[0m\u001b[1;36m0\u001b[0m\u001b[1;33m]\u001b[0m \u001b[1;33m+\u001b[0m \u001b[0mm\u001b[0m\u001b[1;33m[\u001b[0m\u001b[1;36m1\u001b[0m\u001b[1;33m]\u001b[0m\u001b[1;33m[\u001b[0m\u001b[1;36m1\u001b[0m\u001b[1;33m]\u001b[0m \u001b[1;33m*\u001b[0m \u001b[0mn\u001b[0m\u001b[1;33m[\u001b[0m\u001b[1;36m1\u001b[0m\u001b[1;33m]\u001b[0m\u001b[1;33m[\u001b[0m\u001b[1;36m1\u001b[0m\u001b[1;33m]\u001b[0m \u001b[1;33m+\u001b[0m \u001b[0mm\u001b[0m\u001b[1;33m[\u001b[0m\u001b[1;36m1\u001b[0m\u001b[1;33m]\u001b[0m\u001b[1;33m[\u001b[0m\u001b[1;36m2\u001b[0m\u001b[1;33m]\u001b[0m \u001b[1;33m*\u001b[0m \u001b[0mn\u001b[0m\u001b[1;33m[\u001b[0m\u001b[1;36m1\u001b[0m\u001b[1;33m]\u001b[0m\u001b[1;33m[\u001b[0m\u001b[1;36m2\u001b[0m\u001b[1;33m]\u001b[0m\u001b[1;33m\u001b[0m\u001b[0m\n\u001b[0;32m     13\u001b[0m \u001b[1;33m\u001b[0m\u001b[0m\n",
      "\u001b[1;31mIndexError\u001b[0m: index 2 is out of bounds for axis 0 with size 2"
     ]
    }
   ],
   "source": [
    "#3번\n",
    "\n",
    "m = np.array([[[1, 2, 3], [4, 5, 6]]])\n",
    "n = np.array([[[4], [5], [6]], [[1], [2], [3]]])\n",
    "\n",
    "# print(m)\n",
    "# print(n)\n",
    "\n",
    "for i in m:\n",
    "    for j in n:\n",
    "        a = m[0][ 0] * n[0][0] + m[0][1] * n[0][1] + m[0][2] * n[0][2]\n",
    "        b = m[1][0] * n[1][0] + m[1][1] * n[1][1] + m[1][2] * n[1][2]\n",
    "        \n",
    "        c = [a, b]\n",
    "        \n",
    "print(c)"
   ]
  },
  {
   "cell_type": "code",
   "execution_count": 33,
   "metadata": {},
   "outputs": [
    {
     "ename": "SyntaxError",
     "evalue": "invalid syntax (<ipython-input-33-a0e41c93ebdc>, line 7)",
     "output_type": "error",
     "traceback": [
      "\u001b[1;36m  File \u001b[1;32m\"<ipython-input-33-a0e41c93ebdc>\"\u001b[1;36m, line \u001b[1;32m7\u001b[0m\n\u001b[1;33m    if len(a[0]) ! = len(b):\u001b[0m\n\u001b[1;37m                 ^\u001b[0m\n\u001b[1;31mSyntaxError\u001b[0m\u001b[1;31m:\u001b[0m invalid syntax\n"
     ]
    }
   ],
   "source": [
    "#3번 강사\n",
    "\n",
    "a = [[1, 2, 3], [4, 5, 6]]\n",
    "b = [[2, 2], [1, 3], [2, 1]]\n",
    "\n",
    "def mat_mult(a, b):\n",
    "    if len(a[0]) ! = len(b):\n",
    "        raise Exception('invalid operation')\n",
    "        \n",
    "    m, n, l = len(a), len(b), len(b[0])\n",
    "    rs = [[0] * l for _ in range(m)]\n",
    "    \n",
    "#     for i in range(m):\n",
    "#         for j in range(l):\n",
    "#             val = 0                                          # i행 j열에 들어갈 문자의 초기화\n",
    "#             for k in range(n):\n",
    "#                 val += a[i][k] * b[k][j]\n",
    "                \n",
    "#             rs[i][j] = val\n",
    "            \n",
    "    for i in range(m):\n",
    "        for j in range(l):\n",
    "            for k in range(n):\n",
    "                rs[i][j] += a[i][k] * b[k][j]\n",
    "                \n",
    "    return rs\n",
    "            \n",
    "            \n",
    "mat_mult(a, b)"
   ]
  },
  {
   "cell_type": "markdown",
   "metadata": {},
   "source": [
    "### **linear regression 실습**"
   ]
  },
  {
   "cell_type": "markdown",
   "metadata": {},
   "source": [
    "* **generate random data**\n",
    " - random package 활용하여 feature와 target 생성"
   ]
  },
  {
   "cell_type": "code",
   "execution_count": 3,
   "metadata": {
    "collapsed": true
   },
   "outputs": [],
   "source": [
    "import numpy as np"
   ]
  },
  {
   "cell_type": "code",
   "execution_count": 7,
   "metadata": {},
   "outputs": [
    {
     "data": {
      "text/plain": [
       "((100,),\n",
       " array([ 0.40947973,  0.6847482 ,  0.30719888,  0.71308528,  1.54948569,\n",
       "        -0.05974965,  0.03162706,  0.94858489, -0.40175622, -0.97602594,\n",
       "        -0.61018685, -0.21899275, -0.29440219, -0.8099676 ,  0.40210381,\n",
       "        -1.39189882,  0.34374147, -0.41543979, -0.44903973, -1.21454768,\n",
       "        -0.64175123,  0.00275296, -0.15860629, -0.81904136,  0.41898799,\n",
       "         1.48122327,  0.31097252,  0.62152032, -1.34962432, -0.18558288,\n",
       "        -1.27381734, -0.26889998, -0.45939067,  1.06383236,  1.21706964,\n",
       "         0.25613782,  0.34007761, -0.50896243,  0.56965255,  0.49921141,\n",
       "        -0.9444303 , -0.96394709, -0.25179704,  2.15900646, -0.23784114,\n",
       "         0.46802168,  0.26191845, -0.87475259, -0.63125976, -0.71005521,\n",
       "         0.98590595,  0.08673242, -0.07552304, -0.27566892,  0.43133776,\n",
       "         2.32080372, -0.80254457,  0.27390175,  0.48084701,  0.52381527,\n",
       "         1.32445422,  0.38969103, -0.55314252,  0.62896445, -0.77240802,\n",
       "        -0.97831938,  0.44878746, -1.88462661,  1.21449237, -1.26409632,\n",
       "         1.46618458,  0.16597199,  0.36708786,  0.55202872, -0.50686875,\n",
       "         1.56927764, -0.72968733, -1.4925958 , -1.07499884, -0.42293781,\n",
       "        -0.94342028,  1.48099198,  0.18638475,  1.19570503, -1.9659069 ,\n",
       "        -0.26234466,  0.01472336, -1.23541795, -1.05533506,  0.52584671,\n",
       "        -1.02074265,  1.33541437,  0.74011491,  1.6070381 , -1.0268499 ,\n",
       "         0.22258338,  0.67198078, -1.10635057, -1.23835533,  1.01258101]))"
      ]
     },
     "execution_count": 7,
     "metadata": {},
     "output_type": "execute_result"
    }
   ],
   "source": [
    "x = np.random.randn(100)\n",
    "x.shape, x"
   ]
  },
  {
   "cell_type": "code",
   "execution_count": 13,
   "metadata": {},
   "outputs": [
    {
     "data": {
      "text/plain": [
       "((100,), array([ 31.23847955,  31.74317867,  30.50512237,  33.82559483,\n",
       "         35.92356342,  26.82045571,  30.02633085,  33.77621115,\n",
       "         29.93826238,  26.2586994 ,  26.31003623,  27.79315366,\n",
       "         27.84088034,  26.03904534,  32.29090509,  23.82053078,\n",
       "         31.95827241,  29.14049791,  28.35966987,  25.68971311,\n",
       "         26.85991975,  30.41069197,  29.29165991,  25.94242261,\n",
       "         32.01789468,  36.70641589,  31.69326222,  34.09452998,\n",
       "         28.33605411,  28.67470922,  23.80331421,  28.32574583,\n",
       "         25.79951049,  33.24815264,  35.01495405,  30.86420869,\n",
       "         30.52295051,  26.48852907,  31.9775929 ,  32.94451758,\n",
       "         25.55139448,  25.22857987,  29.60400083,  38.17772046,\n",
       "         26.85851077,  30.73660802,  31.03216962,  28.15471237,\n",
       "         27.51532216,  26.97600719,  33.93129352,  31.09876624,\n",
       "         30.34866893,  30.16976583,  32.66835401,  39.7386487 ,\n",
       "         27.46516281,  33.55903438,  33.90822322,  31.06518725,\n",
       "         34.27180936,  31.73000326,  29.38495973,  33.98499617,\n",
       "         26.06840151,  25.40863995,  30.61451801,  23.85019961,\n",
       "         36.6382875 ,  25.28541029,  36.4120224 ,  31.52729858,\n",
       "         32.02696558,  32.93528928,  27.72701909,  35.93436688,\n",
       "         27.38751517,  23.5846225 ,  26.54836463,  27.46355184,\n",
       "         26.48661751,  35.52159802,  30.54067123,  34.34525117,\n",
       "         21.57055838,  28.8397055 ,  30.12486546,  25.56590069,\n",
       "         27.22142209,  32.99760744,  26.29808722,  34.41211126,\n",
       "         32.88338067,  37.41082779,  26.49214625,  32.4222942 ,\n",
       "         32.43438379,  25.28948235,  23.22279941,  34.5760252 ]))"
      ]
     },
     "execution_count": 13,
     "metadata": {},
     "output_type": "execute_result"
    }
   ],
   "source": [
    "y = 4 * x + 30 + 1.1 * np.random.randn(100)\n",
    "y.shape, y"
   ]
  },
  {
   "cell_type": "markdown",
   "metadata": {},
   "source": [
    "* **plot data**\n",
    "  - matplotlib package \n",
    "  - %matplotlib inline - visualization 결과가 notebook 내에 포함 됨"
   ]
  },
  {
   "cell_type": "code",
   "execution_count": 14,
   "metadata": {
    "collapsed": true
   },
   "outputs": [],
   "source": [
    "import matplotlib.pyplot as plt\n",
    "%matplotlib inline "
   ]
  },
  {
   "cell_type": "code",
   "execution_count": 32,
   "metadata": {},
   "outputs": [
    {
     "data": {
      "text/plain": [
       "<matplotlib.collections.PathCollection at 0x15493f0f6d8>"
      ]
     },
     "execution_count": 32,
     "metadata": {},
     "output_type": "execute_result"
    },
    {
     "data": {
      "image/png": "[encoded data removed]",
      "text/plain": [
       "<matplotlib.figure.Figure at 0x15493e30588>"
      ]
     },
     "metadata": {},
     "output_type": "display_data"
    }
   ],
   "source": [
    "plt.scatter(x, y, c='r', marker='*')\n",
    "\n",
    "#scatter는 점 그래프 / c = color / marker = o는 동그라미로 표시하라는 의미, *면 *로 표시하라는 뜻"
   ]
  },
  {
   "cell_type": "markdown",
   "metadata": {},
   "source": [
    "* **create a model**\n",
    " - 각 알고리즘을 수행하는 객체 생성 후, fit 함수를 이용하여 model training"
   ]
  },
  {
   "cell_type": "code",
   "execution_count": 33,
   "metadata": {
    "collapsed": true
   },
   "outputs": [],
   "source": [
    "x = x.reshape(100, 1)\n",
    "\n",
    "#100행 1열로 다시 재생성한 것"
   ]
  },
  {
   "cell_type": "code",
   "execution_count": 39,
   "metadata": {},
   "outputs": [
    {
     "ename": "ImportError",
     "evalue": "DLL load failed: 지정된 모듈을 찾을 수 없습니다.",
     "output_type": "error",
     "traceback": [
      "\u001b[1;31m---------------------------------------------------------------------------\u001b[0m",
      "\u001b[1;31mImportError\u001b[0m                               Traceback (most recent call last)",
      "\u001b[1;32m<ipython-input-39-8a62ab9c7174>\u001b[0m in \u001b[0;36m<module>\u001b[1;34m()\u001b[0m\n\u001b[1;32m----> 1\u001b[1;33m \u001b[1;32mfrom\u001b[0m \u001b[0msklearn\u001b[0m\u001b[1;33m.\u001b[0m\u001b[0mlinear_model\u001b[0m \u001b[1;32mimport\u001b[0m \u001b[0mLinearRegression\u001b[0m\u001b[1;33m\u001b[0m\u001b[0m\n\u001b[0m\u001b[0;32m      2\u001b[0m \u001b[1;33m\u001b[0m\u001b[0m\n\u001b[0;32m      3\u001b[0m \u001b[0mmodel\u001b[0m \u001b[1;33m=\u001b[0m \u001b[0mLinearRegression\u001b[0m\u001b[1;33m(\u001b[0m\u001b[1;33m)\u001b[0m\u001b[1;33m\u001b[0m\u001b[0m\n\u001b[0;32m      4\u001b[0m \u001b[0mmodel\u001b[0m\u001b[1;33m.\u001b[0m\u001b[0mfit\u001b[0m\u001b[1;33m(\u001b[0m\u001b[0mx\u001b[0m\u001b[1;33m,\u001b[0m \u001b[0my\u001b[0m\u001b[1;33m)\u001b[0m                            \u001b[1;31m# y는 예측하고자 하는 것, x = 변수\u001b[0m\u001b[1;33m\u001b[0m\u001b[0m\n\u001b[0;32m      5\u001b[0m \u001b[1;33m\u001b[0m\u001b[0m\n",
      "\u001b[1;32mc:\\python36\\lib\\site-packages\\sklearn\\__init__.py\u001b[0m in \u001b[0;36m<module>\u001b[1;34m()\u001b[0m\n\u001b[0;32m    132\u001b[0m \u001b[1;32melse\u001b[0m\u001b[1;33m:\u001b[0m\u001b[1;33m\u001b[0m\u001b[0m\n\u001b[0;32m    133\u001b[0m     \u001b[1;32mfrom\u001b[0m \u001b[1;33m.\u001b[0m \u001b[1;32mimport\u001b[0m \u001b[0m__check_build\u001b[0m\u001b[1;33m\u001b[0m\u001b[0m\n\u001b[1;32m--> 134\u001b[1;33m     \u001b[1;32mfrom\u001b[0m \u001b[1;33m.\u001b[0m\u001b[0mbase\u001b[0m \u001b[1;32mimport\u001b[0m \u001b[0mclone\u001b[0m\u001b[1;33m\u001b[0m\u001b[0m\n\u001b[0m\u001b[0;32m    135\u001b[0m     \u001b[0m__check_build\u001b[0m  \u001b[1;31m# avoid flakes unused variable error\u001b[0m\u001b[1;33m\u001b[0m\u001b[0m\n\u001b[0;32m    136\u001b[0m \u001b[1;33m\u001b[0m\u001b[0m\n",
      "\u001b[1;32mc:\\python36\\lib\\site-packages\\sklearn\\base.py\u001b[0m in \u001b[0;36m<module>\u001b[1;34m()\u001b[0m\n\u001b[0;32m     10\u001b[0m \u001b[1;32mfrom\u001b[0m \u001b[0mscipy\u001b[0m \u001b[1;32mimport\u001b[0m \u001b[0msparse\u001b[0m\u001b[1;33m\u001b[0m\u001b[0m\n\u001b[0;32m     11\u001b[0m \u001b[1;32mfrom\u001b[0m \u001b[1;33m.\u001b[0m\u001b[0mexternals\u001b[0m \u001b[1;32mimport\u001b[0m \u001b[0msix\u001b[0m\u001b[1;33m\u001b[0m\u001b[0m\n\u001b[1;32m---> 12\u001b[1;33m \u001b[1;32mfrom\u001b[0m \u001b[1;33m.\u001b[0m\u001b[0mutils\u001b[0m\u001b[1;33m.\u001b[0m\u001b[0mfixes\u001b[0m \u001b[1;32mimport\u001b[0m \u001b[0msignature\u001b[0m\u001b[1;33m\u001b[0m\u001b[0m\n\u001b[0m\u001b[0;32m     13\u001b[0m \u001b[1;32mfrom\u001b[0m \u001b[1;33m.\u001b[0m \u001b[1;32mimport\u001b[0m \u001b[0m__version__\u001b[0m\u001b[1;33m\u001b[0m\u001b[0m\n\u001b[0;32m     14\u001b[0m \u001b[1;33m\u001b[0m\u001b[0m\n",
      "\u001b[1;32mc:\\python36\\lib\\site-packages\\sklearn\\utils\\__init__.py\u001b[0m in \u001b[0;36m<module>\u001b[1;34m()\u001b[0m\n\u001b[0;32m      9\u001b[0m \u001b[1;33m\u001b[0m\u001b[0m\n\u001b[0;32m     10\u001b[0m \u001b[1;32mfrom\u001b[0m \u001b[1;33m.\u001b[0m\u001b[0mmurmurhash\u001b[0m \u001b[1;32mimport\u001b[0m \u001b[0mmurmurhash3_32\u001b[0m\u001b[1;33m\u001b[0m\u001b[0m\n\u001b[1;32m---> 11\u001b[1;33m from .validation import (as_float_array,\n\u001b[0m\u001b[0;32m     12\u001b[0m                          \u001b[0massert_all_finite\u001b[0m\u001b[1;33m,\u001b[0m\u001b[1;33m\u001b[0m\u001b[0m\n\u001b[0;32m     13\u001b[0m                          \u001b[0mcheck_random_state\u001b[0m\u001b[1;33m,\u001b[0m \u001b[0mcolumn_or_1d\u001b[0m\u001b[1;33m,\u001b[0m \u001b[0mcheck_array\u001b[0m\u001b[1;33m,\u001b[0m\u001b[1;33m\u001b[0m\u001b[0m\n",
      "\u001b[1;32mc:\\python36\\lib\\site-packages\\sklearn\\utils\\validation.py\u001b[0m in \u001b[0;36m<module>\u001b[1;34m()\u001b[0m\n\u001b[0;32m     16\u001b[0m \u001b[1;33m\u001b[0m\u001b[0m\n\u001b[0;32m     17\u001b[0m \u001b[1;32mfrom\u001b[0m \u001b[1;33m.\u001b[0m\u001b[1;33m.\u001b[0m\u001b[0mexternals\u001b[0m \u001b[1;32mimport\u001b[0m \u001b[0msix\u001b[0m\u001b[1;33m\u001b[0m\u001b[0m\n\u001b[1;32m---> 18\u001b[1;33m \u001b[1;32mfrom\u001b[0m \u001b[1;33m.\u001b[0m\u001b[1;33m.\u001b[0m\u001b[0mutils\u001b[0m\u001b[1;33m.\u001b[0m\u001b[0mfixes\u001b[0m \u001b[1;32mimport\u001b[0m \u001b[0msignature\u001b[0m\u001b[1;33m\u001b[0m\u001b[0m\n\u001b[0m\u001b[0;32m     19\u001b[0m \u001b[1;32mfrom\u001b[0m \u001b[1;33m.\u001b[0m\u001b[1;33m.\u001b[0m \u001b[1;32mimport\u001b[0m \u001b[0mget_config\u001b[0m \u001b[1;32mas\u001b[0m \u001b[0m_get_config\u001b[0m\u001b[1;33m\u001b[0m\u001b[0m\n\u001b[0;32m     20\u001b[0m \u001b[1;32mfrom\u001b[0m \u001b[1;33m.\u001b[0m\u001b[1;33m.\u001b[0m\u001b[0mexceptions\u001b[0m \u001b[1;32mimport\u001b[0m \u001b[0mNonBLASDotWarning\u001b[0m\u001b[1;33m\u001b[0m\u001b[0m\n",
      "\u001b[1;32mc:\\python36\\lib\\site-packages\\sklearn\\utils\\fixes.py\u001b[0m in \u001b[0;36m<module>\u001b[1;34m()\u001b[0m\n\u001b[0;32m    142\u001b[0m     \u001b[1;32mfrom\u001b[0m \u001b[1;33m.\u001b[0m\u001b[0m_scipy_sparse_lsqr_backport\u001b[0m \u001b[1;32mimport\u001b[0m \u001b[0mlsqr\u001b[0m \u001b[1;32mas\u001b[0m \u001b[0msparse_lsqr\u001b[0m\u001b[1;33m\u001b[0m\u001b[0m\n\u001b[0;32m    143\u001b[0m \u001b[1;32melse\u001b[0m\u001b[1;33m:\u001b[0m\u001b[1;33m\u001b[0m\u001b[0m\n\u001b[1;32m--> 144\u001b[1;33m     \u001b[1;32mfrom\u001b[0m \u001b[0mscipy\u001b[0m\u001b[1;33m.\u001b[0m\u001b[0msparse\u001b[0m\u001b[1;33m.\u001b[0m\u001b[0mlinalg\u001b[0m \u001b[1;32mimport\u001b[0m \u001b[0mlsqr\u001b[0m \u001b[1;32mas\u001b[0m \u001b[0msparse_lsqr\u001b[0m  \u001b[1;31m# noqa\u001b[0m\u001b[1;33m\u001b[0m\u001b[0m\n\u001b[0m\u001b[0;32m    145\u001b[0m \u001b[1;33m\u001b[0m\u001b[0m\n\u001b[0;32m    146\u001b[0m \u001b[1;33m\u001b[0m\u001b[0m\n",
      "\u001b[1;32mc:\\python36\\lib\\site-packages\\scipy\\sparse\\linalg\\__init__.py\u001b[0m in \u001b[0;36m<module>\u001b[1;34m()\u001b[0m\n\u001b[0;32m    112\u001b[0m \u001b[1;32mfrom\u001b[0m \u001b[0m__future__\u001b[0m \u001b[1;32mimport\u001b[0m \u001b[0mdivision\u001b[0m\u001b[1;33m,\u001b[0m \u001b[0mprint_function\u001b[0m\u001b[1;33m,\u001b[0m \u001b[0mabsolute_import\u001b[0m\u001b[1;33m\u001b[0m\u001b[0m\n\u001b[0;32m    113\u001b[0m \u001b[1;33m\u001b[0m\u001b[0m\n\u001b[1;32m--> 114\u001b[1;33m \u001b[1;32mfrom\u001b[0m \u001b[1;33m.\u001b[0m\u001b[0misolve\u001b[0m \u001b[1;32mimport\u001b[0m \u001b[1;33m*\u001b[0m\u001b[1;33m\u001b[0m\u001b[0m\n\u001b[0m\u001b[0;32m    115\u001b[0m \u001b[1;32mfrom\u001b[0m \u001b[1;33m.\u001b[0m\u001b[0mdsolve\u001b[0m \u001b[1;32mimport\u001b[0m \u001b[1;33m*\u001b[0m\u001b[1;33m\u001b[0m\u001b[0m\n\u001b[0;32m    116\u001b[0m \u001b[1;32mfrom\u001b[0m \u001b[1;33m.\u001b[0m\u001b[0minterface\u001b[0m \u001b[1;32mimport\u001b[0m \u001b[1;33m*\u001b[0m\u001b[1;33m\u001b[0m\u001b[0m\n",
      "\u001b[1;32mc:\\python36\\lib\\site-packages\\scipy\\sparse\\linalg\\isolve\\__init__.py\u001b[0m in \u001b[0;36m<module>\u001b[1;34m()\u001b[0m\n\u001b[0;32m      4\u001b[0m \u001b[1;33m\u001b[0m\u001b[0m\n\u001b[0;32m      5\u001b[0m \u001b[1;31m#from info import __doc__\u001b[0m\u001b[1;33m\u001b[0m\u001b[1;33m\u001b[0m\u001b[0m\n\u001b[1;32m----> 6\u001b[1;33m \u001b[1;32mfrom\u001b[0m \u001b[1;33m.\u001b[0m\u001b[0miterative\u001b[0m \u001b[1;32mimport\u001b[0m \u001b[1;33m*\u001b[0m\u001b[1;33m\u001b[0m\u001b[0m\n\u001b[0m\u001b[0;32m      7\u001b[0m \u001b[1;32mfrom\u001b[0m \u001b[1;33m.\u001b[0m\u001b[0mminres\u001b[0m \u001b[1;32mimport\u001b[0m \u001b[0mminres\u001b[0m\u001b[1;33m\u001b[0m\u001b[0m\n\u001b[0;32m      8\u001b[0m \u001b[1;32mfrom\u001b[0m \u001b[1;33m.\u001b[0m\u001b[0mlgmres\u001b[0m \u001b[1;32mimport\u001b[0m \u001b[0mlgmres\u001b[0m\u001b[1;33m\u001b[0m\u001b[0m\n",
      "\u001b[1;32mc:\\python36\\lib\\site-packages\\scipy\\sparse\\linalg\\isolve\\iterative.py\u001b[0m in \u001b[0;36m<module>\u001b[1;34m()\u001b[0m\n\u001b[0;32m      5\u001b[0m \u001b[0m__all__\u001b[0m \u001b[1;33m=\u001b[0m \u001b[1;33m[\u001b[0m\u001b[1;34m'bicg'\u001b[0m\u001b[1;33m,\u001b[0m\u001b[1;34m'bicgstab'\u001b[0m\u001b[1;33m,\u001b[0m\u001b[1;34m'cg'\u001b[0m\u001b[1;33m,\u001b[0m\u001b[1;34m'cgs'\u001b[0m\u001b[1;33m,\u001b[0m\u001b[1;34m'gmres'\u001b[0m\u001b[1;33m,\u001b[0m\u001b[1;34m'qmr'\u001b[0m\u001b[1;33m]\u001b[0m\u001b[1;33m\u001b[0m\u001b[0m\n\u001b[0;32m      6\u001b[0m \u001b[1;33m\u001b[0m\u001b[0m\n\u001b[1;32m----> 7\u001b[1;33m \u001b[1;32mfrom\u001b[0m \u001b[1;33m.\u001b[0m \u001b[1;32mimport\u001b[0m \u001b[0m_iterative\u001b[0m\u001b[1;33m\u001b[0m\u001b[0m\n\u001b[0m\u001b[0;32m      8\u001b[0m \u001b[1;33m\u001b[0m\u001b[0m\n\u001b[0;32m      9\u001b[0m \u001b[1;32mfrom\u001b[0m \u001b[0mscipy\u001b[0m\u001b[1;33m.\u001b[0m\u001b[0msparse\u001b[0m\u001b[1;33m.\u001b[0m\u001b[0mlinalg\u001b[0m\u001b[1;33m.\u001b[0m\u001b[0minterface\u001b[0m \u001b[1;32mimport\u001b[0m \u001b[0mLinearOperator\u001b[0m\u001b[1;33m\u001b[0m\u001b[0m\n",
      "\u001b[1;31mImportError\u001b[0m: DLL load failed: 지정된 모듈을 찾을 수 없습니다."
     ]
    }
   ],
   "source": [
    "from sklearn.linear_model import LinearRegression\n",
    "\n",
    "model = LinearRegression()\n",
    "model.fit(x, y)                            # y는 예측하고자 하는 것, x = 변수\n",
    "\n",
    "# 트레이닝은 fit 으로 함. 트레이닝은 데이터를 주고 y = ax + b에서 a와 b를 구하는 것"
   ]
  },
  {
   "cell_type": "markdown",
   "metadata": {},
   "source": [
    "* **check coefficient, bias(intercept)**\n",
    " - coefficient와 bias값 확인"
   ]
  },
  {
   "cell_type": "code",
   "execution_count": 44,
   "metadata": {},
   "outputs": [
    {
     "ename": "NameError",
     "evalue": "name 'model' is not defined",
     "output_type": "error",
     "traceback": [
      "\u001b[1;31m---------------------------------------------------------------------------\u001b[0m",
      "\u001b[1;31mNameError\u001b[0m                                 Traceback (most recent call last)",
      "\u001b[1;32m<ipython-input-44-e6946cb05c57>\u001b[0m in \u001b[0;36m<module>\u001b[1;34m()\u001b[0m\n\u001b[1;32m----> 1\u001b[1;33m \u001b[0mw\u001b[0m \u001b[1;33m=\u001b[0m \u001b[0mmodel\u001b[0m\u001b[1;33m.\u001b[0m\u001b[0mcoef_\u001b[0m\u001b[1;33m\u001b[0m\u001b[0m\n\u001b[0m\u001b[0;32m      2\u001b[0m \u001b[0mb\u001b[0m \u001b[1;33m=\u001b[0m \u001b[0mmodel\u001b[0m\u001b[1;33m.\u001b[0m\u001b[0mintercept_\u001b[0m\u001b[1;33m\u001b[0m\u001b[0m\n\u001b[0;32m      3\u001b[0m \u001b[1;33m\u001b[0m\u001b[0m\n\u001b[0;32m      4\u001b[0m \u001b[0mw\u001b[0m\u001b[1;33m,\u001b[0m \u001b[0mb\u001b[0m\u001b[1;33m\u001b[0m\u001b[0m\n",
      "\u001b[1;31mNameError\u001b[0m: name 'model' is not defined"
     ]
    }
   ],
   "source": [
    "w = model.coef_\n",
    "b = model.intercept_\n",
    "\n",
    "w, b"
   ]
  },
  {
   "cell_type": "markdown",
   "metadata": {},
   "source": [
    "* **plot data with our model**"
   ]
  },
  {
   "cell_type": "code",
   "execution_count": 45,
   "metadata": {},
   "outputs": [
    {
     "ename": "NameError",
     "evalue": "name 'w' is not defined",
     "output_type": "error",
     "traceback": [
      "\u001b[1;31m---------------------------------------------------------------------------\u001b[0m",
      "\u001b[1;31mNameError\u001b[0m                                 Traceback (most recent call last)",
      "\u001b[1;32m<ipython-input-45-0517340225fa>\u001b[0m in \u001b[0;36m<module>\u001b[1;34m()\u001b[0m\n\u001b[0;32m      1\u001b[0m \u001b[0mplt\u001b[0m\u001b[1;33m.\u001b[0m\u001b[0mscatter\u001b[0m\u001b[1;33m(\u001b[0m\u001b[0mx\u001b[0m\u001b[1;33m,\u001b[0m \u001b[0my\u001b[0m\u001b[1;33m,\u001b[0m \u001b[0mc\u001b[0m\u001b[1;33m=\u001b[0m\u001b[1;34m'r'\u001b[0m\u001b[1;33m,\u001b[0m \u001b[0mmarker\u001b[0m\u001b[1;33m=\u001b[0m\u001b[1;34m'o'\u001b[0m\u001b[1;33m)\u001b[0m\u001b[1;33m\u001b[0m\u001b[0m\n\u001b[1;32m----> 2\u001b[1;33m \u001b[0mplt\u001b[0m\u001b[1;33m.\u001b[0m\u001b[0mplot\u001b[0m\u001b[1;33m(\u001b[0m\u001b[0mx\u001b[0m\u001b[1;33m,\u001b[0m \u001b[0mw\u001b[0m \u001b[1;33m*\u001b[0m \u001b[0mx\u001b[0m \u001b[1;33m+\u001b[0m \u001b[0mb\u001b[0m\u001b[1;33m,\u001b[0m \u001b[1;34m'g-'\u001b[0m\u001b[1;33m)\u001b[0m\u001b[1;33m\u001b[0m\u001b[0m\n\u001b[0m",
      "\u001b[1;31mNameError\u001b[0m: name 'w' is not defined"
     ]
    },
    {
     "data": {
      "image/png": "[encoded data removed]",
      "text/plain": [
       "<matplotlib.figure.Figure at 0x1549416ff98>"
      ]
     },
     "metadata": {},
     "output_type": "display_data"
    }
   ],
   "source": [
    "plt.scatter(x, y, c='r', marker='o')\n",
    "plt.plot(x, w * x + b, 'g-')"
   ]
  },
  {
   "cell_type": "markdown",
   "metadata": {},
   "source": [
    "* **pandas**\n",
    "  - http://pandas.pydata.org/\n",
    "  - Opensource python 고성능 데이터 분석 라이브러리\n",
    "  - DataFrame, Series 객체가 가장 많이 사용\n",
    "  - ML library인 scikit-learn과 함께 ML 분석에 많이 사용 됨\n",
    "  - pip install pandas로 설치\n",
    "  - 관례적으로 pd 로 임포트"
   ]
  },
  {
   "cell_type": "code",
   "execution_count": 12,
   "metadata": {
    "collapsed": true
   },
   "outputs": [],
   "source": [
    "import numpy as np\n",
    "import pandas as pd"
   ]
  },
  {
   "cell_type": "markdown",
   "metadata": {},
   "source": [
    " * **Series**\n",
    "  - pandas의 기본 객체 중 하나\n",
    "  - numpy의 ndarray를 기반으로 인덱싱을 기능을 추가하여 1차원 배열을 나타냄\n",
    "  - index를 지정하지 않을 시, 기본적으로 ndarray와 같이 0-based 인덱스 생성\n",
    "  - 같은 타입의 0개 이상의 데이터를 가질 수 있음"
   ]
  },
  {
   "cell_type": "code",
   "execution_count": 13,
   "metadata": {},
   "outputs": [
    {
     "name": "stdout",
     "output_type": "stream",
     "text": [
      "0     1\n",
      "1     2\n",
      "2    20\n",
      "dtype: int64\n"
     ]
    }
   ],
   "source": [
    "s1 = pd.Series([1, 2, 20])\n",
    "print(s1)"
   ]
  },
  {
   "cell_type": "code",
   "execution_count": 48,
   "metadata": {},
   "outputs": [
    {
     "name": "stdout",
     "output_type": "stream",
     "text": [
      "1\n"
     ]
    }
   ],
   "source": [
    "# indexing 가능\n",
    "print(s1[0])"
   ]
  },
  {
   "cell_type": "code",
   "execution_count": 49,
   "metadata": {},
   "outputs": [
    {
     "name": "stdout",
     "output_type": "stream",
     "text": [
      "0    1\n",
      "1    2\n",
      "2    3\n",
      "3    4\n",
      "4    5\n",
      "dtype: int64\n"
     ]
    }
   ],
   "source": [
    "s2 = pd.Series(list(range(1, 6)))\n",
    "print(s2)"
   ]
  },
  {
   "cell_type": "markdown",
   "metadata": {},
   "source": [
    " * **값 및 인덱스 접근**\n",
    "  - 각가 values, index 속성"
   ]
  },
  {
   "cell_type": "code",
   "execution_count": 50,
   "metadata": {},
   "outputs": [
    {
     "name": "stdout",
     "output_type": "stream",
     "text": [
      "[1 2 3 4 5]\n"
     ]
    }
   ],
   "source": [
    "print(s2.values)"
   ]
  },
  {
   "cell_type": "code",
   "execution_count": 51,
   "metadata": {},
   "outputs": [
    {
     "name": "stdout",
     "output_type": "stream",
     "text": [
      "RangeIndex(start=0, stop=5, step=1)\n"
     ]
    }
   ],
   "source": [
    "print(s2.index)"
   ]
  },
  {
   "cell_type": "markdown",
   "metadata": {},
   "source": [
    "* **index 지정하기**"
   ]
  },
  {
   "cell_type": "code",
   "execution_count": 52,
   "metadata": {},
   "outputs": [
    {
     "name": "stdout",
     "output_type": "stream",
     "text": [
      "a    1\n",
      "b    2\n",
      "c    3\n",
      "dtype: int64\n",
      "[1 2 3]\n",
      "Index(['a', 'b', 'c'], dtype='object')\n"
     ]
    }
   ],
   "source": [
    "s3 = pd.Series(list(range(1, 4)), index = [chr(i) for i in range(97, 100)])\n",
    "print(s3)\n",
    "print(s3.values)\n",
    "print(s3.index)\n",
    "\n",
    "\n",
    "# chr은 인덱스를 문자열로 나타내라는 것"
   ]
  },
  {
   "cell_type": "markdown",
   "metadata": {},
   "source": [
    "* ** chr, ord 함수**\n",
    " - chr : unicode point -> 문자\n",
    " - ord : 문자 -> unicode point"
   ]
  },
  {
   "cell_type": "code",
   "execution_count": 55,
   "metadata": {},
   "outputs": [
    {
     "data": {
      "text/plain": [
       "('a', 'A', '0')"
      ]
     },
     "execution_count": 55,
     "metadata": {},
     "output_type": "execute_result"
    }
   ],
   "source": [
    "chr(97), chr(65), chr(48)\n",
    "# 소문자a, 대문자 A, 숫자0"
   ]
  },
  {
   "cell_type": "code",
   "execution_count": 57,
   "metadata": {
    "scrolled": true
   },
   "outputs": [
    {
     "data": {
      "text/plain": [
       "(97, 65, 48)"
      ]
     },
     "execution_count": 57,
     "metadata": {},
     "output_type": "execute_result"
    }
   ],
   "source": [
    "ord('a'), ord('A'), ord('0')\n",
    "#거꾸로 소환도 가능"
   ]
  },
  {
   "cell_type": "code",
   "execution_count": 59,
   "metadata": {},
   "outputs": [
    {
     "name": "stdout",
     "output_type": "stream",
     "text": [
      "2 2\n",
      "3\n"
     ]
    }
   ],
   "source": [
    "# 인덱스를 새로 지정한 경우, 기본 인덱스도 동시에 사용 가능\n",
    "# 단, 지정한 인덱스가 정수인 경우에는, 해당되지 않음\n",
    "print(s3[1], s3['b']) \n",
    "print(s3['c'])\n",
    "\n",
    "#문자열로도 똑같은 위치를 출력 가능"
   ]
  },
  {
   "cell_type": "code",
   "execution_count": 61,
   "metadata": {},
   "outputs": [
    {
     "name": "stdout",
     "output_type": "stream",
     "text": [
      "1\n"
     ]
    },
    {
     "ename": "KeyError",
     "evalue": "0",
     "output_type": "error",
     "traceback": [
      "\u001b[1;31m---------------------------------------------------------------------------\u001b[0m",
      "\u001b[1;31mKeyError\u001b[0m                                  Traceback (most recent call last)",
      "\u001b[1;32m<ipython-input-61-701668368f32>\u001b[0m in \u001b[0;36m<module>\u001b[1;34m()\u001b[0m\n\u001b[0;32m      2\u001b[0m \u001b[1;33m\u001b[0m\u001b[0m\n\u001b[0;32m      3\u001b[0m \u001b[0mprint\u001b[0m\u001b[1;33m(\u001b[0m\u001b[0ms4\u001b[0m\u001b[1;33m[\u001b[0m\u001b[1;36m100\u001b[0m\u001b[1;33m]\u001b[0m\u001b[1;33m)\u001b[0m\u001b[1;33m\u001b[0m\u001b[0m\n\u001b[1;32m----> 4\u001b[1;33m \u001b[0mprint\u001b[0m\u001b[1;33m(\u001b[0m\u001b[0ms4\u001b[0m\u001b[1;33m[\u001b[0m\u001b[1;36m0\u001b[0m\u001b[1;33m]\u001b[0m\u001b[1;33m)\u001b[0m\u001b[1;33m\u001b[0m\u001b[0m\n\u001b[0m\u001b[0;32m      5\u001b[0m \u001b[1;33m\u001b[0m\u001b[0m\n\u001b[0;32m      6\u001b[0m \u001b[1;31m#100번째는 인덱스가 없기 때문에 오류. s4[0]에서..\u001b[0m\u001b[1;33m\u001b[0m\u001b[1;33m\u001b[0m\u001b[0m\n",
      "\u001b[1;32mc:\\python36\\lib\\site-packages\\pandas\\core\\series.py\u001b[0m in \u001b[0;36m__getitem__\u001b[1;34m(self, key)\u001b[0m\n\u001b[0;32m    599\u001b[0m         \u001b[0mkey\u001b[0m \u001b[1;33m=\u001b[0m \u001b[0mcom\u001b[0m\u001b[1;33m.\u001b[0m\u001b[0m_apply_if_callable\u001b[0m\u001b[1;33m(\u001b[0m\u001b[0mkey\u001b[0m\u001b[1;33m,\u001b[0m \u001b[0mself\u001b[0m\u001b[1;33m)\u001b[0m\u001b[1;33m\u001b[0m\u001b[0m\n\u001b[0;32m    600\u001b[0m         \u001b[1;32mtry\u001b[0m\u001b[1;33m:\u001b[0m\u001b[1;33m\u001b[0m\u001b[0m\n\u001b[1;32m--> 601\u001b[1;33m             \u001b[0mresult\u001b[0m \u001b[1;33m=\u001b[0m \u001b[0mself\u001b[0m\u001b[1;33m.\u001b[0m\u001b[0mindex\u001b[0m\u001b[1;33m.\u001b[0m\u001b[0mget_value\u001b[0m\u001b[1;33m(\u001b[0m\u001b[0mself\u001b[0m\u001b[1;33m,\u001b[0m \u001b[0mkey\u001b[0m\u001b[1;33m)\u001b[0m\u001b[1;33m\u001b[0m\u001b[0m\n\u001b[0m\u001b[0;32m    602\u001b[0m \u001b[1;33m\u001b[0m\u001b[0m\n\u001b[0;32m    603\u001b[0m             \u001b[1;32mif\u001b[0m \u001b[1;32mnot\u001b[0m \u001b[0mis_scalar\u001b[0m\u001b[1;33m(\u001b[0m\u001b[0mresult\u001b[0m\u001b[1;33m)\u001b[0m\u001b[1;33m:\u001b[0m\u001b[1;33m\u001b[0m\u001b[0m\n",
      "\u001b[1;32mc:\\python36\\lib\\site-packages\\pandas\\core\\indexes\\base.py\u001b[0m in \u001b[0;36mget_value\u001b[1;34m(self, series, key)\u001b[0m\n\u001b[0;32m   2475\u001b[0m         \u001b[1;32mtry\u001b[0m\u001b[1;33m:\u001b[0m\u001b[1;33m\u001b[0m\u001b[0m\n\u001b[0;32m   2476\u001b[0m             return self._engine.get_value(s, k,\n\u001b[1;32m-> 2477\u001b[1;33m                                           tz=getattr(series.dtype, 'tz', None))\n\u001b[0m\u001b[0;32m   2478\u001b[0m         \u001b[1;32mexcept\u001b[0m \u001b[0mKeyError\u001b[0m \u001b[1;32mas\u001b[0m \u001b[0me1\u001b[0m\u001b[1;33m:\u001b[0m\u001b[1;33m\u001b[0m\u001b[0m\n\u001b[0;32m   2479\u001b[0m             \u001b[1;32mif\u001b[0m \u001b[0mlen\u001b[0m\u001b[1;33m(\u001b[0m\u001b[0mself\u001b[0m\u001b[1;33m)\u001b[0m \u001b[1;33m>\u001b[0m \u001b[1;36m0\u001b[0m \u001b[1;32mand\u001b[0m \u001b[0mself\u001b[0m\u001b[1;33m.\u001b[0m\u001b[0minferred_type\u001b[0m \u001b[1;32min\u001b[0m \u001b[1;33m[\u001b[0m\u001b[1;34m'integer'\u001b[0m\u001b[1;33m,\u001b[0m \u001b[1;34m'boolean'\u001b[0m\u001b[1;33m]\u001b[0m\u001b[1;33m:\u001b[0m\u001b[1;33m\u001b[0m\u001b[0m\n",
      "\u001b[1;32mpandas\\_libs\\index.pyx\u001b[0m in \u001b[0;36mpandas._libs.index.IndexEngine.get_value (pandas\\_libs\\index.c:4404)\u001b[1;34m()\u001b[0m\n",
      "\u001b[1;32mpandas\\_libs\\index.pyx\u001b[0m in \u001b[0;36mpandas._libs.index.IndexEngine.get_value (pandas\\_libs\\index.c:4087)\u001b[1;34m()\u001b[0m\n",
      "\u001b[1;32mpandas\\_libs\\index.pyx\u001b[0m in \u001b[0;36mpandas._libs.index.IndexEngine.get_loc (pandas\\_libs\\index.c:5126)\u001b[1;34m()\u001b[0m\n",
      "\u001b[1;32mpandas\\_libs\\hashtable_class_helper.pxi\u001b[0m in \u001b[0;36mpandas._libs.hashtable.Int64HashTable.get_item (pandas\\_libs\\hashtable.c:14031)\u001b[1;34m()\u001b[0m\n",
      "\u001b[1;32mpandas\\_libs\\hashtable_class_helper.pxi\u001b[0m in \u001b[0;36mpandas._libs.hashtable.Int64HashTable.get_item (pandas\\_libs\\hashtable.c:13975)\u001b[1;34m()\u001b[0m\n",
      "\u001b[1;31mKeyError\u001b[0m: 0"
     ]
    }
   ],
   "source": [
    "s4 = pd.Series(range(1, 4), index=[100, 101, 102])\n",
    "\n",
    "print(s4[100])\n",
    "print(s4[0])\n",
    "\n",
    "#100번째는 인덱스가 없기 때문에 오류. s4[0]에서.."
   ]
  },
  {
   "cell_type": "markdown",
   "metadata": {},
   "source": [
    "* **index가 없는 경우**"
   ]
  },
  {
   "cell_type": "code",
   "execution_count": 62,
   "metadata": {},
   "outputs": [
    {
     "ename": "KeyError",
     "evalue": "'d'",
     "output_type": "error",
     "traceback": [
      "\u001b[1;31m---------------------------------------------------------------------------\u001b[0m",
      "\u001b[1;31mTypeError\u001b[0m                                 Traceback (most recent call last)",
      "\u001b[1;32mc:\\python36\\lib\\site-packages\\pandas\\core\\indexes\\base.py\u001b[0m in \u001b[0;36mget_value\u001b[1;34m(self, series, key)\u001b[0m\n\u001b[0;32m   2482\u001b[0m             \u001b[1;32mtry\u001b[0m\u001b[1;33m:\u001b[0m\u001b[1;33m\u001b[0m\u001b[0m\n\u001b[1;32m-> 2483\u001b[1;33m                 \u001b[1;32mreturn\u001b[0m \u001b[0mlibts\u001b[0m\u001b[1;33m.\u001b[0m\u001b[0mget_value_box\u001b[0m\u001b[1;33m(\u001b[0m\u001b[0ms\u001b[0m\u001b[1;33m,\u001b[0m \u001b[0mkey\u001b[0m\u001b[1;33m)\u001b[0m\u001b[1;33m\u001b[0m\u001b[0m\n\u001b[0m\u001b[0;32m   2484\u001b[0m             \u001b[1;32mexcept\u001b[0m \u001b[0mIndexError\u001b[0m\u001b[1;33m:\u001b[0m\u001b[1;33m\u001b[0m\u001b[0m\n",
      "\u001b[1;32mpandas\\_libs\\tslib.pyx\u001b[0m in \u001b[0;36mpandas._libs.tslib.get_value_box (pandas\\_libs\\tslib.c:18843)\u001b[1;34m()\u001b[0m\n",
      "\u001b[1;32mpandas\\_libs\\tslib.pyx\u001b[0m in \u001b[0;36mpandas._libs.tslib.get_value_box (pandas\\_libs\\tslib.c:18477)\u001b[1;34m()\u001b[0m\n",
      "\u001b[1;31mTypeError\u001b[0m: 'str' object cannot be interpreted as an integer",
      "\nDuring handling of the above exception, another exception occurred:\n",
      "\u001b[1;31mKeyError\u001b[0m                                  Traceback (most recent call last)",
      "\u001b[1;32m<ipython-input-62-2b7b09c52b1b>\u001b[0m in \u001b[0;36m<module>\u001b[1;34m()\u001b[0m\n\u001b[1;32m----> 1\u001b[1;33m \u001b[0mprint\u001b[0m\u001b[1;33m(\u001b[0m\u001b[0ms3\u001b[0m\u001b[1;33m[\u001b[0m\u001b[1;34m'd'\u001b[0m\u001b[1;33m]\u001b[0m\u001b[1;33m)\u001b[0m\u001b[1;33m\u001b[0m\u001b[0m\n\u001b[0m\u001b[0;32m      2\u001b[0m \u001b[0mprint\u001b[0m\u001b[1;33m(\u001b[0m\u001b[0ms3\u001b[0m\u001b[1;33m[\u001b[0m\u001b[1;36m4\u001b[0m\u001b[1;33m]\u001b[0m\u001b[1;33m)\u001b[0m\u001b[1;33m\u001b[0m\u001b[0m\n",
      "\u001b[1;32mc:\\python36\\lib\\site-packages\\pandas\\core\\series.py\u001b[0m in \u001b[0;36m__getitem__\u001b[1;34m(self, key)\u001b[0m\n\u001b[0;32m    599\u001b[0m         \u001b[0mkey\u001b[0m \u001b[1;33m=\u001b[0m \u001b[0mcom\u001b[0m\u001b[1;33m.\u001b[0m\u001b[0m_apply_if_callable\u001b[0m\u001b[1;33m(\u001b[0m\u001b[0mkey\u001b[0m\u001b[1;33m,\u001b[0m \u001b[0mself\u001b[0m\u001b[1;33m)\u001b[0m\u001b[1;33m\u001b[0m\u001b[0m\n\u001b[0;32m    600\u001b[0m         \u001b[1;32mtry\u001b[0m\u001b[1;33m:\u001b[0m\u001b[1;33m\u001b[0m\u001b[0m\n\u001b[1;32m--> 601\u001b[1;33m             \u001b[0mresult\u001b[0m \u001b[1;33m=\u001b[0m \u001b[0mself\u001b[0m\u001b[1;33m.\u001b[0m\u001b[0mindex\u001b[0m\u001b[1;33m.\u001b[0m\u001b[0mget_value\u001b[0m\u001b[1;33m(\u001b[0m\u001b[0mself\u001b[0m\u001b[1;33m,\u001b[0m \u001b[0mkey\u001b[0m\u001b[1;33m)\u001b[0m\u001b[1;33m\u001b[0m\u001b[0m\n\u001b[0m\u001b[0;32m    602\u001b[0m \u001b[1;33m\u001b[0m\u001b[0m\n\u001b[0;32m    603\u001b[0m             \u001b[1;32mif\u001b[0m \u001b[1;32mnot\u001b[0m \u001b[0mis_scalar\u001b[0m\u001b[1;33m(\u001b[0m\u001b[0mresult\u001b[0m\u001b[1;33m)\u001b[0m\u001b[1;33m:\u001b[0m\u001b[1;33m\u001b[0m\u001b[0m\n",
      "\u001b[1;32mc:\\python36\\lib\\site-packages\\pandas\\core\\indexes\\base.py\u001b[0m in \u001b[0;36mget_value\u001b[1;34m(self, series, key)\u001b[0m\n\u001b[0;32m   2489\u001b[0m                     \u001b[1;32mraise\u001b[0m \u001b[0mInvalidIndexError\u001b[0m\u001b[1;33m(\u001b[0m\u001b[0mkey\u001b[0m\u001b[1;33m)\u001b[0m\u001b[1;33m\u001b[0m\u001b[0m\n\u001b[0;32m   2490\u001b[0m                 \u001b[1;32melse\u001b[0m\u001b[1;33m:\u001b[0m\u001b[1;33m\u001b[0m\u001b[0m\n\u001b[1;32m-> 2491\u001b[1;33m                     \u001b[1;32mraise\u001b[0m \u001b[0me1\u001b[0m\u001b[1;33m\u001b[0m\u001b[0m\n\u001b[0m\u001b[0;32m   2492\u001b[0m             \u001b[1;32mexcept\u001b[0m \u001b[0mException\u001b[0m\u001b[1;33m:\u001b[0m  \u001b[1;31m# pragma: no cover\u001b[0m\u001b[1;33m\u001b[0m\u001b[0m\n\u001b[0;32m   2493\u001b[0m                 \u001b[1;32mraise\u001b[0m \u001b[0me1\u001b[0m\u001b[1;33m\u001b[0m\u001b[0m\n",
      "\u001b[1;32mc:\\python36\\lib\\site-packages\\pandas\\core\\indexes\\base.py\u001b[0m in \u001b[0;36mget_value\u001b[1;34m(self, series, key)\u001b[0m\n\u001b[0;32m   2475\u001b[0m         \u001b[1;32mtry\u001b[0m\u001b[1;33m:\u001b[0m\u001b[1;33m\u001b[0m\u001b[0m\n\u001b[0;32m   2476\u001b[0m             return self._engine.get_value(s, k,\n\u001b[1;32m-> 2477\u001b[1;33m                                           tz=getattr(series.dtype, 'tz', None))\n\u001b[0m\u001b[0;32m   2478\u001b[0m         \u001b[1;32mexcept\u001b[0m \u001b[0mKeyError\u001b[0m \u001b[1;32mas\u001b[0m \u001b[0me1\u001b[0m\u001b[1;33m:\u001b[0m\u001b[1;33m\u001b[0m\u001b[0m\n\u001b[0;32m   2479\u001b[0m             \u001b[1;32mif\u001b[0m \u001b[0mlen\u001b[0m\u001b[1;33m(\u001b[0m\u001b[0mself\u001b[0m\u001b[1;33m)\u001b[0m \u001b[1;33m>\u001b[0m \u001b[1;36m0\u001b[0m \u001b[1;32mand\u001b[0m \u001b[0mself\u001b[0m\u001b[1;33m.\u001b[0m\u001b[0minferred_type\u001b[0m \u001b[1;32min\u001b[0m \u001b[1;33m[\u001b[0m\u001b[1;34m'integer'\u001b[0m\u001b[1;33m,\u001b[0m \u001b[1;34m'boolean'\u001b[0m\u001b[1;33m]\u001b[0m\u001b[1;33m:\u001b[0m\u001b[1;33m\u001b[0m\u001b[0m\n",
      "\u001b[1;32mpandas\\_libs\\index.pyx\u001b[0m in \u001b[0;36mpandas._libs.index.IndexEngine.get_value (pandas\\_libs\\index.c:4404)\u001b[1;34m()\u001b[0m\n",
      "\u001b[1;32mpandas\\_libs\\index.pyx\u001b[0m in \u001b[0;36mpandas._libs.index.IndexEngine.get_value (pandas\\_libs\\index.c:4087)\u001b[1;34m()\u001b[0m\n",
      "\u001b[1;32mpandas\\_libs\\index.pyx\u001b[0m in \u001b[0;36mpandas._libs.index.IndexEngine.get_loc (pandas\\_libs\\index.c:5126)\u001b[1;34m()\u001b[0m\n",
      "\u001b[1;32mpandas\\_libs\\hashtable_class_helper.pxi\u001b[0m in \u001b[0;36mpandas._libs.hashtable.PyObjectHashTable.get_item (pandas\\_libs\\hashtable.c:20523)\u001b[1;34m()\u001b[0m\n",
      "\u001b[1;32mpandas\\_libs\\hashtable_class_helper.pxi\u001b[0m in \u001b[0;36mpandas._libs.hashtable.PyObjectHashTable.get_item (pandas\\_libs\\hashtable.c:20477)\u001b[1;34m()\u001b[0m\n",
      "\u001b[1;31mKeyError\u001b[0m: 'd'"
     ]
    }
   ],
   "source": [
    "print(s3['d'])\n",
    "print(s3[4])"
   ]
  },
  {
   "cell_type": "markdown",
   "metadata": {},
   "source": [
    "* **index 재사용**\n",
    " - 기존 series나 dataframe의 인덱스를 재사용 가능\n",
    " - .index 속성 이용"
   ]
  },
  {
   "cell_type": "code",
   "execution_count": 63,
   "metadata": {},
   "outputs": [
    {
     "name": "stdout",
     "output_type": "stream",
     "text": [
      "a    2\n",
      "b    2\n",
      "c    2\n",
      "dtype: int64\n"
     ]
    }
   ],
   "source": [
    "s4 = pd.Series(2, index = s3.index) #인덱스(2) 하나만 주면, 그에 맞게 출력함\n",
    "print(s4)"
   ]
  },
  {
   "cell_type": "code",
   "execution_count": 60,
   "metadata": {
    "scrolled": true
   },
   "outputs": [
    {
     "name": "stdout",
     "output_type": "stream",
     "text": [
      "10    0.905235\n",
      "11   -0.794548\n",
      "12    0.248558\n",
      "13   -0.352848\n",
      "14    0.360970\n",
      "dtype: float64\n"
     ]
    }
   ],
   "source": [
    "s5 = pd.Series(np.random.randn(5), index=np.arange(10, 15))\n",
    "print(s5)"
   ]
  },
  {
   "cell_type": "code",
   "execution_count": 61,
   "metadata": {},
   "outputs": [
    {
     "name": "stdout",
     "output_type": "stream",
     "text": [
      "10    1\n",
      "11    2\n",
      "12    3\n",
      "13    4\n",
      "14    5\n",
      "dtype: int32\n"
     ]
    }
   ],
   "source": [
    "s6 = pd.Series(np.arange(1, 6), s5.index)\n",
    "print(s6)"
   ]
  },
  {
   "cell_type": "code",
   "execution_count": 62,
   "metadata": {},
   "outputs": [
    {
     "name": "stdout",
     "output_type": "stream",
     "text": [
      "a     100\n",
      "b    1000\n",
      "c       2\n",
      "d       6\n",
      "dtype: int64\n",
      "1000\n",
      "a    0\n",
      "b    1\n",
      "c    2\n",
      "d    3\n",
      "dtype: int32\n"
     ]
    }
   ],
   "source": [
    "s7 = pd.Series({'a' : 100, 'b' : 1000, 'c' : 2, 'd' : 6})\n",
    "print(s7)\n",
    "print(s7['b'])\n",
    "\n",
    "s8 = pd.Series(np.arange(4), index=s7.index)\n",
    "print(s8)"
   ]
  },
  {
   "cell_type": "markdown",
   "metadata": {},
   "source": [
    "* **Series size, shape, unique, count, value_counts**\n",
    " - size : 개수 반환\n",
    " - shape : 튜플형태로 shape반환\n",
    " - unique: 유일한 값만 ndarray로 반환\n",
    " - count : NaN을 제외한 개수를 반환\n",
    " - value_counts: NaN을 제외하고 각 값들의 빈도를 반환 "
   ]
  },
  {
   "cell_type": "code",
   "execution_count": 64,
   "metadata": {},
   "outputs": [
    {
     "name": "stdout",
     "output_type": "stream",
     "text": [
      "0    0.0\n",
      "1    1.0\n",
      "2    1.0\n",
      "3    2.0\n",
      "4    3.0\n",
      "5    4.0\n",
      "6    5.0\n",
      "7    6.0\n",
      "8    7.0\n",
      "9    NaN\n",
      "dtype: float64\n"
     ]
    }
   ],
   "source": [
    "s = pd.Series([0, 1, 1, 2, 3, 4, 5, 6, 7, np.nan])  #9개의 데이터와 nan 까지 10개의 데이터 존재\n",
    "print(s)\n",
    "\n",
    "#nan = not a number. 숫자가 없다."
   ]
  },
  {
   "cell_type": "code",
   "execution_count": 71,
   "metadata": {},
   "outputs": [
    {
     "name": "stdout",
     "output_type": "stream",
     "text": [
      "10\n"
     ]
    }
   ],
   "source": [
    "print(len(s))"
   ]
  },
  {
   "cell_type": "code",
   "execution_count": 72,
   "metadata": {},
   "outputs": [
    {
     "name": "stdout",
     "output_type": "stream",
     "text": [
      "10\n"
     ]
    }
   ],
   "source": [
    "print(s.size)"
   ]
  },
  {
   "cell_type": "code",
   "execution_count": 73,
   "metadata": {},
   "outputs": [
    {
     "name": "stdout",
     "output_type": "stream",
     "text": [
      "(10,)\n"
     ]
    }
   ],
   "source": [
    "print(s.shape)"
   ]
  },
  {
   "cell_type": "code",
   "execution_count": 74,
   "metadata": {},
   "outputs": [
    {
     "name": "stdout",
     "output_type": "stream",
     "text": [
      "9\n"
     ]
    }
   ],
   "source": [
    "print(s.count()) # NaN을 제외한 값을 카운팅"
   ]
  },
  {
   "cell_type": "code",
   "execution_count": 76,
   "metadata": {},
   "outputs": [
    {
     "name": "stdout",
     "output_type": "stream",
     "text": [
      "[  0.   1.   2.   3.   4.   5.   6.   7.  nan]\n"
     ]
    }
   ],
   "source": [
    "print(s.unique())  #중복되는 값은 제외"
   ]
  },
  {
   "cell_type": "code",
   "execution_count": 78,
   "metadata": {},
   "outputs": [
    {
     "name": "stdout",
     "output_type": "stream",
     "text": [
      "1.0    2\n",
      "7.0    1\n",
      "6.0    1\n",
      "5.0    1\n",
      "4.0    1\n",
      "3.0    1\n",
      "2.0    1\n",
      "0.0    1\n",
      "dtype: int64\n"
     ]
    },
    {
     "data": {
      "text/plain": [
       "pandas.core.series.Series"
      ]
     },
     "execution_count": 78,
     "metadata": {},
     "output_type": "execute_result"
    }
   ],
   "source": [
    "print(s.value_counts()) # NaN 제외하고 값들을 카운팅 함    #기존의 값이 인덱스로 가고, 그 해당 값의 갯수가 오른쪽에 표현\n",
    "\n",
    "type(s.value_counts()) # value_counts의 타입 역시 pd.Series"
   ]
  },
  {
   "cell_type": "markdown",
   "metadata": {},
   "source": [
    "* **head, tail, take**\n",
    " - head : 상위 n개 출력 기본 5개\n",
    " - tail : 하위 n개 출력 기본 5개\n",
    " - take : 주어진 인덱스 리스트와 매칭되는 원소만 추출"
   ]
  },
  {
   "cell_type": "code",
   "execution_count": 65,
   "metadata": {
    "scrolled": true
   },
   "outputs": [
    {
     "data": {
      "text/plain": [
       "0    0.0\n",
       "1    1.0\n",
       "2    1.0\n",
       "3    2.0\n",
       "4    3.0\n",
       "dtype: float64"
      ]
     },
     "execution_count": 65,
     "metadata": {},
     "output_type": "execute_result"
    }
   ],
   "source": [
    "s.head() # 상위 5개 출력"
   ]
  },
  {
   "cell_type": "code",
   "execution_count": 80,
   "metadata": {},
   "outputs": [
    {
     "data": {
      "text/plain": [
       "0    0.0\n",
       "1    1.0\n",
       "2    1.0\n",
       "dtype: float64"
      ]
     },
     "execution_count": 80,
     "metadata": {},
     "output_type": "execute_result"
    }
   ],
   "source": [
    "s.head(n = 3)"
   ]
  },
  {
   "cell_type": "code",
   "execution_count": 81,
   "metadata": {},
   "outputs": [
    {
     "data": {
      "text/plain": [
       "5    4.0\n",
       "6    5.0\n",
       "7    6.0\n",
       "8    7.0\n",
       "9    NaN\n",
       "dtype: float64"
      ]
     },
     "execution_count": 81,
     "metadata": {},
     "output_type": "execute_result"
    }
   ],
   "source": [
    "s.tail()"
   ]
  },
  {
   "cell_type": "code",
   "execution_count": 82,
   "metadata": {},
   "outputs": [
    {
     "data": {
      "text/plain": [
       "8    7.0\n",
       "9    NaN\n",
       "dtype: float64"
      ]
     },
     "execution_count": 82,
     "metadata": {},
     "output_type": "execute_result"
    }
   ],
   "source": [
    "s.tail(n = 2)"
   ]
  },
  {
   "cell_type": "code",
   "execution_count": 66,
   "metadata": {
    "scrolled": true
   },
   "outputs": [
    {
     "name": "stdout",
     "output_type": "stream",
     "text": [
      "0    0.0\n",
      "1    1.0\n",
      "2    1.0\n",
      "3    2.0\n",
      "4    3.0\n",
      "5    4.0\n",
      "6    5.0\n",
      "7    6.0\n",
      "8    7.0\n",
      "9    NaN\n",
      "dtype: float64\n",
      "\n",
      "0    0.0\n",
      "4    3.0\n",
      "3    2.0\n",
      "9    NaN\n",
      "dtype: float64\n"
     ]
    }
   ],
   "source": [
    "print(s)\n",
    "print()\n",
    "print(s.take([0, 4, 3, 9]))\n",
    "\n",
    "#take함수 = 인덱스를 주게되면, 인덱스에 해당하는 값만 가져오는 것"
   ]
  },
  {
   "cell_type": "code",
   "execution_count": 67,
   "metadata": {},
   "outputs": [
    {
     "data": {
      "text/plain": [
       "x    1\n",
       "z    3\n",
       "dtype: int32"
      ]
     },
     "execution_count": 67,
     "metadata": {},
     "output_type": "execute_result"
    }
   ],
   "source": [
    "s = pd.Series(np.arange(1, 4), index = ['x', 'y', 'z'])\n",
    "s.take([0, 2])\n",
    "#s.take(['x', 'z']) #0 - based index만 가능"
   ]
  },
  {
   "cell_type": "markdown",
   "metadata": {},
   "source": [
    " * **single value accessing**\n",
    "  - 인덱스를 이용하여 값 접근 가능\n",
    "  - 문자열 인덱스가 주어진 경우, 0-based index도 사용 가능\n",
    "  "
   ]
  },
  {
   "cell_type": "code",
   "execution_count": 68,
   "metadata": {},
   "outputs": [
    {
     "name": "stdout",
     "output_type": "stream",
     "text": [
      "1\n"
     ]
    }
   ],
   "source": [
    "print(s['x']) # 인덱스로 가능"
   ]
  },
  {
   "cell_type": "code",
   "execution_count": 69,
   "metadata": {},
   "outputs": [
    {
     "name": "stdout",
     "output_type": "stream",
     "text": [
      "2\n"
     ]
    }
   ],
   "source": [
    "print(s[1]) # 숫자 인덱스도 가능"
   ]
  },
  {
   "cell_type": "code",
   "execution_count": 72,
   "metadata": {},
   "outputs": [
    {
     "name": "stdout",
     "output_type": "stream",
     "text": [
      "1\n"
     ]
    },
    {
     "ename": "KeyError",
     "evalue": "0",
     "output_type": "error",
     "traceback": [
      "\u001b[1;31m---------------------------------------------------------------------------\u001b[0m",
      "\u001b[1;31mKeyError\u001b[0m                                  Traceback (most recent call last)",
      "\u001b[1;32m<ipython-input-72-e31153c42daa>\u001b[0m in \u001b[0;36m<module>\u001b[1;34m()\u001b[0m\n\u001b[0;32m      1\u001b[0m \u001b[0ms\u001b[0m \u001b[1;33m=\u001b[0m \u001b[0mpd\u001b[0m\u001b[1;33m.\u001b[0m\u001b[0mSeries\u001b[0m\u001b[1;33m(\u001b[0m\u001b[0mnp\u001b[0m\u001b[1;33m.\u001b[0m\u001b[0marange\u001b[0m\u001b[1;33m(\u001b[0m\u001b[1;36m1\u001b[0m\u001b[1;33m,\u001b[0m \u001b[1;36m4\u001b[0m\u001b[1;33m)\u001b[0m\u001b[1;33m,\u001b[0m \u001b[0mindex\u001b[0m \u001b[1;33m=\u001b[0m \u001b[1;33m[\u001b[0m\u001b[1;36m100\u001b[0m\u001b[1;33m,\u001b[0m \u001b[1;36m101\u001b[0m\u001b[1;33m,\u001b[0m \u001b[1;36m102\u001b[0m\u001b[1;33m]\u001b[0m\u001b[1;33m)\u001b[0m       \u001b[1;31m# 인덱스를 숫자로 했기 때문에 0베이스는 없음. 따라서 출력하라고 하면 오류가 뜸\u001b[0m\u001b[1;33m\u001b[0m\u001b[0m\n\u001b[0;32m      2\u001b[0m \u001b[0mprint\u001b[0m\u001b[1;33m(\u001b[0m\u001b[0ms\u001b[0m\u001b[1;33m[\u001b[0m\u001b[1;36m100\u001b[0m\u001b[1;33m]\u001b[0m\u001b[1;33m)\u001b[0m\u001b[1;33m\u001b[0m\u001b[0m\n\u001b[1;32m----> 3\u001b[1;33m \u001b[0mprint\u001b[0m\u001b[1;33m(\u001b[0m\u001b[0ms\u001b[0m\u001b[1;33m[\u001b[0m\u001b[1;36m0\u001b[0m\u001b[1;33m]\u001b[0m\u001b[1;33m)\u001b[0m \u001b[1;31m# 에러\u001b[0m\u001b[1;33m\u001b[0m\u001b[0m\n\u001b[0m",
      "\u001b[1;32mc:\\python36\\lib\\site-packages\\pandas\\core\\series.py\u001b[0m in \u001b[0;36m__getitem__\u001b[1;34m(self, key)\u001b[0m\n\u001b[0;32m    599\u001b[0m         \u001b[0mkey\u001b[0m \u001b[1;33m=\u001b[0m \u001b[0mcom\u001b[0m\u001b[1;33m.\u001b[0m\u001b[0m_apply_if_callable\u001b[0m\u001b[1;33m(\u001b[0m\u001b[0mkey\u001b[0m\u001b[1;33m,\u001b[0m \u001b[0mself\u001b[0m\u001b[1;33m)\u001b[0m\u001b[1;33m\u001b[0m\u001b[0m\n\u001b[0;32m    600\u001b[0m         \u001b[1;32mtry\u001b[0m\u001b[1;33m:\u001b[0m\u001b[1;33m\u001b[0m\u001b[0m\n\u001b[1;32m--> 601\u001b[1;33m             \u001b[0mresult\u001b[0m \u001b[1;33m=\u001b[0m \u001b[0mself\u001b[0m\u001b[1;33m.\u001b[0m\u001b[0mindex\u001b[0m\u001b[1;33m.\u001b[0m\u001b[0mget_value\u001b[0m\u001b[1;33m(\u001b[0m\u001b[0mself\u001b[0m\u001b[1;33m,\u001b[0m \u001b[0mkey\u001b[0m\u001b[1;33m)\u001b[0m\u001b[1;33m\u001b[0m\u001b[0m\n\u001b[0m\u001b[0;32m    602\u001b[0m \u001b[1;33m\u001b[0m\u001b[0m\n\u001b[0;32m    603\u001b[0m             \u001b[1;32mif\u001b[0m \u001b[1;32mnot\u001b[0m \u001b[0mis_scalar\u001b[0m\u001b[1;33m(\u001b[0m\u001b[0mresult\u001b[0m\u001b[1;33m)\u001b[0m\u001b[1;33m:\u001b[0m\u001b[1;33m\u001b[0m\u001b[0m\n",
      "\u001b[1;32mc:\\python36\\lib\\site-packages\\pandas\\core\\indexes\\base.py\u001b[0m in \u001b[0;36mget_value\u001b[1;34m(self, series, key)\u001b[0m\n\u001b[0;32m   2475\u001b[0m         \u001b[1;32mtry\u001b[0m\u001b[1;33m:\u001b[0m\u001b[1;33m\u001b[0m\u001b[0m\n\u001b[0;32m   2476\u001b[0m             return self._engine.get_value(s, k,\n\u001b[1;32m-> 2477\u001b[1;33m                                           tz=getattr(series.dtype, 'tz', None))\n\u001b[0m\u001b[0;32m   2478\u001b[0m         \u001b[1;32mexcept\u001b[0m \u001b[0mKeyError\u001b[0m \u001b[1;32mas\u001b[0m \u001b[0me1\u001b[0m\u001b[1;33m:\u001b[0m\u001b[1;33m\u001b[0m\u001b[0m\n\u001b[0;32m   2479\u001b[0m             \u001b[1;32mif\u001b[0m \u001b[0mlen\u001b[0m\u001b[1;33m(\u001b[0m\u001b[0mself\u001b[0m\u001b[1;33m)\u001b[0m \u001b[1;33m>\u001b[0m \u001b[1;36m0\u001b[0m \u001b[1;32mand\u001b[0m \u001b[0mself\u001b[0m\u001b[1;33m.\u001b[0m\u001b[0minferred_type\u001b[0m \u001b[1;32min\u001b[0m \u001b[1;33m[\u001b[0m\u001b[1;34m'integer'\u001b[0m\u001b[1;33m,\u001b[0m \u001b[1;34m'boolean'\u001b[0m\u001b[1;33m]\u001b[0m\u001b[1;33m:\u001b[0m\u001b[1;33m\u001b[0m\u001b[0m\n",
      "\u001b[1;32mpandas\\_libs\\index.pyx\u001b[0m in \u001b[0;36mpandas._libs.index.IndexEngine.get_value (pandas\\_libs\\index.c:4404)\u001b[1;34m()\u001b[0m\n",
      "\u001b[1;32mpandas\\_libs\\index.pyx\u001b[0m in \u001b[0;36mpandas._libs.index.IndexEngine.get_value (pandas\\_libs\\index.c:4087)\u001b[1;34m()\u001b[0m\n",
      "\u001b[1;32mpandas\\_libs\\index.pyx\u001b[0m in \u001b[0;36mpandas._libs.index.IndexEngine.get_loc (pandas\\_libs\\index.c:5126)\u001b[1;34m()\u001b[0m\n",
      "\u001b[1;32mpandas\\_libs\\hashtable_class_helper.pxi\u001b[0m in \u001b[0;36mpandas._libs.hashtable.Int64HashTable.get_item (pandas\\_libs\\hashtable.c:14031)\u001b[1;34m()\u001b[0m\n",
      "\u001b[1;32mpandas\\_libs\\hashtable_class_helper.pxi\u001b[0m in \u001b[0;36mpandas._libs.hashtable.Int64HashTable.get_item (pandas\\_libs\\hashtable.c:13975)\u001b[1;34m()\u001b[0m\n",
      "\u001b[1;31mKeyError\u001b[0m: 0"
     ]
    }
   ],
   "source": [
    "s = pd.Series(np.arange(1, 4), index = [100, 101, 102])       # 인덱스를 숫자로 했기 때문에 0베이스는 없음. 따라서 출력하라고 하면 오류가 뜸\n",
    "print(s[100])\n",
    "print(s[0]) # 에러"
   ]
  },
  {
   "cell_type": "markdown",
   "metadata": {},
   "source": [
    "* **multiple values accessing**\n",
    " - 인덱스 리스트, ndarray로 여러 값에 접근 가능"
   ]
  },
  {
   "cell_type": "code",
   "execution_count": 73,
   "metadata": {},
   "outputs": [
    {
     "data": {
      "text/plain": [
       "100    1\n",
       "101    2\n",
       "102    3\n",
       "dtype: int32"
      ]
     },
     "execution_count": 73,
     "metadata": {},
     "output_type": "execute_result"
    }
   ],
   "source": [
    "s"
   ]
  },
  {
   "cell_type": "code",
   "execution_count": 78,
   "metadata": {},
   "outputs": [
    {
     "name": "stdout",
     "output_type": "stream",
     "text": [
      "100    1\n",
      "101    2\n",
      "102    3\n",
      "dtype: int32\n",
      "100    1\n",
      "100    1\n",
      "100    1\n",
      "102    3\n",
      "dtype: int32\n"
     ]
    }
   ],
   "source": [
    "print(s)\n",
    "print(s[[100, 100, 100, 102]])    #대괄호가 2개. 밖에 있는건 그냥... 뭐? , 안에 있는건 리스트."
   ]
  },
  {
   "cell_type": "markdown",
   "metadata": {},
   "source": [
    "* **loc , iloc**\n",
    "  - loc[] : index로 값 접근\n",
    "  - iloc[] : 0 based index로 값 접근"
   ]
  },
  {
   "cell_type": "code",
   "execution_count": 79,
   "metadata": {},
   "outputs": [
    {
     "name": "stdout",
     "output_type": "stream",
     "text": [
      "100    1\n",
      "101    2\n",
      "102    3\n",
      "dtype: int32\n"
     ]
    }
   ],
   "source": [
    "print(s)"
   ]
  },
  {
   "cell_type": "code",
   "execution_count": 80,
   "metadata": {
    "scrolled": true
   },
   "outputs": [
    {
     "name": "stdout",
     "output_type": "stream",
     "text": [
      "1\n"
     ]
    }
   ],
   "source": [
    "print(s.loc[100])\n",
    "\n",
    "#loc는 데이터 프레임을 위해서 하는 것임."
   ]
  },
  {
   "cell_type": "code",
   "execution_count": 85,
   "metadata": {},
   "outputs": [
    {
     "name": "stdout",
     "output_type": "stream",
     "text": [
      "1\n"
     ]
    }
   ],
   "source": [
    "print(s.iloc[0])    # 출력하려는 것이 이미 인덱스가 따로 부여가 되어있다고 하더라도 iloc로 출력하면, index가 0부터 출력됨"
   ]
  },
  {
   "cell_type": "code",
   "execution_count": 86,
   "metadata": {},
   "outputs": [
    {
     "name": "stdout",
     "output_type": "stream",
     "text": [
      "2\n"
     ]
    }
   ],
   "source": [
    "print(s.iloc[1])"
   ]
  },
  {
   "cell_type": "code",
   "execution_count": 87,
   "metadata": {},
   "outputs": [
    {
     "name": "stdout",
     "output_type": "stream",
     "text": [
      "100    1\n",
      "102    3\n",
      "dtype: int32\n"
     ]
    }
   ],
   "source": [
    "print(s.loc[[100, 102]])"
   ]
  },
  {
   "cell_type": "code",
   "execution_count": 88,
   "metadata": {},
   "outputs": [
    {
     "name": "stdout",
     "output_type": "stream",
     "text": [
      "100    1\n",
      "102    3\n",
      "dtype: int32\n"
     ]
    }
   ],
   "source": [
    "print(s.iloc[[0, 2]])"
   ]
  },
  {
   "cell_type": "markdown",
   "metadata": {},
   "source": [
    "* ** index값이 없는 경우**\n",
    " - loc : NaN으로 대체\n",
    " - iloc : 에러 발생"
   ]
  },
  {
   "cell_type": "code",
   "execution_count": 89,
   "metadata": {},
   "outputs": [
    {
     "data": {
      "text/plain": [
       "100    1.0\n",
       "102    3.0\n",
       "104    NaN\n",
       "105    NaN\n",
       "dtype: float64"
      ]
     },
     "execution_count": 89,
     "metadata": {},
     "output_type": "execute_result"
    }
   ],
   "source": [
    "s.loc[[100, 102, 104, 105]]"
   ]
  },
  {
   "cell_type": "code",
   "execution_count": 105,
   "metadata": {},
   "outputs": [
    {
     "ename": "IndexError",
     "evalue": "positional indexers are out-of-bounds",
     "output_type": "error",
     "traceback": [
      "\u001b[1;31m---------------------------------------------------------------------------\u001b[0m",
      "\u001b[1;31mIndexError\u001b[0m                                Traceback (most recent call last)",
      "\u001b[1;32mc:\\python36\\lib\\site-packages\\pandas\\core\\indexing.py\u001b[0m in \u001b[0;36m_get_list_axis\u001b[1;34m(self, key, axis)\u001b[0m\n\u001b[0;32m   1714\u001b[0m         \u001b[1;32mtry\u001b[0m\u001b[1;33m:\u001b[0m\u001b[1;33m\u001b[0m\u001b[0m\n\u001b[1;32m-> 1715\u001b[1;33m             \u001b[1;32mreturn\u001b[0m \u001b[0mself\u001b[0m\u001b[1;33m.\u001b[0m\u001b[0mobj\u001b[0m\u001b[1;33m.\u001b[0m\u001b[0mtake\u001b[0m\u001b[1;33m(\u001b[0m\u001b[0mkey\u001b[0m\u001b[1;33m,\u001b[0m \u001b[0maxis\u001b[0m\u001b[1;33m=\u001b[0m\u001b[0maxis\u001b[0m\u001b[1;33m,\u001b[0m \u001b[0mconvert\u001b[0m\u001b[1;33m=\u001b[0m\u001b[1;32mFalse\u001b[0m\u001b[1;33m)\u001b[0m\u001b[1;33m\u001b[0m\u001b[0m\n\u001b[0m\u001b[0;32m   1716\u001b[0m         \u001b[1;32mexcept\u001b[0m \u001b[0mIndexError\u001b[0m\u001b[1;33m:\u001b[0m\u001b[1;33m\u001b[0m\u001b[0m\n",
      "\u001b[1;32mc:\\python36\\lib\\site-packages\\pandas\\core\\series.py\u001b[0m in \u001b[0;36mtake\u001b[1;34m(self, indices, axis, convert, is_copy, **kwargs)\u001b[0m\n\u001b[0;32m   2499\u001b[0m         \u001b[0mindices\u001b[0m \u001b[1;33m=\u001b[0m \u001b[0m_ensure_platform_int\u001b[0m\u001b[1;33m(\u001b[0m\u001b[0mindices\u001b[0m\u001b[1;33m)\u001b[0m\u001b[1;33m\u001b[0m\u001b[0m\n\u001b[1;32m-> 2500\u001b[1;33m         \u001b[0mnew_index\u001b[0m \u001b[1;33m=\u001b[0m \u001b[0mself\u001b[0m\u001b[1;33m.\u001b[0m\u001b[0mindex\u001b[0m\u001b[1;33m.\u001b[0m\u001b[0mtake\u001b[0m\u001b[1;33m(\u001b[0m\u001b[0mindices\u001b[0m\u001b[1;33m)\u001b[0m\u001b[1;33m\u001b[0m\u001b[0m\n\u001b[0m\u001b[0;32m   2501\u001b[0m         \u001b[0mnew_values\u001b[0m \u001b[1;33m=\u001b[0m \u001b[0mself\u001b[0m\u001b[1;33m.\u001b[0m\u001b[0m_values\u001b[0m\u001b[1;33m.\u001b[0m\u001b[0mtake\u001b[0m\u001b[1;33m(\u001b[0m\u001b[0mindices\u001b[0m\u001b[1;33m)\u001b[0m\u001b[1;33m\u001b[0m\u001b[0m\n",
      "\u001b[1;32mc:\\python36\\lib\\site-packages\\pandas\\core\\indexes\\base.py\u001b[0m in \u001b[0;36mtake\u001b[1;34m(self, indices, axis, allow_fill, fill_value, **kwargs)\u001b[0m\n\u001b[0;32m   1786\u001b[0m                 \u001b[1;32mraise\u001b[0m \u001b[0mValueError\u001b[0m\u001b[1;33m(\u001b[0m\u001b[0mmsg\u001b[0m\u001b[1;33m.\u001b[0m\u001b[0mformat\u001b[0m\u001b[1;33m(\u001b[0m\u001b[0mself\u001b[0m\u001b[1;33m.\u001b[0m\u001b[0m__class__\u001b[0m\u001b[1;33m.\u001b[0m\u001b[0m__name__\u001b[0m\u001b[1;33m)\u001b[0m\u001b[1;33m)\u001b[0m\u001b[1;33m\u001b[0m\u001b[0m\n\u001b[1;32m-> 1787\u001b[1;33m             \u001b[0mtaken\u001b[0m \u001b[1;33m=\u001b[0m \u001b[0mself\u001b[0m\u001b[1;33m.\u001b[0m\u001b[0mvalues\u001b[0m\u001b[1;33m.\u001b[0m\u001b[0mtake\u001b[0m\u001b[1;33m(\u001b[0m\u001b[0mindices\u001b[0m\u001b[1;33m)\u001b[0m\u001b[1;33m\u001b[0m\u001b[0m\n\u001b[0m\u001b[0;32m   1788\u001b[0m         \u001b[1;32mreturn\u001b[0m \u001b[0mself\u001b[0m\u001b[1;33m.\u001b[0m\u001b[0m_shallow_copy\u001b[0m\u001b[1;33m(\u001b[0m\u001b[0mtaken\u001b[0m\u001b[1;33m)\u001b[0m\u001b[1;33m\u001b[0m\u001b[0m\n",
      "\u001b[1;31mIndexError\u001b[0m: index 4 is out of bounds for size 3",
      "\nDuring handling of the above exception, another exception occurred:\n",
      "\u001b[1;31mIndexError\u001b[0m                                Traceback (most recent call last)",
      "\u001b[1;32m<ipython-input-105-6f2b43481125>\u001b[0m in \u001b[0;36m<module>\u001b[1;34m()\u001b[0m\n\u001b[0;32m      1\u001b[0m \u001b[1;31m# 에러 발생\u001b[0m\u001b[1;33m\u001b[0m\u001b[1;33m\u001b[0m\u001b[0m\n\u001b[0;32m      2\u001b[0m \u001b[1;31m# 인덱스 4가 없기 때문\u001b[0m\u001b[1;33m\u001b[0m\u001b[1;33m\u001b[0m\u001b[0m\n\u001b[1;32m----> 3\u001b[1;33m \u001b[0ms\u001b[0m\u001b[1;33m.\u001b[0m\u001b[0miloc\u001b[0m\u001b[1;33m[\u001b[0m\u001b[1;33m[\u001b[0m\u001b[1;36m0\u001b[0m\u001b[1;33m,\u001b[0m \u001b[1;36m2\u001b[0m\u001b[1;33m,\u001b[0m \u001b[1;36m1\u001b[0m\u001b[1;33m,\u001b[0m \u001b[1;36m4\u001b[0m\u001b[1;33m]\u001b[0m\u001b[1;33m]\u001b[0m\u001b[1;33m\u001b[0m\u001b[0m\n\u001b[0m",
      "\u001b[1;32mc:\\python36\\lib\\site-packages\\pandas\\core\\indexing.py\u001b[0m in \u001b[0;36m__getitem__\u001b[1;34m(self, key)\u001b[0m\n\u001b[0;32m   1326\u001b[0m         \u001b[1;32melse\u001b[0m\u001b[1;33m:\u001b[0m\u001b[1;33m\u001b[0m\u001b[0m\n\u001b[0;32m   1327\u001b[0m             \u001b[0mkey\u001b[0m \u001b[1;33m=\u001b[0m \u001b[0mcom\u001b[0m\u001b[1;33m.\u001b[0m\u001b[0m_apply_if_callable\u001b[0m\u001b[1;33m(\u001b[0m\u001b[0mkey\u001b[0m\u001b[1;33m,\u001b[0m \u001b[0mself\u001b[0m\u001b[1;33m.\u001b[0m\u001b[0mobj\u001b[0m\u001b[1;33m)\u001b[0m\u001b[1;33m\u001b[0m\u001b[0m\n\u001b[1;32m-> 1328\u001b[1;33m             \u001b[1;32mreturn\u001b[0m \u001b[0mself\u001b[0m\u001b[1;33m.\u001b[0m\u001b[0m_getitem_axis\u001b[0m\u001b[1;33m(\u001b[0m\u001b[0mkey\u001b[0m\u001b[1;33m,\u001b[0m \u001b[0maxis\u001b[0m\u001b[1;33m=\u001b[0m\u001b[1;36m0\u001b[0m\u001b[1;33m)\u001b[0m\u001b[1;33m\u001b[0m\u001b[0m\n\u001b[0m\u001b[0;32m   1329\u001b[0m \u001b[1;33m\u001b[0m\u001b[0m\n\u001b[0;32m   1330\u001b[0m     \u001b[1;32mdef\u001b[0m \u001b[0m_is_scalar_access\u001b[0m\u001b[1;33m(\u001b[0m\u001b[0mself\u001b[0m\u001b[1;33m,\u001b[0m \u001b[0mkey\u001b[0m\u001b[1;33m)\u001b[0m\u001b[1;33m:\u001b[0m\u001b[1;33m\u001b[0m\u001b[0m\n",
      "\u001b[1;32mc:\\python36\\lib\\site-packages\\pandas\\core\\indexing.py\u001b[0m in \u001b[0;36m_getitem_axis\u001b[1;34m(self, key, axis)\u001b[0m\n\u001b[0;32m   1736\u001b[0m         \u001b[1;31m# a list of integers\u001b[0m\u001b[1;33m\u001b[0m\u001b[1;33m\u001b[0m\u001b[0m\n\u001b[0;32m   1737\u001b[0m         \u001b[1;32melif\u001b[0m \u001b[0mis_list_like_indexer\u001b[0m\u001b[1;33m(\u001b[0m\u001b[0mkey\u001b[0m\u001b[1;33m)\u001b[0m\u001b[1;33m:\u001b[0m\u001b[1;33m\u001b[0m\u001b[0m\n\u001b[1;32m-> 1738\u001b[1;33m             \u001b[1;32mreturn\u001b[0m \u001b[0mself\u001b[0m\u001b[1;33m.\u001b[0m\u001b[0m_get_list_axis\u001b[0m\u001b[1;33m(\u001b[0m\u001b[0mkey\u001b[0m\u001b[1;33m,\u001b[0m \u001b[0maxis\u001b[0m\u001b[1;33m=\u001b[0m\u001b[0maxis\u001b[0m\u001b[1;33m)\u001b[0m\u001b[1;33m\u001b[0m\u001b[0m\n\u001b[0m\u001b[0;32m   1739\u001b[0m \u001b[1;33m\u001b[0m\u001b[0m\n\u001b[0;32m   1740\u001b[0m         \u001b[1;31m# a single integer\u001b[0m\u001b[1;33m\u001b[0m\u001b[1;33m\u001b[0m\u001b[0m\n",
      "\u001b[1;32mc:\\python36\\lib\\site-packages\\pandas\\core\\indexing.py\u001b[0m in \u001b[0;36m_get_list_axis\u001b[1;34m(self, key, axis)\u001b[0m\n\u001b[0;32m   1716\u001b[0m         \u001b[1;32mexcept\u001b[0m \u001b[0mIndexError\u001b[0m\u001b[1;33m:\u001b[0m\u001b[1;33m\u001b[0m\u001b[0m\n\u001b[0;32m   1717\u001b[0m             \u001b[1;31m# re-raise with different error message\u001b[0m\u001b[1;33m\u001b[0m\u001b[1;33m\u001b[0m\u001b[0m\n\u001b[1;32m-> 1718\u001b[1;33m             \u001b[1;32mraise\u001b[0m \u001b[0mIndexError\u001b[0m\u001b[1;33m(\u001b[0m\u001b[1;34m\"positional indexers are out-of-bounds\"\u001b[0m\u001b[1;33m)\u001b[0m\u001b[1;33m\u001b[0m\u001b[0m\n\u001b[0m\u001b[0;32m   1719\u001b[0m \u001b[1;33m\u001b[0m\u001b[0m\n\u001b[0;32m   1720\u001b[0m     \u001b[1;32mdef\u001b[0m \u001b[0m_getitem_axis\u001b[0m\u001b[1;33m(\u001b[0m\u001b[0mself\u001b[0m\u001b[1;33m,\u001b[0m \u001b[0mkey\u001b[0m\u001b[1;33m,\u001b[0m \u001b[0maxis\u001b[0m\u001b[1;33m=\u001b[0m\u001b[1;36m0\u001b[0m\u001b[1;33m)\u001b[0m\u001b[1;33m:\u001b[0m\u001b[1;33m\u001b[0m\u001b[0m\n",
      "\u001b[1;31mIndexError\u001b[0m: positional indexers are out-of-bounds"
     ]
    }
   ],
   "source": [
    "# 에러 발생\n",
    "# 인덱스 4가 없기 때문\n",
    "s.iloc[[0, 2, 1, 4]] "
   ]
  },
  {
   "cell_type": "markdown",
   "metadata": {},
   "source": [
    "* **index를 기준으로 더하기**"
   ]
  },
  {
   "cell_type": "code",
   "execution_count": 90,
   "metadata": {},
   "outputs": [
    {
     "name": "stdout",
     "output_type": "stream",
     "text": [
      "a    1\n",
      "b    2\n",
      "c    3\n",
      "d    4\n",
      "dtype: int64\n"
     ]
    }
   ],
   "source": [
    "s1 = pd.Series([1, 2, 3, 4], index=['a', 'b', 'c', 'd'])\n",
    "print(s1)"
   ]
  },
  {
   "cell_type": "code",
   "execution_count": 91,
   "metadata": {},
   "outputs": [
    {
     "data": {
      "text/plain": [
       "d    4\n",
       "c    3\n",
       "b    2\n",
       "a    1\n",
       "dtype: int64"
      ]
     },
     "execution_count": 91,
     "metadata": {},
     "output_type": "execute_result"
    }
   ],
   "source": [
    "s2 = pd.Series([4, 3, 2, 1], index=['d', 'c', 'b', 'a'])\n",
    "s2"
   ]
  },
  {
   "cell_type": "code",
   "execution_count": 92,
   "metadata": {},
   "outputs": [
    {
     "name": "stdout",
     "output_type": "stream",
     "text": [
      "a    2\n",
      "b    4\n",
      "c    6\n",
      "d    8\n",
      "dtype: int64\n"
     ]
    }
   ],
   "source": [
    "print(s1 + s2)\n",
    "\n",
    "# 같은 인덱스의 값끼리 더해지게 됨\n",
    "# 위와 아래의 길이가 다르면 NaN 반환"
   ]
  },
  {
   "cell_type": "markdown",
   "metadata": {},
   "source": [
    "* numpy와 비교\n",
    " - index 지정이 불가한 numpy는 0-based index로 연산"
   ]
  },
  {
   "cell_type": "code",
   "execution_count": 93,
   "metadata": {},
   "outputs": [
    {
     "data": {
      "text/plain": [
       "array([5, 5, 5, 5])"
      ]
     },
     "execution_count": 93,
     "metadata": {},
     "output_type": "execute_result"
    }
   ],
   "source": [
    "a1 = np.array([1, 2, 3, 4])\n",
    "a2 = np.array([4, 3, 2, 1])\n",
    "a1 + a2"
   ]
  },
  {
   "cell_type": "markdown",
   "metadata": {},
   "source": [
    "* **산술연산**\n",
    " - Series의 경우에도 스칼라와의 연산은 각 원소별로 스칼라와의 연산이 적용\n",
    " - Series와의 연산은 각 인덱스에 맞는 값끼리 연산이 적용\n",
    "   - 이때, 인덱스의 pair가 맞지 않으면, 결과는 NaN "
   ]
  },
  {
   "cell_type": "code",
   "execution_count": 95,
   "metadata": {},
   "outputs": [
    {
     "name": "stdout",
     "output_type": "stream",
     "text": [
      "a    1\n",
      "b    2\n",
      "c    3\n",
      "d    4\n",
      "dtype: int64\n"
     ]
    }
   ],
   "source": [
    "print(s1)"
   ]
  },
  {
   "cell_type": "code",
   "execution_count": 96,
   "metadata": {},
   "outputs": [
    {
     "name": "stdout",
     "output_type": "stream",
     "text": [
      "a     1\n",
      "b     4\n",
      "c     9\n",
      "d    16\n",
      "dtype: int64\n"
     ]
    }
   ],
   "source": [
    "print(s1 ** 2)"
   ]
  },
  {
   "cell_type": "code",
   "execution_count": 101,
   "metadata": {},
   "outputs": [
    {
     "data": {
      "text/plain": [
       "1.0"
      ]
     },
     "execution_count": 101,
     "metadata": {},
     "output_type": "execute_result"
    }
   ],
   "source": [
    "1**np.nan"
   ]
  },
  {
   "cell_type": "code",
   "execution_count": 105,
   "metadata": {
    "scrolled": false
   },
   "outputs": [
    {
     "name": "stdout",
     "output_type": "stream",
     "text": [
      "a    2\n",
      "b    2\n",
      "c    2\n",
      "d    2\n",
      "dtype: int64\n",
      "a     1\n",
      "b     4\n",
      "c     9\n",
      "d    16\n",
      "dtype: int64\n"
     ]
    }
   ],
   "source": [
    "exp = pd.Series(2, s1.index)\n",
    "print(exp)\n",
    "print(s1 ** exp)"
   ]
  },
  {
   "cell_type": "markdown",
   "metadata": {},
   "source": [
    "* **index pair가 안맞는 경우**\n",
    " - 해당 index에 대해선 NaN 값 생성"
   ]
  },
  {
   "cell_type": "code",
   "execution_count": 115,
   "metadata": {},
   "outputs": [
    {
     "name": "stdout",
     "output_type": "stream",
     "text": [
      "a     NaN\n",
      "b     8.0\n",
      "c    10.0\n",
      "d    14.0\n",
      "e     NaN\n",
      "dtype: float64\n"
     ]
    }
   ],
   "source": [
    "s1 = pd.Series({'a': 1, 'b': 2, 'c': 3, 'd': 5})\n",
    "s2 = pd.Series({'b': 6, 'c': 7, 'd': 9, 'e': 10})\n",
    "\n",
    "print(s1 + s2)"
   ]
  },
  {
   "cell_type": "markdown",
   "metadata": {},
   "source": [
    " * **NaN (Not a Number)**\n",
    "  - numpy와 비교"
   ]
  },
  {
   "cell_type": "code",
   "execution_count": 117,
   "metadata": {},
   "outputs": [
    {
     "data": {
      "text/plain": [
       "(3.0, 3.0)"
      ]
     },
     "execution_count": 117,
     "metadata": {},
     "output_type": "execute_result"
    }
   ],
   "source": [
    "nda = np.array([1, 2, 3, 4, 5])\n",
    "\n",
    "# 일반적으로 np 모듈의 함수나 Series혹은 DataFrame의 멤버함수 중 하나를 사용\n",
    "nda.mean(), np.mean(nda)\n",
    "\n",
    "#numpy는 수치연산. 따라서 NaN은 연산 불가"
   ]
  },
  {
   "cell_type": "code",
   "execution_count": 108,
   "metadata": {},
   "outputs": [
    {
     "data": {
      "text/plain": [
       "nan"
      ]
     },
     "execution_count": 108,
     "metadata": {},
     "output_type": "execute_result"
    }
   ],
   "source": [
    "# NaN이 있는 경우, 연산 불가능\n",
    "nda = np.array([1, 2, 3, 4, np.NaN])\n",
    "nda.mean()"
   ]
  },
  {
   "cell_type": "code",
   "execution_count": 120,
   "metadata": {},
   "outputs": [
    {
     "name": "stdout",
     "output_type": "stream",
     "text": [
      "2.5\n",
      "nan\n"
     ]
    }
   ],
   "source": [
    "# Series는 NaN을 무시하고 연산\n",
    "s = pd.Series([1, 2, 3, 4, np.NaN])\n",
    "print(s.mean())\n",
    "print(s.mean(skipna=False))\n",
    "\n",
    "#기본적으로 skipna가 True임"
   ]
  },
  {
   "cell_type": "markdown",
   "metadata": {},
   "source": [
    " * **Boolean selection**\n",
    "  - boolean Series가 []와 함께 사용되면 True 값에 해당하는 값만 새로 반환되는 Series객체에 포함됨"
   ]
  },
  {
   "cell_type": "code",
   "execution_count": 109,
   "metadata": {},
   "outputs": [
    {
     "data": {
      "text/plain": [
       "0    1\n",
       "1    2\n",
       "2    3\n",
       "3    4\n",
       "4    5\n",
       "5    6\n",
       "6    7\n",
       "7    8\n",
       "8    9\n",
       "dtype: int32"
      ]
     },
     "execution_count": 109,
     "metadata": {},
     "output_type": "execute_result"
    }
   ],
   "source": [
    "s = pd.Series(np.arange(1, 10))\n",
    "s"
   ]
  },
  {
   "cell_type": "code",
   "execution_count": 110,
   "metadata": {},
   "outputs": [
    {
     "name": "stdout",
     "output_type": "stream",
     "text": [
      "0    False\n",
      "1    False\n",
      "2    False\n",
      "3    False\n",
      "4    False\n",
      "5     True\n",
      "6     True\n",
      "7     True\n",
      "8     True\n",
      "dtype: bool\n"
     ]
    }
   ],
   "source": [
    "my_logic = s > 5\n",
    "print(my_logic)\n",
    "\n",
    "# T / F로 나옴"
   ]
  },
  {
   "cell_type": "code",
   "execution_count": 111,
   "metadata": {},
   "outputs": [
    {
     "name": "stdout",
     "output_type": "stream",
     "text": [
      "5    6\n",
      "6    7\n",
      "7    8\n",
      "8    9\n",
      "dtype: int32\n"
     ]
    }
   ],
   "source": [
    "print(s[my_logic])\n",
    "\n",
    "#이렇게 하면 True인 것만 출력함. 굉장히 중요함. for문을 사용하지 않고 위와 같이 명령함"
   ]
  },
  {
   "cell_type": "code",
   "execution_count": 112,
   "metadata": {},
   "outputs": [
    {
     "name": "stdout",
     "output_type": "stream",
     "text": [
      "5    6\n",
      "6    7\n",
      "7    8\n",
      "8    9\n",
      "dtype: int32\n"
     ]
    }
   ],
   "source": [
    "# 한번에!\n",
    "print(s[s > 5])"
   ]
  },
  {
   "cell_type": "code",
   "execution_count": 114,
   "metadata": {},
   "outputs": [
    {
     "name": "stdout",
     "output_type": "stream",
     "text": [
      "5    6\n",
      "6    7\n",
      "dtype: int32\n"
     ]
    }
   ],
   "source": [
    "#print s > 5 and s < 8\n",
    "#print s[s > 5 and s < 8]\n",
    "print(s[(s > 5) & (s < 8)]) # & and , | or"
   ]
  },
  {
   "cell_type": "markdown",
   "metadata": {},
   "source": [
    "* 연습문제) 아래 연산의 각가의 결과는?"
   ]
  },
  {
   "cell_type": "code",
   "execution_count": 129,
   "metadata": {},
   "outputs": [
    {
     "name": "stdout",
     "output_type": "stream",
     "text": [
      "24\n",
      "3\n"
     ]
    }
   ],
   "source": [
    "print(s[s >= 7].sum())          #series\n",
    "print((s >= 7).sum())           #boolean\n",
    "\n",
    "#왜 이렇게 나오는지....?"
   ]
  },
  {
   "cell_type": "markdown",
   "metadata": {},
   "source": [
    "* **Series 값 변경**\n",
    "  - 인덱스를 이용하여 변경  \n"
   ]
  },
  {
   "cell_type": "code",
   "execution_count": 5,
   "metadata": {},
   "outputs": [
    {
     "name": "stdout",
     "output_type": "stream",
     "text": [
      "a       1\n",
      "b      10\n",
      "c     100\n",
      "d    1000\n",
      "dtype: int64\n",
      "a        1\n",
      "b       10\n",
      "c      100\n",
      "d    10000\n",
      "dtype: int64\n"
     ]
    }
   ],
   "source": [
    "s = pd.Series([1, 10, 100], index = ['a', 'b', 'c'])\n",
    "\n",
    "s['d'] = 1000\n",
    "print(s)\n",
    "\n",
    "s['d'] = 10000\n",
    "print(s)\n",
    "\n",
    "\n",
    "# d가 없는 경우는 만들어서 출력하고, 이미 있으면 그 위로 덮어써서 출력함."
   ]
  },
  {
   "cell_type": "code",
   "execution_count": 6,
   "metadata": {},
   "outputs": [
    {
     "name": "stdout",
     "output_type": "stream",
     "text": [
      "b       10\n",
      "c      100\n",
      "d    10000\n",
      "dtype: int64\n"
     ]
    }
   ],
   "source": [
    "del s['a']\n",
    "print(s)"
   ]
  },
  {
   "cell_type": "markdown",
   "metadata": {},
   "source": [
    "* **Slicing**\n",
    " - 리스트, ndarray와 동일하게 적용"
   ]
  },
  {
   "cell_type": "code",
   "execution_count": 7,
   "metadata": {},
   "outputs": [
    {
     "data": {
      "text/plain": [
       "10000    1\n",
       "10       1\n",
       "100      1\n",
       "dtype: int64"
      ]
     },
     "execution_count": 7,
     "metadata": {},
     "output_type": "execute_result"
    }
   ],
   "source": [
    "s.value_counts()"
   ]
  },
  {
   "cell_type": "code",
   "execution_count": 15,
   "metadata": {
    "scrolled": false
   },
   "outputs": [
    {
     "name": "stdout",
     "output_type": "stream",
     "text": [
      "10    100\n",
      "11    101\n",
      "12    102\n",
      "13    103\n",
      "14    104\n",
      "dtype: int32 \n",
      "\n",
      "10    100\n",
      "11    101\n",
      "12    102\n",
      "13    103\n",
      "14    104\n",
      "dtype: int32 \n",
      "\n",
      "15    105\n",
      "16    106\n",
      "17    107\n",
      "18    108\n",
      "19    109\n",
      "dtype: int32 \n",
      "\n",
      "17    107\n",
      "18    108\n",
      "19    109\n",
      "dtype: int32 \n",
      "\n"
     ]
    }
   ],
   "source": [
    "s = pd.Series(np.arange(100, 110), index=np.arange(10, 20))\n",
    "print(s[0:5], '\\n')\n",
    "print(s[:5], '\\n')\n",
    "print(s[5:], '\\n')\n",
    "print(s[-3:], '\\n')    # <------ 마지막 3개를 출력"
   ]
  },
  {
   "cell_type": "markdown",
   "metadata": {},
   "source": [
    "* **DataFrame**\n",
    "  - Series가 1차원이라면 DataFrame은 2차원으로 확대된 버젼\n",
    "  - Excel spreadsheet이라고 생각하면 이해하기 쉬움\n",
    "  - 기본적으로 2차원이기 때문에 인덱스가 row, column로 구성됨\n",
    "  - Data Analysis, Machine Learning에서 data 변형을 위해 가장 많이 사용"
   ]
  },
  {
   "cell_type": "markdown",
   "metadata": {},
   "source": [
    "- feature = Column(열)의 방향으로 나아가는 것(→)\n",
    "- data = row(행)의 방향으로 나아가는 것(↓)"
   ]
  },
  {
   "cell_type": "markdown",
   "metadata": {},
   "source": [
    "- Cf. (10, ) 는 그냥 벡터, (10, 1)은 열이 1인 행렬"
   ]
  },
  {
   "cell_type": "code",
   "execution_count": 9,
   "metadata": {
    "collapsed": true
   },
   "outputs": [],
   "source": [
    "import pandas as pd"
   ]
  },
  {
   "cell_type": "code",
   "execution_count": 14,
   "metadata": {
    "scrolled": false
   },
   "outputs": [
    {
     "name": "stdout",
     "output_type": "stream",
     "text": [
      "    0   1\n",
      "0  10  11\n",
      "1  20  22\n"
     ]
    }
   ],
   "source": [
    "df = pd.DataFrame(np.array([[10, 11], [20, 22]]))\n",
    "print(df)\n",
    "\n",
    "# 행과 열에 인덱스가 각각 생김"
   ]
  },
  {
   "cell_type": "code",
   "execution_count": 116,
   "metadata": {
    "scrolled": true
   },
   "outputs": [
    {
     "name": "stdout",
     "output_type": "stream",
     "text": [
      "   0\n",
      "0  2\n",
      "1  1\n",
      "2  2\n",
      "3  3\n"
     ]
    },
    {
     "data": {
      "text/plain": [
       "pandas.core.frame.DataFrame"
      ]
     },
     "execution_count": 116,
     "metadata": {},
     "output_type": "execute_result"
    }
   ],
   "source": [
    "df = pd.DataFrame(np.array([2, 1, 2, 3]))\n",
    "print(df)\n",
    "\n",
    "type(df)"
   ]
  },
  {
   "cell_type": "markdown",
   "metadata": {},
   "source": [
    "* **shape**\n",
    " - row, column"
   ]
  },
  {
   "cell_type": "code",
   "execution_count": 11,
   "metadata": {},
   "outputs": [
    {
     "ename": "NameError",
     "evalue": "name 'np' is not defined",
     "output_type": "error",
     "traceback": [
      "\u001b[1;31m---------------------------------------------------------------------------\u001b[0m",
      "\u001b[1;31mNameError\u001b[0m                                 Traceback (most recent call last)",
      "\u001b[1;32m<ipython-input-11-b5d91d74cd1c>\u001b[0m in \u001b[0;36m<module>\u001b[1;34m()\u001b[0m\n\u001b[1;32m----> 1\u001b[1;33m \u001b[0mdf1\u001b[0m \u001b[1;33m=\u001b[0m \u001b[0mpd\u001b[0m\u001b[1;33m.\u001b[0m\u001b[0mDataFrame\u001b[0m\u001b[1;33m(\u001b[0m\u001b[1;33m[\u001b[0m\u001b[0mpd\u001b[0m\u001b[1;33m.\u001b[0m\u001b[0mSeries\u001b[0m\u001b[1;33m(\u001b[0m\u001b[0mnp\u001b[0m\u001b[1;33m.\u001b[0m\u001b[0marange\u001b[0m\u001b[1;33m(\u001b[0m\u001b[1;36m10\u001b[0m\u001b[1;33m,\u001b[0m \u001b[1;36m15\u001b[0m\u001b[1;33m)\u001b[0m\u001b[1;33m)\u001b[0m\u001b[1;33m,\u001b[0m                     \u001b[0mpd\u001b[0m\u001b[1;33m.\u001b[0m\u001b[0mSeries\u001b[0m\u001b[1;33m(\u001b[0m\u001b[0mnp\u001b[0m\u001b[1;33m.\u001b[0m\u001b[0marange\u001b[0m\u001b[1;33m(\u001b[0m\u001b[1;36m20\u001b[0m\u001b[1;33m,\u001b[0m \u001b[1;36m25\u001b[0m\u001b[1;33m)\u001b[0m\u001b[1;33m)\u001b[0m\u001b[1;33m,\u001b[0m                     \u001b[0mpd\u001b[0m\u001b[1;33m.\u001b[0m\u001b[0mSeries\u001b[0m\u001b[1;33m(\u001b[0m\u001b[0mnp\u001b[0m\u001b[1;33m.\u001b[0m\u001b[0marange\u001b[0m\u001b[1;33m(\u001b[0m\u001b[1;36m20\u001b[0m\u001b[1;33m,\u001b[0m \u001b[1;36m25\u001b[0m\u001b[1;33m)\u001b[0m\u001b[1;33m)\u001b[0m\u001b[1;33m]\u001b[0m\u001b[1;33m)\u001b[0m\u001b[1;33m\u001b[0m\u001b[0m\n\u001b[0m\u001b[0;32m      2\u001b[0m \u001b[0mprint\u001b[0m\u001b[1;33m(\u001b[0m\u001b[0mdf1\u001b[0m\u001b[1;33m,\u001b[0m \u001b[1;34m'\\n'\u001b[0m\u001b[1;33m)\u001b[0m\u001b[1;33m\u001b[0m\u001b[0m\n\u001b[0;32m      3\u001b[0m \u001b[0mprint\u001b[0m\u001b[1;33m(\u001b[0m\u001b[0mdf1\u001b[0m\u001b[1;33m.\u001b[0m\u001b[0mshape\u001b[0m\u001b[1;33m)\u001b[0m \u001b[1;31m# dataframe의 경우 항상 크기가 2인 튜플\u001b[0m\u001b[1;33m\u001b[0m\u001b[0m\n",
      "\u001b[1;31mNameError\u001b[0m: name 'np' is not defined"
     ]
    }
   ],
   "source": [
    "df1 = pd.DataFrame([pd.Series(np.arange(10, 15)), \\\n",
    "                    pd.Series(np.arange(20, 25)), \\\n",
    "                    pd.Series(np.arange(20, 25))])\n",
    "print(df1, '\\n')\n",
    "print(df1.shape) # dataframe의 경우 항상 크기가 2인 튜플"
   ]
  },
  {
   "cell_type": "code",
   "execution_count": 123,
   "metadata": {},
   "outputs": [
    {
     "data": {
      "text/html": [
       "<div>\n",
       "<style>\n",
       "    .dataframe thead tr:only-child th {\n",
       "        text-align: right;\n",
       "    }\n",
       "\n",
       "    .dataframe thead th {\n",
       "        text-align: left;\n",
       "    }\n",
       "\n",
       "    .dataframe tbody tr th {\n",
       "        vertical-align: top;\n",
       "    }\n",
       "</style>\n",
       "<table border=\"1\" class=\"dataframe\">\n",
       "  <thead>\n",
       "    <tr style=\"text-align: right;\">\n",
       "      <th></th>\n",
       "      <th>0</th>\n",
       "      <th>1</th>\n",
       "      <th>2</th>\n",
       "      <th>3</th>\n",
       "      <th>4</th>\n",
       "      <th>5</th>\n",
       "      <th>6</th>\n",
       "    </tr>\n",
       "  </thead>\n",
       "  <tbody>\n",
       "    <tr>\n",
       "      <th>0</th>\n",
       "      <td>1</td>\n",
       "      <td>2</td>\n",
       "      <td>3</td>\n",
       "      <td>4</td>\n",
       "      <td>5</td>\n",
       "      <td>6</td>\n",
       "      <td>7</td>\n",
       "    </tr>\n",
       "    <tr>\n",
       "      <th>1</th>\n",
       "      <td>8</td>\n",
       "      <td>9</td>\n",
       "      <td>10</td>\n",
       "      <td>11</td>\n",
       "      <td>12</td>\n",
       "      <td>13</td>\n",
       "      <td>14</td>\n",
       "    </tr>\n",
       "    <tr>\n",
       "      <th>2</th>\n",
       "      <td>15</td>\n",
       "      <td>16</td>\n",
       "      <td>17</td>\n",
       "      <td>18</td>\n",
       "      <td>19</td>\n",
       "      <td>20</td>\n",
       "      <td>21</td>\n",
       "    </tr>\n",
       "  </tbody>\n",
       "</table>\n",
       "</div>"
      ],
      "text/plain": [
       "    0   1   2   3   4   5   6\n",
       "0   1   2   3   4   5   6   7\n",
       "1   8   9  10  11  12  13  14\n",
       "2  15  16  17  18  19  20  21"
      ]
     },
     "execution_count": 123,
     "metadata": {},
     "output_type": "execute_result"
    }
   ],
   "source": [
    "df2 = pd.DataFrame([pd.Series(np.arange(1, 8)), pd.Series(np.arange(8, 15)), pd.Series(np.arange(15, 22))])\n",
    "df2"
   ]
  },
  {
   "cell_type": "markdown",
   "metadata": {},
   "source": [
    "* ** dataframe 살펴보기**\n",
    " - shape           : row, column 개수 확인\n",
    " - head(), tail()  : 데이터 확인\n",
    " - describe()      : 각 column별 간략한 통계정보 \n",
    " - info()          : 각 column별 타입 정보"
   ]
  },
  {
   "cell_type": "code",
   "execution_count": 139,
   "metadata": {},
   "outputs": [
    {
     "data": {
      "text/plain": [
       "(4, 1)"
      ]
     },
     "execution_count": 139,
     "metadata": {},
     "output_type": "execute_result"
    }
   ],
   "source": [
    "df.shape"
   ]
  },
  {
   "cell_type": "code",
   "execution_count": 140,
   "metadata": {},
   "outputs": [
    {
     "data": {
      "text/plain": [
       "4"
      ]
     },
     "execution_count": 140,
     "metadata": {},
     "output_type": "execute_result"
    }
   ],
   "source": [
    "len(df) # row 갯수"
   ]
  },
  {
   "cell_type": "code",
   "execution_count": 141,
   "metadata": {},
   "outputs": [
    {
     "data": {
      "text/html": [
       "<div>\n",
       "<style>\n",
       "    .dataframe thead tr:only-child th {\n",
       "        text-align: right;\n",
       "    }\n",
       "\n",
       "    .dataframe thead th {\n",
       "        text-align: left;\n",
       "    }\n",
       "\n",
       "    .dataframe tbody tr th {\n",
       "        vertical-align: top;\n",
       "    }\n",
       "</style>\n",
       "<table border=\"1\" class=\"dataframe\">\n",
       "  <thead>\n",
       "    <tr style=\"text-align: right;\">\n",
       "      <th></th>\n",
       "      <th>0</th>\n",
       "    </tr>\n",
       "  </thead>\n",
       "  <tbody>\n",
       "    <tr>\n",
       "      <th>0</th>\n",
       "      <td>2</td>\n",
       "    </tr>\n",
       "    <tr>\n",
       "      <th>1</th>\n",
       "      <td>1</td>\n",
       "    </tr>\n",
       "    <tr>\n",
       "      <th>2</th>\n",
       "      <td>2</td>\n",
       "    </tr>\n",
       "    <tr>\n",
       "      <th>3</th>\n",
       "      <td>3</td>\n",
       "    </tr>\n",
       "  </tbody>\n",
       "</table>\n",
       "</div>"
      ],
      "text/plain": [
       "   0\n",
       "0  2\n",
       "1  1\n",
       "2  2\n",
       "3  3"
      ]
     },
     "execution_count": 141,
     "metadata": {},
     "output_type": "execute_result"
    }
   ],
   "source": [
    "df.head()"
   ]
  },
  {
   "cell_type": "code",
   "execution_count": 143,
   "metadata": {},
   "outputs": [
    {
     "data": {
      "text/html": [
       "<div>\n",
       "<style>\n",
       "    .dataframe thead tr:only-child th {\n",
       "        text-align: right;\n",
       "    }\n",
       "\n",
       "    .dataframe thead th {\n",
       "        text-align: left;\n",
       "    }\n",
       "\n",
       "    .dataframe tbody tr th {\n",
       "        vertical-align: top;\n",
       "    }\n",
       "</style>\n",
       "<table border=\"1\" class=\"dataframe\">\n",
       "  <thead>\n",
       "    <tr style=\"text-align: right;\">\n",
       "      <th></th>\n",
       "      <th>0</th>\n",
       "    </tr>\n",
       "  </thead>\n",
       "  <tbody>\n",
       "    <tr>\n",
       "      <th>count</th>\n",
       "      <td>4.000000</td>\n",
       "    </tr>\n",
       "    <tr>\n",
       "      <th>mean</th>\n",
       "      <td>2.000000</td>\n",
       "    </tr>\n",
       "    <tr>\n",
       "      <th>std</th>\n",
       "      <td>0.816497</td>\n",
       "    </tr>\n",
       "    <tr>\n",
       "      <th>min</th>\n",
       "      <td>1.000000</td>\n",
       "    </tr>\n",
       "    <tr>\n",
       "      <th>25%</th>\n",
       "      <td>1.750000</td>\n",
       "    </tr>\n",
       "    <tr>\n",
       "      <th>50%</th>\n",
       "      <td>2.000000</td>\n",
       "    </tr>\n",
       "    <tr>\n",
       "      <th>75%</th>\n",
       "      <td>2.250000</td>\n",
       "    </tr>\n",
       "    <tr>\n",
       "      <th>max</th>\n",
       "      <td>3.000000</td>\n",
       "    </tr>\n",
       "  </tbody>\n",
       "</table>\n",
       "</div>"
      ],
      "text/plain": [
       "              0\n",
       "count  4.000000\n",
       "mean   2.000000\n",
       "std    0.816497\n",
       "min    1.000000\n",
       "25%    1.750000\n",
       "50%    2.000000\n",
       "75%    2.250000\n",
       "max    3.000000"
      ]
     },
     "execution_count": 143,
     "metadata": {},
     "output_type": "execute_result"
    }
   ],
   "source": [
    "df.describe()\n",
    "\n",
    "#행이나 열이 문자열인 경우는 describe를 사용할 수 없음"
   ]
  },
  {
   "cell_type": "code",
   "execution_count": 144,
   "metadata": {},
   "outputs": [
    {
     "name": "stdout",
     "output_type": "stream",
     "text": [
      "<class 'pandas.core.frame.DataFrame'>\n",
      "RangeIndex: 4 entries, 0 to 3\n",
      "Data columns (total 1 columns):\n",
      "0    4 non-null int32\n",
      "dtypes: int32(1)\n",
      "memory usage: 96.0 bytes\n"
     ]
    }
   ],
   "source": [
    "df.info()"
   ]
  },
  {
   "cell_type": "markdown",
   "metadata": {},
   "source": [
    "* **column 초기화**\n",
    " - Series의 경우 1차원 타입이기 때문에 index만 존재\n",
    " - Dataframe의 경우, index와 column을 모두 명시"
   ]
  },
  {
   "cell_type": "code",
   "execution_count": 171,
   "metadata": {},
   "outputs": [
    {
     "name": "stdout",
     "output_type": "stream",
     "text": [
      "     a   b\n",
      "d1  10  20\n",
      "d2  30  40\n"
     ]
    },
    {
     "data": {
      "text/plain": [
       "(Index(['d1', 'd2'], dtype='object'), Index(['a', 'b'], dtype='object'))"
      ]
     },
     "execution_count": 171,
     "metadata": {},
     "output_type": "execute_result"
    }
   ],
   "source": [
    "df = pd.DataFrame(np.array([[10, 20], [30, 40]]), columns = ['a', 'b'], index = ['d1', 'd2'])\n",
    "print(df)\n",
    "df.index, df.columns"
   ]
  },
  {
   "cell_type": "code",
   "execution_count": 172,
   "metadata": {},
   "outputs": [
    {
     "name": "stdout",
     "output_type": "stream",
     "text": [
      "Index(['a', 'b'], dtype='object')\n",
      "    a   b\n",
      "0  10  20\n",
      "1  20  30 \n",
      "\n",
      "   t1  t2\n",
      "0  10  20\n",
      "1  20  30 \n",
      "\n",
      "    t1  t2\n",
      "u1  10  20\n",
      "u2  20  30\n"
     ]
    }
   ],
   "source": [
    "df = pd.DataFrame(np.array([[10, 20], [20, 30]]), columns = ['a', 'b'])\n",
    "print(df.columns)\n",
    "print(df, '\\n')\n",
    "\n",
    "df.columns = ['t1', 't2']\n",
    "print(df, '\\n')\n",
    "\n",
    "df.index = ['u1', 'u2']\n",
    "print(df)"
   ]
  },
  {
   "cell_type": "markdown",
   "metadata": {},
   "source": [
    "* **Series dictionary로 부터 생성**"
   ]
  },
  {
   "cell_type": "code",
   "execution_count": 131,
   "metadata": {},
   "outputs": [
    {
     "name": "stdout",
     "output_type": "stream",
     "text": [
      "   c1  c2\n",
      "0   1   6\n",
      "1   2   7\n",
      "2   3   8\n",
      "3   4   9\n",
      "4   5  10\n"
     ]
    }
   ],
   "source": [
    "s1 = pd.Series(np.arange(1, 6, 1))\n",
    "s2 = pd.Series(np.arange(6, 11, 1))\n",
    "df = pd.DataFrame({'c1': s1, 'c2': s2})\n",
    "\n",
    "print(df)"
   ]
  },
  {
   "cell_type": "markdown",
   "metadata": {},
   "source": [
    "* **csv 데이터로 부터 dataframe 생성**\n",
    "  - 데이터 분석을 위해, dataframe을 생성하는 가장 일반적인 방법\n",
    "  - 데이터 소스로부터 추출된 csv(comma separated values) 파일로부터 생성"
   ]
  },
  {
   "cell_type": "markdown",
   "metadata": {},
   "source": [
    "* 각 제품별 가격에 관한 정보 데이터"
   ]
  },
  {
   "cell_type": "code",
   "execution_count": 132,
   "metadata": {
    "collapsed": true
   },
   "outputs": [],
   "source": [
    "sample_file = 'data/sample.csv'"
   ]
  },
  {
   "cell_type": "code",
   "execution_count": 133,
   "metadata": {},
   "outputs": [
    {
     "data": {
      "text/html": [
       "<div>\n",
       "<style>\n",
       "    .dataframe thead tr:only-child th {\n",
       "        text-align: right;\n",
       "    }\n",
       "\n",
       "    .dataframe thead th {\n",
       "        text-align: left;\n",
       "    }\n",
       "\n",
       "    .dataframe tbody tr th {\n",
       "        vertical-align: top;\n",
       "    }\n",
       "</style>\n",
       "<table border=\"1\" class=\"dataframe\">\n",
       "  <thead>\n",
       "    <tr style=\"text-align: right;\">\n",
       "      <th></th>\n",
       "      <th>Symbol</th>\n",
       "      <th>Name</th>\n",
       "      <th>Sector</th>\n",
       "      <th>Price</th>\n",
       "      <th>Dividend Yield</th>\n",
       "      <th>Price/Earnings</th>\n",
       "      <th>Earnings/Share</th>\n",
       "      <th>Book Value</th>\n",
       "      <th>52 week low</th>\n",
       "      <th>52 week high</th>\n",
       "      <th>Market Cap</th>\n",
       "      <th>EBITDA</th>\n",
       "      <th>Price/Sales</th>\n",
       "      <th>Price/Book</th>\n",
       "      <th>SEC Filings</th>\n",
       "    </tr>\n",
       "  </thead>\n",
       "  <tbody>\n",
       "    <tr>\n",
       "      <th>0</th>\n",
       "      <td>MMM</td>\n",
       "      <td>3M Company</td>\n",
       "      <td>Industrials</td>\n",
       "      <td>177.12</td>\n",
       "      <td>2.53</td>\n",
       "      <td>22.77</td>\n",
       "      <td>7.78</td>\n",
       "      <td>19.34</td>\n",
       "      <td>134.00</td>\n",
       "      <td>177.79</td>\n",
       "      <td>107.43</td>\n",
       "      <td>8.57</td>\n",
       "      <td>3.52</td>\n",
       "      <td>9.04</td>\n",
       "      <td>http://www.sec.gov/cgi-bin/browse-edgar?action...</td>\n",
       "    </tr>\n",
       "    <tr>\n",
       "      <th>1</th>\n",
       "      <td>ABT</td>\n",
       "      <td>Abbott Laboratories</td>\n",
       "      <td>Health Care</td>\n",
       "      <td>41.89</td>\n",
       "      <td>2.55</td>\n",
       "      <td>25.79</td>\n",
       "      <td>1.62</td>\n",
       "      <td>14.10</td>\n",
       "      <td>36.00</td>\n",
       "      <td>51.74</td>\n",
       "      <td>61.54</td>\n",
       "      <td>4.40</td>\n",
       "      <td>2.98</td>\n",
       "      <td>2.93</td>\n",
       "      <td>http://www.sec.gov/cgi-bin/browse-edgar?action...</td>\n",
       "    </tr>\n",
       "    <tr>\n",
       "      <th>2</th>\n",
       "      <td>ABBV</td>\n",
       "      <td>AbbVie</td>\n",
       "      <td>Health Care</td>\n",
       "      <td>64.16</td>\n",
       "      <td>3.60</td>\n",
       "      <td>19.29</td>\n",
       "      <td>3.33</td>\n",
       "      <td>2.87</td>\n",
       "      <td>45.45</td>\n",
       "      <td>71.60</td>\n",
       "      <td>103.77</td>\n",
       "      <td>10.30</td>\n",
       "      <td>4.31</td>\n",
       "      <td>22.09</td>\n",
       "      <td>http://www.sec.gov/cgi-bin/browse-edgar?action...</td>\n",
       "    </tr>\n",
       "  </tbody>\n",
       "</table>\n",
       "</div>"
      ],
      "text/plain": [
       "  Symbol                 Name       Sector   Price  Dividend Yield  \\\n",
       "0    MMM           3M Company  Industrials  177.12            2.53   \n",
       "1    ABT  Abbott Laboratories  Health Care   41.89            2.55   \n",
       "2   ABBV               AbbVie  Health Care   64.16            3.60   \n",
       "\n",
       "   Price/Earnings  Earnings/Share  Book Value  52 week low  52 week high  \\\n",
       "0           22.77            7.78       19.34       134.00        177.79   \n",
       "1           25.79            1.62       14.10        36.00         51.74   \n",
       "2           19.29            3.33        2.87        45.45         71.60   \n",
       "\n",
       "   Market Cap  EBITDA  Price/Sales  Price/Book  \\\n",
       "0      107.43    8.57         3.52        9.04   \n",
       "1       61.54    4.40         2.98        2.93   \n",
       "2      103.77   10.30         4.31       22.09   \n",
       "\n",
       "                                         SEC Filings  \n",
       "0  http://www.sec.gov/cgi-bin/browse-edgar?action...  \n",
       "1  http://www.sec.gov/cgi-bin/browse-edgar?action...  \n",
       "2  http://www.sec.gov/cgi-bin/browse-edgar?action...  "
      ]
     },
     "execution_count": 133,
     "metadata": {},
     "output_type": "execute_result"
    }
   ],
   "source": [
    "sample_df = pd.read_csv(sample_file)\n",
    "sample_df.head(n=3)"
   ]
  },
  {
   "cell_type": "code",
   "execution_count": 134,
   "metadata": {
    "collapsed": true
   },
   "outputs": [
    {
     "data": {
      "text/html": [
       "<div>\n",
       "<style>\n",
       "    .dataframe thead tr:only-child th {\n",
       "        text-align: right;\n",
       "    }\n",
       "\n",
       "    .dataframe thead th {\n",
       "        text-align: left;\n",
       "    }\n",
       "\n",
       "    .dataframe tbody tr th {\n",
       "        vertical-align: top;\n",
       "    }\n",
       "</style>\n",
       "<table border=\"1\" class=\"dataframe\">\n",
       "  <thead>\n",
       "    <tr style=\"text-align: right;\">\n",
       "      <th></th>\n",
       "      <th>Symbol</th>\n",
       "      <th>Name</th>\n",
       "      <th>Sector</th>\n",
       "      <th>Price</th>\n",
       "      <th>Dividend Yield</th>\n",
       "      <th>Price/Earnings</th>\n",
       "      <th>Earnings/Share</th>\n",
       "      <th>Book Value</th>\n",
       "      <th>52 week low</th>\n",
       "      <th>52 week high</th>\n",
       "      <th>Market Cap</th>\n",
       "      <th>EBITDA</th>\n",
       "      <th>Price/Sales</th>\n",
       "      <th>Price/Book</th>\n",
       "      <th>SEC Filings</th>\n",
       "    </tr>\n",
       "  </thead>\n",
       "  <tbody>\n",
       "    <tr>\n",
       "      <th>0</th>\n",
       "      <td>MMM</td>\n",
       "      <td>3M Company</td>\n",
       "      <td>Industrials</td>\n",
       "      <td>177.12</td>\n",
       "      <td>2.53</td>\n",
       "      <td>22.77</td>\n",
       "      <td>7.78</td>\n",
       "      <td>19.34</td>\n",
       "      <td>134.00</td>\n",
       "      <td>177.79</td>\n",
       "      <td>107.43</td>\n",
       "      <td>8.57000</td>\n",
       "      <td>3.52</td>\n",
       "      <td>9.04</td>\n",
       "      <td>http://www.sec.gov/cgi-bin/browse-edgar?action...</td>\n",
       "    </tr>\n",
       "    <tr>\n",
       "      <th>1</th>\n",
       "      <td>ABT</td>\n",
       "      <td>Abbott Laboratories</td>\n",
       "      <td>Health Care</td>\n",
       "      <td>41.89</td>\n",
       "      <td>2.55</td>\n",
       "      <td>25.79</td>\n",
       "      <td>1.62</td>\n",
       "      <td>14.10</td>\n",
       "      <td>36.00</td>\n",
       "      <td>51.74</td>\n",
       "      <td>61.54</td>\n",
       "      <td>4.40000</td>\n",
       "      <td>2.98</td>\n",
       "      <td>2.93</td>\n",
       "      <td>http://www.sec.gov/cgi-bin/browse-edgar?action...</td>\n",
       "    </tr>\n",
       "    <tr>\n",
       "      <th>2</th>\n",
       "      <td>ABBV</td>\n",
       "      <td>AbbVie</td>\n",
       "      <td>Health Care</td>\n",
       "      <td>64.16</td>\n",
       "      <td>3.60</td>\n",
       "      <td>19.29</td>\n",
       "      <td>3.33</td>\n",
       "      <td>2.87</td>\n",
       "      <td>45.45</td>\n",
       "      <td>71.60</td>\n",
       "      <td>103.77</td>\n",
       "      <td>10.30000</td>\n",
       "      <td>4.31</td>\n",
       "      <td>22.09</td>\n",
       "      <td>http://www.sec.gov/cgi-bin/browse-edgar?action...</td>\n",
       "    </tr>\n",
       "    <tr>\n",
       "      <th>3</th>\n",
       "      <td>ACN</td>\n",
       "      <td>Accenture plc</td>\n",
       "      <td>Information Technology</td>\n",
       "      <td>115.11</td>\n",
       "      <td>1.94</td>\n",
       "      <td>19.45</td>\n",
       "      <td>5.92</td>\n",
       "      <td>11.45</td>\n",
       "      <td>88.43</td>\n",
       "      <td>120.78</td>\n",
       "      <td>71.66</td>\n",
       "      <td>5.42000</td>\n",
       "      <td>2.17</td>\n",
       "      <td>9.84</td>\n",
       "      <td>http://www.sec.gov/cgi-bin/browse-edgar?action...</td>\n",
       "    </tr>\n",
       "    <tr>\n",
       "      <th>4</th>\n",
       "      <td>ATVI</td>\n",
       "      <td>Activision Blizzard</td>\n",
       "      <td>Information Technology</td>\n",
       "      <td>41.29</td>\n",
       "      <td>0.64</td>\n",
       "      <td>37.06</td>\n",
       "      <td>1.11</td>\n",
       "      <td>11.31</td>\n",
       "      <td>24.04</td>\n",
       "      <td>41.32</td>\n",
       "      <td>30.48</td>\n",
       "      <td>1.59000</td>\n",
       "      <td>6.16</td>\n",
       "      <td>3.57</td>\n",
       "      <td>http://www.sec.gov/cgi-bin/browse-edgar?action...</td>\n",
       "    </tr>\n",
       "    <tr>\n",
       "      <th>5</th>\n",
       "      <td>AYI</td>\n",
       "      <td>Acuity Brands Inc</td>\n",
       "      <td>Industrials</td>\n",
       "      <td>264.62</td>\n",
       "      <td>0.21</td>\n",
       "      <td>43.23</td>\n",
       "      <td>6.12</td>\n",
       "      <td>36.50</td>\n",
       "      <td>168.33</td>\n",
       "      <td>265.10</td>\n",
       "      <td>11.51</td>\n",
       "      <td>0.53650</td>\n",
       "      <td>3.53</td>\n",
       "      <td>6.95</td>\n",
       "      <td>http://www.sec.gov/cgi-bin/browse-edgar?action...</td>\n",
       "    </tr>\n",
       "    <tr>\n",
       "      <th>6</th>\n",
       "      <td>ADBE</td>\n",
       "      <td>Adobe Systems Inc</td>\n",
       "      <td>Information Technology</td>\n",
       "      <td>96.79</td>\n",
       "      <td>0.00</td>\n",
       "      <td>54.68</td>\n",
       "      <td>1.77</td>\n",
       "      <td>14.53</td>\n",
       "      <td>71.27</td>\n",
       "      <td>100.56</td>\n",
       "      <td>48.23</td>\n",
       "      <td>1.53000</td>\n",
       "      <td>8.93</td>\n",
       "      <td>6.55</td>\n",
       "      <td>http://www.sec.gov/cgi-bin/browse-edgar?action...</td>\n",
       "    </tr>\n",
       "    <tr>\n",
       "      <th>7</th>\n",
       "      <td>AAP</td>\n",
       "      <td>Advance Auto Parts</td>\n",
       "      <td>Consumer Discretionary</td>\n",
       "      <td>164.85</td>\n",
       "      <td>0.15</td>\n",
       "      <td>25.20</td>\n",
       "      <td>6.40</td>\n",
       "      <td>35.82</td>\n",
       "      <td>131.59</td>\n",
       "      <td>201.24</td>\n",
       "      <td>12.10</td>\n",
       "      <td>1.24000</td>\n",
       "      <td>1.22</td>\n",
       "      <td>4.50</td>\n",
       "      <td>http://www.sec.gov/cgi-bin/browse-edgar?action...</td>\n",
       "    </tr>\n",
       "    <tr>\n",
       "      <th>8</th>\n",
       "      <td>AES</td>\n",
       "      <td>AES Corp</td>\n",
       "      <td>Utilities</td>\n",
       "      <td>12.32</td>\n",
       "      <td>3.60</td>\n",
       "      <td>28.99</td>\n",
       "      <td>0.43</td>\n",
       "      <td>4.86</td>\n",
       "      <td>8.22</td>\n",
       "      <td>13.38</td>\n",
       "      <td>8.12</td>\n",
       "      <td>3.57000</td>\n",
       "      <td>0.55</td>\n",
       "      <td>2.49</td>\n",
       "      <td>http://www.sec.gov/cgi-bin/browse-edgar?action...</td>\n",
       "    </tr>\n",
       "    <tr>\n",
       "      <th>9</th>\n",
       "      <td>AET</td>\n",
       "      <td>Aetna Inc</td>\n",
       "      <td>Health Care</td>\n",
       "      <td>117.00</td>\n",
       "      <td>0.87</td>\n",
       "      <td>17.62</td>\n",
       "      <td>6.64</td>\n",
       "      <td>47.96</td>\n",
       "      <td>92.42</td>\n",
       "      <td>125.47</td>\n",
       "      <td>41.02</td>\n",
       "      <td>5.40000</td>\n",
       "      <td>0.67</td>\n",
       "      <td>2.41</td>\n",
       "      <td>http://www.sec.gov/cgi-bin/browse-edgar?action...</td>\n",
       "    </tr>\n",
       "    <tr>\n",
       "      <th>10</th>\n",
       "      <td>AMG</td>\n",
       "      <td>Affiliated Managers Group Inc</td>\n",
       "      <td>Financials</td>\n",
       "      <td>138.85</td>\n",
       "      <td>NaN</td>\n",
       "      <td>15.55</td>\n",
       "      <td>8.93</td>\n",
       "      <td>53.30</td>\n",
       "      <td>115.97</td>\n",
       "      <td>220.72</td>\n",
       "      <td>7.47</td>\n",
       "      <td>0.91600</td>\n",
       "      <td>3.02</td>\n",
       "      <td>2.52</td>\n",
       "      <td>http://www.sec.gov/cgi-bin/browse-edgar?action...</td>\n",
       "    </tr>\n",
       "    <tr>\n",
       "      <th>11</th>\n",
       "      <td>AFL</td>\n",
       "      <td>AFLAC Inc</td>\n",
       "      <td>Financials</td>\n",
       "      <td>72.49</td>\n",
       "      <td>2.27</td>\n",
       "      <td>11.93</td>\n",
       "      <td>6.07</td>\n",
       "      <td>48.22</td>\n",
       "      <td>51.41</td>\n",
       "      <td>72.81</td>\n",
       "      <td>30.01</td>\n",
       "      <td>4.49000</td>\n",
       "      <td>1.40</td>\n",
       "      <td>1.48</td>\n",
       "      <td>http://www.sec.gov/cgi-bin/browse-edgar?action...</td>\n",
       "    </tr>\n",
       "    <tr>\n",
       "      <th>12</th>\n",
       "      <td>A</td>\n",
       "      <td>Agilent Technologies Inc</td>\n",
       "      <td>Health Care</td>\n",
       "      <td>45.48</td>\n",
       "      <td>1.04</td>\n",
       "      <td>32.35</td>\n",
       "      <td>1.38</td>\n",
       "      <td>12.79</td>\n",
       "      <td>33.12</td>\n",
       "      <td>46.68</td>\n",
       "      <td>14.80</td>\n",
       "      <td>0.84400</td>\n",
       "      <td>3.53</td>\n",
       "      <td>3.47</td>\n",
       "      <td>http://www.sec.gov/cgi-bin/browse-edgar?action...</td>\n",
       "    </tr>\n",
       "    <tr>\n",
       "      <th>13</th>\n",
       "      <td>APD</td>\n",
       "      <td>Air Products &amp; Chemicals Inc</td>\n",
       "      <td>Materials</td>\n",
       "      <td>144.35</td>\n",
       "      <td>2.46</td>\n",
       "      <td>56.99</td>\n",
       "      <td>2.53</td>\n",
       "      <td>32.01</td>\n",
       "      <td>114.64</td>\n",
       "      <td>152.16</td>\n",
       "      <td>31.19</td>\n",
       "      <td>2.98000</td>\n",
       "      <td>3.16</td>\n",
       "      <td>4.36</td>\n",
       "      <td>http://www.sec.gov/cgi-bin/browse-edgar?action...</td>\n",
       "    </tr>\n",
       "    <tr>\n",
       "      <th>14</th>\n",
       "      <td>AKAM</td>\n",
       "      <td>Akamai Technologies Inc</td>\n",
       "      <td>Information Technology</td>\n",
       "      <td>56.38</td>\n",
       "      <td>NaN</td>\n",
       "      <td>31.85</td>\n",
       "      <td>1.77</td>\n",
       "      <td>17.69</td>\n",
       "      <td>39.43</td>\n",
       "      <td>76.98</td>\n",
       "      <td>9.90</td>\n",
       "      <td>0.69810</td>\n",
       "      <td>4.31</td>\n",
       "      <td>3.11</td>\n",
       "      <td>http://www.sec.gov/cgi-bin/browse-edgar?action...</td>\n",
       "    </tr>\n",
       "    <tr>\n",
       "      <th>15</th>\n",
       "      <td>ALK</td>\n",
       "      <td>Alaska Air Group Inc</td>\n",
       "      <td>Industrials</td>\n",
       "      <td>59.86</td>\n",
       "      <td>1.88</td>\n",
       "      <td>8.65</td>\n",
       "      <td>6.92</td>\n",
       "      <td>19.81</td>\n",
       "      <td>54.51</td>\n",
       "      <td>87.17</td>\n",
       "      <td>7.38</td>\n",
       "      <td>1.72000</td>\n",
       "      <td>1.29</td>\n",
       "      <td>3.00</td>\n",
       "      <td>http://www.sec.gov/cgi-bin/browse-edgar?action...</td>\n",
       "    </tr>\n",
       "    <tr>\n",
       "      <th>16</th>\n",
       "      <td>ALB</td>\n",
       "      <td>Albemarle Corp</td>\n",
       "      <td>Materials</td>\n",
       "      <td>83.58</td>\n",
       "      <td>1.57</td>\n",
       "      <td>18.13</td>\n",
       "      <td>4.61</td>\n",
       "      <td>31.53</td>\n",
       "      <td>41.37</td>\n",
       "      <td>84.99</td>\n",
       "      <td>9.39</td>\n",
       "      <td>0.95275</td>\n",
       "      <td>2.51</td>\n",
       "      <td>2.58</td>\n",
       "      <td>http://www.sec.gov/cgi-bin/browse-edgar?action...</td>\n",
       "    </tr>\n",
       "    <tr>\n",
       "      <th>17</th>\n",
       "      <td>AA</td>\n",
       "      <td>Alcoa Inc</td>\n",
       "      <td>Materials</td>\n",
       "      <td>9.82</td>\n",
       "      <td>1.31</td>\n",
       "      <td>NaN</td>\n",
       "      <td>-0.44</td>\n",
       "      <td>9.25</td>\n",
       "      <td>6.14</td>\n",
       "      <td>11.50</td>\n",
       "      <td>12.91</td>\n",
       "      <td>2.67000</td>\n",
       "      <td>0.57</td>\n",
       "      <td>1.01</td>\n",
       "      <td>http://www.sec.gov/cgi-bin/browse-edgar?action...</td>\n",
       "    </tr>\n",
       "    <tr>\n",
       "      <th>18</th>\n",
       "      <td>ALXN</td>\n",
       "      <td>Alexion Pharmaceuticals</td>\n",
       "      <td>Health Care</td>\n",
       "      <td>124.42</td>\n",
       "      <td>NaN</td>\n",
       "      <td>188.23</td>\n",
       "      <td>0.66</td>\n",
       "      <td>35.96</td>\n",
       "      <td>110.56</td>\n",
       "      <td>208.88</td>\n",
       "      <td>27.87</td>\n",
       "      <td>0.97872</td>\n",
       "      <td>10.22</td>\n",
       "      <td>3.43</td>\n",
       "      <td>http://www.sec.gov/cgi-bin/browse-edgar?action...</td>\n",
       "    </tr>\n",
       "    <tr>\n",
       "      <th>19</th>\n",
       "      <td>ALLE</td>\n",
       "      <td>Allegion</td>\n",
       "      <td>Industrials</td>\n",
       "      <td>69.74</td>\n",
       "      <td>0.70</td>\n",
       "      <td>40.59</td>\n",
       "      <td>1.72</td>\n",
       "      <td>0.77</td>\n",
       "      <td>52.95</td>\n",
       "      <td>69.95</td>\n",
       "      <td>6.68</td>\n",
       "      <td>0.45060</td>\n",
       "      <td>3.11</td>\n",
       "      <td>89.14</td>\n",
       "      <td>http://www.sec.gov/cgi-bin/browse-edgar?action...</td>\n",
       "    </tr>\n",
       "    <tr>\n",
       "      <th>20</th>\n",
       "      <td>AGN</td>\n",
       "      <td>Allergan plc</td>\n",
       "      <td>Health Care</td>\n",
       "      <td>240.59</td>\n",
       "      <td>0.10</td>\n",
       "      <td>21.53</td>\n",
       "      <td>11.18</td>\n",
       "      <td>183.41</td>\n",
       "      <td>195.50</td>\n",
       "      <td>340.34</td>\n",
       "      <td>95.17</td>\n",
       "      <td>6.57000</td>\n",
       "      <td>5.77</td>\n",
       "      <td>1.30</td>\n",
       "      <td>http://www.sec.gov/cgi-bin/browse-edgar?action...</td>\n",
       "    </tr>\n",
       "    <tr>\n",
       "      <th>21</th>\n",
       "      <td>ADS</td>\n",
       "      <td>Alliance Data Systems</td>\n",
       "      <td>Information Technology</td>\n",
       "      <td>200.96</td>\n",
       "      <td>NaN</td>\n",
       "      <td>22.65</td>\n",
       "      <td>8.87</td>\n",
       "      <td>29.51</td>\n",
       "      <td>176.63</td>\n",
       "      <td>307.78</td>\n",
       "      <td>11.84</td>\n",
       "      <td>1.52000</td>\n",
       "      <td>1.78</td>\n",
       "      <td>6.68</td>\n",
       "      <td>http://www.sec.gov/cgi-bin/browse-edgar?action...</td>\n",
       "    </tr>\n",
       "    <tr>\n",
       "      <th>22</th>\n",
       "      <td>LNT</td>\n",
       "      <td>Alliant Energy Corp</td>\n",
       "      <td>Utilities</td>\n",
       "      <td>40.55</td>\n",
       "      <td>3.18</td>\n",
       "      <td>24.30</td>\n",
       "      <td>3.34</td>\n",
       "      <td>16.58</td>\n",
       "      <td>27.14</td>\n",
       "      <td>40.99</td>\n",
       "      <td>9.21</td>\n",
       "      <td>0.99400</td>\n",
       "      <td>2.83</td>\n",
       "      <td>2.40</td>\n",
       "      <td>http://www.sec.gov/cgi-bin/browse-edgar?action...</td>\n",
       "    </tr>\n",
       "    <tr>\n",
       "      <th>23</th>\n",
       "      <td>ALL</td>\n",
       "      <td>Allstate Corp</td>\n",
       "      <td>Financials</td>\n",
       "      <td>69.66</td>\n",
       "      <td>1.95</td>\n",
       "      <td>17.00</td>\n",
       "      <td>4.10</td>\n",
       "      <td>49.58</td>\n",
       "      <td>54.12</td>\n",
       "      <td>69.95</td>\n",
       "      <td>26.08</td>\n",
       "      <td>3.26000</td>\n",
       "      <td>0.73</td>\n",
       "      <td>1.39</td>\n",
       "      <td>http://www.sec.gov/cgi-bin/browse-edgar?action...</td>\n",
       "    </tr>\n",
       "    <tr>\n",
       "      <th>24</th>\n",
       "      <td>GOOGL</td>\n",
       "      <td>Alphabet Inc Class A</td>\n",
       "      <td>Information Technology</td>\n",
       "      <td>717.78</td>\n",
       "      <td>NaN</td>\n",
       "      <td>29.21</td>\n",
       "      <td>24.58</td>\n",
       "      <td>179.92</td>\n",
       "      <td>558.70</td>\n",
       "      <td>810.35</td>\n",
       "      <td>492.80</td>\n",
       "      <td>25.51000</td>\n",
       "      <td>6.23</td>\n",
       "      <td>3.93</td>\n",
       "      <td>http://www.sec.gov/cgi-bin/browse-edgar?action...</td>\n",
       "    </tr>\n",
       "    <tr>\n",
       "      <th>25</th>\n",
       "      <td>GOOG</td>\n",
       "      <td>Alphabet Inc Class C</td>\n",
       "      <td>Information Technology</td>\n",
       "      <td>705.63</td>\n",
       "      <td>NaN</td>\n",
       "      <td>28.71</td>\n",
       "      <td>24.58</td>\n",
       "      <td>179.92</td>\n",
       "      <td>532.40</td>\n",
       "      <td>789.87</td>\n",
       "      <td>484.45</td>\n",
       "      <td>25.51000</td>\n",
       "      <td>6.12</td>\n",
       "      <td>3.86</td>\n",
       "      <td>http://www.sec.gov/cgi-bin/browse-edgar?action...</td>\n",
       "    </tr>\n",
       "    <tr>\n",
       "      <th>26</th>\n",
       "      <td>MO</td>\n",
       "      <td>Altria Group Inc</td>\n",
       "      <td>Consumer Staples</td>\n",
       "      <td>69.83</td>\n",
       "      <td>3.26</td>\n",
       "      <td>25.20</td>\n",
       "      <td>2.77</td>\n",
       "      <td>1.40</td>\n",
       "      <td>47.41</td>\n",
       "      <td>70.15</td>\n",
       "      <td>136.59</td>\n",
       "      <td>9.06000</td>\n",
       "      <td>7.09</td>\n",
       "      <td>49.39</td>\n",
       "      <td>http://www.sec.gov/cgi-bin/browse-edgar?action...</td>\n",
       "    </tr>\n",
       "    <tr>\n",
       "      <th>27</th>\n",
       "      <td>AMZN</td>\n",
       "      <td>Amazon.com Inc</td>\n",
       "      <td>Consumer Discretionary</td>\n",
       "      <td>745.81</td>\n",
       "      <td>NaN</td>\n",
       "      <td>307.42</td>\n",
       "      <td>2.43</td>\n",
       "      <td>31.26</td>\n",
       "      <td>447.54</td>\n",
       "      <td>746.10</td>\n",
       "      <td>351.89</td>\n",
       "      <td>9.09000</td>\n",
       "      <td>3.06</td>\n",
       "      <td>23.56</td>\n",
       "      <td>http://www.sec.gov/cgi-bin/browse-edgar?action...</td>\n",
       "    </tr>\n",
       "    <tr>\n",
       "      <th>28</th>\n",
       "      <td>AEE</td>\n",
       "      <td>Ameren Corp</td>\n",
       "      <td>Utilities</td>\n",
       "      <td>53.15</td>\n",
       "      <td>3.16</td>\n",
       "      <td>20.62</td>\n",
       "      <td>2.58</td>\n",
       "      <td>28.31</td>\n",
       "      <td>37.92</td>\n",
       "      <td>54.08</td>\n",
       "      <td>12.90</td>\n",
       "      <td>2.18000</td>\n",
       "      <td>2.21</td>\n",
       "      <td>1.86</td>\n",
       "      <td>http://www.sec.gov/cgi-bin/browse-edgar?action...</td>\n",
       "    </tr>\n",
       "    <tr>\n",
       "      <th>29</th>\n",
       "      <td>AAL</td>\n",
       "      <td>American Airlines Group</td>\n",
       "      <td>Industrials</td>\n",
       "      <td>30.04</td>\n",
       "      <td>1.41</td>\n",
       "      <td>2.69</td>\n",
       "      <td>11.16</td>\n",
       "      <td>8.04</td>\n",
       "      <td>24.85</td>\n",
       "      <td>47.09</td>\n",
       "      <td>17.37</td>\n",
       "      <td>8.83000</td>\n",
       "      <td>0.42</td>\n",
       "      <td>3.66</td>\n",
       "      <td>http://www.sec.gov/cgi-bin/browse-edgar?action...</td>\n",
       "    </tr>\n",
       "    <tr>\n",
       "      <th>...</th>\n",
       "      <td>...</td>\n",
       "      <td>...</td>\n",
       "      <td>...</td>\n",
       "      <td>...</td>\n",
       "      <td>...</td>\n",
       "      <td>...</td>\n",
       "      <td>...</td>\n",
       "      <td>...</td>\n",
       "      <td>...</td>\n",
       "      <td>...</td>\n",
       "      <td>...</td>\n",
       "      <td>...</td>\n",
       "      <td>...</td>\n",
       "      <td>...</td>\n",
       "      <td>...</td>\n",
       "    </tr>\n",
       "    <tr>\n",
       "      <th>474</th>\n",
       "      <td>V</td>\n",
       "      <td>Visa Inc.</td>\n",
       "      <td>Information Technology</td>\n",
       "      <td>76.42</td>\n",
       "      <td>0.75</td>\n",
       "      <td>26.64</td>\n",
       "      <td>2.87</td>\n",
       "      <td>12.22</td>\n",
       "      <td>60.00</td>\n",
       "      <td>81.73</td>\n",
       "      <td>182.28</td>\n",
       "      <td>9.63000</td>\n",
       "      <td>12.45</td>\n",
       "      <td>6.10</td>\n",
       "      <td>http://www.sec.gov/cgi-bin/browse-edgar?action...</td>\n",
       "    </tr>\n",
       "    <tr>\n",
       "      <th>475</th>\n",
       "      <td>VNO</td>\n",
       "      <td>Vornado Realty Trust</td>\n",
       "      <td>Financials</td>\n",
       "      <td>100.46</td>\n",
       "      <td>2.57</td>\n",
       "      <td>39.61</td>\n",
       "      <td>2.54</td>\n",
       "      <td>27.80</td>\n",
       "      <td>78.91</td>\n",
       "      <td>103.41</td>\n",
       "      <td>18.96</td>\n",
       "      <td>1.22000</td>\n",
       "      <td>7.44</td>\n",
       "      <td>3.52</td>\n",
       "      <td>http://www.sec.gov/cgi-bin/browse-edgar?action...</td>\n",
       "    </tr>\n",
       "    <tr>\n",
       "      <th>476</th>\n",
       "      <td>VMC</td>\n",
       "      <td>Vulcan Materials</td>\n",
       "      <td>Materials</td>\n",
       "      <td>123.61</td>\n",
       "      <td>0.66</td>\n",
       "      <td>60.09</td>\n",
       "      <td>2.06</td>\n",
       "      <td>33.15</td>\n",
       "      <td>78.83</td>\n",
       "      <td>124.28</td>\n",
       "      <td>16.46</td>\n",
       "      <td>0.89797</td>\n",
       "      <td>4.58</td>\n",
       "      <td>3.67</td>\n",
       "      <td>http://www.sec.gov/cgi-bin/browse-edgar?action...</td>\n",
       "    </tr>\n",
       "    <tr>\n",
       "      <th>477</th>\n",
       "      <td>WMT</td>\n",
       "      <td>Wal-Mart Stores</td>\n",
       "      <td>Consumer Staples</td>\n",
       "      <td>73.84</td>\n",
       "      <td>2.72</td>\n",
       "      <td>16.32</td>\n",
       "      <td>4.52</td>\n",
       "      <td>24.06</td>\n",
       "      <td>56.30</td>\n",
       "      <td>74.14</td>\n",
       "      <td>230.13</td>\n",
       "      <td>33.22000</td>\n",
       "      <td>0.47</td>\n",
       "      <td>3.06</td>\n",
       "      <td>http://www.sec.gov/cgi-bin/browse-edgar?action...</td>\n",
       "    </tr>\n",
       "    <tr>\n",
       "      <th>478</th>\n",
       "      <td>WBA</td>\n",
       "      <td>Walgreens Boots Alliance</td>\n",
       "      <td>Consumer Staples</td>\n",
       "      <td>81.80</td>\n",
       "      <td>1.77</td>\n",
       "      <td>28.27</td>\n",
       "      <td>2.89</td>\n",
       "      <td>28.55</td>\n",
       "      <td>71.50</td>\n",
       "      <td>97.30</td>\n",
       "      <td>88.53</td>\n",
       "      <td>8.27000</td>\n",
       "      <td>0.74</td>\n",
       "      <td>2.82</td>\n",
       "      <td>http://www.sec.gov/cgi-bin/browse-edgar?action...</td>\n",
       "    </tr>\n",
       "    <tr>\n",
       "      <th>479</th>\n",
       "      <td>WM</td>\n",
       "      <td>Waste Management Inc.</td>\n",
       "      <td>Industrials</td>\n",
       "      <td>67.61</td>\n",
       "      <td>2.44</td>\n",
       "      <td>26.87</td>\n",
       "      <td>2.52</td>\n",
       "      <td>11.90</td>\n",
       "      <td>47.55</td>\n",
       "      <td>70.50</td>\n",
       "      <td>30.04</td>\n",
       "      <td>3.46000</td>\n",
       "      <td>2.28</td>\n",
       "      <td>5.66</td>\n",
       "      <td>http://www.sec.gov/cgi-bin/browse-edgar?action...</td>\n",
       "    </tr>\n",
       "    <tr>\n",
       "      <th>480</th>\n",
       "      <td>WAT</td>\n",
       "      <td>Waters Corporation</td>\n",
       "      <td>Health Care</td>\n",
       "      <td>146.53</td>\n",
       "      <td>0.00</td>\n",
       "      <td>25.91</td>\n",
       "      <td>5.66</td>\n",
       "      <td>25.97</td>\n",
       "      <td>112.00</td>\n",
       "      <td>146.96</td>\n",
       "      <td>11.86</td>\n",
       "      <td>0.66179</td>\n",
       "      <td>5.61</td>\n",
       "      <td>5.49</td>\n",
       "      <td>http://www.sec.gov/cgi-bin/browse-edgar?action...</td>\n",
       "    </tr>\n",
       "    <tr>\n",
       "      <th>481</th>\n",
       "      <td>WFC</td>\n",
       "      <td>Wells Fargo</td>\n",
       "      <td>Financials</td>\n",
       "      <td>47.79</td>\n",
       "      <td>3.26</td>\n",
       "      <td>11.74</td>\n",
       "      <td>4.07</td>\n",
       "      <td>34.62</td>\n",
       "      <td>44.50</td>\n",
       "      <td>58.77</td>\n",
       "      <td>242.63</td>\n",
       "      <td>0.00000</td>\n",
       "      <td>2.82</td>\n",
       "      <td>1.35</td>\n",
       "      <td>http://www.sec.gov/cgi-bin/browse-edgar?action...</td>\n",
       "    </tr>\n",
       "    <tr>\n",
       "      <th>482</th>\n",
       "      <td>HCN</td>\n",
       "      <td>Welltower Inc.</td>\n",
       "      <td>Financials</td>\n",
       "      <td>75.62</td>\n",
       "      <td>4.50</td>\n",
       "      <td>34.40</td>\n",
       "      <td>2.20</td>\n",
       "      <td>37.88</td>\n",
       "      <td>52.80</td>\n",
       "      <td>77.18</td>\n",
       "      <td>27.00</td>\n",
       "      <td>2.01000</td>\n",
       "      <td>6.82</td>\n",
       "      <td>1.98</td>\n",
       "      <td>http://www.sec.gov/cgi-bin/browse-edgar?action...</td>\n",
       "    </tr>\n",
       "    <tr>\n",
       "      <th>483</th>\n",
       "      <td>WDC</td>\n",
       "      <td>Western Digital</td>\n",
       "      <td>Information Technology</td>\n",
       "      <td>49.35</td>\n",
       "      <td>4.20</td>\n",
       "      <td>13.94</td>\n",
       "      <td>3.54</td>\n",
       "      <td>41.24</td>\n",
       "      <td>34.99</td>\n",
       "      <td>88.46</td>\n",
       "      <td>11.50</td>\n",
       "      <td>2.22000</td>\n",
       "      <td>0.88</td>\n",
       "      <td>1.16</td>\n",
       "      <td>http://www.sec.gov/cgi-bin/browse-edgar?action...</td>\n",
       "    </tr>\n",
       "    <tr>\n",
       "      <th>484</th>\n",
       "      <td>WU</td>\n",
       "      <td>Western Union Co</td>\n",
       "      <td>Information Technology</td>\n",
       "      <td>19.57</td>\n",
       "      <td>3.34</td>\n",
       "      <td>12.22</td>\n",
       "      <td>1.60</td>\n",
       "      <td>2.52</td>\n",
       "      <td>16.02</td>\n",
       "      <td>20.62</td>\n",
       "      <td>9.61</td>\n",
       "      <td>1.38000</td>\n",
       "      <td>1.71</td>\n",
       "      <td>7.54</td>\n",
       "      <td>http://www.sec.gov/cgi-bin/browse-edgar?action...</td>\n",
       "    </tr>\n",
       "    <tr>\n",
       "      <th>485</th>\n",
       "      <td>WRK</td>\n",
       "      <td>Westrock Co</td>\n",
       "      <td>Materials</td>\n",
       "      <td>38.55</td>\n",
       "      <td>4.04</td>\n",
       "      <td>NaN</td>\n",
       "      <td>-0.55</td>\n",
       "      <td>43.77</td>\n",
       "      <td>29.73</td>\n",
       "      <td>64.74</td>\n",
       "      <td>9.63</td>\n",
       "      <td>2.26000</td>\n",
       "      <td>0.67</td>\n",
       "      <td>0.85</td>\n",
       "      <td>http://www.sec.gov/cgi-bin/browse-edgar?action...</td>\n",
       "    </tr>\n",
       "    <tr>\n",
       "      <th>486</th>\n",
       "      <td>WY</td>\n",
       "      <td>Weyerhaeuser Corp.</td>\n",
       "      <td>Financials</td>\n",
       "      <td>30.67</td>\n",
       "      <td>4.12</td>\n",
       "      <td>37.86</td>\n",
       "      <td>0.81</td>\n",
       "      <td>13.53</td>\n",
       "      <td>22.06</td>\n",
       "      <td>32.72</td>\n",
       "      <td>22.91</td>\n",
       "      <td>1.51000</td>\n",
       "      <td>3.14</td>\n",
       "      <td>2.23</td>\n",
       "      <td>http://www.sec.gov/cgi-bin/browse-edgar?action...</td>\n",
       "    </tr>\n",
       "    <tr>\n",
       "      <th>487</th>\n",
       "      <td>WHR</td>\n",
       "      <td>Whirlpool Corp.</td>\n",
       "      <td>Consumer Discretionary</td>\n",
       "      <td>171.38</td>\n",
       "      <td>2.38</td>\n",
       "      <td>18.27</td>\n",
       "      <td>9.38</td>\n",
       "      <td>62.60</td>\n",
       "      <td>123.60</td>\n",
       "      <td>193.59</td>\n",
       "      <td>13.02</td>\n",
       "      <td>2.09000</td>\n",
       "      <td>0.62</td>\n",
       "      <td>2.68</td>\n",
       "      <td>http://www.sec.gov/cgi-bin/browse-edgar?action...</td>\n",
       "    </tr>\n",
       "    <tr>\n",
       "      <th>488</th>\n",
       "      <td>WFM</td>\n",
       "      <td>Whole Foods Market</td>\n",
       "      <td>Consumer Staples</td>\n",
       "      <td>33.58</td>\n",
       "      <td>1.63</td>\n",
       "      <td>22.91</td>\n",
       "      <td>1.47</td>\n",
       "      <td>10.11</td>\n",
       "      <td>28.07</td>\n",
       "      <td>41.97</td>\n",
       "      <td>10.78</td>\n",
       "      <td>1.39000</td>\n",
       "      <td>0.69</td>\n",
       "      <td>3.29</td>\n",
       "      <td>http://www.sec.gov/cgi-bin/browse-edgar?action...</td>\n",
       "    </tr>\n",
       "    <tr>\n",
       "      <th>489</th>\n",
       "      <td>WMB</td>\n",
       "      <td>Williams Cos.</td>\n",
       "      <td>Energy</td>\n",
       "      <td>20.99</td>\n",
       "      <td>12.43</td>\n",
       "      <td>NaN</td>\n",
       "      <td>-0.94</td>\n",
       "      <td>7.59</td>\n",
       "      <td>10.22</td>\n",
       "      <td>58.77</td>\n",
       "      <td>15.75</td>\n",
       "      <td>3.24000</td>\n",
       "      <td>2.09</td>\n",
       "      <td>2.68</td>\n",
       "      <td>http://www.sec.gov/cgi-bin/browse-edgar?action...</td>\n",
       "    </tr>\n",
       "    <tr>\n",
       "      <th>490</th>\n",
       "      <td>WLTW</td>\n",
       "      <td>Willis Towers Watson</td>\n",
       "      <td>Financials</td>\n",
       "      <td>125.06</td>\n",
       "      <td>1.54</td>\n",
       "      <td>26.71</td>\n",
       "      <td>4.68</td>\n",
       "      <td>80.57</td>\n",
       "      <td>104.11</td>\n",
       "      <td>129.70</td>\n",
       "      <td>17.31</td>\n",
       "      <td>1.16000</td>\n",
       "      <td>3.48</td>\n",
       "      <td>1.54</td>\n",
       "      <td>http://www.sec.gov/cgi-bin/browse-edgar?action...</td>\n",
       "    </tr>\n",
       "    <tr>\n",
       "      <th>491</th>\n",
       "      <td>WEC</td>\n",
       "      <td>Wisconsin Energy Corporation</td>\n",
       "      <td>Utilities</td>\n",
       "      <td>65.03</td>\n",
       "      <td>3.02</td>\n",
       "      <td>24.35</td>\n",
       "      <td>2.67</td>\n",
       "      <td>27.94</td>\n",
       "      <td>46.00</td>\n",
       "      <td>66.10</td>\n",
       "      <td>20.53</td>\n",
       "      <td>2.14000</td>\n",
       "      <td>3.02</td>\n",
       "      <td>2.30</td>\n",
       "      <td>http://www.sec.gov/cgi-bin/browse-edgar?action...</td>\n",
       "    </tr>\n",
       "    <tr>\n",
       "      <th>492</th>\n",
       "      <td>WYN</td>\n",
       "      <td>Wyndham Worldwide</td>\n",
       "      <td>Consumer Discretionary</td>\n",
       "      <td>72.35</td>\n",
       "      <td>2.84</td>\n",
       "      <td>14.46</td>\n",
       "      <td>5.00</td>\n",
       "      <td>7.48</td>\n",
       "      <td>60.59</td>\n",
       "      <td>87.33</td>\n",
       "      <td>8.10</td>\n",
       "      <td>1.25000</td>\n",
       "      <td>1.43</td>\n",
       "      <td>9.50</td>\n",
       "      <td>http://www.sec.gov/cgi-bin/browse-edgar?action...</td>\n",
       "    </tr>\n",
       "    <tr>\n",
       "      <th>493</th>\n",
       "      <td>WYNN</td>\n",
       "      <td>Wynn Resorts Ltd</td>\n",
       "      <td>Consumer Discretionary</td>\n",
       "      <td>89.75</td>\n",
       "      <td>2.22</td>\n",
       "      <td>29.01</td>\n",
       "      <td>3.09</td>\n",
       "      <td>-0.83</td>\n",
       "      <td>49.95</td>\n",
       "      <td>110.31</td>\n",
       "      <td>9.10</td>\n",
       "      <td>0.95720</td>\n",
       "      <td>2.27</td>\n",
       "      <td>NaN</td>\n",
       "      <td>http://www.sec.gov/cgi-bin/browse-edgar?action...</td>\n",
       "    </tr>\n",
       "    <tr>\n",
       "      <th>494</th>\n",
       "      <td>XEL</td>\n",
       "      <td>Xcel Energy Inc</td>\n",
       "      <td>Utilities</td>\n",
       "      <td>44.59</td>\n",
       "      <td>3.00</td>\n",
       "      <td>21.13</td>\n",
       "      <td>2.11</td>\n",
       "      <td>21.01</td>\n",
       "      <td>32.43</td>\n",
       "      <td>45.42</td>\n",
       "      <td>22.65</td>\n",
       "      <td>3.43000</td>\n",
       "      <td>2.08</td>\n",
       "      <td>2.11</td>\n",
       "      <td>http://www.sec.gov/cgi-bin/browse-edgar?action...</td>\n",
       "    </tr>\n",
       "    <tr>\n",
       "      <th>495</th>\n",
       "      <td>XRX</td>\n",
       "      <td>Xerox Corp.</td>\n",
       "      <td>Information Technology</td>\n",
       "      <td>9.54</td>\n",
       "      <td>3.30</td>\n",
       "      <td>38.31</td>\n",
       "      <td>0.25</td>\n",
       "      <td>9.01</td>\n",
       "      <td>8.48</td>\n",
       "      <td>11.46</td>\n",
       "      <td>9.66</td>\n",
       "      <td>1.73000</td>\n",
       "      <td>0.53</td>\n",
       "      <td>1.04</td>\n",
       "      <td>http://www.sec.gov/cgi-bin/browse-edgar?action...</td>\n",
       "    </tr>\n",
       "    <tr>\n",
       "      <th>496</th>\n",
       "      <td>XLNX</td>\n",
       "      <td>Xilinx Inc</td>\n",
       "      <td>Information Technology</td>\n",
       "      <td>46.97</td>\n",
       "      <td>2.90</td>\n",
       "      <td>22.91</td>\n",
       "      <td>2.05</td>\n",
       "      <td>10.21</td>\n",
       "      <td>38.73</td>\n",
       "      <td>50.72</td>\n",
       "      <td>11.92</td>\n",
       "      <td>0.73832</td>\n",
       "      <td>5.24</td>\n",
       "      <td>4.48</td>\n",
       "      <td>http://www.sec.gov/cgi-bin/browse-edgar?action...</td>\n",
       "    </tr>\n",
       "    <tr>\n",
       "      <th>497</th>\n",
       "      <td>XL</td>\n",
       "      <td>XL Capital</td>\n",
       "      <td>Financials</td>\n",
       "      <td>33.01</td>\n",
       "      <td>2.45</td>\n",
       "      <td>8.31</td>\n",
       "      <td>3.97</td>\n",
       "      <td>40.83</td>\n",
       "      <td>25.56</td>\n",
       "      <td>40.48</td>\n",
       "      <td>9.40</td>\n",
       "      <td>1.59000</td>\n",
       "      <td>0.88</td>\n",
       "      <td>0.80</td>\n",
       "      <td>http://www.sec.gov/cgi-bin/browse-edgar?action...</td>\n",
       "    </tr>\n",
       "    <tr>\n",
       "      <th>498</th>\n",
       "      <td>XYL</td>\n",
       "      <td>Xylem Inc.</td>\n",
       "      <td>Industrials</td>\n",
       "      <td>46.41</td>\n",
       "      <td>1.43</td>\n",
       "      <td>24.53</td>\n",
       "      <td>1.89</td>\n",
       "      <td>12.07</td>\n",
       "      <td>29.90</td>\n",
       "      <td>46.67</td>\n",
       "      <td>8.30</td>\n",
       "      <td>0.59800</td>\n",
       "      <td>2.23</td>\n",
       "      <td>3.78</td>\n",
       "      <td>http://www.sec.gov/cgi-bin/browse-edgar?action...</td>\n",
       "    </tr>\n",
       "    <tr>\n",
       "      <th>499</th>\n",
       "      <td>YHOO</td>\n",
       "      <td>Yahoo Inc.</td>\n",
       "      <td>Information Technology</td>\n",
       "      <td>37.74</td>\n",
       "      <td>NaN</td>\n",
       "      <td>NaN</td>\n",
       "      <td>-4.76</td>\n",
       "      <td>30.03</td>\n",
       "      <td>26.15</td>\n",
       "      <td>39.98</td>\n",
       "      <td>35.82</td>\n",
       "      <td>0.24544</td>\n",
       "      <td>7.37</td>\n",
       "      <td>1.25</td>\n",
       "      <td>http://www.sec.gov/cgi-bin/browse-edgar?action...</td>\n",
       "    </tr>\n",
       "    <tr>\n",
       "      <th>500</th>\n",
       "      <td>YUM</td>\n",
       "      <td>Yum! Brands Inc</td>\n",
       "      <td>Consumer Discretionary</td>\n",
       "      <td>85.76</td>\n",
       "      <td>2.18</td>\n",
       "      <td>28.29</td>\n",
       "      <td>3.03</td>\n",
       "      <td>0.38</td>\n",
       "      <td>64.58</td>\n",
       "      <td>92.33</td>\n",
       "      <td>34.94</td>\n",
       "      <td>2.97000</td>\n",
       "      <td>2.62</td>\n",
       "      <td>220.13</td>\n",
       "      <td>http://www.sec.gov/cgi-bin/browse-edgar?action...</td>\n",
       "    </tr>\n",
       "    <tr>\n",
       "      <th>501</th>\n",
       "      <td>ZBH</td>\n",
       "      <td>Zimmer Biomet Holdings</td>\n",
       "      <td>Health Care</td>\n",
       "      <td>124.89</td>\n",
       "      <td>0.79</td>\n",
       "      <td>307.61</td>\n",
       "      <td>0.41</td>\n",
       "      <td>48.52</td>\n",
       "      <td>88.27</td>\n",
       "      <td>124.98</td>\n",
       "      <td>24.88</td>\n",
       "      <td>2.63000</td>\n",
       "      <td>3.59</td>\n",
       "      <td>2.51</td>\n",
       "      <td>http://www.sec.gov/cgi-bin/browse-edgar?action...</td>\n",
       "    </tr>\n",
       "    <tr>\n",
       "      <th>502</th>\n",
       "      <td>ZION</td>\n",
       "      <td>Zions Bancorp</td>\n",
       "      <td>Financials</td>\n",
       "      <td>24.74</td>\n",
       "      <td>0.98</td>\n",
       "      <td>20.45</td>\n",
       "      <td>1.21</td>\n",
       "      <td>33.23</td>\n",
       "      <td>19.65</td>\n",
       "      <td>32.42</td>\n",
       "      <td>5.06</td>\n",
       "      <td>0.00000</td>\n",
       "      <td>2.44</td>\n",
       "      <td>0.73</td>\n",
       "      <td>http://www.sec.gov/cgi-bin/browse-edgar?action...</td>\n",
       "    </tr>\n",
       "    <tr>\n",
       "      <th>503</th>\n",
       "      <td>ZTS</td>\n",
       "      <td>Zoetis</td>\n",
       "      <td>Health Care</td>\n",
       "      <td>48.50</td>\n",
       "      <td>0.80</td>\n",
       "      <td>63.98</td>\n",
       "      <td>0.76</td>\n",
       "      <td>2.35</td>\n",
       "      <td>37.73</td>\n",
       "      <td>50.39</td>\n",
       "      <td>24.07</td>\n",
       "      <td>1.53000</td>\n",
       "      <td>4.90</td>\n",
       "      <td>20.32</td>\n",
       "      <td>http://www.sec.gov/cgi-bin/browse-edgar?action...</td>\n",
       "    </tr>\n",
       "  </tbody>\n",
       "</table>\n",
       "<p>504 rows × 15 columns</p>\n",
       "</div>"
      ],
      "text/plain": [
       "    Symbol                           Name                  Sector   Price  \\\n",
       "0      MMM                     3M Company             Industrials  177.12   \n",
       "1      ABT            Abbott Laboratories             Health Care   41.89   \n",
       "2     ABBV                         AbbVie             Health Care   64.16   \n",
       "3      ACN                  Accenture plc  Information Technology  115.11   \n",
       "4     ATVI            Activision Blizzard  Information Technology   41.29   \n",
       "5      AYI              Acuity Brands Inc             Industrials  264.62   \n",
       "6     ADBE              Adobe Systems Inc  Information Technology   96.79   \n",
       "7      AAP             Advance Auto Parts  Consumer Discretionary  164.85   \n",
       "8      AES                       AES Corp               Utilities   12.32   \n",
       "9      AET                      Aetna Inc             Health Care  117.00   \n",
       "10     AMG  Affiliated Managers Group Inc              Financials  138.85   \n",
       "11     AFL                      AFLAC Inc              Financials   72.49   \n",
       "12       A       Agilent Technologies Inc             Health Care   45.48   \n",
       "13     APD   Air Products & Chemicals Inc               Materials  144.35   \n",
       "14    AKAM        Akamai Technologies Inc  Information Technology   56.38   \n",
       "15     ALK           Alaska Air Group Inc             Industrials   59.86   \n",
       "16     ALB                 Albemarle Corp               Materials   83.58   \n",
       "17      AA                      Alcoa Inc               Materials    9.82   \n",
       "18    ALXN        Alexion Pharmaceuticals             Health Care  124.42   \n",
       "19    ALLE                       Allegion             Industrials   69.74   \n",
       "20     AGN                   Allergan plc             Health Care  240.59   \n",
       "21     ADS          Alliance Data Systems  Information Technology  200.96   \n",
       "22     LNT            Alliant Energy Corp               Utilities   40.55   \n",
       "23     ALL                  Allstate Corp              Financials   69.66   \n",
       "24   GOOGL           Alphabet Inc Class A  Information Technology  717.78   \n",
       "25    GOOG           Alphabet Inc Class C  Information Technology  705.63   \n",
       "26      MO               Altria Group Inc        Consumer Staples   69.83   \n",
       "27    AMZN                 Amazon.com Inc  Consumer Discretionary  745.81   \n",
       "28     AEE                    Ameren Corp               Utilities   53.15   \n",
       "29     AAL        American Airlines Group             Industrials   30.04   \n",
       "..     ...                            ...                     ...     ...   \n",
       "474      V                      Visa Inc.  Information Technology   76.42   \n",
       "475    VNO           Vornado Realty Trust              Financials  100.46   \n",
       "476    VMC               Vulcan Materials               Materials  123.61   \n",
       "477    WMT                Wal-Mart Stores        Consumer Staples   73.84   \n",
       "478    WBA       Walgreens Boots Alliance        Consumer Staples   81.80   \n",
       "479     WM          Waste Management Inc.             Industrials   67.61   \n",
       "480    WAT             Waters Corporation             Health Care  146.53   \n",
       "481    WFC                    Wells Fargo              Financials   47.79   \n",
       "482    HCN                 Welltower Inc.              Financials   75.62   \n",
       "483    WDC                Western Digital  Information Technology   49.35   \n",
       "484     WU               Western Union Co  Information Technology   19.57   \n",
       "485    WRK                    Westrock Co               Materials   38.55   \n",
       "486     WY             Weyerhaeuser Corp.              Financials   30.67   \n",
       "487    WHR                Whirlpool Corp.  Consumer Discretionary  171.38   \n",
       "488    WFM             Whole Foods Market        Consumer Staples   33.58   \n",
       "489    WMB                  Williams Cos.                  Energy   20.99   \n",
       "490   WLTW           Willis Towers Watson              Financials  125.06   \n",
       "491    WEC   Wisconsin Energy Corporation               Utilities   65.03   \n",
       "492    WYN              Wyndham Worldwide  Consumer Discretionary   72.35   \n",
       "493   WYNN               Wynn Resorts Ltd  Consumer Discretionary   89.75   \n",
       "494    XEL                Xcel Energy Inc               Utilities   44.59   \n",
       "495    XRX                    Xerox Corp.  Information Technology    9.54   \n",
       "496   XLNX                     Xilinx Inc  Information Technology   46.97   \n",
       "497     XL                     XL Capital              Financials   33.01   \n",
       "498    XYL                     Xylem Inc.             Industrials   46.41   \n",
       "499   YHOO                     Yahoo Inc.  Information Technology   37.74   \n",
       "500    YUM                Yum! Brands Inc  Consumer Discretionary   85.76   \n",
       "501    ZBH         Zimmer Biomet Holdings             Health Care  124.89   \n",
       "502   ZION                  Zions Bancorp              Financials   24.74   \n",
       "503    ZTS                         Zoetis             Health Care   48.50   \n",
       "\n",
       "     Dividend Yield  Price/Earnings  Earnings/Share  Book Value  52 week low  \\\n",
       "0              2.53           22.77            7.78       19.34       134.00   \n",
       "1              2.55           25.79            1.62       14.10        36.00   \n",
       "2              3.60           19.29            3.33        2.87        45.45   \n",
       "3              1.94           19.45            5.92       11.45        88.43   \n",
       "4              0.64           37.06            1.11       11.31        24.04   \n",
       "5              0.21           43.23            6.12       36.50       168.33   \n",
       "6              0.00           54.68            1.77       14.53        71.27   \n",
       "7              0.15           25.20            6.40       35.82       131.59   \n",
       "8              3.60           28.99            0.43        4.86         8.22   \n",
       "9              0.87           17.62            6.64       47.96        92.42   \n",
       "10              NaN           15.55            8.93       53.30       115.97   \n",
       "11             2.27           11.93            6.07       48.22        51.41   \n",
       "12             1.04           32.35            1.38       12.79        33.12   \n",
       "13             2.46           56.99            2.53       32.01       114.64   \n",
       "14              NaN           31.85            1.77       17.69        39.43   \n",
       "15             1.88            8.65            6.92       19.81        54.51   \n",
       "16             1.57           18.13            4.61       31.53        41.37   \n",
       "17             1.31             NaN           -0.44        9.25         6.14   \n",
       "18              NaN          188.23            0.66       35.96       110.56   \n",
       "19             0.70           40.59            1.72        0.77        52.95   \n",
       "20             0.10           21.53           11.18      183.41       195.50   \n",
       "21              NaN           22.65            8.87       29.51       176.63   \n",
       "22             3.18           24.30            3.34       16.58        27.14   \n",
       "23             1.95           17.00            4.10       49.58        54.12   \n",
       "24              NaN           29.21           24.58      179.92       558.70   \n",
       "25              NaN           28.71           24.58      179.92       532.40   \n",
       "26             3.26           25.20            2.77        1.40        47.41   \n",
       "27              NaN          307.42            2.43       31.26       447.54   \n",
       "28             3.16           20.62            2.58       28.31        37.92   \n",
       "29             1.41            2.69           11.16        8.04        24.85   \n",
       "..              ...             ...             ...         ...          ...   \n",
       "474            0.75           26.64            2.87       12.22        60.00   \n",
       "475            2.57           39.61            2.54       27.80        78.91   \n",
       "476            0.66           60.09            2.06       33.15        78.83   \n",
       "477            2.72           16.32            4.52       24.06        56.30   \n",
       "478            1.77           28.27            2.89       28.55        71.50   \n",
       "479            2.44           26.87            2.52       11.90        47.55   \n",
       "480            0.00           25.91            5.66       25.97       112.00   \n",
       "481            3.26           11.74            4.07       34.62        44.50   \n",
       "482            4.50           34.40            2.20       37.88        52.80   \n",
       "483            4.20           13.94            3.54       41.24        34.99   \n",
       "484            3.34           12.22            1.60        2.52        16.02   \n",
       "485            4.04             NaN           -0.55       43.77        29.73   \n",
       "486            4.12           37.86            0.81       13.53        22.06   \n",
       "487            2.38           18.27            9.38       62.60       123.60   \n",
       "488            1.63           22.91            1.47       10.11        28.07   \n",
       "489           12.43             NaN           -0.94        7.59        10.22   \n",
       "490            1.54           26.71            4.68       80.57       104.11   \n",
       "491            3.02           24.35            2.67       27.94        46.00   \n",
       "492            2.84           14.46            5.00        7.48        60.59   \n",
       "493            2.22           29.01            3.09       -0.83        49.95   \n",
       "494            3.00           21.13            2.11       21.01        32.43   \n",
       "495            3.30           38.31            0.25        9.01         8.48   \n",
       "496            2.90           22.91            2.05       10.21        38.73   \n",
       "497            2.45            8.31            3.97       40.83        25.56   \n",
       "498            1.43           24.53            1.89       12.07        29.90   \n",
       "499             NaN             NaN           -4.76       30.03        26.15   \n",
       "500            2.18           28.29            3.03        0.38        64.58   \n",
       "501            0.79          307.61            0.41       48.52        88.27   \n",
       "502            0.98           20.45            1.21       33.23        19.65   \n",
       "503            0.80           63.98            0.76        2.35        37.73   \n",
       "\n",
       "     52 week high  Market Cap    EBITDA  Price/Sales  Price/Book  \\\n",
       "0          177.79      107.43   8.57000         3.52        9.04   \n",
       "1           51.74       61.54   4.40000         2.98        2.93   \n",
       "2           71.60      103.77  10.30000         4.31       22.09   \n",
       "3          120.78       71.66   5.42000         2.17        9.84   \n",
       "4           41.32       30.48   1.59000         6.16        3.57   \n",
       "5          265.10       11.51   0.53650         3.53        6.95   \n",
       "6          100.56       48.23   1.53000         8.93        6.55   \n",
       "7          201.24       12.10   1.24000         1.22        4.50   \n",
       "8           13.38        8.12   3.57000         0.55        2.49   \n",
       "9          125.47       41.02   5.40000         0.67        2.41   \n",
       "10         220.72        7.47   0.91600         3.02        2.52   \n",
       "11          72.81       30.01   4.49000         1.40        1.48   \n",
       "12          46.68       14.80   0.84400         3.53        3.47   \n",
       "13         152.16       31.19   2.98000         3.16        4.36   \n",
       "14          76.98        9.90   0.69810         4.31        3.11   \n",
       "15          87.17        7.38   1.72000         1.29        3.00   \n",
       "16          84.99        9.39   0.95275         2.51        2.58   \n",
       "17          11.50       12.91   2.67000         0.57        1.01   \n",
       "18         208.88       27.87   0.97872        10.22        3.43   \n",
       "19          69.95        6.68   0.45060         3.11       89.14   \n",
       "20         340.34       95.17   6.57000         5.77        1.30   \n",
       "21         307.78       11.84   1.52000         1.78        6.68   \n",
       "22          40.99        9.21   0.99400         2.83        2.40   \n",
       "23          69.95       26.08   3.26000         0.73        1.39   \n",
       "24         810.35      492.80  25.51000         6.23        3.93   \n",
       "25         789.87      484.45  25.51000         6.12        3.86   \n",
       "26          70.15      136.59   9.06000         7.09       49.39   \n",
       "27         746.10      351.89   9.09000         3.06       23.56   \n",
       "28          54.08       12.90   2.18000         2.21        1.86   \n",
       "29          47.09       17.37   8.83000         0.42        3.66   \n",
       "..            ...         ...       ...          ...         ...   \n",
       "474         81.73      182.28   9.63000        12.45        6.10   \n",
       "475        103.41       18.96   1.22000         7.44        3.52   \n",
       "476        124.28       16.46   0.89797         4.58        3.67   \n",
       "477         74.14      230.13  33.22000         0.47        3.06   \n",
       "478         97.30       88.53   8.27000         0.74        2.82   \n",
       "479         70.50       30.04   3.46000         2.28        5.66   \n",
       "480        146.96       11.86   0.66179         5.61        5.49   \n",
       "481         58.77      242.63   0.00000         2.82        1.35   \n",
       "482         77.18       27.00   2.01000         6.82        1.98   \n",
       "483         88.46       11.50   2.22000         0.88        1.16   \n",
       "484         20.62        9.61   1.38000         1.71        7.54   \n",
       "485         64.74        9.63   2.26000         0.67        0.85   \n",
       "486         32.72       22.91   1.51000         3.14        2.23   \n",
       "487        193.59       13.02   2.09000         0.62        2.68   \n",
       "488         41.97       10.78   1.39000         0.69        3.29   \n",
       "489         58.77       15.75   3.24000         2.09        2.68   \n",
       "490        129.70       17.31   1.16000         3.48        1.54   \n",
       "491         66.10       20.53   2.14000         3.02        2.30   \n",
       "492         87.33        8.10   1.25000         1.43        9.50   \n",
       "493        110.31        9.10   0.95720         2.27         NaN   \n",
       "494         45.42       22.65   3.43000         2.08        2.11   \n",
       "495         11.46        9.66   1.73000         0.53        1.04   \n",
       "496         50.72       11.92   0.73832         5.24        4.48   \n",
       "497         40.48        9.40   1.59000         0.88        0.80   \n",
       "498         46.67        8.30   0.59800         2.23        3.78   \n",
       "499         39.98       35.82   0.24544         7.37        1.25   \n",
       "500         92.33       34.94   2.97000         2.62      220.13   \n",
       "501        124.98       24.88   2.63000         3.59        2.51   \n",
       "502         32.42        5.06   0.00000         2.44        0.73   \n",
       "503         50.39       24.07   1.53000         4.90       20.32   \n",
       "\n",
       "                                           SEC Filings  \n",
       "0    http://www.sec.gov/cgi-bin/browse-edgar?action...  \n",
       "1    http://www.sec.gov/cgi-bin/browse-edgar?action...  \n",
       "2    http://www.sec.gov/cgi-bin/browse-edgar?action...  \n",
       "3    http://www.sec.gov/cgi-bin/browse-edgar?action...  \n",
       "4    http://www.sec.gov/cgi-bin/browse-edgar?action...  \n",
       "5    http://www.sec.gov/cgi-bin/browse-edgar?action...  \n",
       "6    http://www.sec.gov/cgi-bin/browse-edgar?action...  \n",
       "7    http://www.sec.gov/cgi-bin/browse-edgar?action...  \n",
       "8    http://www.sec.gov/cgi-bin/browse-edgar?action...  \n",
       "9    http://www.sec.gov/cgi-bin/browse-edgar?action...  \n",
       "10   http://www.sec.gov/cgi-bin/browse-edgar?action...  \n",
       "11   http://www.sec.gov/cgi-bin/browse-edgar?action...  \n",
       "12   http://www.sec.gov/cgi-bin/browse-edgar?action...  \n",
       "13   http://www.sec.gov/cgi-bin/browse-edgar?action...  \n",
       "14   http://www.sec.gov/cgi-bin/browse-edgar?action...  \n",
       "15   http://www.sec.gov/cgi-bin/browse-edgar?action...  \n",
       "16   http://www.sec.gov/cgi-bin/browse-edgar?action...  \n",
       "17   http://www.sec.gov/cgi-bin/browse-edgar?action...  \n",
       "18   http://www.sec.gov/cgi-bin/browse-edgar?action...  \n",
       "19   http://www.sec.gov/cgi-bin/browse-edgar?action...  \n",
       "20   http://www.sec.gov/cgi-bin/browse-edgar?action...  \n",
       "21   http://www.sec.gov/cgi-bin/browse-edgar?action...  \n",
       "22   http://www.sec.gov/cgi-bin/browse-edgar?action...  \n",
       "23   http://www.sec.gov/cgi-bin/browse-edgar?action...  \n",
       "24   http://www.sec.gov/cgi-bin/browse-edgar?action...  \n",
       "25   http://www.sec.gov/cgi-bin/browse-edgar?action...  \n",
       "26   http://www.sec.gov/cgi-bin/browse-edgar?action...  \n",
       "27   http://www.sec.gov/cgi-bin/browse-edgar?action...  \n",
       "28   http://www.sec.gov/cgi-bin/browse-edgar?action...  \n",
       "29   http://www.sec.gov/cgi-bin/browse-edgar?action...  \n",
       "..                                                 ...  \n",
       "474  http://www.sec.gov/cgi-bin/browse-edgar?action...  \n",
       "475  http://www.sec.gov/cgi-bin/browse-edgar?action...  \n",
       "476  http://www.sec.gov/cgi-bin/browse-edgar?action...  \n",
       "477  http://www.sec.gov/cgi-bin/browse-edgar?action...  \n",
       "478  http://www.sec.gov/cgi-bin/browse-edgar?action...  \n",
       "479  http://www.sec.gov/cgi-bin/browse-edgar?action...  \n",
       "480  http://www.sec.gov/cgi-bin/browse-edgar?action...  \n",
       "481  http://www.sec.gov/cgi-bin/browse-edgar?action...  \n",
       "482  http://www.sec.gov/cgi-bin/browse-edgar?action...  \n",
       "483  http://www.sec.gov/cgi-bin/browse-edgar?action...  \n",
       "484  http://www.sec.gov/cgi-bin/browse-edgar?action...  \n",
       "485  http://www.sec.gov/cgi-bin/browse-edgar?action...  \n",
       "486  http://www.sec.gov/cgi-bin/browse-edgar?action...  \n",
       "487  http://www.sec.gov/cgi-bin/browse-edgar?action...  \n",
       "488  http://www.sec.gov/cgi-bin/browse-edgar?action...  \n",
       "489  http://www.sec.gov/cgi-bin/browse-edgar?action...  \n",
       "490  http://www.sec.gov/cgi-bin/browse-edgar?action...  \n",
       "491  http://www.sec.gov/cgi-bin/browse-edgar?action...  \n",
       "492  http://www.sec.gov/cgi-bin/browse-edgar?action...  \n",
       "493  http://www.sec.gov/cgi-bin/browse-edgar?action...  \n",
       "494  http://www.sec.gov/cgi-bin/browse-edgar?action...  \n",
       "495  http://www.sec.gov/cgi-bin/browse-edgar?action...  \n",
       "496  http://www.sec.gov/cgi-bin/browse-edgar?action...  \n",
       "497  http://www.sec.gov/cgi-bin/browse-edgar?action...  \n",
       "498  http://www.sec.gov/cgi-bin/browse-edgar?action...  \n",
       "499  http://www.sec.gov/cgi-bin/browse-edgar?action...  \n",
       "500  http://www.sec.gov/cgi-bin/browse-edgar?action...  \n",
       "501  http://www.sec.gov/cgi-bin/browse-edgar?action...  \n",
       "502  http://www.sec.gov/cgi-bin/browse-edgar?action...  \n",
       "503  http://www.sec.gov/cgi-bin/browse-edgar?action...  \n",
       "\n",
       "[504 rows x 15 columns]"
      ]
     },
     "execution_count": 134,
     "metadata": {},
     "output_type": "execute_result"
    }
   ],
   "source": [
    "sample_df = pd.read_csv(sample_file)\n",
    "sample_df"
   ]
  },
  {
   "cell_type": "code",
   "execution_count": 139,
   "metadata": {},
   "outputs": [
    {
     "data": {
      "text/html": [
       "<div>\n",
       "<style>\n",
       "    .dataframe thead tr:only-child th {\n",
       "        text-align: right;\n",
       "    }\n",
       "\n",
       "    .dataframe thead th {\n",
       "        text-align: left;\n",
       "    }\n",
       "\n",
       "    .dataframe tbody tr th {\n",
       "        vertical-align: top;\n",
       "    }\n",
       "</style>\n",
       "<table border=\"1\" class=\"dataframe\">\n",
       "  <thead>\n",
       "    <tr style=\"text-align: right;\">\n",
       "      <th></th>\n",
       "      <th>Symbol</th>\n",
       "      <th>Name</th>\n",
       "      <th>Sector</th>\n",
       "      <th>Price</th>\n",
       "      <th>Book Value</th>\n",
       "    </tr>\n",
       "  </thead>\n",
       "  <tbody>\n",
       "    <tr>\n",
       "      <th>0</th>\n",
       "      <td>MMM</td>\n",
       "      <td>3M Company</td>\n",
       "      <td>Industrials</td>\n",
       "      <td>177.12</td>\n",
       "      <td>19.34</td>\n",
       "    </tr>\n",
       "    <tr>\n",
       "      <th>1</th>\n",
       "      <td>ABT</td>\n",
       "      <td>Abbott Laboratories</td>\n",
       "      <td>Health Care</td>\n",
       "      <td>41.89</td>\n",
       "      <td>14.10</td>\n",
       "    </tr>\n",
       "    <tr>\n",
       "      <th>2</th>\n",
       "      <td>ABBV</td>\n",
       "      <td>AbbVie</td>\n",
       "      <td>Health Care</td>\n",
       "      <td>64.16</td>\n",
       "      <td>2.87</td>\n",
       "    </tr>\n",
       "    <tr>\n",
       "      <th>3</th>\n",
       "      <td>ACN</td>\n",
       "      <td>Accenture plc</td>\n",
       "      <td>Information Technology</td>\n",
       "      <td>115.11</td>\n",
       "      <td>11.45</td>\n",
       "    </tr>\n",
       "    <tr>\n",
       "      <th>4</th>\n",
       "      <td>ATVI</td>\n",
       "      <td>Activision Blizzard</td>\n",
       "      <td>Information Technology</td>\n",
       "      <td>41.29</td>\n",
       "      <td>11.31</td>\n",
       "    </tr>\n",
       "  </tbody>\n",
       "</table>\n",
       "</div>"
      ],
      "text/plain": [
       "  Symbol                 Name                  Sector   Price  Book Value\n",
       "0    MMM           3M Company             Industrials  177.12       19.34\n",
       "1    ABT  Abbott Laboratories             Health Care   41.89       14.10\n",
       "2   ABBV               AbbVie             Health Care   64.16        2.87\n",
       "3    ACN        Accenture plc  Information Technology  115.11       11.45\n",
       "4   ATVI  Activision Blizzard  Information Technology   41.29       11.31"
      ]
     },
     "execution_count": 139,
     "metadata": {},
     "output_type": "execute_result"
    }
   ],
   "source": [
    "sample_df = pd.read_csv(sample_file, usecols = [0, 1, 2, 3, 7])    # usecols --->> Column의 순서에 해당\n",
    "sample_df.head()"
   ]
  },
  {
   "cell_type": "code",
   "execution_count": 174,
   "metadata": {
    "scrolled": false
   },
   "outputs": [
    {
     "data": {
      "text/html": [
       "<div>\n",
       "<style>\n",
       "    .dataframe thead tr:only-child th {\n",
       "        text-align: right;\n",
       "    }\n",
       "\n",
       "    .dataframe thead th {\n",
       "        text-align: left;\n",
       "    }\n",
       "\n",
       "    .dataframe tbody tr th {\n",
       "        vertical-align: top;\n",
       "    }\n",
       "</style>\n",
       "<table border=\"1\" class=\"dataframe\">\n",
       "  <thead>\n",
       "    <tr style=\"text-align: right;\">\n",
       "      <th></th>\n",
       "      <th>Name</th>\n",
       "      <th>Sector</th>\n",
       "      <th>Price</th>\n",
       "      <th>Book Value</th>\n",
       "    </tr>\n",
       "    <tr>\n",
       "      <th>Symbol</th>\n",
       "      <th></th>\n",
       "      <th></th>\n",
       "      <th></th>\n",
       "      <th></th>\n",
       "    </tr>\n",
       "  </thead>\n",
       "  <tbody>\n",
       "    <tr>\n",
       "      <th>MMM</th>\n",
       "      <td>3M Company</td>\n",
       "      <td>Industrials</td>\n",
       "      <td>177.12</td>\n",
       "      <td>19.34</td>\n",
       "    </tr>\n",
       "    <tr>\n",
       "      <th>ABT</th>\n",
       "      <td>Abbott Laboratories</td>\n",
       "      <td>Health Care</td>\n",
       "      <td>41.89</td>\n",
       "      <td>14.10</td>\n",
       "    </tr>\n",
       "    <tr>\n",
       "      <th>ABBV</th>\n",
       "      <td>AbbVie</td>\n",
       "      <td>Health Care</td>\n",
       "      <td>64.16</td>\n",
       "      <td>2.87</td>\n",
       "    </tr>\n",
       "    <tr>\n",
       "      <th>ACN</th>\n",
       "      <td>Accenture plc</td>\n",
       "      <td>Information Technology</td>\n",
       "      <td>115.11</td>\n",
       "      <td>11.45</td>\n",
       "    </tr>\n",
       "    <tr>\n",
       "      <th>ATVI</th>\n",
       "      <td>Activision Blizzard</td>\n",
       "      <td>Information Technology</td>\n",
       "      <td>41.29</td>\n",
       "      <td>11.31</td>\n",
       "    </tr>\n",
       "  </tbody>\n",
       "</table>\n",
       "</div>"
      ],
      "text/plain": [
       "                       Name                  Sector   Price  Book Value\n",
       "Symbol                                                                 \n",
       "MMM              3M Company             Industrials  177.12       19.34\n",
       "ABT     Abbott Laboratories             Health Care   41.89       14.10\n",
       "ABBV                 AbbVie             Health Care   64.16        2.87\n",
       "ACN           Accenture plc  Information Technology  115.11       11.45\n",
       "ATVI    Activision Blizzard  Information Technology   41.29       11.31"
      ]
     },
     "execution_count": 174,
     "metadata": {},
     "output_type": "execute_result"
    }
   ],
   "source": [
    "sample_df = pd.read_csv(sample_file, index_col = 'Symbol', usecols = [0, 1, 2, 3, 7])\n",
    "sample_df.head()"
   ]
  },
  {
   "cell_type": "code",
   "execution_count": 167,
   "metadata": {},
   "outputs": [
    {
     "data": {
      "text/html": [
       "<div>\n",
       "<style>\n",
       "    .dataframe thead tr:only-child th {\n",
       "        text-align: right;\n",
       "    }\n",
       "\n",
       "    .dataframe thead th {\n",
       "        text-align: left;\n",
       "    }\n",
       "\n",
       "    .dataframe tbody tr th {\n",
       "        vertical-align: top;\n",
       "    }\n",
       "</style>\n",
       "<table border=\"1\" class=\"dataframe\">\n",
       "  <thead>\n",
       "    <tr style=\"text-align: right;\">\n",
       "      <th></th>\n",
       "      <th>Name</th>\n",
       "      <th>Price</th>\n",
       "    </tr>\n",
       "    <tr>\n",
       "      <th>Symbol</th>\n",
       "      <th></th>\n",
       "      <th></th>\n",
       "    </tr>\n",
       "  </thead>\n",
       "  <tbody>\n",
       "    <tr>\n",
       "      <th>MMM</th>\n",
       "      <td>3M Company</td>\n",
       "      <td>177.12</td>\n",
       "    </tr>\n",
       "    <tr>\n",
       "      <th>ABT</th>\n",
       "      <td>Abbott Laboratories</td>\n",
       "      <td>41.89</td>\n",
       "    </tr>\n",
       "    <tr>\n",
       "      <th>ABBV</th>\n",
       "      <td>AbbVie</td>\n",
       "      <td>64.16</td>\n",
       "    </tr>\n",
       "    <tr>\n",
       "      <th>ACN</th>\n",
       "      <td>Accenture plc</td>\n",
       "      <td>115.11</td>\n",
       "    </tr>\n",
       "    <tr>\n",
       "      <th>ATVI</th>\n",
       "      <td>Activision Blizzard</td>\n",
       "      <td>41.29</td>\n",
       "    </tr>\n",
       "  </tbody>\n",
       "</table>\n",
       "</div>"
      ],
      "text/plain": [
       "                       Name   Price\n",
       "Symbol                             \n",
       "MMM              3M Company  177.12\n",
       "ABT     Abbott Laboratories   41.89\n",
       "ABBV                 AbbVie   64.16\n",
       "ACN           Accenture plc  115.11\n",
       "ATVI    Activision Blizzard   41.29"
      ]
     },
     "execution_count": 167,
     "metadata": {},
     "output_type": "execute_result"
    }
   ],
   "source": [
    "sample_df = pd.read_csv(sample_file, index_col = 'Symbol', usecols=['Name', 'Symbol', 'Price'])\n",
    "sample_df.head()"
   ]
  },
  {
   "cell_type": "markdown",
   "metadata": {},
   "source": [
    "* **dataframe slicing**\n",
    "  - dataframe의 경우 기본적으로 [] 연산자가 **column 선택**에 사용\n",
    "  - 따라서 [0], ['some val'] 과 같이 하면 column 레벨의 데이터 추출\n",
    "  - 하지만, 유일하게 slicing은 row 레벨로 지원"
   ]
  },
  {
   "cell_type": "code",
   "execution_count": 140,
   "metadata": {},
   "outputs": [
    {
     "data": {
      "text/html": [
       "<div>\n",
       "<style>\n",
       "    .dataframe thead tr:only-child th {\n",
       "        text-align: right;\n",
       "    }\n",
       "\n",
       "    .dataframe thead th {\n",
       "        text-align: left;\n",
       "    }\n",
       "\n",
       "    .dataframe tbody tr th {\n",
       "        vertical-align: top;\n",
       "    }\n",
       "</style>\n",
       "<table border=\"1\" class=\"dataframe\">\n",
       "  <thead>\n",
       "    <tr style=\"text-align: right;\">\n",
       "      <th></th>\n",
       "      <th>Date</th>\n",
       "      <th>Open</th>\n",
       "      <th>High</th>\n",
       "      <th>Low</th>\n",
       "      <th>Close</th>\n",
       "      <th>Volume</th>\n",
       "    </tr>\n",
       "  </thead>\n",
       "  <tbody>\n",
       "    <tr>\n",
       "      <th>0</th>\n",
       "      <td>30-Sep-16</td>\n",
       "      <td>112.46</td>\n",
       "      <td>113.37</td>\n",
       "      <td>111.80</td>\n",
       "      <td>113.05</td>\n",
       "      <td>36379106</td>\n",
       "    </tr>\n",
       "    <tr>\n",
       "      <th>1</th>\n",
       "      <td>29-Sep-16</td>\n",
       "      <td>113.16</td>\n",
       "      <td>113.80</td>\n",
       "      <td>111.80</td>\n",
       "      <td>112.18</td>\n",
       "      <td>35886990</td>\n",
       "    </tr>\n",
       "    <tr>\n",
       "      <th>2</th>\n",
       "      <td>28-Sep-16</td>\n",
       "      <td>113.69</td>\n",
       "      <td>114.64</td>\n",
       "      <td>113.43</td>\n",
       "      <td>113.95</td>\n",
       "      <td>29641085</td>\n",
       "    </tr>\n",
       "    <tr>\n",
       "      <th>3</th>\n",
       "      <td>27-Sep-16</td>\n",
       "      <td>113.00</td>\n",
       "      <td>113.18</td>\n",
       "      <td>112.34</td>\n",
       "      <td>113.09</td>\n",
       "      <td>24607412</td>\n",
       "    </tr>\n",
       "    <tr>\n",
       "      <th>4</th>\n",
       "      <td>26-Sep-16</td>\n",
       "      <td>111.64</td>\n",
       "      <td>113.39</td>\n",
       "      <td>111.55</td>\n",
       "      <td>112.88</td>\n",
       "      <td>29869442</td>\n",
       "    </tr>\n",
       "  </tbody>\n",
       "</table>\n",
       "</div>"
      ],
      "text/plain": [
       "        Date    Open    High     Low   Close    Volume\n",
       "0  30-Sep-16  112.46  113.37  111.80  113.05  36379106\n",
       "1  29-Sep-16  113.16  113.80  111.80  112.18  35886990\n",
       "2  28-Sep-16  113.69  114.64  113.43  113.95  29641085\n",
       "3  27-Sep-16  113.00  113.18  112.34  113.09  24607412\n",
       "4  26-Sep-16  111.64  113.39  111.55  112.88  29869442"
      ]
     },
     "execution_count": 140,
     "metadata": {},
     "output_type": "execute_result"
    }
   ],
   "source": [
    "apple_df = pd.read_csv('apple.csv')\n",
    "apple_df.head()"
   ]
  },
  {
   "cell_type": "code",
   "execution_count": 144,
   "metadata": {},
   "outputs": [
    {
     "data": {
      "text/html": [
       "<div>\n",
       "<style>\n",
       "    .dataframe thead tr:only-child th {\n",
       "        text-align: right;\n",
       "    }\n",
       "\n",
       "    .dataframe thead th {\n",
       "        text-align: left;\n",
       "    }\n",
       "\n",
       "    .dataframe tbody tr th {\n",
       "        vertical-align: top;\n",
       "    }\n",
       "</style>\n",
       "<table border=\"1\" class=\"dataframe\">\n",
       "  <thead>\n",
       "    <tr style=\"text-align: right;\">\n",
       "      <th></th>\n",
       "      <th>Date</th>\n",
       "      <th>Open</th>\n",
       "      <th>High</th>\n",
       "      <th>Low</th>\n",
       "      <th>Close</th>\n",
       "      <th>Volume</th>\n",
       "    </tr>\n",
       "  </thead>\n",
       "  <tbody>\n",
       "    <tr>\n",
       "      <th>0</th>\n",
       "      <td>30-Sep-16</td>\n",
       "      <td>112.46</td>\n",
       "      <td>113.37</td>\n",
       "      <td>111.80</td>\n",
       "      <td>113.05</td>\n",
       "      <td>36379106</td>\n",
       "    </tr>\n",
       "    <tr>\n",
       "      <th>1</th>\n",
       "      <td>29-Sep-16</td>\n",
       "      <td>113.16</td>\n",
       "      <td>113.80</td>\n",
       "      <td>111.80</td>\n",
       "      <td>112.18</td>\n",
       "      <td>35886990</td>\n",
       "    </tr>\n",
       "    <tr>\n",
       "      <th>2</th>\n",
       "      <td>28-Sep-16</td>\n",
       "      <td>113.69</td>\n",
       "      <td>114.64</td>\n",
       "      <td>113.43</td>\n",
       "      <td>113.95</td>\n",
       "      <td>29641085</td>\n",
       "    </tr>\n",
       "    <tr>\n",
       "      <th>3</th>\n",
       "      <td>27-Sep-16</td>\n",
       "      <td>113.00</td>\n",
       "      <td>113.18</td>\n",
       "      <td>112.34</td>\n",
       "      <td>113.09</td>\n",
       "      <td>24607412</td>\n",
       "    </tr>\n",
       "    <tr>\n",
       "      <th>4</th>\n",
       "      <td>26-Sep-16</td>\n",
       "      <td>111.64</td>\n",
       "      <td>113.39</td>\n",
       "      <td>111.55</td>\n",
       "      <td>112.88</td>\n",
       "      <td>29869442</td>\n",
       "    </tr>\n",
       "  </tbody>\n",
       "</table>\n",
       "</div>"
      ],
      "text/plain": [
       "        Date    Open    High     Low   Close    Volume\n",
       "0  30-Sep-16  112.46  113.37  111.80  113.05  36379106\n",
       "1  29-Sep-16  113.16  113.80  111.80  112.18  35886990\n",
       "2  28-Sep-16  113.69  114.64  113.43  113.95  29641085\n",
       "3  27-Sep-16  113.00  113.18  112.34  113.09  24607412\n",
       "4  26-Sep-16  111.64  113.39  111.55  112.88  29869442"
      ]
     },
     "execution_count": 144,
     "metadata": {},
     "output_type": "execute_result"
    }
   ],
   "source": [
    "# header = None으로 .csv 파일의 header가 없다는 것을 명시\n",
    "apple_df = pd.read_csv('apple.csv')\n",
    "#apple_df = pd.read_csv('apple.csv', header = None)\n",
    "apple_df.head()\n",
    "#apple_df.tail()"
   ]
  },
  {
   "cell_type": "code",
   "execution_count": 172,
   "metadata": {},
   "outputs": [
    {
     "data": {
      "text/html": [
       "<div>\n",
       "<style>\n",
       "    .dataframe thead tr:only-child th {\n",
       "        text-align: right;\n",
       "    }\n",
       "\n",
       "    .dataframe thead th {\n",
       "        text-align: left;\n",
       "    }\n",
       "\n",
       "    .dataframe tbody tr th {\n",
       "        vertical-align: top;\n",
       "    }\n",
       "</style>\n",
       "<table border=\"1\" class=\"dataframe\">\n",
       "  <thead>\n",
       "    <tr style=\"text-align: right;\">\n",
       "      <th></th>\n",
       "      <th>0</th>\n",
       "      <th>1</th>\n",
       "      <th>2</th>\n",
       "      <th>3</th>\n",
       "      <th>4</th>\n",
       "      <th>5</th>\n",
       "    </tr>\n",
       "  </thead>\n",
       "  <tbody>\n",
       "    <tr>\n",
       "      <th>0</th>\n",
       "      <td>Date</td>\n",
       "      <td>Open</td>\n",
       "      <td>High</td>\n",
       "      <td>Low</td>\n",
       "      <td>Close</td>\n",
       "      <td>Volume</td>\n",
       "    </tr>\n",
       "    <tr>\n",
       "      <th>1</th>\n",
       "      <td>30-Sep-16</td>\n",
       "      <td>112.46</td>\n",
       "      <td>113.37</td>\n",
       "      <td>111.80</td>\n",
       "      <td>113.05</td>\n",
       "      <td>36379106</td>\n",
       "    </tr>\n",
       "    <tr>\n",
       "      <th>2</th>\n",
       "      <td>29-Sep-16</td>\n",
       "      <td>113.16</td>\n",
       "      <td>113.80</td>\n",
       "      <td>111.80</td>\n",
       "      <td>112.18</td>\n",
       "      <td>35886990</td>\n",
       "    </tr>\n",
       "    <tr>\n",
       "      <th>3</th>\n",
       "      <td>28-Sep-16</td>\n",
       "      <td>113.69</td>\n",
       "      <td>114.64</td>\n",
       "      <td>113.43</td>\n",
       "      <td>113.95</td>\n",
       "      <td>29641085</td>\n",
       "    </tr>\n",
       "    <tr>\n",
       "      <th>4</th>\n",
       "      <td>27-Sep-16</td>\n",
       "      <td>113.00</td>\n",
       "      <td>113.18</td>\n",
       "      <td>112.34</td>\n",
       "      <td>113.09</td>\n",
       "      <td>24607412</td>\n",
       "    </tr>\n",
       "    <tr>\n",
       "      <th>5</th>\n",
       "      <td>26-Sep-16</td>\n",
       "      <td>111.64</td>\n",
       "      <td>113.39</td>\n",
       "      <td>111.55</td>\n",
       "      <td>112.88</td>\n",
       "      <td>29869442</td>\n",
       "    </tr>\n",
       "  </tbody>\n",
       "</table>\n",
       "</div>"
      ],
      "text/plain": [
       "           0       1       2       3       4         5\n",
       "0       Date    Open    High     Low   Close    Volume\n",
       "1  30-Sep-16  112.46  113.37  111.80  113.05  36379106\n",
       "2  29-Sep-16  113.16  113.80  111.80  112.18  35886990\n",
       "3  28-Sep-16  113.69  114.64  113.43  113.95  29641085\n",
       "4  27-Sep-16  113.00  113.18  112.34  113.09  24607412\n",
       "5  26-Sep-16  111.64  113.39  111.55  112.88  29869442"
      ]
     },
     "execution_count": 172,
     "metadata": {},
     "output_type": "execute_result"
    }
   ],
   "source": [
    "apple_df[:6]"
   ]
  },
  {
   "cell_type": "code",
   "execution_count": 173,
   "metadata": {
    "collapsed": true
   },
   "outputs": [
    {
     "ename": "KeyError",
     "evalue": "'Date'",
     "output_type": "error",
     "traceback": [
      "\u001b[1;31m---------------------------------------------------------------------------\u001b[0m",
      "\u001b[1;31mTypeError\u001b[0m                                 Traceback (most recent call last)",
      "\u001b[1;32mpandas\\_libs\\index.pyx\u001b[0m in \u001b[0;36mpandas._libs.index.IndexEngine.get_loc (pandas\\_libs\\index.c:5126)\u001b[1;34m()\u001b[0m\n",
      "\u001b[1;32mpandas\\_libs\\hashtable_class_helper.pxi\u001b[0m in \u001b[0;36mpandas._libs.hashtable.Int64HashTable.get_item (pandas\\_libs\\hashtable.c:14010)\u001b[1;34m()\u001b[0m\n",
      "\u001b[1;31mTypeError\u001b[0m: an integer is required",
      "\nDuring handling of the above exception, another exception occurred:\n",
      "\u001b[1;31mKeyError\u001b[0m                                  Traceback (most recent call last)",
      "\u001b[1;32mc:\\python36\\lib\\site-packages\\pandas\\core\\indexes\\base.py\u001b[0m in \u001b[0;36mget_loc\u001b[1;34m(self, key, method, tolerance)\u001b[0m\n\u001b[0;32m   2441\u001b[0m             \u001b[1;32mtry\u001b[0m\u001b[1;33m:\u001b[0m\u001b[1;33m\u001b[0m\u001b[0m\n\u001b[1;32m-> 2442\u001b[1;33m                 \u001b[1;32mreturn\u001b[0m \u001b[0mself\u001b[0m\u001b[1;33m.\u001b[0m\u001b[0m_engine\u001b[0m\u001b[1;33m.\u001b[0m\u001b[0mget_loc\u001b[0m\u001b[1;33m(\u001b[0m\u001b[0mkey\u001b[0m\u001b[1;33m)\u001b[0m\u001b[1;33m\u001b[0m\u001b[0m\n\u001b[0m\u001b[0;32m   2443\u001b[0m             \u001b[1;32mexcept\u001b[0m \u001b[0mKeyError\u001b[0m\u001b[1;33m:\u001b[0m\u001b[1;33m\u001b[0m\u001b[0m\n",
      "\u001b[1;32mpandas\\_libs\\index.pyx\u001b[0m in \u001b[0;36mpandas._libs.index.IndexEngine.get_loc (pandas\\_libs\\index.c:5280)\u001b[1;34m()\u001b[0m\n",
      "\u001b[1;32mpandas\\_libs\\index.pyx\u001b[0m in \u001b[0;36mpandas._libs.index.IndexEngine.get_loc (pandas\\_libs\\index.c:5210)\u001b[1;34m()\u001b[0m\n",
      "\u001b[1;31mKeyError\u001b[0m: 'Date'",
      "\nDuring handling of the above exception, another exception occurred:\n",
      "\u001b[1;31mTypeError\u001b[0m                                 Traceback (most recent call last)",
      "\u001b[1;32mpandas\\_libs\\index.pyx\u001b[0m in \u001b[0;36mpandas._libs.index.IndexEngine.get_loc (pandas\\_libs\\index.c:5126)\u001b[1;34m()\u001b[0m\n",
      "\u001b[1;32mpandas\\_libs\\hashtable_class_helper.pxi\u001b[0m in \u001b[0;36mpandas._libs.hashtable.Int64HashTable.get_item (pandas\\_libs\\hashtable.c:14010)\u001b[1;34m()\u001b[0m\n",
      "\u001b[1;31mTypeError\u001b[0m: an integer is required",
      "\nDuring handling of the above exception, another exception occurred:\n",
      "\u001b[1;31mKeyError\u001b[0m                                  Traceback (most recent call last)",
      "\u001b[1;32m<ipython-input-173-9103a624393e>\u001b[0m in \u001b[0;36m<module>\u001b[1;34m()\u001b[0m\n\u001b[1;32m----> 1\u001b[1;33m \u001b[0mapple_df\u001b[0m\u001b[1;33m[\u001b[0m\u001b[1;34m'Date'\u001b[0m\u001b[1;33m]\u001b[0m\u001b[1;33m\u001b[0m\u001b[0m\n\u001b[0m\u001b[0;32m      2\u001b[0m \u001b[1;33m\u001b[0m\u001b[0m\n\u001b[0;32m      3\u001b[0m \u001b[1;31m# 컬럼형태로\u001b[0m\u001b[1;33m\u001b[0m\u001b[1;33m\u001b[0m\u001b[0m\n",
      "\u001b[1;32mc:\\python36\\lib\\site-packages\\pandas\\core\\frame.py\u001b[0m in \u001b[0;36m__getitem__\u001b[1;34m(self, key)\u001b[0m\n\u001b[0;32m   1962\u001b[0m             \u001b[1;32mreturn\u001b[0m \u001b[0mself\u001b[0m\u001b[1;33m.\u001b[0m\u001b[0m_getitem_multilevel\u001b[0m\u001b[1;33m(\u001b[0m\u001b[0mkey\u001b[0m\u001b[1;33m)\u001b[0m\u001b[1;33m\u001b[0m\u001b[0m\n\u001b[0;32m   1963\u001b[0m         \u001b[1;32melse\u001b[0m\u001b[1;33m:\u001b[0m\u001b[1;33m\u001b[0m\u001b[0m\n\u001b[1;32m-> 1964\u001b[1;33m             \u001b[1;32mreturn\u001b[0m \u001b[0mself\u001b[0m\u001b[1;33m.\u001b[0m\u001b[0m_getitem_column\u001b[0m\u001b[1;33m(\u001b[0m\u001b[0mkey\u001b[0m\u001b[1;33m)\u001b[0m\u001b[1;33m\u001b[0m\u001b[0m\n\u001b[0m\u001b[0;32m   1965\u001b[0m \u001b[1;33m\u001b[0m\u001b[0m\n\u001b[0;32m   1966\u001b[0m     \u001b[1;32mdef\u001b[0m \u001b[0m_getitem_column\u001b[0m\u001b[1;33m(\u001b[0m\u001b[0mself\u001b[0m\u001b[1;33m,\u001b[0m \u001b[0mkey\u001b[0m\u001b[1;33m)\u001b[0m\u001b[1;33m:\u001b[0m\u001b[1;33m\u001b[0m\u001b[0m\n",
      "\u001b[1;32mc:\\python36\\lib\\site-packages\\pandas\\core\\frame.py\u001b[0m in \u001b[0;36m_getitem_column\u001b[1;34m(self, key)\u001b[0m\n\u001b[0;32m   1969\u001b[0m         \u001b[1;31m# get column\u001b[0m\u001b[1;33m\u001b[0m\u001b[1;33m\u001b[0m\u001b[0m\n\u001b[0;32m   1970\u001b[0m         \u001b[1;32mif\u001b[0m \u001b[0mself\u001b[0m\u001b[1;33m.\u001b[0m\u001b[0mcolumns\u001b[0m\u001b[1;33m.\u001b[0m\u001b[0mis_unique\u001b[0m\u001b[1;33m:\u001b[0m\u001b[1;33m\u001b[0m\u001b[0m\n\u001b[1;32m-> 1971\u001b[1;33m             \u001b[1;32mreturn\u001b[0m \u001b[0mself\u001b[0m\u001b[1;33m.\u001b[0m\u001b[0m_get_item_cache\u001b[0m\u001b[1;33m(\u001b[0m\u001b[0mkey\u001b[0m\u001b[1;33m)\u001b[0m\u001b[1;33m\u001b[0m\u001b[0m\n\u001b[0m\u001b[0;32m   1972\u001b[0m \u001b[1;33m\u001b[0m\u001b[0m\n\u001b[0;32m   1973\u001b[0m         \u001b[1;31m# duplicate columns & possible reduce dimensionality\u001b[0m\u001b[1;33m\u001b[0m\u001b[1;33m\u001b[0m\u001b[0m\n",
      "\u001b[1;32mc:\\python36\\lib\\site-packages\\pandas\\core\\generic.py\u001b[0m in \u001b[0;36m_get_item_cache\u001b[1;34m(self, item)\u001b[0m\n\u001b[0;32m   1643\u001b[0m         \u001b[0mres\u001b[0m \u001b[1;33m=\u001b[0m \u001b[0mcache\u001b[0m\u001b[1;33m.\u001b[0m\u001b[0mget\u001b[0m\u001b[1;33m(\u001b[0m\u001b[0mitem\u001b[0m\u001b[1;33m)\u001b[0m\u001b[1;33m\u001b[0m\u001b[0m\n\u001b[0;32m   1644\u001b[0m         \u001b[1;32mif\u001b[0m \u001b[0mres\u001b[0m \u001b[1;32mis\u001b[0m \u001b[1;32mNone\u001b[0m\u001b[1;33m:\u001b[0m\u001b[1;33m\u001b[0m\u001b[0m\n\u001b[1;32m-> 1645\u001b[1;33m             \u001b[0mvalues\u001b[0m \u001b[1;33m=\u001b[0m \u001b[0mself\u001b[0m\u001b[1;33m.\u001b[0m\u001b[0m_data\u001b[0m\u001b[1;33m.\u001b[0m\u001b[0mget\u001b[0m\u001b[1;33m(\u001b[0m\u001b[0mitem\u001b[0m\u001b[1;33m)\u001b[0m\u001b[1;33m\u001b[0m\u001b[0m\n\u001b[0m\u001b[0;32m   1646\u001b[0m             \u001b[0mres\u001b[0m \u001b[1;33m=\u001b[0m \u001b[0mself\u001b[0m\u001b[1;33m.\u001b[0m\u001b[0m_box_item_values\u001b[0m\u001b[1;33m(\u001b[0m\u001b[0mitem\u001b[0m\u001b[1;33m,\u001b[0m \u001b[0mvalues\u001b[0m\u001b[1;33m)\u001b[0m\u001b[1;33m\u001b[0m\u001b[0m\n\u001b[0;32m   1647\u001b[0m             \u001b[0mcache\u001b[0m\u001b[1;33m[\u001b[0m\u001b[0mitem\u001b[0m\u001b[1;33m]\u001b[0m \u001b[1;33m=\u001b[0m \u001b[0mres\u001b[0m\u001b[1;33m\u001b[0m\u001b[0m\n",
      "\u001b[1;32mc:\\python36\\lib\\site-packages\\pandas\\core\\internals.py\u001b[0m in \u001b[0;36mget\u001b[1;34m(self, item, fastpath)\u001b[0m\n\u001b[0;32m   3588\u001b[0m \u001b[1;33m\u001b[0m\u001b[0m\n\u001b[0;32m   3589\u001b[0m             \u001b[1;32mif\u001b[0m \u001b[1;32mnot\u001b[0m \u001b[0misnull\u001b[0m\u001b[1;33m(\u001b[0m\u001b[0mitem\u001b[0m\u001b[1;33m)\u001b[0m\u001b[1;33m:\u001b[0m\u001b[1;33m\u001b[0m\u001b[0m\n\u001b[1;32m-> 3590\u001b[1;33m                 \u001b[0mloc\u001b[0m \u001b[1;33m=\u001b[0m \u001b[0mself\u001b[0m\u001b[1;33m.\u001b[0m\u001b[0mitems\u001b[0m\u001b[1;33m.\u001b[0m\u001b[0mget_loc\u001b[0m\u001b[1;33m(\u001b[0m\u001b[0mitem\u001b[0m\u001b[1;33m)\u001b[0m\u001b[1;33m\u001b[0m\u001b[0m\n\u001b[0m\u001b[0;32m   3591\u001b[0m             \u001b[1;32melse\u001b[0m\u001b[1;33m:\u001b[0m\u001b[1;33m\u001b[0m\u001b[0m\n\u001b[0;32m   3592\u001b[0m                 \u001b[0mindexer\u001b[0m \u001b[1;33m=\u001b[0m \u001b[0mnp\u001b[0m\u001b[1;33m.\u001b[0m\u001b[0marange\u001b[0m\u001b[1;33m(\u001b[0m\u001b[0mlen\u001b[0m\u001b[1;33m(\u001b[0m\u001b[0mself\u001b[0m\u001b[1;33m.\u001b[0m\u001b[0mitems\u001b[0m\u001b[1;33m)\u001b[0m\u001b[1;33m)\u001b[0m\u001b[1;33m[\u001b[0m\u001b[0misnull\u001b[0m\u001b[1;33m(\u001b[0m\u001b[0mself\u001b[0m\u001b[1;33m.\u001b[0m\u001b[0mitems\u001b[0m\u001b[1;33m)\u001b[0m\u001b[1;33m]\u001b[0m\u001b[1;33m\u001b[0m\u001b[0m\n",
      "\u001b[1;32mc:\\python36\\lib\\site-packages\\pandas\\core\\indexes\\base.py\u001b[0m in \u001b[0;36mget_loc\u001b[1;34m(self, key, method, tolerance)\u001b[0m\n\u001b[0;32m   2442\u001b[0m                 \u001b[1;32mreturn\u001b[0m \u001b[0mself\u001b[0m\u001b[1;33m.\u001b[0m\u001b[0m_engine\u001b[0m\u001b[1;33m.\u001b[0m\u001b[0mget_loc\u001b[0m\u001b[1;33m(\u001b[0m\u001b[0mkey\u001b[0m\u001b[1;33m)\u001b[0m\u001b[1;33m\u001b[0m\u001b[0m\n\u001b[0;32m   2443\u001b[0m             \u001b[1;32mexcept\u001b[0m \u001b[0mKeyError\u001b[0m\u001b[1;33m:\u001b[0m\u001b[1;33m\u001b[0m\u001b[0m\n\u001b[1;32m-> 2444\u001b[1;33m                 \u001b[1;32mreturn\u001b[0m \u001b[0mself\u001b[0m\u001b[1;33m.\u001b[0m\u001b[0m_engine\u001b[0m\u001b[1;33m.\u001b[0m\u001b[0mget_loc\u001b[0m\u001b[1;33m(\u001b[0m\u001b[0mself\u001b[0m\u001b[1;33m.\u001b[0m\u001b[0m_maybe_cast_indexer\u001b[0m\u001b[1;33m(\u001b[0m\u001b[0mkey\u001b[0m\u001b[1;33m)\u001b[0m\u001b[1;33m)\u001b[0m\u001b[1;33m\u001b[0m\u001b[0m\n\u001b[0m\u001b[0;32m   2445\u001b[0m \u001b[1;33m\u001b[0m\u001b[0m\n\u001b[0;32m   2446\u001b[0m         \u001b[0mindexer\u001b[0m \u001b[1;33m=\u001b[0m \u001b[0mself\u001b[0m\u001b[1;33m.\u001b[0m\u001b[0mget_indexer\u001b[0m\u001b[1;33m(\u001b[0m\u001b[1;33m[\u001b[0m\u001b[0mkey\u001b[0m\u001b[1;33m]\u001b[0m\u001b[1;33m,\u001b[0m \u001b[0mmethod\u001b[0m\u001b[1;33m=\u001b[0m\u001b[0mmethod\u001b[0m\u001b[1;33m,\u001b[0m \u001b[0mtolerance\u001b[0m\u001b[1;33m=\u001b[0m\u001b[0mtolerance\u001b[0m\u001b[1;33m)\u001b[0m\u001b[1;33m\u001b[0m\u001b[0m\n",
      "\u001b[1;32mpandas\\_libs\\index.pyx\u001b[0m in \u001b[0;36mpandas._libs.index.IndexEngine.get_loc (pandas\\_libs\\index.c:5280)\u001b[1;34m()\u001b[0m\n",
      "\u001b[1;32mpandas\\_libs\\index.pyx\u001b[0m in \u001b[0;36mpandas._libs.index.IndexEngine.get_loc (pandas\\_libs\\index.c:5210)\u001b[1;34m()\u001b[0m\n",
      "\u001b[1;31mKeyError\u001b[0m: 'Date'"
     ]
    }
   ],
   "source": [
    "apple_df['Date']\n",
    "\n",
    "# 컬럼형태로"
   ]
  },
  {
   "cell_type": "code",
   "execution_count": 174,
   "metadata": {
    "collapsed": true
   },
   "outputs": [
    {
     "ename": "ValueError",
     "evalue": "Location based indexing can only have [integer, integer slice (START point is INCLUDED, END point is EXCLUDED), listlike of integers, boolean array] types",
     "output_type": "error",
     "traceback": [
      "\u001b[1;31m---------------------------------------------------------------------------\u001b[0m",
      "\u001b[1;31mValueError\u001b[0m                                Traceback (most recent call last)",
      "\u001b[1;32m<ipython-input-174-e045f81c75f7>\u001b[0m in \u001b[0;36m<module>\u001b[1;34m()\u001b[0m\n\u001b[1;32m----> 1\u001b[1;33m \u001b[0mapple_df\u001b[0m\u001b[1;33m.\u001b[0m\u001b[0miloc\u001b[0m\u001b[1;33m[\u001b[0m\u001b[1;34m'Date'\u001b[0m\u001b[1;33m,\u001b[0m \u001b[1;34m'Open'\u001b[0m\u001b[1;33m]\u001b[0m\u001b[1;33m\u001b[0m\u001b[0m\n\u001b[0m\u001b[0;32m      2\u001b[0m \u001b[1;33m\u001b[0m\u001b[0m\n\u001b[0;32m      3\u001b[0m \u001b[1;31m# 컬럼형태 2개\u001b[0m\u001b[1;33m\u001b[0m\u001b[1;33m\u001b[0m\u001b[0m\n",
      "\u001b[1;32mc:\\python36\\lib\\site-packages\\pandas\\core\\indexing.py\u001b[0m in \u001b[0;36m__getitem__\u001b[1;34m(self, key)\u001b[0m\n\u001b[0;32m   1323\u001b[0m             \u001b[1;32mexcept\u001b[0m \u001b[1;33m(\u001b[0m\u001b[0mKeyError\u001b[0m\u001b[1;33m,\u001b[0m \u001b[0mIndexError\u001b[0m\u001b[1;33m)\u001b[0m\u001b[1;33m:\u001b[0m\u001b[1;33m\u001b[0m\u001b[0m\n\u001b[0;32m   1324\u001b[0m                 \u001b[1;32mpass\u001b[0m\u001b[1;33m\u001b[0m\u001b[0m\n\u001b[1;32m-> 1325\u001b[1;33m             \u001b[1;32mreturn\u001b[0m \u001b[0mself\u001b[0m\u001b[1;33m.\u001b[0m\u001b[0m_getitem_tuple\u001b[0m\u001b[1;33m(\u001b[0m\u001b[0mkey\u001b[0m\u001b[1;33m)\u001b[0m\u001b[1;33m\u001b[0m\u001b[0m\n\u001b[0m\u001b[0;32m   1326\u001b[0m         \u001b[1;32melse\u001b[0m\u001b[1;33m:\u001b[0m\u001b[1;33m\u001b[0m\u001b[0m\n\u001b[0;32m   1327\u001b[0m             \u001b[0mkey\u001b[0m \u001b[1;33m=\u001b[0m \u001b[0mcom\u001b[0m\u001b[1;33m.\u001b[0m\u001b[0m_apply_if_callable\u001b[0m\u001b[1;33m(\u001b[0m\u001b[0mkey\u001b[0m\u001b[1;33m,\u001b[0m \u001b[0mself\u001b[0m\u001b[1;33m.\u001b[0m\u001b[0mobj\u001b[0m\u001b[1;33m)\u001b[0m\u001b[1;33m\u001b[0m\u001b[0m\n",
      "\u001b[1;32mc:\\python36\\lib\\site-packages\\pandas\\core\\indexing.py\u001b[0m in \u001b[0;36m_getitem_tuple\u001b[1;34m(self, tup)\u001b[0m\n\u001b[0;32m   1660\u001b[0m     \u001b[1;32mdef\u001b[0m \u001b[0m_getitem_tuple\u001b[0m\u001b[1;33m(\u001b[0m\u001b[0mself\u001b[0m\u001b[1;33m,\u001b[0m \u001b[0mtup\u001b[0m\u001b[1;33m)\u001b[0m\u001b[1;33m:\u001b[0m\u001b[1;33m\u001b[0m\u001b[0m\n\u001b[0;32m   1661\u001b[0m \u001b[1;33m\u001b[0m\u001b[0m\n\u001b[1;32m-> 1662\u001b[1;33m         \u001b[0mself\u001b[0m\u001b[1;33m.\u001b[0m\u001b[0m_has_valid_tuple\u001b[0m\u001b[1;33m(\u001b[0m\u001b[0mtup\u001b[0m\u001b[1;33m)\u001b[0m\u001b[1;33m\u001b[0m\u001b[0m\n\u001b[0m\u001b[0;32m   1663\u001b[0m         \u001b[1;32mtry\u001b[0m\u001b[1;33m:\u001b[0m\u001b[1;33m\u001b[0m\u001b[0m\n\u001b[0;32m   1664\u001b[0m             \u001b[1;32mreturn\u001b[0m \u001b[0mself\u001b[0m\u001b[1;33m.\u001b[0m\u001b[0m_getitem_lowerdim\u001b[0m\u001b[1;33m(\u001b[0m\u001b[0mtup\u001b[0m\u001b[1;33m)\u001b[0m\u001b[1;33m\u001b[0m\u001b[0m\n",
      "\u001b[1;32mc:\\python36\\lib\\site-packages\\pandas\\core\\indexing.py\u001b[0m in \u001b[0;36m_has_valid_tuple\u001b[1;34m(self, key)\u001b[0m\n\u001b[0;32m    189\u001b[0m             \u001b[1;32mif\u001b[0m \u001b[1;32mnot\u001b[0m \u001b[0mself\u001b[0m\u001b[1;33m.\u001b[0m\u001b[0m_has_valid_type\u001b[0m\u001b[1;33m(\u001b[0m\u001b[0mk\u001b[0m\u001b[1;33m,\u001b[0m \u001b[0mi\u001b[0m\u001b[1;33m)\u001b[0m\u001b[1;33m:\u001b[0m\u001b[1;33m\u001b[0m\u001b[0m\n\u001b[0;32m    190\u001b[0m                 raise ValueError(\"Location based indexing can only have [%s] \"\n\u001b[1;32m--> 191\u001b[1;33m                                  \"types\" % self._valid_types)\n\u001b[0m\u001b[0;32m    192\u001b[0m \u001b[1;33m\u001b[0m\u001b[0m\n\u001b[0;32m    193\u001b[0m     \u001b[1;32mdef\u001b[0m \u001b[0m_should_validate_iterable\u001b[0m\u001b[1;33m(\u001b[0m\u001b[0mself\u001b[0m\u001b[1;33m,\u001b[0m \u001b[0maxis\u001b[0m\u001b[1;33m=\u001b[0m\u001b[1;36m0\u001b[0m\u001b[1;33m)\u001b[0m\u001b[1;33m:\u001b[0m\u001b[1;33m\u001b[0m\u001b[0m\n",
      "\u001b[1;31mValueError\u001b[0m: Location based indexing can only have [integer, integer slice (START point is INCLUDED, END point is EXCLUDED), listlike of integers, boolean array] types"
     ]
    }
   ],
   "source": [
    "apple_df.iloc['Date', 'Open']\n",
    "\n",
    "# 컬럼형태 2개"
   ]
  },
  {
   "cell_type": "code",
   "execution_count": 175,
   "metadata": {},
   "outputs": [
    {
     "data": {
      "text/html": [
       "<div>\n",
       "<style>\n",
       "    .dataframe thead tr:only-child th {\n",
       "        text-align: right;\n",
       "    }\n",
       "\n",
       "    .dataframe thead th {\n",
       "        text-align: left;\n",
       "    }\n",
       "\n",
       "    .dataframe tbody tr th {\n",
       "        vertical-align: top;\n",
       "    }\n",
       "</style>\n",
       "<table border=\"1\" class=\"dataframe\">\n",
       "  <thead>\n",
       "    <tr style=\"text-align: right;\">\n",
       "      <th></th>\n",
       "      <th>0</th>\n",
       "      <th>1</th>\n",
       "      <th>2</th>\n",
       "      <th>3</th>\n",
       "      <th>4</th>\n",
       "      <th>5</th>\n",
       "    </tr>\n",
       "  </thead>\n",
       "  <tbody>\n",
       "    <tr>\n",
       "      <th>3</th>\n",
       "      <td>28-Sep-16</td>\n",
       "      <td>113.69</td>\n",
       "      <td>114.64</td>\n",
       "      <td>113.43</td>\n",
       "      <td>113.95</td>\n",
       "      <td>29641085</td>\n",
       "    </tr>\n",
       "    <tr>\n",
       "      <th>4</th>\n",
       "      <td>27-Sep-16</td>\n",
       "      <td>113.00</td>\n",
       "      <td>113.18</td>\n",
       "      <td>112.34</td>\n",
       "      <td>113.09</td>\n",
       "      <td>24607412</td>\n",
       "    </tr>\n",
       "    <tr>\n",
       "      <th>5</th>\n",
       "      <td>26-Sep-16</td>\n",
       "      <td>111.64</td>\n",
       "      <td>113.39</td>\n",
       "      <td>111.55</td>\n",
       "      <td>112.88</td>\n",
       "      <td>29869442</td>\n",
       "    </tr>\n",
       "    <tr>\n",
       "      <th>6</th>\n",
       "      <td>23-Sep-16</td>\n",
       "      <td>114.42</td>\n",
       "      <td>114.79</td>\n",
       "      <td>111.55</td>\n",
       "      <td>112.71</td>\n",
       "      <td>52481151</td>\n",
       "    </tr>\n",
       "  </tbody>\n",
       "</table>\n",
       "</div>"
      ],
      "text/plain": [
       "           0       1       2       3       4         5\n",
       "3  28-Sep-16  113.69  114.64  113.43  113.95  29641085\n",
       "4  27-Sep-16  113.00  113.18  112.34  113.09  24607412\n",
       "5  26-Sep-16  111.64  113.39  111.55  112.88  29869442\n",
       "6  23-Sep-16  114.42  114.79  111.55  112.71  52481151"
      ]
     },
     "execution_count": 175,
     "metadata": {},
     "output_type": "execute_result"
    }
   ],
   "source": [
    "apple_df[3:7]"
   ]
  },
  {
   "cell_type": "markdown",
   "metadata": {},
   "source": [
    ">> - df['  ']의 안에는 기본적으로 컬럼형태이고 슬라이싱 할때만 로우형태이다..."
   ]
  },
  {
   "cell_type": "markdown",
   "metadata": {},
   "source": [
    "* **연습문제** \n",
    " - 아래 코드의 결과는?"
   ]
  },
  {
   "cell_type": "code",
   "execution_count": 176,
   "metadata": {},
   "outputs": [
    {
     "data": {
      "text/plain": [
       "0          Date\n",
       "1     30-Sep-16\n",
       "2     29-Sep-16\n",
       "3     28-Sep-16\n",
       "4     27-Sep-16\n",
       "5     26-Sep-16\n",
       "6     23-Sep-16\n",
       "7     22-Sep-16\n",
       "8     21-Sep-16\n",
       "9     20-Sep-16\n",
       "10    19-Sep-16\n",
       "11    16-Sep-16\n",
       "12    15-Sep-16\n",
       "13    14-Sep-16\n",
       "14    13-Sep-16\n",
       "15    12-Sep-16\n",
       "16     9-Sep-16\n",
       "17     8-Sep-16\n",
       "18     7-Sep-16\n",
       "19     6-Sep-16\n",
       "20     2-Sep-16\n",
       "21     1-Sep-16\n",
       "Name: 0, dtype: object"
      ]
     },
     "execution_count": 176,
     "metadata": {},
     "output_type": "execute_result"
    }
   ],
   "source": [
    "apple_df[0]     # 기본적으로 [] 안에 숫자가 들어가면 0부터 Column의 순서대로 진행이 된다.(df[3]이면 0, 1, 2, 3의 3인 네번째 열을 소환)"
   ]
  },
  {
   "cell_type": "code",
   "execution_count": 177,
   "metadata": {},
   "outputs": [
    {
     "data": {
      "text/html": [
       "<div>\n",
       "<style>\n",
       "    .dataframe thead tr:only-child th {\n",
       "        text-align: right;\n",
       "    }\n",
       "\n",
       "    .dataframe thead th {\n",
       "        text-align: left;\n",
       "    }\n",
       "\n",
       "    .dataframe tbody tr th {\n",
       "        vertical-align: top;\n",
       "    }\n",
       "</style>\n",
       "<table border=\"1\" class=\"dataframe\">\n",
       "  <thead>\n",
       "    <tr style=\"text-align: right;\">\n",
       "      <th></th>\n",
       "      <th>1</th>\n",
       "      <th>2</th>\n",
       "    </tr>\n",
       "  </thead>\n",
       "  <tbody>\n",
       "    <tr>\n",
       "      <th>0</th>\n",
       "      <td>Open</td>\n",
       "      <td>High</td>\n",
       "    </tr>\n",
       "    <tr>\n",
       "      <th>1</th>\n",
       "      <td>112.46</td>\n",
       "      <td>113.37</td>\n",
       "    </tr>\n",
       "    <tr>\n",
       "      <th>2</th>\n",
       "      <td>113.16</td>\n",
       "      <td>113.80</td>\n",
       "    </tr>\n",
       "    <tr>\n",
       "      <th>3</th>\n",
       "      <td>113.69</td>\n",
       "      <td>114.64</td>\n",
       "    </tr>\n",
       "    <tr>\n",
       "      <th>4</th>\n",
       "      <td>113.00</td>\n",
       "      <td>113.18</td>\n",
       "    </tr>\n",
       "    <tr>\n",
       "      <th>5</th>\n",
       "      <td>111.64</td>\n",
       "      <td>113.39</td>\n",
       "    </tr>\n",
       "    <tr>\n",
       "      <th>6</th>\n",
       "      <td>114.42</td>\n",
       "      <td>114.79</td>\n",
       "    </tr>\n",
       "    <tr>\n",
       "      <th>7</th>\n",
       "      <td>114.35</td>\n",
       "      <td>114.94</td>\n",
       "    </tr>\n",
       "    <tr>\n",
       "      <th>8</th>\n",
       "      <td>113.85</td>\n",
       "      <td>113.99</td>\n",
       "    </tr>\n",
       "    <tr>\n",
       "      <th>9</th>\n",
       "      <td>113.05</td>\n",
       "      <td>114.12</td>\n",
       "    </tr>\n",
       "    <tr>\n",
       "      <th>10</th>\n",
       "      <td>115.19</td>\n",
       "      <td>116.18</td>\n",
       "    </tr>\n",
       "    <tr>\n",
       "      <th>11</th>\n",
       "      <td>115.12</td>\n",
       "      <td>116.13</td>\n",
       "    </tr>\n",
       "    <tr>\n",
       "      <th>12</th>\n",
       "      <td>113.86</td>\n",
       "      <td>115.73</td>\n",
       "    </tr>\n",
       "    <tr>\n",
       "      <th>13</th>\n",
       "      <td>108.73</td>\n",
       "      <td>113.03</td>\n",
       "    </tr>\n",
       "    <tr>\n",
       "      <th>14</th>\n",
       "      <td>107.51</td>\n",
       "      <td>108.79</td>\n",
       "    </tr>\n",
       "    <tr>\n",
       "      <th>15</th>\n",
       "      <td>102.65</td>\n",
       "      <td>105.72</td>\n",
       "    </tr>\n",
       "    <tr>\n",
       "      <th>16</th>\n",
       "      <td>104.64</td>\n",
       "      <td>105.72</td>\n",
       "    </tr>\n",
       "    <tr>\n",
       "      <th>17</th>\n",
       "      <td>107.25</td>\n",
       "      <td>107.27</td>\n",
       "    </tr>\n",
       "    <tr>\n",
       "      <th>18</th>\n",
       "      <td>107.83</td>\n",
       "      <td>108.76</td>\n",
       "    </tr>\n",
       "    <tr>\n",
       "      <th>19</th>\n",
       "      <td>107.90</td>\n",
       "      <td>108.30</td>\n",
       "    </tr>\n",
       "    <tr>\n",
       "      <th>20</th>\n",
       "      <td>107.70</td>\n",
       "      <td>108.00</td>\n",
       "    </tr>\n",
       "    <tr>\n",
       "      <th>21</th>\n",
       "      <td>106.14</td>\n",
       "      <td>106.80</td>\n",
       "    </tr>\n",
       "  </tbody>\n",
       "</table>\n",
       "</div>"
      ],
      "text/plain": [
       "         1       2\n",
       "0     Open    High\n",
       "1   112.46  113.37\n",
       "2   113.16  113.80\n",
       "3   113.69  114.64\n",
       "4   113.00  113.18\n",
       "5   111.64  113.39\n",
       "6   114.42  114.79\n",
       "7   114.35  114.94\n",
       "8   113.85  113.99\n",
       "9   113.05  114.12\n",
       "10  115.19  116.18\n",
       "11  115.12  116.13\n",
       "12  113.86  115.73\n",
       "13  108.73  113.03\n",
       "14  107.51  108.79\n",
       "15  102.65  105.72\n",
       "16  104.64  105.72\n",
       "17  107.25  107.27\n",
       "18  107.83  108.76\n",
       "19  107.90  108.30\n",
       "20  107.70  108.00\n",
       "21  106.14  106.80"
      ]
     },
     "execution_count": 177,
     "metadata": {},
     "output_type": "execute_result"
    }
   ],
   "source": [
    "apple_df[[1, 2]]"
   ]
  },
  {
   "cell_type": "code",
   "execution_count": 181,
   "metadata": {
    "scrolled": false
   },
   "outputs": [
    {
     "data": {
      "text/plain": [
       "(0     30-Sep-16\n",
       " 1     29-Sep-16\n",
       " 2     28-Sep-16\n",
       " 3     27-Sep-16\n",
       " 4     26-Sep-16\n",
       " 5     23-Sep-16\n",
       " 6     22-Sep-16\n",
       " 7     21-Sep-16\n",
       " 8     20-Sep-16\n",
       " 9     19-Sep-16\n",
       " 10    16-Sep-16\n",
       " 11    15-Sep-16\n",
       " 12    14-Sep-16\n",
       " 13    13-Sep-16\n",
       " 14    12-Sep-16\n",
       " 15     9-Sep-16\n",
       " 16     8-Sep-16\n",
       " 17     7-Sep-16\n",
       " 18     6-Sep-16\n",
       " 19     2-Sep-16\n",
       " 20     1-Sep-16\n",
       " Name: Date, dtype: object, 0     112.46\n",
       " 1     113.16\n",
       " 2     113.69\n",
       " 3     113.00\n",
       " 4     111.64\n",
       " 5     114.42\n",
       " 6     114.35\n",
       " 7     113.85\n",
       " 8     113.05\n",
       " 9     115.19\n",
       " 10    115.12\n",
       " 11    113.86\n",
       " 12    108.73\n",
       " 13    107.51\n",
       " 14    102.65\n",
       " 15    104.64\n",
       " 16    107.25\n",
       " 17    107.83\n",
       " 18    107.90\n",
       " 19    107.70\n",
       " 20    106.14\n",
       " Name: Open, dtype: float64)"
      ]
     },
     "execution_count": 181,
     "metadata": {},
     "output_type": "execute_result"
    }
   ],
   "source": [
    "apple_df['Date'], apple_df['Open']"
   ]
  },
  {
   "cell_type": "markdown",
   "metadata": {},
   "source": [
    "* **column 선택하기**\n",
    "  - 기본적으로 **[ ]는 column을 추출 **\n",
    "  - 컬럼 이름일 경우 이름만 사용 가능\n",
    "  - 컬럼 인덱스일 경우 인덱스의 리스트 사용 가능"
   ]
  },
  {
   "cell_type": "code",
   "execution_count": 182,
   "metadata": {},
   "outputs": [
    {
     "data": {
      "text/html": [
       "<div>\n",
       "<style>\n",
       "    .dataframe thead tr:only-child th {\n",
       "        text-align: right;\n",
       "    }\n",
       "\n",
       "    .dataframe thead th {\n",
       "        text-align: left;\n",
       "    }\n",
       "\n",
       "    .dataframe tbody tr th {\n",
       "        vertical-align: top;\n",
       "    }\n",
       "</style>\n",
       "<table border=\"1\" class=\"dataframe\">\n",
       "  <thead>\n",
       "    <tr style=\"text-align: right;\">\n",
       "      <th></th>\n",
       "      <th>Date</th>\n",
       "      <th>Close</th>\n",
       "      <th>Volume</th>\n",
       "    </tr>\n",
       "  </thead>\n",
       "  <tbody>\n",
       "    <tr>\n",
       "      <th>0</th>\n",
       "      <td>30-Sep-16</td>\n",
       "      <td>113.05</td>\n",
       "      <td>36379106</td>\n",
       "    </tr>\n",
       "    <tr>\n",
       "      <th>1</th>\n",
       "      <td>29-Sep-16</td>\n",
       "      <td>112.18</td>\n",
       "      <td>35886990</td>\n",
       "    </tr>\n",
       "    <tr>\n",
       "      <th>2</th>\n",
       "      <td>28-Sep-16</td>\n",
       "      <td>113.95</td>\n",
       "      <td>29641085</td>\n",
       "    </tr>\n",
       "    <tr>\n",
       "      <th>3</th>\n",
       "      <td>27-Sep-16</td>\n",
       "      <td>113.09</td>\n",
       "      <td>24607412</td>\n",
       "    </tr>\n",
       "    <tr>\n",
       "      <th>4</th>\n",
       "      <td>26-Sep-16</td>\n",
       "      <td>112.88</td>\n",
       "      <td>29869442</td>\n",
       "    </tr>\n",
       "    <tr>\n",
       "      <th>5</th>\n",
       "      <td>23-Sep-16</td>\n",
       "      <td>112.71</td>\n",
       "      <td>52481151</td>\n",
       "    </tr>\n",
       "    <tr>\n",
       "      <th>6</th>\n",
       "      <td>22-Sep-16</td>\n",
       "      <td>114.62</td>\n",
       "      <td>31073984</td>\n",
       "    </tr>\n",
       "    <tr>\n",
       "      <th>7</th>\n",
       "      <td>21-Sep-16</td>\n",
       "      <td>113.55</td>\n",
       "      <td>36003185</td>\n",
       "    </tr>\n",
       "    <tr>\n",
       "      <th>8</th>\n",
       "      <td>20-Sep-16</td>\n",
       "      <td>113.57</td>\n",
       "      <td>34514269</td>\n",
       "    </tr>\n",
       "    <tr>\n",
       "      <th>9</th>\n",
       "      <td>19-Sep-16</td>\n",
       "      <td>113.58</td>\n",
       "      <td>47023046</td>\n",
       "    </tr>\n",
       "    <tr>\n",
       "      <th>10</th>\n",
       "      <td>16-Sep-16</td>\n",
       "      <td>114.92</td>\n",
       "      <td>79886911</td>\n",
       "    </tr>\n",
       "    <tr>\n",
       "      <th>11</th>\n",
       "      <td>15-Sep-16</td>\n",
       "      <td>115.57</td>\n",
       "      <td>90613177</td>\n",
       "    </tr>\n",
       "    <tr>\n",
       "      <th>12</th>\n",
       "      <td>14-Sep-16</td>\n",
       "      <td>111.77</td>\n",
       "      <td>112340318</td>\n",
       "    </tr>\n",
       "    <tr>\n",
       "      <th>13</th>\n",
       "      <td>13-Sep-16</td>\n",
       "      <td>107.95</td>\n",
       "      <td>62176190</td>\n",
       "    </tr>\n",
       "    <tr>\n",
       "      <th>14</th>\n",
       "      <td>12-Sep-16</td>\n",
       "      <td>105.44</td>\n",
       "      <td>45292770</td>\n",
       "    </tr>\n",
       "    <tr>\n",
       "      <th>15</th>\n",
       "      <td>9-Sep-16</td>\n",
       "      <td>103.13</td>\n",
       "      <td>46556984</td>\n",
       "    </tr>\n",
       "    <tr>\n",
       "      <th>16</th>\n",
       "      <td>8-Sep-16</td>\n",
       "      <td>105.52</td>\n",
       "      <td>53002026</td>\n",
       "    </tr>\n",
       "    <tr>\n",
       "      <th>17</th>\n",
       "      <td>7-Sep-16</td>\n",
       "      <td>108.36</td>\n",
       "      <td>42364328</td>\n",
       "    </tr>\n",
       "    <tr>\n",
       "      <th>18</th>\n",
       "      <td>6-Sep-16</td>\n",
       "      <td>107.70</td>\n",
       "      <td>26880391</td>\n",
       "    </tr>\n",
       "    <tr>\n",
       "      <th>19</th>\n",
       "      <td>2-Sep-16</td>\n",
       "      <td>107.73</td>\n",
       "      <td>26334858</td>\n",
       "    </tr>\n",
       "    <tr>\n",
       "      <th>20</th>\n",
       "      <td>1-Sep-16</td>\n",
       "      <td>106.73</td>\n",
       "      <td>26701523</td>\n",
       "    </tr>\n",
       "  </tbody>\n",
       "</table>\n",
       "</div>"
      ],
      "text/plain": [
       "         Date   Close     Volume\n",
       "0   30-Sep-16  113.05   36379106\n",
       "1   29-Sep-16  112.18   35886990\n",
       "2   28-Sep-16  113.95   29641085\n",
       "3   27-Sep-16  113.09   24607412\n",
       "4   26-Sep-16  112.88   29869442\n",
       "5   23-Sep-16  112.71   52481151\n",
       "6   22-Sep-16  114.62   31073984\n",
       "7   21-Sep-16  113.55   36003185\n",
       "8   20-Sep-16  113.57   34514269\n",
       "9   19-Sep-16  113.58   47023046\n",
       "10  16-Sep-16  114.92   79886911\n",
       "11  15-Sep-16  115.57   90613177\n",
       "12  14-Sep-16  111.77  112340318\n",
       "13  13-Sep-16  107.95   62176190\n",
       "14  12-Sep-16  105.44   45292770\n",
       "15   9-Sep-16  103.13   46556984\n",
       "16   8-Sep-16  105.52   53002026\n",
       "17   7-Sep-16  108.36   42364328\n",
       "18   6-Sep-16  107.70   26880391\n",
       "19   2-Sep-16  107.73   26334858\n",
       "20   1-Sep-16  106.73   26701523"
      ]
     },
     "execution_count": 182,
     "metadata": {},
     "output_type": "execute_result"
    }
   ],
   "source": [
    "# 숫자 인덱스로 컬럼 셀렉션 확인 할 것 \n",
    "apple_df[['Date', 'Close', 'Volume']] # 인덱스로도 가능"
   ]
  },
  {
   "cell_type": "code",
   "execution_count": 146,
   "metadata": {},
   "outputs": [
    {
     "name": "stdout",
     "output_type": "stream",
     "text": [
      "<class 'pandas.core.frame.DataFrame'>\n",
      "<class 'pandas.core.frame.DataFrame'>\n",
      "<class 'pandas.core.series.Series'>\n"
     ]
    }
   ],
   "source": [
    "print(type(apple_df[['Date']]))\n",
    "print(type(apple_df[['Date', 'Close']]))\n",
    "print(type(apple_df['Date']))"
   ]
  },
  {
   "cell_type": "markdown",
   "metadata": {},
   "source": [
    "* **row 선택하기**\n",
    "  - Seires의 경우 []로 row 선택이 가능하나, **DataFrame의 경우는 기본적으로 column을 선택하도록 설계**\n",
    "  - [:10]과 같이 slicing의 경우에는 row 선택 가능\n",
    "  - **.loc, .iloc함수**로 row 선택 가능"
   ]
  },
  {
   "cell_type": "code",
   "execution_count": 152,
   "metadata": {
    "collapsed": true
   },
   "outputs": [],
   "source": [
    "sample_df = pd.read_csv('sample.csv', index_col = 'Symbol')"
   ]
  },
  {
   "cell_type": "code",
   "execution_count": 153,
   "metadata": {},
   "outputs": [
    {
     "data": {
      "text/html": [
       "<div>\n",
       "<style>\n",
       "    .dataframe thead tr:only-child th {\n",
       "        text-align: right;\n",
       "    }\n",
       "\n",
       "    .dataframe thead th {\n",
       "        text-align: left;\n",
       "    }\n",
       "\n",
       "    .dataframe tbody tr th {\n",
       "        vertical-align: top;\n",
       "    }\n",
       "</style>\n",
       "<table border=\"1\" class=\"dataframe\">\n",
       "  <thead>\n",
       "    <tr style=\"text-align: right;\">\n",
       "      <th></th>\n",
       "      <th>Name</th>\n",
       "      <th>Sector</th>\n",
       "      <th>Price</th>\n",
       "      <th>Dividend Yield</th>\n",
       "      <th>Price/Earnings</th>\n",
       "      <th>Earnings/Share</th>\n",
       "      <th>Book Value</th>\n",
       "      <th>52 week low</th>\n",
       "      <th>52 week high</th>\n",
       "      <th>Market Cap</th>\n",
       "      <th>EBITDA</th>\n",
       "      <th>Price/Sales</th>\n",
       "      <th>Price/Book</th>\n",
       "      <th>SEC Filings</th>\n",
       "    </tr>\n",
       "    <tr>\n",
       "      <th>Symbol</th>\n",
       "      <th></th>\n",
       "      <th></th>\n",
       "      <th></th>\n",
       "      <th></th>\n",
       "      <th></th>\n",
       "      <th></th>\n",
       "      <th></th>\n",
       "      <th></th>\n",
       "      <th></th>\n",
       "      <th></th>\n",
       "      <th></th>\n",
       "      <th></th>\n",
       "      <th></th>\n",
       "      <th></th>\n",
       "    </tr>\n",
       "  </thead>\n",
       "  <tbody>\n",
       "    <tr>\n",
       "      <th>ABT</th>\n",
       "      <td>Abbott Laboratories</td>\n",
       "      <td>Health Care</td>\n",
       "      <td>41.89</td>\n",
       "      <td>2.55</td>\n",
       "      <td>25.79</td>\n",
       "      <td>1.62</td>\n",
       "      <td>14.10</td>\n",
       "      <td>36.00</td>\n",
       "      <td>51.74</td>\n",
       "      <td>61.54</td>\n",
       "      <td>4.4000</td>\n",
       "      <td>2.98</td>\n",
       "      <td>2.93</td>\n",
       "      <td>http://www.sec.gov/cgi-bin/browse-edgar?action...</td>\n",
       "    </tr>\n",
       "    <tr>\n",
       "      <th>ABBV</th>\n",
       "      <td>AbbVie</td>\n",
       "      <td>Health Care</td>\n",
       "      <td>64.16</td>\n",
       "      <td>3.60</td>\n",
       "      <td>19.29</td>\n",
       "      <td>3.33</td>\n",
       "      <td>2.87</td>\n",
       "      <td>45.45</td>\n",
       "      <td>71.60</td>\n",
       "      <td>103.77</td>\n",
       "      <td>10.3000</td>\n",
       "      <td>4.31</td>\n",
       "      <td>22.09</td>\n",
       "      <td>http://www.sec.gov/cgi-bin/browse-edgar?action...</td>\n",
       "    </tr>\n",
       "    <tr>\n",
       "      <th>ACN</th>\n",
       "      <td>Accenture plc</td>\n",
       "      <td>Information Technology</td>\n",
       "      <td>115.11</td>\n",
       "      <td>1.94</td>\n",
       "      <td>19.45</td>\n",
       "      <td>5.92</td>\n",
       "      <td>11.45</td>\n",
       "      <td>88.43</td>\n",
       "      <td>120.78</td>\n",
       "      <td>71.66</td>\n",
       "      <td>5.4200</td>\n",
       "      <td>2.17</td>\n",
       "      <td>9.84</td>\n",
       "      <td>http://www.sec.gov/cgi-bin/browse-edgar?action...</td>\n",
       "    </tr>\n",
       "    <tr>\n",
       "      <th>ATVI</th>\n",
       "      <td>Activision Blizzard</td>\n",
       "      <td>Information Technology</td>\n",
       "      <td>41.29</td>\n",
       "      <td>0.64</td>\n",
       "      <td>37.06</td>\n",
       "      <td>1.11</td>\n",
       "      <td>11.31</td>\n",
       "      <td>24.04</td>\n",
       "      <td>41.32</td>\n",
       "      <td>30.48</td>\n",
       "      <td>1.5900</td>\n",
       "      <td>6.16</td>\n",
       "      <td>3.57</td>\n",
       "      <td>http://www.sec.gov/cgi-bin/browse-edgar?action...</td>\n",
       "    </tr>\n",
       "    <tr>\n",
       "      <th>AYI</th>\n",
       "      <td>Acuity Brands Inc</td>\n",
       "      <td>Industrials</td>\n",
       "      <td>264.62</td>\n",
       "      <td>0.21</td>\n",
       "      <td>43.23</td>\n",
       "      <td>6.12</td>\n",
       "      <td>36.50</td>\n",
       "      <td>168.33</td>\n",
       "      <td>265.10</td>\n",
       "      <td>11.51</td>\n",
       "      <td>0.5365</td>\n",
       "      <td>3.53</td>\n",
       "      <td>6.95</td>\n",
       "      <td>http://www.sec.gov/cgi-bin/browse-edgar?action...</td>\n",
       "    </tr>\n",
       "    <tr>\n",
       "      <th>ADBE</th>\n",
       "      <td>Adobe Systems Inc</td>\n",
       "      <td>Information Technology</td>\n",
       "      <td>96.79</td>\n",
       "      <td>0.00</td>\n",
       "      <td>54.68</td>\n",
       "      <td>1.77</td>\n",
       "      <td>14.53</td>\n",
       "      <td>71.27</td>\n",
       "      <td>100.56</td>\n",
       "      <td>48.23</td>\n",
       "      <td>1.5300</td>\n",
       "      <td>8.93</td>\n",
       "      <td>6.55</td>\n",
       "      <td>http://www.sec.gov/cgi-bin/browse-edgar?action...</td>\n",
       "    </tr>\n",
       "    <tr>\n",
       "      <th>AAP</th>\n",
       "      <td>Advance Auto Parts</td>\n",
       "      <td>Consumer Discretionary</td>\n",
       "      <td>164.85</td>\n",
       "      <td>0.15</td>\n",
       "      <td>25.20</td>\n",
       "      <td>6.40</td>\n",
       "      <td>35.82</td>\n",
       "      <td>131.59</td>\n",
       "      <td>201.24</td>\n",
       "      <td>12.10</td>\n",
       "      <td>1.2400</td>\n",
       "      <td>1.22</td>\n",
       "      <td>4.50</td>\n",
       "      <td>http://www.sec.gov/cgi-bin/browse-edgar?action...</td>\n",
       "    </tr>\n",
       "    <tr>\n",
       "      <th>AES</th>\n",
       "      <td>AES Corp</td>\n",
       "      <td>Utilities</td>\n",
       "      <td>12.32</td>\n",
       "      <td>3.60</td>\n",
       "      <td>28.99</td>\n",
       "      <td>0.43</td>\n",
       "      <td>4.86</td>\n",
       "      <td>8.22</td>\n",
       "      <td>13.38</td>\n",
       "      <td>8.12</td>\n",
       "      <td>3.5700</td>\n",
       "      <td>0.55</td>\n",
       "      <td>2.49</td>\n",
       "      <td>http://www.sec.gov/cgi-bin/browse-edgar?action...</td>\n",
       "    </tr>\n",
       "    <tr>\n",
       "      <th>AET</th>\n",
       "      <td>Aetna Inc</td>\n",
       "      <td>Health Care</td>\n",
       "      <td>117.00</td>\n",
       "      <td>0.87</td>\n",
       "      <td>17.62</td>\n",
       "      <td>6.64</td>\n",
       "      <td>47.96</td>\n",
       "      <td>92.42</td>\n",
       "      <td>125.47</td>\n",
       "      <td>41.02</td>\n",
       "      <td>5.4000</td>\n",
       "      <td>0.67</td>\n",
       "      <td>2.41</td>\n",
       "      <td>http://www.sec.gov/cgi-bin/browse-edgar?action...</td>\n",
       "    </tr>\n",
       "  </tbody>\n",
       "</table>\n",
       "</div>"
      ],
      "text/plain": [
       "                       Name                  Sector   Price  Dividend Yield  \\\n",
       "Symbol                                                                        \n",
       "ABT     Abbott Laboratories             Health Care   41.89            2.55   \n",
       "ABBV                 AbbVie             Health Care   64.16            3.60   \n",
       "ACN           Accenture plc  Information Technology  115.11            1.94   \n",
       "ATVI    Activision Blizzard  Information Technology   41.29            0.64   \n",
       "AYI       Acuity Brands Inc             Industrials  264.62            0.21   \n",
       "ADBE      Adobe Systems Inc  Information Technology   96.79            0.00   \n",
       "AAP      Advance Auto Parts  Consumer Discretionary  164.85            0.15   \n",
       "AES                AES Corp               Utilities   12.32            3.60   \n",
       "AET               Aetna Inc             Health Care  117.00            0.87   \n",
       "\n",
       "        Price/Earnings  Earnings/Share  Book Value  52 week low  52 week high  \\\n",
       "Symbol                                                                          \n",
       "ABT              25.79            1.62       14.10        36.00         51.74   \n",
       "ABBV             19.29            3.33        2.87        45.45         71.60   \n",
       "ACN              19.45            5.92       11.45        88.43        120.78   \n",
       "ATVI             37.06            1.11       11.31        24.04         41.32   \n",
       "AYI              43.23            6.12       36.50       168.33        265.10   \n",
       "ADBE             54.68            1.77       14.53        71.27        100.56   \n",
       "AAP              25.20            6.40       35.82       131.59        201.24   \n",
       "AES              28.99            0.43        4.86         8.22         13.38   \n",
       "AET              17.62            6.64       47.96        92.42        125.47   \n",
       "\n",
       "        Market Cap   EBITDA  Price/Sales  Price/Book  \\\n",
       "Symbol                                                 \n",
       "ABT          61.54   4.4000         2.98        2.93   \n",
       "ABBV        103.77  10.3000         4.31       22.09   \n",
       "ACN          71.66   5.4200         2.17        9.84   \n",
       "ATVI         30.48   1.5900         6.16        3.57   \n",
       "AYI          11.51   0.5365         3.53        6.95   \n",
       "ADBE         48.23   1.5300         8.93        6.55   \n",
       "AAP          12.10   1.2400         1.22        4.50   \n",
       "AES           8.12   3.5700         0.55        2.49   \n",
       "AET          41.02   5.4000         0.67        2.41   \n",
       "\n",
       "                                              SEC Filings  \n",
       "Symbol                                                     \n",
       "ABT     http://www.sec.gov/cgi-bin/browse-edgar?action...  \n",
       "ABBV    http://www.sec.gov/cgi-bin/browse-edgar?action...  \n",
       "ACN     http://www.sec.gov/cgi-bin/browse-edgar?action...  \n",
       "ATVI    http://www.sec.gov/cgi-bin/browse-edgar?action...  \n",
       "AYI     http://www.sec.gov/cgi-bin/browse-edgar?action...  \n",
       "ADBE    http://www.sec.gov/cgi-bin/browse-edgar?action...  \n",
       "AAP     http://www.sec.gov/cgi-bin/browse-edgar?action...  \n",
       "AES     http://www.sec.gov/cgi-bin/browse-edgar?action...  \n",
       "AET     http://www.sec.gov/cgi-bin/browse-edgar?action...  "
      ]
     },
     "execution_count": 153,
     "metadata": {},
     "output_type": "execute_result"
    }
   ],
   "source": [
    "# slicing을 사용하면 row선택\n",
    "sample_df[1:10]"
   ]
  },
  {
   "cell_type": "code",
   "execution_count": 156,
   "metadata": {},
   "outputs": [
    {
     "data": {
      "text/plain": [
       "Name                                                     3M Company\n",
       "Sector                                                  Industrials\n",
       "Price                                                        177.12\n",
       "Dividend Yield                                                 2.53\n",
       "Price/Earnings                                                22.77\n",
       "Earnings/Share                                                 7.78\n",
       "Book Value                                                    19.34\n",
       "52 week low                                                     134\n",
       "52 week high                                                 177.79\n",
       "Market Cap                                                   107.43\n",
       "EBITDA                                                         8.57\n",
       "Price/Sales                                                    3.52\n",
       "Price/Book                                                     9.04\n",
       "SEC Filings       http://www.sec.gov/cgi-bin/browse-edgar?action...\n",
       "Name: MMM, dtype: object"
      ]
     },
     "execution_count": 156,
     "metadata": {},
     "output_type": "execute_result"
    }
   ],
   "source": [
    "sample_df.loc['MMM']"
   ]
  },
  {
   "cell_type": "code",
   "execution_count": 191,
   "metadata": {},
   "outputs": [
    {
     "data": {
      "text/plain": [
       "Name                                            Abbott Laboratories\n",
       "Sector                                                  Health Care\n",
       "Price                                                         41.89\n",
       "Dividend Yield                                                 2.55\n",
       "Price/Earnings                                                25.79\n",
       "Earnings/Share                                                 1.62\n",
       "Book Value                                                     14.1\n",
       "52 week low                                                      36\n",
       "52 week high                                                  51.74\n",
       "Market Cap                                                    61.54\n",
       "EBITDA                                                          4.4\n",
       "Price/Sales                                                    2.98\n",
       "Price/Book                                                     2.93\n",
       "SEC Filings       http://www.sec.gov/cgi-bin/browse-edgar?action...\n",
       "Name: ABT, dtype: object"
      ]
     },
     "execution_count": 191,
     "metadata": {},
     "output_type": "execute_result"
    }
   ],
   "source": [
    "sample_df.loc['ABT']"
   ]
  },
  {
   "cell_type": "code",
   "execution_count": 190,
   "metadata": {
    "scrolled": false
   },
   "outputs": [
    {
     "data": {
      "text/html": [
       "<div>\n",
       "<style>\n",
       "    .dataframe thead tr:only-child th {\n",
       "        text-align: right;\n",
       "    }\n",
       "\n",
       "    .dataframe thead th {\n",
       "        text-align: left;\n",
       "    }\n",
       "\n",
       "    .dataframe tbody tr th {\n",
       "        vertical-align: top;\n",
       "    }\n",
       "</style>\n",
       "<table border=\"1\" class=\"dataframe\">\n",
       "  <thead>\n",
       "    <tr style=\"text-align: right;\">\n",
       "      <th></th>\n",
       "      <th>Name</th>\n",
       "      <th>Sector</th>\n",
       "      <th>Price</th>\n",
       "      <th>Dividend Yield</th>\n",
       "      <th>Price/Earnings</th>\n",
       "      <th>Earnings/Share</th>\n",
       "      <th>Book Value</th>\n",
       "      <th>52 week low</th>\n",
       "      <th>52 week high</th>\n",
       "      <th>Market Cap</th>\n",
       "      <th>EBITDA</th>\n",
       "      <th>Price/Sales</th>\n",
       "      <th>Price/Book</th>\n",
       "      <th>SEC Filings</th>\n",
       "    </tr>\n",
       "    <tr>\n",
       "      <th>Symbol</th>\n",
       "      <th></th>\n",
       "      <th></th>\n",
       "      <th></th>\n",
       "      <th></th>\n",
       "      <th></th>\n",
       "      <th></th>\n",
       "      <th></th>\n",
       "      <th></th>\n",
       "      <th></th>\n",
       "      <th></th>\n",
       "      <th></th>\n",
       "      <th></th>\n",
       "      <th></th>\n",
       "      <th></th>\n",
       "    </tr>\n",
       "  </thead>\n",
       "  <tbody>\n",
       "    <tr>\n",
       "      <th>MMM</th>\n",
       "      <td>3M Company</td>\n",
       "      <td>Industrials</td>\n",
       "      <td>177.12</td>\n",
       "      <td>2.53</td>\n",
       "      <td>22.77</td>\n",
       "      <td>7.78</td>\n",
       "      <td>19.34</td>\n",
       "      <td>134.00</td>\n",
       "      <td>177.79</td>\n",
       "      <td>107.43</td>\n",
       "      <td>8.57</td>\n",
       "      <td>3.52</td>\n",
       "      <td>9.04</td>\n",
       "      <td>http://www.sec.gov/cgi-bin/browse-edgar?action...</td>\n",
       "    </tr>\n",
       "    <tr>\n",
       "      <th>MSFT</th>\n",
       "      <td>Microsoft Corp.</td>\n",
       "      <td>Information Technology</td>\n",
       "      <td>52.30</td>\n",
       "      <td>2.75</td>\n",
       "      <td>40.32</td>\n",
       "      <td>1.30</td>\n",
       "      <td>9.51</td>\n",
       "      <td>39.72</td>\n",
       "      <td>56.85</td>\n",
       "      <td>411.10</td>\n",
       "      <td>29.15</td>\n",
       "      <td>4.65</td>\n",
       "      <td>5.41</td>\n",
       "      <td>http://www.sec.gov/cgi-bin/browse-edgar?action...</td>\n",
       "    </tr>\n",
       "  </tbody>\n",
       "</table>\n",
       "</div>"
      ],
      "text/plain": [
       "                   Name                  Sector   Price  Dividend Yield  \\\n",
       "Symbol                                                                    \n",
       "MMM          3M Company             Industrials  177.12            2.53   \n",
       "MSFT    Microsoft Corp.  Information Technology   52.30            2.75   \n",
       "\n",
       "        Price/Earnings  Earnings/Share  Book Value  52 week low  52 week high  \\\n",
       "Symbol                                                                          \n",
       "MMM              22.77            7.78       19.34       134.00        177.79   \n",
       "MSFT             40.32            1.30        9.51        39.72         56.85   \n",
       "\n",
       "        Market Cap  EBITDA  Price/Sales  Price/Book  \\\n",
       "Symbol                                                \n",
       "MMM         107.43    8.57         3.52        9.04   \n",
       "MSFT        411.10   29.15         4.65        5.41   \n",
       "\n",
       "                                              SEC Filings  \n",
       "Symbol                                                     \n",
       "MMM     http://www.sec.gov/cgi-bin/browse-edgar?action...  \n",
       "MSFT    http://www.sec.gov/cgi-bin/browse-edgar?action...  "
      ]
     },
     "execution_count": 190,
     "metadata": {},
     "output_type": "execute_result"
    }
   ],
   "source": [
    "sample_df.loc[['MMM', 'MSFT']]       #print를 지우면 프레임 형식으로 출력됨."
   ]
  },
  {
   "cell_type": "code",
   "execution_count": 193,
   "metadata": {
    "scrolled": true
   },
   "outputs": [
    {
     "data": {
      "text/html": [
       "<div>\n",
       "<style>\n",
       "    .dataframe thead tr:only-child th {\n",
       "        text-align: right;\n",
       "    }\n",
       "\n",
       "    .dataframe thead th {\n",
       "        text-align: left;\n",
       "    }\n",
       "\n",
       "    .dataframe tbody tr th {\n",
       "        vertical-align: top;\n",
       "    }\n",
       "</style>\n",
       "<table border=\"1\" class=\"dataframe\">\n",
       "  <thead>\n",
       "    <tr style=\"text-align: right;\">\n",
       "      <th></th>\n",
       "      <th>Name</th>\n",
       "      <th>Sector</th>\n",
       "    </tr>\n",
       "    <tr>\n",
       "      <th>Symbol</th>\n",
       "      <th></th>\n",
       "      <th></th>\n",
       "    </tr>\n",
       "  </thead>\n",
       "  <tbody>\n",
       "    <tr>\n",
       "      <th>MMM</th>\n",
       "      <td>3M Company</td>\n",
       "      <td>Industrials</td>\n",
       "    </tr>\n",
       "    <tr>\n",
       "      <th>MSFT</th>\n",
       "      <td>Microsoft Corp.</td>\n",
       "      <td>Information Technology</td>\n",
       "    </tr>\n",
       "  </tbody>\n",
       "</table>\n",
       "</div>"
      ],
      "text/plain": [
       "                   Name                  Sector\n",
       "Symbol                                         \n",
       "MMM          3M Company             Industrials\n",
       "MSFT    Microsoft Corp.  Information Technology"
      ]
     },
     "execution_count": 193,
     "metadata": {},
     "output_type": "execute_result"
    }
   ],
   "source": [
    "sample_df.loc[['MMM', 'MSFT']][['Name', 'Sector']]       #print를 지우면 프레임 형식으로 출력됨."
   ]
  },
  {
   "cell_type": "code",
   "execution_count": 158,
   "metadata": {},
   "outputs": [
    {
     "name": "stdout",
     "output_type": "stream",
     "text": [
      "                       Name       Sector   Price  Dividend Yield  \\\n",
      "Symbol                                                             \n",
      "MMM              3M Company  Industrials  177.12            2.53   \n",
      "ABT     Abbott Laboratories  Health Care   41.89            2.55   \n",
      "ABBV                 AbbVie  Health Care   64.16            3.60   \n",
      "\n",
      "        Price/Earnings  Earnings/Share  Book Value  52 week low  52 week high  \\\n",
      "Symbol                                                                          \n",
      "MMM              22.77            7.78       19.34       134.00        177.79   \n",
      "ABT              25.79            1.62       14.10        36.00         51.74   \n",
      "ABBV             19.29            3.33        2.87        45.45         71.60   \n",
      "\n",
      "        Market Cap  EBITDA  Price/Sales  Price/Book  \\\n",
      "Symbol                                                \n",
      "MMM         107.43    8.57         3.52        9.04   \n",
      "ABT          61.54    4.40         2.98        2.93   \n",
      "ABBV        103.77   10.30         4.31       22.09   \n",
      "\n",
      "                                              SEC Filings  \n",
      "Symbol                                                     \n",
      "MMM     http://www.sec.gov/cgi-bin/browse-edgar?action...  \n",
      "ABT     http://www.sec.gov/cgi-bin/browse-edgar?action...  \n",
      "ABBV    http://www.sec.gov/cgi-bin/browse-edgar?action...  \n",
      "<class 'pandas.core.frame.DataFrame'>\n",
      "\n",
      "Name                                                     3M Company\n",
      "Sector                                                  Industrials\n",
      "Price                                                        177.12\n",
      "Dividend Yield                                                 2.53\n",
      "Price/Earnings                                                22.77\n",
      "Earnings/Share                                                 7.78\n",
      "Book Value                                                    19.34\n",
      "52 week low                                                     134\n",
      "52 week high                                                 177.79\n",
      "Market Cap                                                   107.43\n",
      "EBITDA                                                         8.57\n",
      "Price/Sales                                                    3.52\n",
      "Price/Book                                                     9.04\n",
      "SEC Filings       http://www.sec.gov/cgi-bin/browse-edgar?action...\n",
      "Name: MMM, dtype: object\n",
      "<class 'pandas.core.series.Series'>\n"
     ]
    }
   ],
   "source": [
    "print(sample_df.iloc[[0, 1, 2]])\n",
    "print(type(sample_df.iloc[[0, 1, 2]]))\n",
    "\n",
    "print()\n",
    "\n",
    "print(sample_df.iloc[0]) \n",
    "print(type(sample_df.iloc[0]))"
   ]
  },
  {
   "cell_type": "markdown",
   "metadata": {},
   "source": [
    "## * ** ☆★☆★☆★☆★☆★ boolean selection으로 row 선택하기 ★☆★☆★☆★☆★☆★☆**"
   ]
  },
  {
   "cell_type": "code",
   "execution_count": 194,
   "metadata": {
    "collapsed": true
   },
   "outputs": [
    {
     "name": "stdout",
     "output_type": "stream",
     "text": [
      "Symbol\n",
      "MMM       True\n",
      "ABT      False\n",
      "ABBV     False\n",
      "ACN       True\n",
      "ATVI     False\n",
      "AYI       True\n",
      "ADBE     False\n",
      "AAP       True\n",
      "AES      False\n",
      "AET       True\n",
      "AMG       True\n",
      "AFL      False\n",
      "A        False\n",
      "APD       True\n",
      "AKAM     False\n",
      "ALK      False\n",
      "ALB      False\n",
      "AA       False\n",
      "ALXN      True\n",
      "ALLE     False\n",
      "AGN       True\n",
      "ADS       True\n",
      "LNT      False\n",
      "ALL      False\n",
      "GOOGL     True\n",
      "GOOG      True\n",
      "MO       False\n",
      "AMZN      True\n",
      "AEE      False\n",
      "AAL      False\n",
      "         ...  \n",
      "V        False\n",
      "VNO       True\n",
      "VMC       True\n",
      "WMT      False\n",
      "WBA      False\n",
      "WM       False\n",
      "WAT       True\n",
      "WFC      False\n",
      "HCN      False\n",
      "WDC      False\n",
      "WU       False\n",
      "WRK      False\n",
      "WY       False\n",
      "WHR       True\n",
      "WFM      False\n",
      "WMB      False\n",
      "WLTW      True\n",
      "WEC      False\n",
      "WYN      False\n",
      "WYNN     False\n",
      "XEL      False\n",
      "XRX      False\n",
      "XLNX     False\n",
      "XL       False\n",
      "XYL      False\n",
      "YHOO     False\n",
      "YUM      False\n",
      "ZBH       True\n",
      "ZION     False\n",
      "ZTS      False\n",
      "Name: Price, Length: 504, dtype: bool\n"
     ]
    }
   ],
   "source": [
    "print(sample_df['Price'] > 100)"
   ]
  },
  {
   "cell_type": "code",
   "execution_count": 195,
   "metadata": {
    "collapsed": true
   },
   "outputs": [
    {
     "data": {
      "text/html": [
       "<div>\n",
       "<style>\n",
       "    .dataframe thead tr:only-child th {\n",
       "        text-align: right;\n",
       "    }\n",
       "\n",
       "    .dataframe thead th {\n",
       "        text-align: left;\n",
       "    }\n",
       "\n",
       "    .dataframe tbody tr th {\n",
       "        vertical-align: top;\n",
       "    }\n",
       "</style>\n",
       "<table border=\"1\" class=\"dataframe\">\n",
       "  <thead>\n",
       "    <tr style=\"text-align: right;\">\n",
       "      <th></th>\n",
       "      <th>Name</th>\n",
       "      <th>Sector</th>\n",
       "      <th>Price</th>\n",
       "      <th>Dividend Yield</th>\n",
       "      <th>Price/Earnings</th>\n",
       "      <th>Earnings/Share</th>\n",
       "      <th>Book Value</th>\n",
       "      <th>52 week low</th>\n",
       "      <th>52 week high</th>\n",
       "      <th>Market Cap</th>\n",
       "      <th>EBITDA</th>\n",
       "      <th>Price/Sales</th>\n",
       "      <th>Price/Book</th>\n",
       "      <th>SEC Filings</th>\n",
       "    </tr>\n",
       "    <tr>\n",
       "      <th>Symbol</th>\n",
       "      <th></th>\n",
       "      <th></th>\n",
       "      <th></th>\n",
       "      <th></th>\n",
       "      <th></th>\n",
       "      <th></th>\n",
       "      <th></th>\n",
       "      <th></th>\n",
       "      <th></th>\n",
       "      <th></th>\n",
       "      <th></th>\n",
       "      <th></th>\n",
       "      <th></th>\n",
       "      <th></th>\n",
       "    </tr>\n",
       "  </thead>\n",
       "  <tbody>\n",
       "    <tr>\n",
       "      <th>MMM</th>\n",
       "      <td>3M Company</td>\n",
       "      <td>Industrials</td>\n",
       "      <td>177.12</td>\n",
       "      <td>2.53</td>\n",
       "      <td>22.77</td>\n",
       "      <td>7.78</td>\n",
       "      <td>19.34</td>\n",
       "      <td>134.00</td>\n",
       "      <td>177.79</td>\n",
       "      <td>107.43000</td>\n",
       "      <td>8.57000</td>\n",
       "      <td>3.52</td>\n",
       "      <td>9.04</td>\n",
       "      <td>http://www.sec.gov/cgi-bin/browse-edgar?action...</td>\n",
       "    </tr>\n",
       "    <tr>\n",
       "      <th>ACN</th>\n",
       "      <td>Accenture plc</td>\n",
       "      <td>Information Technology</td>\n",
       "      <td>115.11</td>\n",
       "      <td>1.94</td>\n",
       "      <td>19.45</td>\n",
       "      <td>5.92</td>\n",
       "      <td>11.45</td>\n",
       "      <td>88.43</td>\n",
       "      <td>120.78</td>\n",
       "      <td>71.66000</td>\n",
       "      <td>5.42000</td>\n",
       "      <td>2.17</td>\n",
       "      <td>9.84</td>\n",
       "      <td>http://www.sec.gov/cgi-bin/browse-edgar?action...</td>\n",
       "    </tr>\n",
       "    <tr>\n",
       "      <th>AYI</th>\n",
       "      <td>Acuity Brands Inc</td>\n",
       "      <td>Industrials</td>\n",
       "      <td>264.62</td>\n",
       "      <td>0.21</td>\n",
       "      <td>43.23</td>\n",
       "      <td>6.12</td>\n",
       "      <td>36.50</td>\n",
       "      <td>168.33</td>\n",
       "      <td>265.10</td>\n",
       "      <td>11.51000</td>\n",
       "      <td>0.53650</td>\n",
       "      <td>3.53</td>\n",
       "      <td>6.95</td>\n",
       "      <td>http://www.sec.gov/cgi-bin/browse-edgar?action...</td>\n",
       "    </tr>\n",
       "    <tr>\n",
       "      <th>AAP</th>\n",
       "      <td>Advance Auto Parts</td>\n",
       "      <td>Consumer Discretionary</td>\n",
       "      <td>164.85</td>\n",
       "      <td>0.15</td>\n",
       "      <td>25.20</td>\n",
       "      <td>6.40</td>\n",
       "      <td>35.82</td>\n",
       "      <td>131.59</td>\n",
       "      <td>201.24</td>\n",
       "      <td>12.10000</td>\n",
       "      <td>1.24000</td>\n",
       "      <td>1.22</td>\n",
       "      <td>4.50</td>\n",
       "      <td>http://www.sec.gov/cgi-bin/browse-edgar?action...</td>\n",
       "    </tr>\n",
       "    <tr>\n",
       "      <th>AET</th>\n",
       "      <td>Aetna Inc</td>\n",
       "      <td>Health Care</td>\n",
       "      <td>117.00</td>\n",
       "      <td>0.87</td>\n",
       "      <td>17.62</td>\n",
       "      <td>6.64</td>\n",
       "      <td>47.96</td>\n",
       "      <td>92.42</td>\n",
       "      <td>125.47</td>\n",
       "      <td>41.02000</td>\n",
       "      <td>5.40000</td>\n",
       "      <td>0.67</td>\n",
       "      <td>2.41</td>\n",
       "      <td>http://www.sec.gov/cgi-bin/browse-edgar?action...</td>\n",
       "    </tr>\n",
       "    <tr>\n",
       "      <th>AMG</th>\n",
       "      <td>Affiliated Managers Group Inc</td>\n",
       "      <td>Financials</td>\n",
       "      <td>138.85</td>\n",
       "      <td>NaN</td>\n",
       "      <td>15.55</td>\n",
       "      <td>8.93</td>\n",
       "      <td>53.30</td>\n",
       "      <td>115.97</td>\n",
       "      <td>220.72</td>\n",
       "      <td>7.47000</td>\n",
       "      <td>0.91600</td>\n",
       "      <td>3.02</td>\n",
       "      <td>2.52</td>\n",
       "      <td>http://www.sec.gov/cgi-bin/browse-edgar?action...</td>\n",
       "    </tr>\n",
       "    <tr>\n",
       "      <th>APD</th>\n",
       "      <td>Air Products &amp; Chemicals Inc</td>\n",
       "      <td>Materials</td>\n",
       "      <td>144.35</td>\n",
       "      <td>2.46</td>\n",
       "      <td>56.99</td>\n",
       "      <td>2.53</td>\n",
       "      <td>32.01</td>\n",
       "      <td>114.64</td>\n",
       "      <td>152.16</td>\n",
       "      <td>31.19000</td>\n",
       "      <td>2.98000</td>\n",
       "      <td>3.16</td>\n",
       "      <td>4.36</td>\n",
       "      <td>http://www.sec.gov/cgi-bin/browse-edgar?action...</td>\n",
       "    </tr>\n",
       "    <tr>\n",
       "      <th>ALXN</th>\n",
       "      <td>Alexion Pharmaceuticals</td>\n",
       "      <td>Health Care</td>\n",
       "      <td>124.42</td>\n",
       "      <td>NaN</td>\n",
       "      <td>188.23</td>\n",
       "      <td>0.66</td>\n",
       "      <td>35.96</td>\n",
       "      <td>110.56</td>\n",
       "      <td>208.88</td>\n",
       "      <td>27.87000</td>\n",
       "      <td>0.97872</td>\n",
       "      <td>10.22</td>\n",
       "      <td>3.43</td>\n",
       "      <td>http://www.sec.gov/cgi-bin/browse-edgar?action...</td>\n",
       "    </tr>\n",
       "    <tr>\n",
       "      <th>AGN</th>\n",
       "      <td>Allergan plc</td>\n",
       "      <td>Health Care</td>\n",
       "      <td>240.59</td>\n",
       "      <td>0.10</td>\n",
       "      <td>21.53</td>\n",
       "      <td>11.18</td>\n",
       "      <td>183.41</td>\n",
       "      <td>195.50</td>\n",
       "      <td>340.34</td>\n",
       "      <td>95.17000</td>\n",
       "      <td>6.57000</td>\n",
       "      <td>5.77</td>\n",
       "      <td>1.30</td>\n",
       "      <td>http://www.sec.gov/cgi-bin/browse-edgar?action...</td>\n",
       "    </tr>\n",
       "    <tr>\n",
       "      <th>ADS</th>\n",
       "      <td>Alliance Data Systems</td>\n",
       "      <td>Information Technology</td>\n",
       "      <td>200.96</td>\n",
       "      <td>NaN</td>\n",
       "      <td>22.65</td>\n",
       "      <td>8.87</td>\n",
       "      <td>29.51</td>\n",
       "      <td>176.63</td>\n",
       "      <td>307.78</td>\n",
       "      <td>11.84000</td>\n",
       "      <td>1.52000</td>\n",
       "      <td>1.78</td>\n",
       "      <td>6.68</td>\n",
       "      <td>http://www.sec.gov/cgi-bin/browse-edgar?action...</td>\n",
       "    </tr>\n",
       "    <tr>\n",
       "      <th>GOOGL</th>\n",
       "      <td>Alphabet Inc Class A</td>\n",
       "      <td>Information Technology</td>\n",
       "      <td>717.78</td>\n",
       "      <td>NaN</td>\n",
       "      <td>29.21</td>\n",
       "      <td>24.58</td>\n",
       "      <td>179.92</td>\n",
       "      <td>558.70</td>\n",
       "      <td>810.35</td>\n",
       "      <td>492.80000</td>\n",
       "      <td>25.51000</td>\n",
       "      <td>6.23</td>\n",
       "      <td>3.93</td>\n",
       "      <td>http://www.sec.gov/cgi-bin/browse-edgar?action...</td>\n",
       "    </tr>\n",
       "    <tr>\n",
       "      <th>GOOG</th>\n",
       "      <td>Alphabet Inc Class C</td>\n",
       "      <td>Information Technology</td>\n",
       "      <td>705.63</td>\n",
       "      <td>NaN</td>\n",
       "      <td>28.71</td>\n",
       "      <td>24.58</td>\n",
       "      <td>179.92</td>\n",
       "      <td>532.40</td>\n",
       "      <td>789.87</td>\n",
       "      <td>484.45000</td>\n",
       "      <td>25.51000</td>\n",
       "      <td>6.12</td>\n",
       "      <td>3.86</td>\n",
       "      <td>http://www.sec.gov/cgi-bin/browse-edgar?action...</td>\n",
       "    </tr>\n",
       "    <tr>\n",
       "      <th>AMZN</th>\n",
       "      <td>Amazon.com Inc</td>\n",
       "      <td>Consumer Discretionary</td>\n",
       "      <td>745.81</td>\n",
       "      <td>NaN</td>\n",
       "      <td>307.42</td>\n",
       "      <td>2.43</td>\n",
       "      <td>31.26</td>\n",
       "      <td>447.54</td>\n",
       "      <td>746.10</td>\n",
       "      <td>351.89000</td>\n",
       "      <td>9.09000</td>\n",
       "      <td>3.06</td>\n",
       "      <td>23.56</td>\n",
       "      <td>http://www.sec.gov/cgi-bin/browse-edgar?action...</td>\n",
       "    </tr>\n",
       "    <tr>\n",
       "      <th>AMT</th>\n",
       "      <td>American Tower Corp A</td>\n",
       "      <td>Financials</td>\n",
       "      <td>113.66</td>\n",
       "      <td>1.77</td>\n",
       "      <td>73.61</td>\n",
       "      <td>1.54</td>\n",
       "      <td>16.33</td>\n",
       "      <td>83.07</td>\n",
       "      <td>114.50</td>\n",
       "      <td>48.26000</td>\n",
       "      <td>3.07000</td>\n",
       "      <td>9.56</td>\n",
       "      <td>6.87</td>\n",
       "      <td>http://www.sec.gov/cgi-bin/browse-edgar?action...</td>\n",
       "    </tr>\n",
       "    <tr>\n",
       "      <th>AMGN</th>\n",
       "      <td>Amgen Inc</td>\n",
       "      <td>Health Care</td>\n",
       "      <td>161.10</td>\n",
       "      <td>2.55</td>\n",
       "      <td>17.05</td>\n",
       "      <td>9.45</td>\n",
       "      <td>38.18</td>\n",
       "      <td>130.09</td>\n",
       "      <td>181.81</td>\n",
       "      <td>121.02000</td>\n",
       "      <td>10.99000</td>\n",
       "      <td>5.31</td>\n",
       "      <td>4.10</td>\n",
       "      <td>http://www.sec.gov/cgi-bin/browse-edgar?action...</td>\n",
       "    </tr>\n",
       "    <tr>\n",
       "      <th>ANTM</th>\n",
       "      <td>Anthem Inc.</td>\n",
       "      <td>Health Care</td>\n",
       "      <td>132.15</td>\n",
       "      <td>2.01</td>\n",
       "      <td>14.87</td>\n",
       "      <td>8.89</td>\n",
       "      <td>89.59</td>\n",
       "      <td>115.63</td>\n",
       "      <td>161.80</td>\n",
       "      <td>34.75000</td>\n",
       "      <td>5.60000</td>\n",
       "      <td>0.42</td>\n",
       "      <td>1.44</td>\n",
       "      <td>http://www.sec.gov/cgi-bin/browse-edgar?action...</td>\n",
       "    </tr>\n",
       "    <tr>\n",
       "      <th>AON</th>\n",
       "      <td>Aon plc</td>\n",
       "      <td>Financials</td>\n",
       "      <td>109.57</td>\n",
       "      <td>1.21</td>\n",
       "      <td>22.39</td>\n",
       "      <td>4.89</td>\n",
       "      <td>19.94</td>\n",
       "      <td>83.83</td>\n",
       "      <td>110.17</td>\n",
       "      <td>29.03000</td>\n",
       "      <td>2.54000</td>\n",
       "      <td>2.49</td>\n",
       "      <td>5.46</td>\n",
       "      <td>http://www.sec.gov/cgi-bin/browse-edgar?action...</td>\n",
       "    </tr>\n",
       "    <tr>\n",
       "      <th>AZO</th>\n",
       "      <td>AutoZone Inc</td>\n",
       "      <td>Consumer Discretionary</td>\n",
       "      <td>815.02</td>\n",
       "      <td>NaN</td>\n",
       "      <td>20.71</td>\n",
       "      <td>39.36</td>\n",
       "      <td>-63.16</td>\n",
       "      <td>667.00</td>\n",
       "      <td>815.45</td>\n",
       "      <td>23.82000</td>\n",
       "      <td>2.32000</td>\n",
       "      <td>2.22</td>\n",
       "      <td>NaN</td>\n",
       "      <td>http://www.sec.gov/cgi-bin/browse-edgar?action...</td>\n",
       "    </tr>\n",
       "    <tr>\n",
       "      <th>AVGO</th>\n",
       "      <td>Avago Technologies</td>\n",
       "      <td>Information Technology</td>\n",
       "      <td>155.14</td>\n",
       "      <td>1.32</td>\n",
       "      <td>NaN</td>\n",
       "      <td>-0.69</td>\n",
       "      <td>49.90</td>\n",
       "      <td>100.00</td>\n",
       "      <td>166.00</td>\n",
       "      <td>61.36000</td>\n",
       "      <td>3.51000</td>\n",
       "      <td>6.72</td>\n",
       "      <td>3.03</td>\n",
       "      <td>http://www.sec.gov/cgi-bin/browse-edgar?action...</td>\n",
       "    </tr>\n",
       "    <tr>\n",
       "      <th>AVB</th>\n",
       "      <td>AvalonBay Communities, Inc.</td>\n",
       "      <td>Financials</td>\n",
       "      <td>184.94</td>\n",
       "      <td>2.99</td>\n",
       "      <td>32.50</td>\n",
       "      <td>5.69</td>\n",
       "      <td>71.79</td>\n",
       "      <td>159.30</td>\n",
       "      <td>192.29</td>\n",
       "      <td>25.37000</td>\n",
       "      <td>1.26000</td>\n",
       "      <td>12.68</td>\n",
       "      <td>2.52</td>\n",
       "      <td>http://www.sec.gov/cgi-bin/browse-edgar?action...</td>\n",
       "    </tr>\n",
       "    <tr>\n",
       "      <th>BCR</th>\n",
       "      <td>Bard (C.R.) Inc.</td>\n",
       "      <td>Health Care</td>\n",
       "      <td>239.00</td>\n",
       "      <td>0.44</td>\n",
       "      <td>161.60</td>\n",
       "      <td>1.48</td>\n",
       "      <td>19.91</td>\n",
       "      <td>172.21</td>\n",
       "      <td>239.34</td>\n",
       "      <td>17.52000</td>\n",
       "      <td>1.04000</td>\n",
       "      <td>5.05</td>\n",
       "      <td>11.94</td>\n",
       "      <td>http://www.sec.gov/cgi-bin/browse-edgar?action...</td>\n",
       "    </tr>\n",
       "    <tr>\n",
       "      <th>BDX</th>\n",
       "      <td>Becton Dickinson</td>\n",
       "      <td>Health Care</td>\n",
       "      <td>175.64</td>\n",
       "      <td>1.53</td>\n",
       "      <td>46.95</td>\n",
       "      <td>3.74</td>\n",
       "      <td>36.13</td>\n",
       "      <td>128.87</td>\n",
       "      <td>176.24</td>\n",
       "      <td>37.27000</td>\n",
       "      <td>3.18000</td>\n",
       "      <td>3.00</td>\n",
       "      <td>4.79</td>\n",
       "      <td>http://www.sec.gov/cgi-bin/browse-edgar?action...</td>\n",
       "    </tr>\n",
       "    <tr>\n",
       "      <th>BRK-B</th>\n",
       "      <td>Berkshire Hathaway</td>\n",
       "      <td>Financials</td>\n",
       "      <td>143.65</td>\n",
       "      <td>NaN</td>\n",
       "      <td>14.45</td>\n",
       "      <td>9.94</td>\n",
       "      <td>157329.00</td>\n",
       "      <td>123.55</td>\n",
       "      <td>148.03</td>\n",
       "      <td>0.23602</td>\n",
       "      <td>45.20000</td>\n",
       "      <td>0.00</td>\n",
       "      <td>0.00</td>\n",
       "      <td>http://www.sec.gov/cgi-bin/browse-edgar?action...</td>\n",
       "    </tr>\n",
       "    <tr>\n",
       "      <th>BIIB</th>\n",
       "      <td>BIOGEN IDEC Inc.</td>\n",
       "      <td>Health Care</td>\n",
       "      <td>251.30</td>\n",
       "      <td>NaN</td>\n",
       "      <td>15.44</td>\n",
       "      <td>16.27</td>\n",
       "      <td>47.14</td>\n",
       "      <td>223.02</td>\n",
       "      <td>412.24</td>\n",
       "      <td>55.05000</td>\n",
       "      <td>5.88000</td>\n",
       "      <td>4.95</td>\n",
       "      <td>5.25</td>\n",
       "      <td>http://www.sec.gov/cgi-bin/browse-edgar?action...</td>\n",
       "    </tr>\n",
       "    <tr>\n",
       "      <th>BLK</th>\n",
       "      <td>BlackRock</td>\n",
       "      <td>Financials</td>\n",
       "      <td>345.20</td>\n",
       "      <td>2.73</td>\n",
       "      <td>18.29</td>\n",
       "      <td>18.88</td>\n",
       "      <td>171.90</td>\n",
       "      <td>275.00</td>\n",
       "      <td>369.33</td>\n",
       "      <td>57.02000</td>\n",
       "      <td>4.88000</td>\n",
       "      <td>4.90</td>\n",
       "      <td>1.95</td>\n",
       "      <td>http://www.sec.gov/cgi-bin/browse-edgar?action...</td>\n",
       "    </tr>\n",
       "    <tr>\n",
       "      <th>BA</th>\n",
       "      <td>Boeing Company</td>\n",
       "      <td>Industrials</td>\n",
       "      <td>130.09</td>\n",
       "      <td>3.43</td>\n",
       "      <td>17.58</td>\n",
       "      <td>7.40</td>\n",
       "      <td>6.32</td>\n",
       "      <td>102.10</td>\n",
       "      <td>150.59</td>\n",
       "      <td>82.87000</td>\n",
       "      <td>8.78000</td>\n",
       "      <td>0.84</td>\n",
       "      <td>20.13</td>\n",
       "      <td>http://www.sec.gov/cgi-bin/browse-edgar?action...</td>\n",
       "    </tr>\n",
       "    <tr>\n",
       "      <th>BXP</th>\n",
       "      <td>Boston Properties</td>\n",
       "      <td>Financials</td>\n",
       "      <td>133.32</td>\n",
       "      <td>1.98</td>\n",
       "      <td>35.18</td>\n",
       "      <td>3.79</td>\n",
       "      <td>36.13</td>\n",
       "      <td>94.91</td>\n",
       "      <td>133.62</td>\n",
       "      <td>20.48000</td>\n",
       "      <td>1.55000</td>\n",
       "      <td>7.84</td>\n",
       "      <td>3.60</td>\n",
       "      <td>http://www.sec.gov/cgi-bin/browse-edgar?action...</td>\n",
       "    </tr>\n",
       "    <tr>\n",
       "      <th>CELG</th>\n",
       "      <td>Celgene Corp.</td>\n",
       "      <td>Health Care</td>\n",
       "      <td>105.03</td>\n",
       "      <td>NaN</td>\n",
       "      <td>51.08</td>\n",
       "      <td>2.06</td>\n",
       "      <td>6.55</td>\n",
       "      <td>92.98</td>\n",
       "      <td>140.72</td>\n",
       "      <td>81.36000</td>\n",
       "      <td>3.24000</td>\n",
       "      <td>8.35</td>\n",
       "      <td>15.94</td>\n",
       "      <td>http://www.sec.gov/cgi-bin/browse-edgar?action...</td>\n",
       "    </tr>\n",
       "    <tr>\n",
       "      <th>CVX</th>\n",
       "      <td>Chevron Corp.</td>\n",
       "      <td>Energy</td>\n",
       "      <td>104.77</td>\n",
       "      <td>4.15</td>\n",
       "      <td>151.62</td>\n",
       "      <td>0.69</td>\n",
       "      <td>79.75</td>\n",
       "      <td>69.58</td>\n",
       "      <td>105.00</td>\n",
       "      <td>197.46000</td>\n",
       "      <td>16.31000</td>\n",
       "      <td>1.71</td>\n",
       "      <td>1.29</td>\n",
       "      <td>http://www.sec.gov/cgi-bin/browse-edgar?action...</td>\n",
       "    </tr>\n",
       "    <tr>\n",
       "      <th>CMG</th>\n",
       "      <td>Chipotle Mexican Grill</td>\n",
       "      <td>Consumer Discretionary</td>\n",
       "      <td>399.71</td>\n",
       "      <td>NaN</td>\n",
       "      <td>38.02</td>\n",
       "      <td>10.51</td>\n",
       "      <td>52.48</td>\n",
       "      <td>384.77</td>\n",
       "      <td>758.61</td>\n",
       "      <td>11.67000</td>\n",
       "      <td>0.66491</td>\n",
       "      <td>2.69</td>\n",
       "      <td>7.45</td>\n",
       "      <td>http://www.sec.gov/cgi-bin/browse-edgar?action...</td>\n",
       "    </tr>\n",
       "    <tr>\n",
       "      <th>...</th>\n",
       "      <td>...</td>\n",
       "      <td>...</td>\n",
       "      <td>...</td>\n",
       "      <td>...</td>\n",
       "      <td>...</td>\n",
       "      <td>...</td>\n",
       "      <td>...</td>\n",
       "      <td>...</td>\n",
       "      <td>...</td>\n",
       "      <td>...</td>\n",
       "      <td>...</td>\n",
       "      <td>...</td>\n",
       "      <td>...</td>\n",
       "      <td>...</td>\n",
       "    </tr>\n",
       "    <tr>\n",
       "      <th>RTN</th>\n",
       "      <td>Raytheon Co.</td>\n",
       "      <td>Industrials</td>\n",
       "      <td>138.49</td>\n",
       "      <td>2.12</td>\n",
       "      <td>21.47</td>\n",
       "      <td>6.45</td>\n",
       "      <td>34.10</td>\n",
       "      <td>96.68</td>\n",
       "      <td>138.67</td>\n",
       "      <td>41.13000</td>\n",
       "      <td>3.25000</td>\n",
       "      <td>1.71</td>\n",
       "      <td>4.02</td>\n",
       "      <td>http://www.sec.gov/cgi-bin/browse-edgar?action...</td>\n",
       "    </tr>\n",
       "    <tr>\n",
       "      <th>REGN</th>\n",
       "      <td>Regeneron</td>\n",
       "      <td>Health Care</td>\n",
       "      <td>378.35</td>\n",
       "      <td>NaN</td>\n",
       "      <td>59.99</td>\n",
       "      <td>6.31</td>\n",
       "      <td>36.10</td>\n",
       "      <td>329.09</td>\n",
       "      <td>605.93</td>\n",
       "      <td>39.46000</td>\n",
       "      <td>1.38000</td>\n",
       "      <td>8.73</td>\n",
       "      <td>10.29</td>\n",
       "      <td>http://www.sec.gov/cgi-bin/browse-edgar?action...</td>\n",
       "    </tr>\n",
       "    <tr>\n",
       "      <th>ROK</th>\n",
       "      <td>Rockwell Automation Inc.</td>\n",
       "      <td>Industrials</td>\n",
       "      <td>115.70</td>\n",
       "      <td>2.57</td>\n",
       "      <td>20.32</td>\n",
       "      <td>5.69</td>\n",
       "      <td>17.01</td>\n",
       "      <td>87.53</td>\n",
       "      <td>125.60</td>\n",
       "      <td>15.07000</td>\n",
       "      <td>1.21000</td>\n",
       "      <td>2.43</td>\n",
       "      <td>6.64</td>\n",
       "      <td>http://www.sec.gov/cgi-bin/browse-edgar?action...</td>\n",
       "    </tr>\n",
       "    <tr>\n",
       "      <th>ROP</th>\n",
       "      <td>Roper Industries</td>\n",
       "      <td>Industrials</td>\n",
       "      <td>170.04</td>\n",
       "      <td>0.72</td>\n",
       "      <td>25.05</td>\n",
       "      <td>6.79</td>\n",
       "      <td>53.77</td>\n",
       "      <td>150.91</td>\n",
       "      <td>195.93</td>\n",
       "      <td>17.21000</td>\n",
       "      <td>1.25000</td>\n",
       "      <td>4.68</td>\n",
       "      <td>3.11</td>\n",
       "      <td>http://www.sec.gov/cgi-bin/browse-edgar?action...</td>\n",
       "    </tr>\n",
       "    <tr>\n",
       "      <th>SPGI</th>\n",
       "      <td>S&amp;P Global, Inc.</td>\n",
       "      <td>Financials</td>\n",
       "      <td>108.87</td>\n",
       "      <td>1.35</td>\n",
       "      <td>25.87</td>\n",
       "      <td>4.21</td>\n",
       "      <td>0.84</td>\n",
       "      <td>78.55</td>\n",
       "      <td>112.75</td>\n",
       "      <td>28.81000</td>\n",
       "      <td>2.25000</td>\n",
       "      <td>5.28</td>\n",
       "      <td>127.90</td>\n",
       "      <td>http://www.sec.gov/cgi-bin/browse-edgar?action...</td>\n",
       "    </tr>\n",
       "    <tr>\n",
       "      <th>SRE</th>\n",
       "      <td>Sempra Energy</td>\n",
       "      <td>Utilities</td>\n",
       "      <td>114.11</td>\n",
       "      <td>2.67</td>\n",
       "      <td>23.29</td>\n",
       "      <td>4.90</td>\n",
       "      <td>47.83</td>\n",
       "      <td>86.72</td>\n",
       "      <td>114.66</td>\n",
       "      <td>28.50000</td>\n",
       "      <td>3.10000</td>\n",
       "      <td>2.78</td>\n",
       "      <td>2.36</td>\n",
       "      <td>http://www.sec.gov/cgi-bin/browse-edgar?action...</td>\n",
       "    </tr>\n",
       "    <tr>\n",
       "      <th>SHW</th>\n",
       "      <td>Sherwin-Williams</td>\n",
       "      <td>Materials</td>\n",
       "      <td>306.52</td>\n",
       "      <td>1.12</td>\n",
       "      <td>26.94</td>\n",
       "      <td>11.38</td>\n",
       "      <td>10.94</td>\n",
       "      <td>218.27</td>\n",
       "      <td>309.00</td>\n",
       "      <td>28.04000</td>\n",
       "      <td>1.88000</td>\n",
       "      <td>2.41</td>\n",
       "      <td>27.61</td>\n",
       "      <td>http://www.sec.gov/cgi-bin/browse-edgar?action...</td>\n",
       "    </tr>\n",
       "    <tr>\n",
       "      <th>SPG</th>\n",
       "      <td>Simon Property Group Inc</td>\n",
       "      <td>Financials</td>\n",
       "      <td>219.56</td>\n",
       "      <td>3.21</td>\n",
       "      <td>38.53</td>\n",
       "      <td>5.70</td>\n",
       "      <td>14.69</td>\n",
       "      <td>173.09</td>\n",
       "      <td>220.33</td>\n",
       "      <td>67.94000</td>\n",
       "      <td>3.98000</td>\n",
       "      <td>12.47</td>\n",
       "      <td>14.67</td>\n",
       "      <td>http://www.sec.gov/cgi-bin/browse-edgar?action...</td>\n",
       "    </tr>\n",
       "    <tr>\n",
       "      <th>SLG</th>\n",
       "      <td>SL Green Realty</td>\n",
       "      <td>Financials</td>\n",
       "      <td>105.98</td>\n",
       "      <td>2.79</td>\n",
       "      <td>42.60</td>\n",
       "      <td>2.49</td>\n",
       "      <td>70.40</td>\n",
       "      <td>80.12</td>\n",
       "      <td>121.94</td>\n",
       "      <td>10.62000</td>\n",
       "      <td>0.99745</td>\n",
       "      <td>5.97</td>\n",
       "      <td>1.46</td>\n",
       "      <td>http://www.sec.gov/cgi-bin/browse-edgar?action...</td>\n",
       "    </tr>\n",
       "    <tr>\n",
       "      <th>SJM</th>\n",
       "      <td>Smucker (J.M.)</td>\n",
       "      <td>Consumer Staples</td>\n",
       "      <td>154.08</td>\n",
       "      <td>1.75</td>\n",
       "      <td>26.75</td>\n",
       "      <td>5.76</td>\n",
       "      <td>60.26</td>\n",
       "      <td>104.30</td>\n",
       "      <td>154.71</td>\n",
       "      <td>17.94000</td>\n",
       "      <td>1.69000</td>\n",
       "      <td>2.28</td>\n",
       "      <td>2.54</td>\n",
       "      <td>http://www.sec.gov/cgi-bin/browse-edgar?action...</td>\n",
       "    </tr>\n",
       "    <tr>\n",
       "      <th>SNA</th>\n",
       "      <td>Snap-On Inc.</td>\n",
       "      <td>Consumer Discretionary</td>\n",
       "      <td>160.16</td>\n",
       "      <td>1.56</td>\n",
       "      <td>19.09</td>\n",
       "      <td>8.39</td>\n",
       "      <td>43.29</td>\n",
       "      <td>133.09</td>\n",
       "      <td>174.52</td>\n",
       "      <td>9.31000</td>\n",
       "      <td>0.85800</td>\n",
       "      <td>2.53</td>\n",
       "      <td>3.63</td>\n",
       "      <td>http://www.sec.gov/cgi-bin/browse-edgar?action...</td>\n",
       "    </tr>\n",
       "    <tr>\n",
       "      <th>SWK</th>\n",
       "      <td>Stanley Black &amp; Decker</td>\n",
       "      <td>Consumer Discretionary</td>\n",
       "      <td>114.97</td>\n",
       "      <td>1.96</td>\n",
       "      <td>19.01</td>\n",
       "      <td>6.05</td>\n",
       "      <td>37.76</td>\n",
       "      <td>88.72</td>\n",
       "      <td>115.36</td>\n",
       "      <td>17.26000</td>\n",
       "      <td>1.78000</td>\n",
       "      <td>1.51</td>\n",
       "      <td>2.99</td>\n",
       "      <td>http://www.sec.gov/cgi-bin/browse-edgar?action...</td>\n",
       "    </tr>\n",
       "    <tr>\n",
       "      <th>SRCL</th>\n",
       "      <td>Stericycle Inc</td>\n",
       "      <td>Industrials</td>\n",
       "      <td>104.70</td>\n",
       "      <td>NaN</td>\n",
       "      <td>36.24</td>\n",
       "      <td>2.89</td>\n",
       "      <td>33.08</td>\n",
       "      <td>91.05</td>\n",
       "      <td>151.57</td>\n",
       "      <td>8.89000</td>\n",
       "      <td>0.81567</td>\n",
       "      <td>2.71</td>\n",
       "      <td>3.08</td>\n",
       "      <td>http://www.sec.gov/cgi-bin/browse-edgar?action...</td>\n",
       "    </tr>\n",
       "    <tr>\n",
       "      <th>SYK</th>\n",
       "      <td>Stryker Corp.</td>\n",
       "      <td>Health Care</td>\n",
       "      <td>122.29</td>\n",
       "      <td>1.35</td>\n",
       "      <td>28.62</td>\n",
       "      <td>4.27</td>\n",
       "      <td>23.55</td>\n",
       "      <td>86.68</td>\n",
       "      <td>122.40</td>\n",
       "      <td>45.73000</td>\n",
       "      <td>2.72000</td>\n",
       "      <td>4.50</td>\n",
       "      <td>5.14</td>\n",
       "      <td>http://www.sec.gov/cgi-bin/browse-edgar?action...</td>\n",
       "    </tr>\n",
       "    <tr>\n",
       "      <th>CLX</th>\n",
       "      <td>The Clorox Company</td>\n",
       "      <td>Consumer Staples</td>\n",
       "      <td>138.37</td>\n",
       "      <td>2.33</td>\n",
       "      <td>27.04</td>\n",
       "      <td>5.12</td>\n",
       "      <td>2.00</td>\n",
       "      <td>106.00</td>\n",
       "      <td>140.47</td>\n",
       "      <td>17.90000</td>\n",
       "      <td>1.24000</td>\n",
       "      <td>3.11</td>\n",
       "      <td>68.66</td>\n",
       "      <td>http://www.sec.gov/cgi-bin/browse-edgar?action...</td>\n",
       "    </tr>\n",
       "    <tr>\n",
       "      <th>HSY</th>\n",
       "      <td>The Hershey Company</td>\n",
       "      <td>Consumer Staples</td>\n",
       "      <td>110.70</td>\n",
       "      <td>2.12</td>\n",
       "      <td>48.81</td>\n",
       "      <td>2.27</td>\n",
       "      <td>3.88</td>\n",
       "      <td>82.41</td>\n",
       "      <td>117.79</td>\n",
       "      <td>23.62000</td>\n",
       "      <td>1.67000</td>\n",
       "      <td>3.23</td>\n",
       "      <td>28.34</td>\n",
       "      <td>http://www.sec.gov/cgi-bin/browse-edgar?action...</td>\n",
       "    </tr>\n",
       "    <tr>\n",
       "      <th>TRV</th>\n",
       "      <td>The Travelers Companies Inc.</td>\n",
       "      <td>Financials</td>\n",
       "      <td>118.08</td>\n",
       "      <td>2.28</td>\n",
       "      <td>11.09</td>\n",
       "      <td>10.65</td>\n",
       "      <td>82.65</td>\n",
       "      <td>95.21</td>\n",
       "      <td>119.30</td>\n",
       "      <td>34.53000</td>\n",
       "      <td>5.69000</td>\n",
       "      <td>1.28</td>\n",
       "      <td>1.42</td>\n",
       "      <td>http://www.sec.gov/cgi-bin/browse-edgar?action...</td>\n",
       "    </tr>\n",
       "    <tr>\n",
       "      <th>TMO</th>\n",
       "      <td>Thermo Fisher Scientific</td>\n",
       "      <td>Health Care</td>\n",
       "      <td>152.69</td>\n",
       "      <td>0.40</td>\n",
       "      <td>30.73</td>\n",
       "      <td>4.97</td>\n",
       "      <td>53.17</td>\n",
       "      <td>117.10</td>\n",
       "      <td>154.81</td>\n",
       "      <td>60.09000</td>\n",
       "      <td>4.23000</td>\n",
       "      <td>3.38</td>\n",
       "      <td>2.80</td>\n",
       "      <td>http://www.sec.gov/cgi-bin/browse-edgar?action...</td>\n",
       "    </tr>\n",
       "    <tr>\n",
       "      <th>TDG</th>\n",
       "      <td>TransDigm Group</td>\n",
       "      <td>Industrials</td>\n",
       "      <td>269.81</td>\n",
       "      <td>0.00</td>\n",
       "      <td>31.05</td>\n",
       "      <td>8.69</td>\n",
       "      <td>-18.16</td>\n",
       "      <td>180.76</td>\n",
       "      <td>270.08</td>\n",
       "      <td>14.29000</td>\n",
       "      <td>1.33000</td>\n",
       "      <td>4.64</td>\n",
       "      <td>NaN</td>\n",
       "      <td>http://www.sec.gov/cgi-bin/browse-edgar?action...</td>\n",
       "    </tr>\n",
       "    <tr>\n",
       "      <th>ULTA</th>\n",
       "      <td>Ulta Salon Cosmetics &amp; Fragrance Inc</td>\n",
       "      <td>Consumer Discretionary</td>\n",
       "      <td>250.82</td>\n",
       "      <td>0.00</td>\n",
       "      <td>46.53</td>\n",
       "      <td>5.39</td>\n",
       "      <td>21.07</td>\n",
       "      <td>120.38</td>\n",
       "      <td>253.11</td>\n",
       "      <td>15.66000</td>\n",
       "      <td>0.72085</td>\n",
       "      <td>3.74</td>\n",
       "      <td>11.73</td>\n",
       "      <td>http://www.sec.gov/cgi-bin/browse-edgar?action...</td>\n",
       "    </tr>\n",
       "    <tr>\n",
       "      <th>UNH</th>\n",
       "      <td>United Health Group Inc.</td>\n",
       "      <td>Health Care</td>\n",
       "      <td>141.27</td>\n",
       "      <td>1.78</td>\n",
       "      <td>22.71</td>\n",
       "      <td>6.22</td>\n",
       "      <td>36.87</td>\n",
       "      <td>95.00</td>\n",
       "      <td>142.96</td>\n",
       "      <td>134.32000</td>\n",
       "      <td>12.73000</td>\n",
       "      <td>0.81</td>\n",
       "      <td>3.82</td>\n",
       "      <td>http://www.sec.gov/cgi-bin/browse-edgar?action...</td>\n",
       "    </tr>\n",
       "    <tr>\n",
       "      <th>UPS</th>\n",
       "      <td>United Parcel Service</td>\n",
       "      <td>Industrials</td>\n",
       "      <td>109.52</td>\n",
       "      <td>2.89</td>\n",
       "      <td>19.90</td>\n",
       "      <td>5.50</td>\n",
       "      <td>2.78</td>\n",
       "      <td>87.30</td>\n",
       "      <td>109.85</td>\n",
       "      <td>96.67000</td>\n",
       "      <td>9.96000</td>\n",
       "      <td>1.62</td>\n",
       "      <td>38.85</td>\n",
       "      <td>http://www.sec.gov/cgi-bin/browse-edgar?action...</td>\n",
       "    </tr>\n",
       "    <tr>\n",
       "      <th>UTX</th>\n",
       "      <td>United Technologies</td>\n",
       "      <td>Industrials</td>\n",
       "      <td>103.66</td>\n",
       "      <td>2.59</td>\n",
       "      <td>12.15</td>\n",
       "      <td>8.53</td>\n",
       "      <td>33.88</td>\n",
       "      <td>83.39</td>\n",
       "      <td>112.36</td>\n",
       "      <td>86.75000</td>\n",
       "      <td>10.11000</td>\n",
       "      <td>1.52</td>\n",
       "      <td>3.01</td>\n",
       "      <td>http://www.sec.gov/cgi-bin/browse-edgar?action...</td>\n",
       "    </tr>\n",
       "    <tr>\n",
       "      <th>UHS</th>\n",
       "      <td>Universal Health Services, Inc.</td>\n",
       "      <td>Health Care</td>\n",
       "      <td>137.16</td>\n",
       "      <td>0.30</td>\n",
       "      <td>19.72</td>\n",
       "      <td>6.96</td>\n",
       "      <td>44.20</td>\n",
       "      <td>100.82</td>\n",
       "      <td>148.57</td>\n",
       "      <td>13.31000</td>\n",
       "      <td>1.69000</td>\n",
       "      <td>1.41</td>\n",
       "      <td>3.05</td>\n",
       "      <td>http://www.sec.gov/cgi-bin/browse-edgar?action...</td>\n",
       "    </tr>\n",
       "    <tr>\n",
       "      <th>VNO</th>\n",
       "      <td>Vornado Realty Trust</td>\n",
       "      <td>Financials</td>\n",
       "      <td>100.46</td>\n",
       "      <td>2.57</td>\n",
       "      <td>39.61</td>\n",
       "      <td>2.54</td>\n",
       "      <td>27.80</td>\n",
       "      <td>78.91</td>\n",
       "      <td>103.41</td>\n",
       "      <td>18.96000</td>\n",
       "      <td>1.22000</td>\n",
       "      <td>7.44</td>\n",
       "      <td>3.52</td>\n",
       "      <td>http://www.sec.gov/cgi-bin/browse-edgar?action...</td>\n",
       "    </tr>\n",
       "    <tr>\n",
       "      <th>VMC</th>\n",
       "      <td>Vulcan Materials</td>\n",
       "      <td>Materials</td>\n",
       "      <td>123.61</td>\n",
       "      <td>0.66</td>\n",
       "      <td>60.09</td>\n",
       "      <td>2.06</td>\n",
       "      <td>33.15</td>\n",
       "      <td>78.83</td>\n",
       "      <td>124.28</td>\n",
       "      <td>16.46000</td>\n",
       "      <td>0.89797</td>\n",
       "      <td>4.58</td>\n",
       "      <td>3.67</td>\n",
       "      <td>http://www.sec.gov/cgi-bin/browse-edgar?action...</td>\n",
       "    </tr>\n",
       "    <tr>\n",
       "      <th>WAT</th>\n",
       "      <td>Waters Corporation</td>\n",
       "      <td>Health Care</td>\n",
       "      <td>146.53</td>\n",
       "      <td>0.00</td>\n",
       "      <td>25.91</td>\n",
       "      <td>5.66</td>\n",
       "      <td>25.97</td>\n",
       "      <td>112.00</td>\n",
       "      <td>146.96</td>\n",
       "      <td>11.86000</td>\n",
       "      <td>0.66179</td>\n",
       "      <td>5.61</td>\n",
       "      <td>5.49</td>\n",
       "      <td>http://www.sec.gov/cgi-bin/browse-edgar?action...</td>\n",
       "    </tr>\n",
       "    <tr>\n",
       "      <th>WHR</th>\n",
       "      <td>Whirlpool Corp.</td>\n",
       "      <td>Consumer Discretionary</td>\n",
       "      <td>171.38</td>\n",
       "      <td>2.38</td>\n",
       "      <td>18.27</td>\n",
       "      <td>9.38</td>\n",
       "      <td>62.60</td>\n",
       "      <td>123.60</td>\n",
       "      <td>193.59</td>\n",
       "      <td>13.02000</td>\n",
       "      <td>2.09000</td>\n",
       "      <td>0.62</td>\n",
       "      <td>2.68</td>\n",
       "      <td>http://www.sec.gov/cgi-bin/browse-edgar?action...</td>\n",
       "    </tr>\n",
       "    <tr>\n",
       "      <th>WLTW</th>\n",
       "      <td>Willis Towers Watson</td>\n",
       "      <td>Financials</td>\n",
       "      <td>125.06</td>\n",
       "      <td>1.54</td>\n",
       "      <td>26.71</td>\n",
       "      <td>4.68</td>\n",
       "      <td>80.57</td>\n",
       "      <td>104.11</td>\n",
       "      <td>129.70</td>\n",
       "      <td>17.31000</td>\n",
       "      <td>1.16000</td>\n",
       "      <td>3.48</td>\n",
       "      <td>1.54</td>\n",
       "      <td>http://www.sec.gov/cgi-bin/browse-edgar?action...</td>\n",
       "    </tr>\n",
       "    <tr>\n",
       "      <th>ZBH</th>\n",
       "      <td>Zimmer Biomet Holdings</td>\n",
       "      <td>Health Care</td>\n",
       "      <td>124.89</td>\n",
       "      <td>0.79</td>\n",
       "      <td>307.61</td>\n",
       "      <td>0.41</td>\n",
       "      <td>48.52</td>\n",
       "      <td>88.27</td>\n",
       "      <td>124.98</td>\n",
       "      <td>24.88000</td>\n",
       "      <td>2.63000</td>\n",
       "      <td>3.59</td>\n",
       "      <td>2.51</td>\n",
       "      <td>http://www.sec.gov/cgi-bin/browse-edgar?action...</td>\n",
       "    </tr>\n",
       "  </tbody>\n",
       "</table>\n",
       "<p>122 rows × 14 columns</p>\n",
       "</div>"
      ],
      "text/plain": [
       "                                        Name                  Sector   Price  \\\n",
       "Symbol                                                                         \n",
       "MMM                               3M Company             Industrials  177.12   \n",
       "ACN                            Accenture plc  Information Technology  115.11   \n",
       "AYI                        Acuity Brands Inc             Industrials  264.62   \n",
       "AAP                       Advance Auto Parts  Consumer Discretionary  164.85   \n",
       "AET                                Aetna Inc             Health Care  117.00   \n",
       "AMG            Affiliated Managers Group Inc              Financials  138.85   \n",
       "APD             Air Products & Chemicals Inc               Materials  144.35   \n",
       "ALXN                 Alexion Pharmaceuticals             Health Care  124.42   \n",
       "AGN                             Allergan plc             Health Care  240.59   \n",
       "ADS                    Alliance Data Systems  Information Technology  200.96   \n",
       "GOOGL                   Alphabet Inc Class A  Information Technology  717.78   \n",
       "GOOG                    Alphabet Inc Class C  Information Technology  705.63   \n",
       "AMZN                          Amazon.com Inc  Consumer Discretionary  745.81   \n",
       "AMT                    American Tower Corp A              Financials  113.66   \n",
       "AMGN                               Amgen Inc             Health Care  161.10   \n",
       "ANTM                             Anthem Inc.             Health Care  132.15   \n",
       "AON                                  Aon plc              Financials  109.57   \n",
       "AZO                             AutoZone Inc  Consumer Discretionary  815.02   \n",
       "AVGO                      Avago Technologies  Information Technology  155.14   \n",
       "AVB              AvalonBay Communities, Inc.              Financials  184.94   \n",
       "BCR                         Bard (C.R.) Inc.             Health Care  239.00   \n",
       "BDX                         Becton Dickinson             Health Care  175.64   \n",
       "BRK-B                     Berkshire Hathaway              Financials  143.65   \n",
       "BIIB                        BIOGEN IDEC Inc.             Health Care  251.30   \n",
       "BLK                                BlackRock              Financials  345.20   \n",
       "BA                            Boeing Company             Industrials  130.09   \n",
       "BXP                        Boston Properties              Financials  133.32   \n",
       "CELG                           Celgene Corp.             Health Care  105.03   \n",
       "CVX                            Chevron Corp.                  Energy  104.77   \n",
       "CMG                   Chipotle Mexican Grill  Consumer Discretionary  399.71   \n",
       "...                                      ...                     ...     ...   \n",
       "RTN                             Raytheon Co.             Industrials  138.49   \n",
       "REGN                               Regeneron             Health Care  378.35   \n",
       "ROK                 Rockwell Automation Inc.             Industrials  115.70   \n",
       "ROP                         Roper Industries             Industrials  170.04   \n",
       "SPGI                        S&P Global, Inc.              Financials  108.87   \n",
       "SRE                            Sempra Energy               Utilities  114.11   \n",
       "SHW                         Sherwin-Williams               Materials  306.52   \n",
       "SPG                 Simon Property Group Inc              Financials  219.56   \n",
       "SLG                          SL Green Realty              Financials  105.98   \n",
       "SJM                           Smucker (J.M.)        Consumer Staples  154.08   \n",
       "SNA                             Snap-On Inc.  Consumer Discretionary  160.16   \n",
       "SWK                   Stanley Black & Decker  Consumer Discretionary  114.97   \n",
       "SRCL                          Stericycle Inc             Industrials  104.70   \n",
       "SYK                            Stryker Corp.             Health Care  122.29   \n",
       "CLX                       The Clorox Company        Consumer Staples  138.37   \n",
       "HSY                      The Hershey Company        Consumer Staples  110.70   \n",
       "TRV             The Travelers Companies Inc.              Financials  118.08   \n",
       "TMO                 Thermo Fisher Scientific             Health Care  152.69   \n",
       "TDG                          TransDigm Group             Industrials  269.81   \n",
       "ULTA    Ulta Salon Cosmetics & Fragrance Inc  Consumer Discretionary  250.82   \n",
       "UNH                 United Health Group Inc.             Health Care  141.27   \n",
       "UPS                    United Parcel Service             Industrials  109.52   \n",
       "UTX                      United Technologies             Industrials  103.66   \n",
       "UHS          Universal Health Services, Inc.             Health Care  137.16   \n",
       "VNO                     Vornado Realty Trust              Financials  100.46   \n",
       "VMC                         Vulcan Materials               Materials  123.61   \n",
       "WAT                       Waters Corporation             Health Care  146.53   \n",
       "WHR                          Whirlpool Corp.  Consumer Discretionary  171.38   \n",
       "WLTW                    Willis Towers Watson              Financials  125.06   \n",
       "ZBH                   Zimmer Biomet Holdings             Health Care  124.89   \n",
       "\n",
       "        Dividend Yield  Price/Earnings  Earnings/Share  Book Value  \\\n",
       "Symbol                                                               \n",
       "MMM               2.53           22.77            7.78       19.34   \n",
       "ACN               1.94           19.45            5.92       11.45   \n",
       "AYI               0.21           43.23            6.12       36.50   \n",
       "AAP               0.15           25.20            6.40       35.82   \n",
       "AET               0.87           17.62            6.64       47.96   \n",
       "AMG                NaN           15.55            8.93       53.30   \n",
       "APD               2.46           56.99            2.53       32.01   \n",
       "ALXN               NaN          188.23            0.66       35.96   \n",
       "AGN               0.10           21.53           11.18      183.41   \n",
       "ADS                NaN           22.65            8.87       29.51   \n",
       "GOOGL              NaN           29.21           24.58      179.92   \n",
       "GOOG               NaN           28.71           24.58      179.92   \n",
       "AMZN               NaN          307.42            2.43       31.26   \n",
       "AMT               1.77           73.61            1.54       16.33   \n",
       "AMGN              2.55           17.05            9.45       38.18   \n",
       "ANTM              2.01           14.87            8.89       89.59   \n",
       "AON               1.21           22.39            4.89       19.94   \n",
       "AZO                NaN           20.71           39.36      -63.16   \n",
       "AVGO              1.32             NaN           -0.69       49.90   \n",
       "AVB               2.99           32.50            5.69       71.79   \n",
       "BCR               0.44          161.60            1.48       19.91   \n",
       "BDX               1.53           46.95            3.74       36.13   \n",
       "BRK-B              NaN           14.45            9.94   157329.00   \n",
       "BIIB               NaN           15.44           16.27       47.14   \n",
       "BLK               2.73           18.29           18.88      171.90   \n",
       "BA                3.43           17.58            7.40        6.32   \n",
       "BXP               1.98           35.18            3.79       36.13   \n",
       "CELG               NaN           51.08            2.06        6.55   \n",
       "CVX               4.15          151.62            0.69       79.75   \n",
       "CMG                NaN           38.02           10.51       52.48   \n",
       "...                ...             ...             ...         ...   \n",
       "RTN               2.12           21.47            6.45       34.10   \n",
       "REGN               NaN           59.99            6.31       36.10   \n",
       "ROK               2.57           20.32            5.69       17.01   \n",
       "ROP               0.72           25.05            6.79       53.77   \n",
       "SPGI              1.35           25.87            4.21        0.84   \n",
       "SRE               2.67           23.29            4.90       47.83   \n",
       "SHW               1.12           26.94           11.38       10.94   \n",
       "SPG               3.21           38.53            5.70       14.69   \n",
       "SLG               2.79           42.60            2.49       70.40   \n",
       "SJM               1.75           26.75            5.76       60.26   \n",
       "SNA               1.56           19.09            8.39       43.29   \n",
       "SWK               1.96           19.01            6.05       37.76   \n",
       "SRCL               NaN           36.24            2.89       33.08   \n",
       "SYK               1.35           28.62            4.27       23.55   \n",
       "CLX               2.33           27.04            5.12        2.00   \n",
       "HSY               2.12           48.81            2.27        3.88   \n",
       "TRV               2.28           11.09           10.65       82.65   \n",
       "TMO               0.40           30.73            4.97       53.17   \n",
       "TDG               0.00           31.05            8.69      -18.16   \n",
       "ULTA              0.00           46.53            5.39       21.07   \n",
       "UNH               1.78           22.71            6.22       36.87   \n",
       "UPS               2.89           19.90            5.50        2.78   \n",
       "UTX               2.59           12.15            8.53       33.88   \n",
       "UHS               0.30           19.72            6.96       44.20   \n",
       "VNO               2.57           39.61            2.54       27.80   \n",
       "VMC               0.66           60.09            2.06       33.15   \n",
       "WAT               0.00           25.91            5.66       25.97   \n",
       "WHR               2.38           18.27            9.38       62.60   \n",
       "WLTW              1.54           26.71            4.68       80.57   \n",
       "ZBH               0.79          307.61            0.41       48.52   \n",
       "\n",
       "        52 week low  52 week high  Market Cap    EBITDA  Price/Sales  \\\n",
       "Symbol                                                                 \n",
       "MMM          134.00        177.79   107.43000   8.57000         3.52   \n",
       "ACN           88.43        120.78    71.66000   5.42000         2.17   \n",
       "AYI          168.33        265.10    11.51000   0.53650         3.53   \n",
       "AAP          131.59        201.24    12.10000   1.24000         1.22   \n",
       "AET           92.42        125.47    41.02000   5.40000         0.67   \n",
       "AMG          115.97        220.72     7.47000   0.91600         3.02   \n",
       "APD          114.64        152.16    31.19000   2.98000         3.16   \n",
       "ALXN         110.56        208.88    27.87000   0.97872        10.22   \n",
       "AGN          195.50        340.34    95.17000   6.57000         5.77   \n",
       "ADS          176.63        307.78    11.84000   1.52000         1.78   \n",
       "GOOGL        558.70        810.35   492.80000  25.51000         6.23   \n",
       "GOOG         532.40        789.87   484.45000  25.51000         6.12   \n",
       "AMZN         447.54        746.10   351.89000   9.09000         3.06   \n",
       "AMT           83.07        114.50    48.26000   3.07000         9.56   \n",
       "AMGN         130.09        181.81   121.02000  10.99000         5.31   \n",
       "ANTM         115.63        161.80    34.75000   5.60000         0.42   \n",
       "AON           83.83        110.17    29.03000   2.54000         2.49   \n",
       "AZO          667.00        815.45    23.82000   2.32000         2.22   \n",
       "AVGO         100.00        166.00    61.36000   3.51000         6.72   \n",
       "AVB          159.30        192.29    25.37000   1.26000        12.68   \n",
       "BCR          172.21        239.34    17.52000   1.04000         5.05   \n",
       "BDX          128.87        176.24    37.27000   3.18000         3.00   \n",
       "BRK-B        123.55        148.03     0.23602  45.20000         0.00   \n",
       "BIIB         223.02        412.24    55.05000   5.88000         4.95   \n",
       "BLK          275.00        369.33    57.02000   4.88000         4.90   \n",
       "BA           102.10        150.59    82.87000   8.78000         0.84   \n",
       "BXP           94.91        133.62    20.48000   1.55000         7.84   \n",
       "CELG          92.98        140.72    81.36000   3.24000         8.35   \n",
       "CVX           69.58        105.00   197.46000  16.31000         1.71   \n",
       "CMG          384.77        758.61    11.67000   0.66491         2.69   \n",
       "...             ...           ...         ...       ...          ...   \n",
       "RTN           96.68        138.67    41.13000   3.25000         1.71   \n",
       "REGN         329.09        605.93    39.46000   1.38000         8.73   \n",
       "ROK           87.53        125.60    15.07000   1.21000         2.43   \n",
       "ROP          150.91        195.93    17.21000   1.25000         4.68   \n",
       "SPGI          78.55        112.75    28.81000   2.25000         5.28   \n",
       "SRE           86.72        114.66    28.50000   3.10000         2.78   \n",
       "SHW          218.27        309.00    28.04000   1.88000         2.41   \n",
       "SPG          173.09        220.33    67.94000   3.98000        12.47   \n",
       "SLG           80.12        121.94    10.62000   0.99745         5.97   \n",
       "SJM          104.30        154.71    17.94000   1.69000         2.28   \n",
       "SNA          133.09        174.52     9.31000   0.85800         2.53   \n",
       "SWK           88.72        115.36    17.26000   1.78000         1.51   \n",
       "SRCL          91.05        151.57     8.89000   0.81567         2.71   \n",
       "SYK           86.68        122.40    45.73000   2.72000         4.50   \n",
       "CLX          106.00        140.47    17.90000   1.24000         3.11   \n",
       "HSY           82.41        117.79    23.62000   1.67000         3.23   \n",
       "TRV           95.21        119.30    34.53000   5.69000         1.28   \n",
       "TMO          117.10        154.81    60.09000   4.23000         3.38   \n",
       "TDG          180.76        270.08    14.29000   1.33000         4.64   \n",
       "ULTA         120.38        253.11    15.66000   0.72085         3.74   \n",
       "UNH           95.00        142.96   134.32000  12.73000         0.81   \n",
       "UPS           87.30        109.85    96.67000   9.96000         1.62   \n",
       "UTX           83.39        112.36    86.75000  10.11000         1.52   \n",
       "UHS          100.82        148.57    13.31000   1.69000         1.41   \n",
       "VNO           78.91        103.41    18.96000   1.22000         7.44   \n",
       "VMC           78.83        124.28    16.46000   0.89797         4.58   \n",
       "WAT          112.00        146.96    11.86000   0.66179         5.61   \n",
       "WHR          123.60        193.59    13.02000   2.09000         0.62   \n",
       "WLTW         104.11        129.70    17.31000   1.16000         3.48   \n",
       "ZBH           88.27        124.98    24.88000   2.63000         3.59   \n",
       "\n",
       "        Price/Book                                        SEC Filings  \n",
       "Symbol                                                                 \n",
       "MMM           9.04  http://www.sec.gov/cgi-bin/browse-edgar?action...  \n",
       "ACN           9.84  http://www.sec.gov/cgi-bin/browse-edgar?action...  \n",
       "AYI           6.95  http://www.sec.gov/cgi-bin/browse-edgar?action...  \n",
       "AAP           4.50  http://www.sec.gov/cgi-bin/browse-edgar?action...  \n",
       "AET           2.41  http://www.sec.gov/cgi-bin/browse-edgar?action...  \n",
       "AMG           2.52  http://www.sec.gov/cgi-bin/browse-edgar?action...  \n",
       "APD           4.36  http://www.sec.gov/cgi-bin/browse-edgar?action...  \n",
       "ALXN          3.43  http://www.sec.gov/cgi-bin/browse-edgar?action...  \n",
       "AGN           1.30  http://www.sec.gov/cgi-bin/browse-edgar?action...  \n",
       "ADS           6.68  http://www.sec.gov/cgi-bin/browse-edgar?action...  \n",
       "GOOGL         3.93  http://www.sec.gov/cgi-bin/browse-edgar?action...  \n",
       "GOOG          3.86  http://www.sec.gov/cgi-bin/browse-edgar?action...  \n",
       "AMZN         23.56  http://www.sec.gov/cgi-bin/browse-edgar?action...  \n",
       "AMT           6.87  http://www.sec.gov/cgi-bin/browse-edgar?action...  \n",
       "AMGN          4.10  http://www.sec.gov/cgi-bin/browse-edgar?action...  \n",
       "ANTM          1.44  http://www.sec.gov/cgi-bin/browse-edgar?action...  \n",
       "AON           5.46  http://www.sec.gov/cgi-bin/browse-edgar?action...  \n",
       "AZO            NaN  http://www.sec.gov/cgi-bin/browse-edgar?action...  \n",
       "AVGO          3.03  http://www.sec.gov/cgi-bin/browse-edgar?action...  \n",
       "AVB           2.52  http://www.sec.gov/cgi-bin/browse-edgar?action...  \n",
       "BCR          11.94  http://www.sec.gov/cgi-bin/browse-edgar?action...  \n",
       "BDX           4.79  http://www.sec.gov/cgi-bin/browse-edgar?action...  \n",
       "BRK-B         0.00  http://www.sec.gov/cgi-bin/browse-edgar?action...  \n",
       "BIIB          5.25  http://www.sec.gov/cgi-bin/browse-edgar?action...  \n",
       "BLK           1.95  http://www.sec.gov/cgi-bin/browse-edgar?action...  \n",
       "BA           20.13  http://www.sec.gov/cgi-bin/browse-edgar?action...  \n",
       "BXP           3.60  http://www.sec.gov/cgi-bin/browse-edgar?action...  \n",
       "CELG         15.94  http://www.sec.gov/cgi-bin/browse-edgar?action...  \n",
       "CVX           1.29  http://www.sec.gov/cgi-bin/browse-edgar?action...  \n",
       "CMG           7.45  http://www.sec.gov/cgi-bin/browse-edgar?action...  \n",
       "...            ...                                                ...  \n",
       "RTN           4.02  http://www.sec.gov/cgi-bin/browse-edgar?action...  \n",
       "REGN         10.29  http://www.sec.gov/cgi-bin/browse-edgar?action...  \n",
       "ROK           6.64  http://www.sec.gov/cgi-bin/browse-edgar?action...  \n",
       "ROP           3.11  http://www.sec.gov/cgi-bin/browse-edgar?action...  \n",
       "SPGI        127.90  http://www.sec.gov/cgi-bin/browse-edgar?action...  \n",
       "SRE           2.36  http://www.sec.gov/cgi-bin/browse-edgar?action...  \n",
       "SHW          27.61  http://www.sec.gov/cgi-bin/browse-edgar?action...  \n",
       "SPG          14.67  http://www.sec.gov/cgi-bin/browse-edgar?action...  \n",
       "SLG           1.46  http://www.sec.gov/cgi-bin/browse-edgar?action...  \n",
       "SJM           2.54  http://www.sec.gov/cgi-bin/browse-edgar?action...  \n",
       "SNA           3.63  http://www.sec.gov/cgi-bin/browse-edgar?action...  \n",
       "SWK           2.99  http://www.sec.gov/cgi-bin/browse-edgar?action...  \n",
       "SRCL          3.08  http://www.sec.gov/cgi-bin/browse-edgar?action...  \n",
       "SYK           5.14  http://www.sec.gov/cgi-bin/browse-edgar?action...  \n",
       "CLX          68.66  http://www.sec.gov/cgi-bin/browse-edgar?action...  \n",
       "HSY          28.34  http://www.sec.gov/cgi-bin/browse-edgar?action...  \n",
       "TRV           1.42  http://www.sec.gov/cgi-bin/browse-edgar?action...  \n",
       "TMO           2.80  http://www.sec.gov/cgi-bin/browse-edgar?action...  \n",
       "TDG            NaN  http://www.sec.gov/cgi-bin/browse-edgar?action...  \n",
       "ULTA         11.73  http://www.sec.gov/cgi-bin/browse-edgar?action...  \n",
       "UNH           3.82  http://www.sec.gov/cgi-bin/browse-edgar?action...  \n",
       "UPS          38.85  http://www.sec.gov/cgi-bin/browse-edgar?action...  \n",
       "UTX           3.01  http://www.sec.gov/cgi-bin/browse-edgar?action...  \n",
       "UHS           3.05  http://www.sec.gov/cgi-bin/browse-edgar?action...  \n",
       "VNO           3.52  http://www.sec.gov/cgi-bin/browse-edgar?action...  \n",
       "VMC           3.67  http://www.sec.gov/cgi-bin/browse-edgar?action...  \n",
       "WAT           5.49  http://www.sec.gov/cgi-bin/browse-edgar?action...  \n",
       "WHR           2.68  http://www.sec.gov/cgi-bin/browse-edgar?action...  \n",
       "WLTW          1.54  http://www.sec.gov/cgi-bin/browse-edgar?action...  \n",
       "ZBH           2.51  http://www.sec.gov/cgi-bin/browse-edgar?action...  \n",
       "\n",
       "[122 rows x 14 columns]"
      ]
     },
     "execution_count": 195,
     "metadata": {},
     "output_type": "execute_result"
    }
   ],
   "source": [
    "sample_df[sample_df['Price'] > 100]   #boolean 으로 100 이상인 것만 출력"
   ]
  },
  {
   "cell_type": "code",
   "execution_count": 161,
   "metadata": {},
   "outputs": [
    {
     "ename": "ValueError",
     "evalue": "The truth value of a Series is ambiguous. Use a.empty, a.bool(), a.item(), a.any() or a.all().",
     "output_type": "error",
     "traceback": [
      "\u001b[1;31m---------------------------------------------------------------------------\u001b[0m",
      "\u001b[1;31mValueError\u001b[0m                                Traceback (most recent call last)",
      "\u001b[1;32m<ipython-input-161-f46315e66a34>\u001b[0m in \u001b[0;36m<module>\u001b[1;34m()\u001b[0m\n\u001b[1;32m----> 1\u001b[1;33m \u001b[0msample_df\u001b[0m\u001b[1;33m[\u001b[0m\u001b[0msample_df\u001b[0m\u001b[1;33m[\u001b[0m\u001b[1;34m'Price'\u001b[0m\u001b[1;33m]\u001b[0m \u001b[1;33m>\u001b[0m \u001b[1;36m100\u001b[0m \u001b[1;32mand\u001b[0m \u001b[1;34m'3M'\u001b[0m \u001b[1;32min\u001b[0m \u001b[0msample_df\u001b[0m\u001b[1;33m[\u001b[0m\u001b[1;34m'Name'\u001b[0m\u001b[1;33m]\u001b[0m\u001b[1;33m]\u001b[0m   \u001b[1;31m#boolean 으로 100 이상인 것만 출력\u001b[0m\u001b[1;33m\u001b[0m\u001b[0m\n\u001b[0m",
      "\u001b[1;32mc:\\python36\\lib\\site-packages\\pandas\\core\\generic.py\u001b[0m in \u001b[0;36m__nonzero__\u001b[1;34m(self)\u001b[0m\n\u001b[0;32m    953\u001b[0m         raise ValueError(\"The truth value of a {0} is ambiguous. \"\n\u001b[0;32m    954\u001b[0m                          \u001b[1;34m\"Use a.empty, a.bool(), a.item(), a.any() or a.all().\"\u001b[0m\u001b[1;33m\u001b[0m\u001b[0m\n\u001b[1;32m--> 955\u001b[1;33m                          .format(self.__class__.__name__))\n\u001b[0m\u001b[0;32m    956\u001b[0m \u001b[1;33m\u001b[0m\u001b[0m\n\u001b[0;32m    957\u001b[0m     \u001b[0m__bool__\u001b[0m \u001b[1;33m=\u001b[0m \u001b[0m__nonzero__\u001b[0m\u001b[1;33m\u001b[0m\u001b[0m\n",
      "\u001b[1;31mValueError\u001b[0m: The truth value of a Series is ambiguous. Use a.empty, a.bool(), a.item(), a.any() or a.all()."
     ]
    }
   ],
   "source": [
    "sample_df[sample_df['Price'] > 100 and '3M' in sample_df['Name']]   #boolean 으로 100 이상인 것만 출력"
   ]
  },
  {
   "cell_type": "code",
   "execution_count": 197,
   "metadata": {
    "collapsed": true
   },
   "outputs": [
    {
     "data": {
      "text/html": [
       "<div>\n",
       "<style>\n",
       "    .dataframe thead tr:only-child th {\n",
       "        text-align: right;\n",
       "    }\n",
       "\n",
       "    .dataframe thead th {\n",
       "        text-align: left;\n",
       "    }\n",
       "\n",
       "    .dataframe tbody tr th {\n",
       "        vertical-align: top;\n",
       "    }\n",
       "</style>\n",
       "<table border=\"1\" class=\"dataframe\">\n",
       "  <thead>\n",
       "    <tr style=\"text-align: right;\">\n",
       "      <th></th>\n",
       "      <th>Name</th>\n",
       "      <th>Price</th>\n",
       "    </tr>\n",
       "    <tr>\n",
       "      <th>Symbol</th>\n",
       "      <th></th>\n",
       "      <th></th>\n",
       "    </tr>\n",
       "  </thead>\n",
       "  <tbody>\n",
       "    <tr>\n",
       "      <th>MMM</th>\n",
       "      <td>3M Company</td>\n",
       "      <td>177.12</td>\n",
       "    </tr>\n",
       "    <tr>\n",
       "      <th>ACN</th>\n",
       "      <td>Accenture plc</td>\n",
       "      <td>115.11</td>\n",
       "    </tr>\n",
       "    <tr>\n",
       "      <th>AYI</th>\n",
       "      <td>Acuity Brands Inc</td>\n",
       "      <td>264.62</td>\n",
       "    </tr>\n",
       "    <tr>\n",
       "      <th>AAP</th>\n",
       "      <td>Advance Auto Parts</td>\n",
       "      <td>164.85</td>\n",
       "    </tr>\n",
       "    <tr>\n",
       "      <th>AET</th>\n",
       "      <td>Aetna Inc</td>\n",
       "      <td>117.00</td>\n",
       "    </tr>\n",
       "    <tr>\n",
       "      <th>AMG</th>\n",
       "      <td>Affiliated Managers Group Inc</td>\n",
       "      <td>138.85</td>\n",
       "    </tr>\n",
       "    <tr>\n",
       "      <th>APD</th>\n",
       "      <td>Air Products &amp; Chemicals Inc</td>\n",
       "      <td>144.35</td>\n",
       "    </tr>\n",
       "    <tr>\n",
       "      <th>ALXN</th>\n",
       "      <td>Alexion Pharmaceuticals</td>\n",
       "      <td>124.42</td>\n",
       "    </tr>\n",
       "    <tr>\n",
       "      <th>AGN</th>\n",
       "      <td>Allergan plc</td>\n",
       "      <td>240.59</td>\n",
       "    </tr>\n",
       "    <tr>\n",
       "      <th>ADS</th>\n",
       "      <td>Alliance Data Systems</td>\n",
       "      <td>200.96</td>\n",
       "    </tr>\n",
       "    <tr>\n",
       "      <th>GOOGL</th>\n",
       "      <td>Alphabet Inc Class A</td>\n",
       "      <td>717.78</td>\n",
       "    </tr>\n",
       "    <tr>\n",
       "      <th>GOOG</th>\n",
       "      <td>Alphabet Inc Class C</td>\n",
       "      <td>705.63</td>\n",
       "    </tr>\n",
       "    <tr>\n",
       "      <th>AMZN</th>\n",
       "      <td>Amazon.com Inc</td>\n",
       "      <td>745.81</td>\n",
       "    </tr>\n",
       "    <tr>\n",
       "      <th>AMT</th>\n",
       "      <td>American Tower Corp A</td>\n",
       "      <td>113.66</td>\n",
       "    </tr>\n",
       "    <tr>\n",
       "      <th>AMGN</th>\n",
       "      <td>Amgen Inc</td>\n",
       "      <td>161.10</td>\n",
       "    </tr>\n",
       "    <tr>\n",
       "      <th>ANTM</th>\n",
       "      <td>Anthem Inc.</td>\n",
       "      <td>132.15</td>\n",
       "    </tr>\n",
       "    <tr>\n",
       "      <th>AON</th>\n",
       "      <td>Aon plc</td>\n",
       "      <td>109.57</td>\n",
       "    </tr>\n",
       "    <tr>\n",
       "      <th>AZO</th>\n",
       "      <td>AutoZone Inc</td>\n",
       "      <td>815.02</td>\n",
       "    </tr>\n",
       "    <tr>\n",
       "      <th>AVGO</th>\n",
       "      <td>Avago Technologies</td>\n",
       "      <td>155.14</td>\n",
       "    </tr>\n",
       "    <tr>\n",
       "      <th>AVB</th>\n",
       "      <td>AvalonBay Communities, Inc.</td>\n",
       "      <td>184.94</td>\n",
       "    </tr>\n",
       "    <tr>\n",
       "      <th>BCR</th>\n",
       "      <td>Bard (C.R.) Inc.</td>\n",
       "      <td>239.00</td>\n",
       "    </tr>\n",
       "    <tr>\n",
       "      <th>BDX</th>\n",
       "      <td>Becton Dickinson</td>\n",
       "      <td>175.64</td>\n",
       "    </tr>\n",
       "    <tr>\n",
       "      <th>BRK-B</th>\n",
       "      <td>Berkshire Hathaway</td>\n",
       "      <td>143.65</td>\n",
       "    </tr>\n",
       "    <tr>\n",
       "      <th>BIIB</th>\n",
       "      <td>BIOGEN IDEC Inc.</td>\n",
       "      <td>251.30</td>\n",
       "    </tr>\n",
       "    <tr>\n",
       "      <th>BLK</th>\n",
       "      <td>BlackRock</td>\n",
       "      <td>345.20</td>\n",
       "    </tr>\n",
       "    <tr>\n",
       "      <th>BA</th>\n",
       "      <td>Boeing Company</td>\n",
       "      <td>130.09</td>\n",
       "    </tr>\n",
       "    <tr>\n",
       "      <th>BXP</th>\n",
       "      <td>Boston Properties</td>\n",
       "      <td>133.32</td>\n",
       "    </tr>\n",
       "    <tr>\n",
       "      <th>CELG</th>\n",
       "      <td>Celgene Corp.</td>\n",
       "      <td>105.03</td>\n",
       "    </tr>\n",
       "    <tr>\n",
       "      <th>CVX</th>\n",
       "      <td>Chevron Corp.</td>\n",
       "      <td>104.77</td>\n",
       "    </tr>\n",
       "    <tr>\n",
       "      <th>CMG</th>\n",
       "      <td>Chipotle Mexican Grill</td>\n",
       "      <td>399.71</td>\n",
       "    </tr>\n",
       "    <tr>\n",
       "      <th>...</th>\n",
       "      <td>...</td>\n",
       "      <td>...</td>\n",
       "    </tr>\n",
       "    <tr>\n",
       "      <th>RTN</th>\n",
       "      <td>Raytheon Co.</td>\n",
       "      <td>138.49</td>\n",
       "    </tr>\n",
       "    <tr>\n",
       "      <th>REGN</th>\n",
       "      <td>Regeneron</td>\n",
       "      <td>378.35</td>\n",
       "    </tr>\n",
       "    <tr>\n",
       "      <th>ROK</th>\n",
       "      <td>Rockwell Automation Inc.</td>\n",
       "      <td>115.70</td>\n",
       "    </tr>\n",
       "    <tr>\n",
       "      <th>ROP</th>\n",
       "      <td>Roper Industries</td>\n",
       "      <td>170.04</td>\n",
       "    </tr>\n",
       "    <tr>\n",
       "      <th>SPGI</th>\n",
       "      <td>S&amp;P Global, Inc.</td>\n",
       "      <td>108.87</td>\n",
       "    </tr>\n",
       "    <tr>\n",
       "      <th>SRE</th>\n",
       "      <td>Sempra Energy</td>\n",
       "      <td>114.11</td>\n",
       "    </tr>\n",
       "    <tr>\n",
       "      <th>SHW</th>\n",
       "      <td>Sherwin-Williams</td>\n",
       "      <td>306.52</td>\n",
       "    </tr>\n",
       "    <tr>\n",
       "      <th>SPG</th>\n",
       "      <td>Simon Property Group Inc</td>\n",
       "      <td>219.56</td>\n",
       "    </tr>\n",
       "    <tr>\n",
       "      <th>SLG</th>\n",
       "      <td>SL Green Realty</td>\n",
       "      <td>105.98</td>\n",
       "    </tr>\n",
       "    <tr>\n",
       "      <th>SJM</th>\n",
       "      <td>Smucker (J.M.)</td>\n",
       "      <td>154.08</td>\n",
       "    </tr>\n",
       "    <tr>\n",
       "      <th>SNA</th>\n",
       "      <td>Snap-On Inc.</td>\n",
       "      <td>160.16</td>\n",
       "    </tr>\n",
       "    <tr>\n",
       "      <th>SWK</th>\n",
       "      <td>Stanley Black &amp; Decker</td>\n",
       "      <td>114.97</td>\n",
       "    </tr>\n",
       "    <tr>\n",
       "      <th>SRCL</th>\n",
       "      <td>Stericycle Inc</td>\n",
       "      <td>104.70</td>\n",
       "    </tr>\n",
       "    <tr>\n",
       "      <th>SYK</th>\n",
       "      <td>Stryker Corp.</td>\n",
       "      <td>122.29</td>\n",
       "    </tr>\n",
       "    <tr>\n",
       "      <th>CLX</th>\n",
       "      <td>The Clorox Company</td>\n",
       "      <td>138.37</td>\n",
       "    </tr>\n",
       "    <tr>\n",
       "      <th>HSY</th>\n",
       "      <td>The Hershey Company</td>\n",
       "      <td>110.70</td>\n",
       "    </tr>\n",
       "    <tr>\n",
       "      <th>TRV</th>\n",
       "      <td>The Travelers Companies Inc.</td>\n",
       "      <td>118.08</td>\n",
       "    </tr>\n",
       "    <tr>\n",
       "      <th>TMO</th>\n",
       "      <td>Thermo Fisher Scientific</td>\n",
       "      <td>152.69</td>\n",
       "    </tr>\n",
       "    <tr>\n",
       "      <th>TDG</th>\n",
       "      <td>TransDigm Group</td>\n",
       "      <td>269.81</td>\n",
       "    </tr>\n",
       "    <tr>\n",
       "      <th>ULTA</th>\n",
       "      <td>Ulta Salon Cosmetics &amp; Fragrance Inc</td>\n",
       "      <td>250.82</td>\n",
       "    </tr>\n",
       "    <tr>\n",
       "      <th>UNH</th>\n",
       "      <td>United Health Group Inc.</td>\n",
       "      <td>141.27</td>\n",
       "    </tr>\n",
       "    <tr>\n",
       "      <th>UPS</th>\n",
       "      <td>United Parcel Service</td>\n",
       "      <td>109.52</td>\n",
       "    </tr>\n",
       "    <tr>\n",
       "      <th>UTX</th>\n",
       "      <td>United Technologies</td>\n",
       "      <td>103.66</td>\n",
       "    </tr>\n",
       "    <tr>\n",
       "      <th>UHS</th>\n",
       "      <td>Universal Health Services, Inc.</td>\n",
       "      <td>137.16</td>\n",
       "    </tr>\n",
       "    <tr>\n",
       "      <th>VNO</th>\n",
       "      <td>Vornado Realty Trust</td>\n",
       "      <td>100.46</td>\n",
       "    </tr>\n",
       "    <tr>\n",
       "      <th>VMC</th>\n",
       "      <td>Vulcan Materials</td>\n",
       "      <td>123.61</td>\n",
       "    </tr>\n",
       "    <tr>\n",
       "      <th>WAT</th>\n",
       "      <td>Waters Corporation</td>\n",
       "      <td>146.53</td>\n",
       "    </tr>\n",
       "    <tr>\n",
       "      <th>WHR</th>\n",
       "      <td>Whirlpool Corp.</td>\n",
       "      <td>171.38</td>\n",
       "    </tr>\n",
       "    <tr>\n",
       "      <th>WLTW</th>\n",
       "      <td>Willis Towers Watson</td>\n",
       "      <td>125.06</td>\n",
       "    </tr>\n",
       "    <tr>\n",
       "      <th>ZBH</th>\n",
       "      <td>Zimmer Biomet Holdings</td>\n",
       "      <td>124.89</td>\n",
       "    </tr>\n",
       "  </tbody>\n",
       "</table>\n",
       "<p>122 rows × 2 columns</p>\n",
       "</div>"
      ],
      "text/plain": [
       "                                        Name   Price\n",
       "Symbol                                              \n",
       "MMM                               3M Company  177.12\n",
       "ACN                            Accenture plc  115.11\n",
       "AYI                        Acuity Brands Inc  264.62\n",
       "AAP                       Advance Auto Parts  164.85\n",
       "AET                                Aetna Inc  117.00\n",
       "AMG            Affiliated Managers Group Inc  138.85\n",
       "APD             Air Products & Chemicals Inc  144.35\n",
       "ALXN                 Alexion Pharmaceuticals  124.42\n",
       "AGN                             Allergan plc  240.59\n",
       "ADS                    Alliance Data Systems  200.96\n",
       "GOOGL                   Alphabet Inc Class A  717.78\n",
       "GOOG                    Alphabet Inc Class C  705.63\n",
       "AMZN                          Amazon.com Inc  745.81\n",
       "AMT                    American Tower Corp A  113.66\n",
       "AMGN                               Amgen Inc  161.10\n",
       "ANTM                             Anthem Inc.  132.15\n",
       "AON                                  Aon plc  109.57\n",
       "AZO                             AutoZone Inc  815.02\n",
       "AVGO                      Avago Technologies  155.14\n",
       "AVB              AvalonBay Communities, Inc.  184.94\n",
       "BCR                         Bard (C.R.) Inc.  239.00\n",
       "BDX                         Becton Dickinson  175.64\n",
       "BRK-B                     Berkshire Hathaway  143.65\n",
       "BIIB                        BIOGEN IDEC Inc.  251.30\n",
       "BLK                                BlackRock  345.20\n",
       "BA                            Boeing Company  130.09\n",
       "BXP                        Boston Properties  133.32\n",
       "CELG                           Celgene Corp.  105.03\n",
       "CVX                            Chevron Corp.  104.77\n",
       "CMG                   Chipotle Mexican Grill  399.71\n",
       "...                                      ...     ...\n",
       "RTN                             Raytheon Co.  138.49\n",
       "REGN                               Regeneron  378.35\n",
       "ROK                 Rockwell Automation Inc.  115.70\n",
       "ROP                         Roper Industries  170.04\n",
       "SPGI                        S&P Global, Inc.  108.87\n",
       "SRE                            Sempra Energy  114.11\n",
       "SHW                         Sherwin-Williams  306.52\n",
       "SPG                 Simon Property Group Inc  219.56\n",
       "SLG                          SL Green Realty  105.98\n",
       "SJM                           Smucker (J.M.)  154.08\n",
       "SNA                             Snap-On Inc.  160.16\n",
       "SWK                   Stanley Black & Decker  114.97\n",
       "SRCL                          Stericycle Inc  104.70\n",
       "SYK                            Stryker Corp.  122.29\n",
       "CLX                       The Clorox Company  138.37\n",
       "HSY                      The Hershey Company  110.70\n",
       "TRV             The Travelers Companies Inc.  118.08\n",
       "TMO                 Thermo Fisher Scientific  152.69\n",
       "TDG                          TransDigm Group  269.81\n",
       "ULTA    Ulta Salon Cosmetics & Fragrance Inc  250.82\n",
       "UNH                 United Health Group Inc.  141.27\n",
       "UPS                    United Parcel Service  109.52\n",
       "UTX                      United Technologies  103.66\n",
       "UHS          Universal Health Services, Inc.  137.16\n",
       "VNO                     Vornado Realty Trust  100.46\n",
       "VMC                         Vulcan Materials  123.61\n",
       "WAT                       Waters Corporation  146.53\n",
       "WHR                          Whirlpool Corp.  171.38\n",
       "WLTW                    Willis Towers Watson  125.06\n",
       "ZBH                   Zimmer Biomet Holdings  124.89\n",
       "\n",
       "[122 rows x 2 columns]"
      ]
     },
     "execution_count": 197,
     "metadata": {},
     "output_type": "execute_result"
    }
   ],
   "source": [
    "# selection 결과에 다시 column선택하기\n",
    "sample_df[sample_df['Price'] > 100][['Name', 'Price']]"
   ]
  },
  {
   "cell_type": "code",
   "execution_count": 162,
   "metadata": {},
   "outputs": [
    {
     "data": {
      "text/html": [
       "<div>\n",
       "<style>\n",
       "    .dataframe thead tr:only-child th {\n",
       "        text-align: right;\n",
       "    }\n",
       "\n",
       "    .dataframe thead th {\n",
       "        text-align: left;\n",
       "    }\n",
       "\n",
       "    .dataframe tbody tr th {\n",
       "        vertical-align: top;\n",
       "    }\n",
       "</style>\n",
       "<table border=\"1\" class=\"dataframe\">\n",
       "  <thead>\n",
       "    <tr style=\"text-align: right;\">\n",
       "      <th></th>\n",
       "      <th>Name</th>\n",
       "      <th>Sector</th>\n",
       "      <th>Price</th>\n",
       "      <th>Dividend Yield</th>\n",
       "      <th>Price/Earnings</th>\n",
       "      <th>Earnings/Share</th>\n",
       "      <th>Book Value</th>\n",
       "      <th>52 week low</th>\n",
       "      <th>52 week high</th>\n",
       "      <th>Market Cap</th>\n",
       "      <th>EBITDA</th>\n",
       "      <th>Price/Sales</th>\n",
       "      <th>Price/Book</th>\n",
       "      <th>SEC Filings</th>\n",
       "    </tr>\n",
       "    <tr>\n",
       "      <th>Symbol</th>\n",
       "      <th></th>\n",
       "      <th></th>\n",
       "      <th></th>\n",
       "      <th></th>\n",
       "      <th></th>\n",
       "      <th></th>\n",
       "      <th></th>\n",
       "      <th></th>\n",
       "      <th></th>\n",
       "      <th></th>\n",
       "      <th></th>\n",
       "      <th></th>\n",
       "      <th></th>\n",
       "      <th></th>\n",
       "    </tr>\n",
       "  </thead>\n",
       "  <tbody>\n",
       "    <tr>\n",
       "      <th>MMM</th>\n",
       "      <td>3M Company</td>\n",
       "      <td>Industrials</td>\n",
       "      <td>177.12</td>\n",
       "      <td>2.53</td>\n",
       "      <td>22.77</td>\n",
       "      <td>7.78</td>\n",
       "      <td>19.34</td>\n",
       "      <td>134.00</td>\n",
       "      <td>177.79</td>\n",
       "      <td>107.43</td>\n",
       "      <td>8.57</td>\n",
       "      <td>3.52</td>\n",
       "      <td>9.04</td>\n",
       "      <td>http://www.sec.gov/cgi-bin/browse-edgar?action...</td>\n",
       "    </tr>\n",
       "    <tr>\n",
       "      <th>ABT</th>\n",
       "      <td>Abbott Laboratories</td>\n",
       "      <td>Health Care</td>\n",
       "      <td>41.89</td>\n",
       "      <td>2.55</td>\n",
       "      <td>25.79</td>\n",
       "      <td>1.62</td>\n",
       "      <td>14.10</td>\n",
       "      <td>36.00</td>\n",
       "      <td>51.74</td>\n",
       "      <td>61.54</td>\n",
       "      <td>4.40</td>\n",
       "      <td>2.98</td>\n",
       "      <td>2.93</td>\n",
       "      <td>http://www.sec.gov/cgi-bin/browse-edgar?action...</td>\n",
       "    </tr>\n",
       "    <tr>\n",
       "      <th>ABBV</th>\n",
       "      <td>AbbVie</td>\n",
       "      <td>Health Care</td>\n",
       "      <td>64.16</td>\n",
       "      <td>3.60</td>\n",
       "      <td>19.29</td>\n",
       "      <td>3.33</td>\n",
       "      <td>2.87</td>\n",
       "      <td>45.45</td>\n",
       "      <td>71.60</td>\n",
       "      <td>103.77</td>\n",
       "      <td>10.30</td>\n",
       "      <td>4.31</td>\n",
       "      <td>22.09</td>\n",
       "      <td>http://www.sec.gov/cgi-bin/browse-edgar?action...</td>\n",
       "    </tr>\n",
       "    <tr>\n",
       "      <th>ACN</th>\n",
       "      <td>Accenture plc</td>\n",
       "      <td>Information Technology</td>\n",
       "      <td>115.11</td>\n",
       "      <td>1.94</td>\n",
       "      <td>19.45</td>\n",
       "      <td>5.92</td>\n",
       "      <td>11.45</td>\n",
       "      <td>88.43</td>\n",
       "      <td>120.78</td>\n",
       "      <td>71.66</td>\n",
       "      <td>5.42</td>\n",
       "      <td>2.17</td>\n",
       "      <td>9.84</td>\n",
       "      <td>http://www.sec.gov/cgi-bin/browse-edgar?action...</td>\n",
       "    </tr>\n",
       "    <tr>\n",
       "      <th>ATVI</th>\n",
       "      <td>Activision Blizzard</td>\n",
       "      <td>Information Technology</td>\n",
       "      <td>41.29</td>\n",
       "      <td>0.64</td>\n",
       "      <td>37.06</td>\n",
       "      <td>1.11</td>\n",
       "      <td>11.31</td>\n",
       "      <td>24.04</td>\n",
       "      <td>41.32</td>\n",
       "      <td>30.48</td>\n",
       "      <td>1.59</td>\n",
       "      <td>6.16</td>\n",
       "      <td>3.57</td>\n",
       "      <td>http://www.sec.gov/cgi-bin/browse-edgar?action...</td>\n",
       "    </tr>\n",
       "  </tbody>\n",
       "</table>\n",
       "</div>"
      ],
      "text/plain": [
       "                       Name                  Sector   Price  Dividend Yield  \\\n",
       "Symbol                                                                        \n",
       "MMM              3M Company             Industrials  177.12            2.53   \n",
       "ABT     Abbott Laboratories             Health Care   41.89            2.55   \n",
       "ABBV                 AbbVie             Health Care   64.16            3.60   \n",
       "ACN           Accenture plc  Information Technology  115.11            1.94   \n",
       "ATVI    Activision Blizzard  Information Technology   41.29            0.64   \n",
       "\n",
       "        Price/Earnings  Earnings/Share  Book Value  52 week low  52 week high  \\\n",
       "Symbol                                                                          \n",
       "MMM              22.77            7.78       19.34       134.00        177.79   \n",
       "ABT              25.79            1.62       14.10        36.00         51.74   \n",
       "ABBV             19.29            3.33        2.87        45.45         71.60   \n",
       "ACN              19.45            5.92       11.45        88.43        120.78   \n",
       "ATVI             37.06            1.11       11.31        24.04         41.32   \n",
       "\n",
       "        Market Cap  EBITDA  Price/Sales  Price/Book  \\\n",
       "Symbol                                                \n",
       "MMM         107.43    8.57         3.52        9.04   \n",
       "ABT          61.54    4.40         2.98        2.93   \n",
       "ABBV        103.77   10.30         4.31       22.09   \n",
       "ACN          71.66    5.42         2.17        9.84   \n",
       "ATVI         30.48    1.59         6.16        3.57   \n",
       "\n",
       "                                              SEC Filings  \n",
       "Symbol                                                     \n",
       "MMM     http://www.sec.gov/cgi-bin/browse-edgar?action...  \n",
       "ABT     http://www.sec.gov/cgi-bin/browse-edgar?action...  \n",
       "ABBV    http://www.sec.gov/cgi-bin/browse-edgar?action...  \n",
       "ACN     http://www.sec.gov/cgi-bin/browse-edgar?action...  \n",
       "ATVI    http://www.sec.gov/cgi-bin/browse-edgar?action...  "
      ]
     },
     "execution_count": 162,
     "metadata": {},
     "output_type": "execute_result"
    }
   ],
   "source": [
    "sample_df.head()"
   ]
  },
  {
   "cell_type": "markdown",
   "metadata": {},
   "source": [
    "* **새 column 추가하기**"
   ]
  },
  {
   "cell_type": "code",
   "execution_count": 165,
   "metadata": {},
   "outputs": [
    {
     "data": {
      "text/html": [
       "<div>\n",
       "<style>\n",
       "    .dataframe thead tr:only-child th {\n",
       "        text-align: right;\n",
       "    }\n",
       "\n",
       "    .dataframe thead th {\n",
       "        text-align: left;\n",
       "    }\n",
       "\n",
       "    .dataframe tbody tr th {\n",
       "        vertical-align: top;\n",
       "    }\n",
       "</style>\n",
       "<table border=\"1\" class=\"dataframe\">\n",
       "  <thead>\n",
       "    <tr style=\"text-align: right;\">\n",
       "      <th></th>\n",
       "      <th>Name</th>\n",
       "      <th>Sector</th>\n",
       "      <th>Price</th>\n",
       "      <th>Dividend Yield</th>\n",
       "      <th>Price/Earnings</th>\n",
       "      <th>Earnings/Share</th>\n",
       "      <th>Book Value</th>\n",
       "      <th>52 week low</th>\n",
       "      <th>52 week high</th>\n",
       "      <th>Market Cap</th>\n",
       "      <th>EBITDA</th>\n",
       "      <th>Price/Sales</th>\n",
       "      <th>Price/Book</th>\n",
       "      <th>SEC Filings</th>\n",
       "      <th>TwicePrice</th>\n",
       "    </tr>\n",
       "    <tr>\n",
       "      <th>Symbol</th>\n",
       "      <th></th>\n",
       "      <th></th>\n",
       "      <th></th>\n",
       "      <th></th>\n",
       "      <th></th>\n",
       "      <th></th>\n",
       "      <th></th>\n",
       "      <th></th>\n",
       "      <th></th>\n",
       "      <th></th>\n",
       "      <th></th>\n",
       "      <th></th>\n",
       "      <th></th>\n",
       "      <th></th>\n",
       "      <th></th>\n",
       "    </tr>\n",
       "  </thead>\n",
       "  <tbody>\n",
       "    <tr>\n",
       "      <th>MMM</th>\n",
       "      <td>3M Company</td>\n",
       "      <td>Industrials</td>\n",
       "      <td>177.12</td>\n",
       "      <td>2.53</td>\n",
       "      <td>22.77</td>\n",
       "      <td>7.78</td>\n",
       "      <td>19.34</td>\n",
       "      <td>134.00</td>\n",
       "      <td>177.79</td>\n",
       "      <td>107.43</td>\n",
       "      <td>8.57</td>\n",
       "      <td>3.52</td>\n",
       "      <td>9.04</td>\n",
       "      <td>http://www.sec.gov/cgi-bin/browse-edgar?action...</td>\n",
       "      <td>354.24</td>\n",
       "    </tr>\n",
       "    <tr>\n",
       "      <th>ABT</th>\n",
       "      <td>Abbott Laboratories</td>\n",
       "      <td>Health Care</td>\n",
       "      <td>41.89</td>\n",
       "      <td>2.55</td>\n",
       "      <td>25.79</td>\n",
       "      <td>1.62</td>\n",
       "      <td>14.10</td>\n",
       "      <td>36.00</td>\n",
       "      <td>51.74</td>\n",
       "      <td>61.54</td>\n",
       "      <td>4.40</td>\n",
       "      <td>2.98</td>\n",
       "      <td>2.93</td>\n",
       "      <td>http://www.sec.gov/cgi-bin/browse-edgar?action...</td>\n",
       "      <td>83.78</td>\n",
       "    </tr>\n",
       "    <tr>\n",
       "      <th>ABBV</th>\n",
       "      <td>AbbVie</td>\n",
       "      <td>Health Care</td>\n",
       "      <td>64.16</td>\n",
       "      <td>3.60</td>\n",
       "      <td>19.29</td>\n",
       "      <td>3.33</td>\n",
       "      <td>2.87</td>\n",
       "      <td>45.45</td>\n",
       "      <td>71.60</td>\n",
       "      <td>103.77</td>\n",
       "      <td>10.30</td>\n",
       "      <td>4.31</td>\n",
       "      <td>22.09</td>\n",
       "      <td>http://www.sec.gov/cgi-bin/browse-edgar?action...</td>\n",
       "      <td>128.32</td>\n",
       "    </tr>\n",
       "    <tr>\n",
       "      <th>ACN</th>\n",
       "      <td>Accenture plc</td>\n",
       "      <td>Information Technology</td>\n",
       "      <td>115.11</td>\n",
       "      <td>1.94</td>\n",
       "      <td>19.45</td>\n",
       "      <td>5.92</td>\n",
       "      <td>11.45</td>\n",
       "      <td>88.43</td>\n",
       "      <td>120.78</td>\n",
       "      <td>71.66</td>\n",
       "      <td>5.42</td>\n",
       "      <td>2.17</td>\n",
       "      <td>9.84</td>\n",
       "      <td>http://www.sec.gov/cgi-bin/browse-edgar?action...</td>\n",
       "      <td>230.22</td>\n",
       "    </tr>\n",
       "    <tr>\n",
       "      <th>ATVI</th>\n",
       "      <td>Activision Blizzard</td>\n",
       "      <td>Information Technology</td>\n",
       "      <td>41.29</td>\n",
       "      <td>0.64</td>\n",
       "      <td>37.06</td>\n",
       "      <td>1.11</td>\n",
       "      <td>11.31</td>\n",
       "      <td>24.04</td>\n",
       "      <td>41.32</td>\n",
       "      <td>30.48</td>\n",
       "      <td>1.59</td>\n",
       "      <td>6.16</td>\n",
       "      <td>3.57</td>\n",
       "      <td>http://www.sec.gov/cgi-bin/browse-edgar?action...</td>\n",
       "      <td>82.58</td>\n",
       "    </tr>\n",
       "  </tbody>\n",
       "</table>\n",
       "</div>"
      ],
      "text/plain": [
       "                       Name                  Sector   Price  Dividend Yield  \\\n",
       "Symbol                                                                        \n",
       "MMM              3M Company             Industrials  177.12            2.53   \n",
       "ABT     Abbott Laboratories             Health Care   41.89            2.55   \n",
       "ABBV                 AbbVie             Health Care   64.16            3.60   \n",
       "ACN           Accenture plc  Information Technology  115.11            1.94   \n",
       "ATVI    Activision Blizzard  Information Technology   41.29            0.64   \n",
       "\n",
       "        Price/Earnings  Earnings/Share  Book Value  52 week low  52 week high  \\\n",
       "Symbol                                                                          \n",
       "MMM              22.77            7.78       19.34       134.00        177.79   \n",
       "ABT              25.79            1.62       14.10        36.00         51.74   \n",
       "ABBV             19.29            3.33        2.87        45.45         71.60   \n",
       "ACN              19.45            5.92       11.45        88.43        120.78   \n",
       "ATVI             37.06            1.11       11.31        24.04         41.32   \n",
       "\n",
       "        Market Cap  EBITDA  Price/Sales  Price/Book  \\\n",
       "Symbol                                                \n",
       "MMM         107.43    8.57         3.52        9.04   \n",
       "ABT          61.54    4.40         2.98        2.93   \n",
       "ABBV        103.77   10.30         4.31       22.09   \n",
       "ACN          71.66    5.42         2.17        9.84   \n",
       "ATVI         30.48    1.59         6.16        3.57   \n",
       "\n",
       "                                              SEC Filings  TwicePrice  \n",
       "Symbol                                                                 \n",
       "MMM     http://www.sec.gov/cgi-bin/browse-edgar?action...      354.24  \n",
       "ABT     http://www.sec.gov/cgi-bin/browse-edgar?action...       83.78  \n",
       "ABBV    http://www.sec.gov/cgi-bin/browse-edgar?action...      128.32  \n",
       "ACN     http://www.sec.gov/cgi-bin/browse-edgar?action...      230.22  \n",
       "ATVI    http://www.sec.gov/cgi-bin/browse-edgar?action...       82.58  "
      ]
     },
     "execution_count": 165,
     "metadata": {},
     "output_type": "execute_result"
    }
   ],
   "source": [
    "# 새로운 dataframe 생성\n",
    "copy = sample_df.copy()\n",
    "\n",
    "# 새로 생성된 프레임에 새로운 컬럼 추가 (기존 컬럼 이용)\n",
    "copy['TwicePrice'] = sample_df['Price'] * 2       #TwicePrice 컬럼을 불러오라... 기존 Price에 2배를 해서 칼럼을 새로 만들어서 추가...\n",
    "copy.head()"
   ]
  },
  {
   "cell_type": "code",
   "execution_count": 166,
   "metadata": {},
   "outputs": [
    {
     "data": {
      "text/html": [
       "<div>\n",
       "<style>\n",
       "    .dataframe thead tr:only-child th {\n",
       "        text-align: right;\n",
       "    }\n",
       "\n",
       "    .dataframe thead th {\n",
       "        text-align: left;\n",
       "    }\n",
       "\n",
       "    .dataframe tbody tr th {\n",
       "        vertical-align: top;\n",
       "    }\n",
       "</style>\n",
       "<table border=\"1\" class=\"dataframe\">\n",
       "  <thead>\n",
       "    <tr style=\"text-align: right;\">\n",
       "      <th></th>\n",
       "      <th>Name</th>\n",
       "      <th>Sector</th>\n",
       "      <th>Price</th>\n",
       "      <th>Dividend Yield</th>\n",
       "      <th>Price/Earnings</th>\n",
       "      <th>Earnings/Share</th>\n",
       "      <th>Book Value</th>\n",
       "      <th>52 week low</th>\n",
       "      <th>52 week high</th>\n",
       "      <th>Market Cap</th>\n",
       "      <th>EBITDA</th>\n",
       "      <th>Price/Sales</th>\n",
       "      <th>Price/Book</th>\n",
       "      <th>SEC Filings</th>\n",
       "      <th>TwicePrice</th>\n",
       "      <th>ratio</th>\n",
       "    </tr>\n",
       "    <tr>\n",
       "      <th>Symbol</th>\n",
       "      <th></th>\n",
       "      <th></th>\n",
       "      <th></th>\n",
       "      <th></th>\n",
       "      <th></th>\n",
       "      <th></th>\n",
       "      <th></th>\n",
       "      <th></th>\n",
       "      <th></th>\n",
       "      <th></th>\n",
       "      <th></th>\n",
       "      <th></th>\n",
       "      <th></th>\n",
       "      <th></th>\n",
       "      <th></th>\n",
       "      <th></th>\n",
       "    </tr>\n",
       "  </thead>\n",
       "  <tbody>\n",
       "    <tr>\n",
       "      <th>MMM</th>\n",
       "      <td>3M Company</td>\n",
       "      <td>Industrials</td>\n",
       "      <td>177.12</td>\n",
       "      <td>2.53</td>\n",
       "      <td>22.77</td>\n",
       "      <td>7.78</td>\n",
       "      <td>19.34</td>\n",
       "      <td>134.00</td>\n",
       "      <td>177.79</td>\n",
       "      <td>107.43</td>\n",
       "      <td>8.57</td>\n",
       "      <td>3.52</td>\n",
       "      <td>9.04</td>\n",
       "      <td>http://www.sec.gov/cgi-bin/browse-edgar?action...</td>\n",
       "      <td>354.24</td>\n",
       "      <td>9.158221</td>\n",
       "    </tr>\n",
       "    <tr>\n",
       "      <th>ABT</th>\n",
       "      <td>Abbott Laboratories</td>\n",
       "      <td>Health Care</td>\n",
       "      <td>41.89</td>\n",
       "      <td>2.55</td>\n",
       "      <td>25.79</td>\n",
       "      <td>1.62</td>\n",
       "      <td>14.10</td>\n",
       "      <td>36.00</td>\n",
       "      <td>51.74</td>\n",
       "      <td>61.54</td>\n",
       "      <td>4.40</td>\n",
       "      <td>2.98</td>\n",
       "      <td>2.93</td>\n",
       "      <td>http://www.sec.gov/cgi-bin/browse-edgar?action...</td>\n",
       "      <td>83.78</td>\n",
       "      <td>2.970922</td>\n",
       "    </tr>\n",
       "    <tr>\n",
       "      <th>ABBV</th>\n",
       "      <td>AbbVie</td>\n",
       "      <td>Health Care</td>\n",
       "      <td>64.16</td>\n",
       "      <td>3.60</td>\n",
       "      <td>19.29</td>\n",
       "      <td>3.33</td>\n",
       "      <td>2.87</td>\n",
       "      <td>45.45</td>\n",
       "      <td>71.60</td>\n",
       "      <td>103.77</td>\n",
       "      <td>10.30</td>\n",
       "      <td>4.31</td>\n",
       "      <td>22.09</td>\n",
       "      <td>http://www.sec.gov/cgi-bin/browse-edgar?action...</td>\n",
       "      <td>128.32</td>\n",
       "      <td>22.355401</td>\n",
       "    </tr>\n",
       "    <tr>\n",
       "      <th>ACN</th>\n",
       "      <td>Accenture plc</td>\n",
       "      <td>Information Technology</td>\n",
       "      <td>115.11</td>\n",
       "      <td>1.94</td>\n",
       "      <td>19.45</td>\n",
       "      <td>5.92</td>\n",
       "      <td>11.45</td>\n",
       "      <td>88.43</td>\n",
       "      <td>120.78</td>\n",
       "      <td>71.66</td>\n",
       "      <td>5.42</td>\n",
       "      <td>2.17</td>\n",
       "      <td>9.84</td>\n",
       "      <td>http://www.sec.gov/cgi-bin/browse-edgar?action...</td>\n",
       "      <td>230.22</td>\n",
       "      <td>10.053275</td>\n",
       "    </tr>\n",
       "    <tr>\n",
       "      <th>ATVI</th>\n",
       "      <td>Activision Blizzard</td>\n",
       "      <td>Information Technology</td>\n",
       "      <td>41.29</td>\n",
       "      <td>0.64</td>\n",
       "      <td>37.06</td>\n",
       "      <td>1.11</td>\n",
       "      <td>11.31</td>\n",
       "      <td>24.04</td>\n",
       "      <td>41.32</td>\n",
       "      <td>30.48</td>\n",
       "      <td>1.59</td>\n",
       "      <td>6.16</td>\n",
       "      <td>3.57</td>\n",
       "      <td>http://www.sec.gov/cgi-bin/browse-edgar?action...</td>\n",
       "      <td>82.58</td>\n",
       "      <td>3.650752</td>\n",
       "    </tr>\n",
       "  </tbody>\n",
       "</table>\n",
       "</div>"
      ],
      "text/plain": [
       "                       Name                  Sector   Price  Dividend Yield  \\\n",
       "Symbol                                                                        \n",
       "MMM              3M Company             Industrials  177.12            2.53   \n",
       "ABT     Abbott Laboratories             Health Care   41.89            2.55   \n",
       "ABBV                 AbbVie             Health Care   64.16            3.60   \n",
       "ACN           Accenture plc  Information Technology  115.11            1.94   \n",
       "ATVI    Activision Blizzard  Information Technology   41.29            0.64   \n",
       "\n",
       "        Price/Earnings  Earnings/Share  Book Value  52 week low  52 week high  \\\n",
       "Symbol                                                                          \n",
       "MMM              22.77            7.78       19.34       134.00        177.79   \n",
       "ABT              25.79            1.62       14.10        36.00         51.74   \n",
       "ABBV             19.29            3.33        2.87        45.45         71.60   \n",
       "ACN              19.45            5.92       11.45        88.43        120.78   \n",
       "ATVI             37.06            1.11       11.31        24.04         41.32   \n",
       "\n",
       "        Market Cap  EBITDA  Price/Sales  Price/Book  \\\n",
       "Symbol                                                \n",
       "MMM         107.43    8.57         3.52        9.04   \n",
       "ABT          61.54    4.40         2.98        2.93   \n",
       "ABBV        103.77   10.30         4.31       22.09   \n",
       "ACN          71.66    5.42         2.17        9.84   \n",
       "ATVI         30.48    1.59         6.16        3.57   \n",
       "\n",
       "                                              SEC Filings  TwicePrice  \\\n",
       "Symbol                                                                  \n",
       "MMM     http://www.sec.gov/cgi-bin/browse-edgar?action...      354.24   \n",
       "ABT     http://www.sec.gov/cgi-bin/browse-edgar?action...       83.78   \n",
       "ABBV    http://www.sec.gov/cgi-bin/browse-edgar?action...      128.32   \n",
       "ACN     http://www.sec.gov/cgi-bin/browse-edgar?action...      230.22   \n",
       "ATVI    http://www.sec.gov/cgi-bin/browse-edgar?action...       82.58   \n",
       "\n",
       "            ratio  \n",
       "Symbol             \n",
       "MMM      9.158221  \n",
       "ABT      2.970922  \n",
       "ABBV    22.355401  \n",
       "ACN     10.053275  \n",
       "ATVI     3.650752  "
      ]
     },
     "execution_count": 166,
     "metadata": {},
     "output_type": "execute_result"
    }
   ],
   "source": [
    "copy['ratio'] = copy['Price'] / copy['Book Value']\n",
    "copy.head()"
   ]
  },
  {
   "cell_type": "code",
   "execution_count": 167,
   "metadata": {},
   "outputs": [
    {
     "data": {
      "text/html": [
       "<div>\n",
       "<style>\n",
       "    .dataframe thead tr:only-child th {\n",
       "        text-align: right;\n",
       "    }\n",
       "\n",
       "    .dataframe thead th {\n",
       "        text-align: left;\n",
       "    }\n",
       "\n",
       "    .dataframe tbody tr th {\n",
       "        vertical-align: top;\n",
       "    }\n",
       "</style>\n",
       "<table border=\"1\" class=\"dataframe\">\n",
       "  <thead>\n",
       "    <tr style=\"text-align: right;\">\n",
       "      <th></th>\n",
       "      <th>Name</th>\n",
       "      <th>TriplePrice</th>\n",
       "      <th>Sector</th>\n",
       "      <th>Price</th>\n",
       "      <th>Dividend Yield</th>\n",
       "      <th>Price/Earnings</th>\n",
       "      <th>Earnings/Share</th>\n",
       "      <th>Book Value</th>\n",
       "      <th>52 week low</th>\n",
       "      <th>52 week high</th>\n",
       "      <th>Market Cap</th>\n",
       "      <th>EBITDA</th>\n",
       "      <th>Price/Sales</th>\n",
       "      <th>Price/Book</th>\n",
       "      <th>SEC Filings</th>\n",
       "      <th>TwicePrice</th>\n",
       "      <th>ratio</th>\n",
       "    </tr>\n",
       "    <tr>\n",
       "      <th>Symbol</th>\n",
       "      <th></th>\n",
       "      <th></th>\n",
       "      <th></th>\n",
       "      <th></th>\n",
       "      <th></th>\n",
       "      <th></th>\n",
       "      <th></th>\n",
       "      <th></th>\n",
       "      <th></th>\n",
       "      <th></th>\n",
       "      <th></th>\n",
       "      <th></th>\n",
       "      <th></th>\n",
       "      <th></th>\n",
       "      <th></th>\n",
       "      <th></th>\n",
       "      <th></th>\n",
       "    </tr>\n",
       "  </thead>\n",
       "  <tbody>\n",
       "    <tr>\n",
       "      <th>MMM</th>\n",
       "      <td>3M Company</td>\n",
       "      <td>531.36</td>\n",
       "      <td>Industrials</td>\n",
       "      <td>177.12</td>\n",
       "      <td>2.53</td>\n",
       "      <td>22.77</td>\n",
       "      <td>7.78</td>\n",
       "      <td>19.34</td>\n",
       "      <td>134.00</td>\n",
       "      <td>177.79</td>\n",
       "      <td>107.43</td>\n",
       "      <td>8.57</td>\n",
       "      <td>3.52</td>\n",
       "      <td>9.04</td>\n",
       "      <td>http://www.sec.gov/cgi-bin/browse-edgar?action...</td>\n",
       "      <td>354.24</td>\n",
       "      <td>9.158221</td>\n",
       "    </tr>\n",
       "    <tr>\n",
       "      <th>ABT</th>\n",
       "      <td>Abbott Laboratories</td>\n",
       "      <td>125.67</td>\n",
       "      <td>Health Care</td>\n",
       "      <td>41.89</td>\n",
       "      <td>2.55</td>\n",
       "      <td>25.79</td>\n",
       "      <td>1.62</td>\n",
       "      <td>14.10</td>\n",
       "      <td>36.00</td>\n",
       "      <td>51.74</td>\n",
       "      <td>61.54</td>\n",
       "      <td>4.40</td>\n",
       "      <td>2.98</td>\n",
       "      <td>2.93</td>\n",
       "      <td>http://www.sec.gov/cgi-bin/browse-edgar?action...</td>\n",
       "      <td>83.78</td>\n",
       "      <td>2.970922</td>\n",
       "    </tr>\n",
       "    <tr>\n",
       "      <th>ABBV</th>\n",
       "      <td>AbbVie</td>\n",
       "      <td>192.48</td>\n",
       "      <td>Health Care</td>\n",
       "      <td>64.16</td>\n",
       "      <td>3.60</td>\n",
       "      <td>19.29</td>\n",
       "      <td>3.33</td>\n",
       "      <td>2.87</td>\n",
       "      <td>45.45</td>\n",
       "      <td>71.60</td>\n",
       "      <td>103.77</td>\n",
       "      <td>10.30</td>\n",
       "      <td>4.31</td>\n",
       "      <td>22.09</td>\n",
       "      <td>http://www.sec.gov/cgi-bin/browse-edgar?action...</td>\n",
       "      <td>128.32</td>\n",
       "      <td>22.355401</td>\n",
       "    </tr>\n",
       "    <tr>\n",
       "      <th>ACN</th>\n",
       "      <td>Accenture plc</td>\n",
       "      <td>345.33</td>\n",
       "      <td>Information Technology</td>\n",
       "      <td>115.11</td>\n",
       "      <td>1.94</td>\n",
       "      <td>19.45</td>\n",
       "      <td>5.92</td>\n",
       "      <td>11.45</td>\n",
       "      <td>88.43</td>\n",
       "      <td>120.78</td>\n",
       "      <td>71.66</td>\n",
       "      <td>5.42</td>\n",
       "      <td>2.17</td>\n",
       "      <td>9.84</td>\n",
       "      <td>http://www.sec.gov/cgi-bin/browse-edgar?action...</td>\n",
       "      <td>230.22</td>\n",
       "      <td>10.053275</td>\n",
       "    </tr>\n",
       "    <tr>\n",
       "      <th>ATVI</th>\n",
       "      <td>Activision Blizzard</td>\n",
       "      <td>123.87</td>\n",
       "      <td>Information Technology</td>\n",
       "      <td>41.29</td>\n",
       "      <td>0.64</td>\n",
       "      <td>37.06</td>\n",
       "      <td>1.11</td>\n",
       "      <td>11.31</td>\n",
       "      <td>24.04</td>\n",
       "      <td>41.32</td>\n",
       "      <td>30.48</td>\n",
       "      <td>1.59</td>\n",
       "      <td>6.16</td>\n",
       "      <td>3.57</td>\n",
       "      <td>http://www.sec.gov/cgi-bin/browse-edgar?action...</td>\n",
       "      <td>82.58</td>\n",
       "      <td>3.650752</td>\n",
       "    </tr>\n",
       "  </tbody>\n",
       "</table>\n",
       "</div>"
      ],
      "text/plain": [
       "                       Name  TriplePrice                  Sector   Price  \\\n",
       "Symbol                                                                     \n",
       "MMM              3M Company       531.36             Industrials  177.12   \n",
       "ABT     Abbott Laboratories       125.67             Health Care   41.89   \n",
       "ABBV                 AbbVie       192.48             Health Care   64.16   \n",
       "ACN           Accenture plc       345.33  Information Technology  115.11   \n",
       "ATVI    Activision Blizzard       123.87  Information Technology   41.29   \n",
       "\n",
       "        Dividend Yield  Price/Earnings  Earnings/Share  Book Value  \\\n",
       "Symbol                                                               \n",
       "MMM               2.53           22.77            7.78       19.34   \n",
       "ABT               2.55           25.79            1.62       14.10   \n",
       "ABBV              3.60           19.29            3.33        2.87   \n",
       "ACN               1.94           19.45            5.92       11.45   \n",
       "ATVI              0.64           37.06            1.11       11.31   \n",
       "\n",
       "        52 week low  52 week high  Market Cap  EBITDA  Price/Sales  \\\n",
       "Symbol                                                               \n",
       "MMM          134.00        177.79      107.43    8.57         3.52   \n",
       "ABT           36.00         51.74       61.54    4.40         2.98   \n",
       "ABBV          45.45         71.60      103.77   10.30         4.31   \n",
       "ACN           88.43        120.78       71.66    5.42         2.17   \n",
       "ATVI          24.04         41.32       30.48    1.59         6.16   \n",
       "\n",
       "        Price/Book                                        SEC Filings  \\\n",
       "Symbol                                                                  \n",
       "MMM           9.04  http://www.sec.gov/cgi-bin/browse-edgar?action...   \n",
       "ABT           2.93  http://www.sec.gov/cgi-bin/browse-edgar?action...   \n",
       "ABBV         22.09  http://www.sec.gov/cgi-bin/browse-edgar?action...   \n",
       "ACN           9.84  http://www.sec.gov/cgi-bin/browse-edgar?action...   \n",
       "ATVI          3.57  http://www.sec.gov/cgi-bin/browse-edgar?action...   \n",
       "\n",
       "        TwicePrice      ratio  \n",
       "Symbol                         \n",
       "MMM         354.24   9.158221  \n",
       "ABT          83.78   2.970922  \n",
       "ABBV        128.32  22.355401  \n",
       "ACN         230.22  10.053275  \n",
       "ATVI         82.58   3.650752  "
      ]
     },
     "execution_count": 167,
     "metadata": {},
     "output_type": "execute_result"
    }
   ],
   "source": [
    "# insert 함수를 이용하여 원하는 컬럼 위치에 삽입 가능\n",
    "# copy.insert(1, 'TriplePrice', sample_df.Price * 3)      #이름에 띄어쓰기 없이 .Price로 해도 가능은 함\n",
    "copy.insert(1, 'TriplePrice', sample_df['Price'] * 3)\n",
    "copy.head()"
   ]
  },
  {
   "cell_type": "markdown",
   "metadata": {
    "collapsed": true
   },
   "source": [
    " * **column 삭제하기**"
   ]
  },
  {
   "cell_type": "code",
   "execution_count": 168,
   "metadata": {},
   "outputs": [
    {
     "data": {
      "text/html": [
       "<div>\n",
       "<style>\n",
       "    .dataframe thead tr:only-child th {\n",
       "        text-align: right;\n",
       "    }\n",
       "\n",
       "    .dataframe thead th {\n",
       "        text-align: left;\n",
       "    }\n",
       "\n",
       "    .dataframe tbody tr th {\n",
       "        vertical-align: top;\n",
       "    }\n",
       "</style>\n",
       "<table border=\"1\" class=\"dataframe\">\n",
       "  <thead>\n",
       "    <tr style=\"text-align: right;\">\n",
       "      <th></th>\n",
       "      <th>Name</th>\n",
       "      <th>Sector</th>\n",
       "      <th>Price</th>\n",
       "      <th>Dividend Yield</th>\n",
       "      <th>Price/Earnings</th>\n",
       "      <th>Earnings/Share</th>\n",
       "      <th>Book Value</th>\n",
       "      <th>52 week low</th>\n",
       "      <th>52 week high</th>\n",
       "      <th>Market Cap</th>\n",
       "      <th>EBITDA</th>\n",
       "      <th>Price/Sales</th>\n",
       "      <th>Price/Book</th>\n",
       "      <th>SEC Filings</th>\n",
       "      <th>TwicePrice</th>\n",
       "      <th>ratio</th>\n",
       "    </tr>\n",
       "    <tr>\n",
       "      <th>Symbol</th>\n",
       "      <th></th>\n",
       "      <th></th>\n",
       "      <th></th>\n",
       "      <th></th>\n",
       "      <th></th>\n",
       "      <th></th>\n",
       "      <th></th>\n",
       "      <th></th>\n",
       "      <th></th>\n",
       "      <th></th>\n",
       "      <th></th>\n",
       "      <th></th>\n",
       "      <th></th>\n",
       "      <th></th>\n",
       "      <th></th>\n",
       "      <th></th>\n",
       "    </tr>\n",
       "  </thead>\n",
       "  <tbody>\n",
       "    <tr>\n",
       "      <th>MMM</th>\n",
       "      <td>3M Company</td>\n",
       "      <td>Industrials</td>\n",
       "      <td>177.12</td>\n",
       "      <td>2.53</td>\n",
       "      <td>22.77</td>\n",
       "      <td>7.78</td>\n",
       "      <td>19.34</td>\n",
       "      <td>134.00</td>\n",
       "      <td>177.79</td>\n",
       "      <td>107.43</td>\n",
       "      <td>8.57</td>\n",
       "      <td>3.52</td>\n",
       "      <td>9.04</td>\n",
       "      <td>http://www.sec.gov/cgi-bin/browse-edgar?action...</td>\n",
       "      <td>354.24</td>\n",
       "      <td>9.158221</td>\n",
       "    </tr>\n",
       "    <tr>\n",
       "      <th>ABT</th>\n",
       "      <td>Abbott Laboratories</td>\n",
       "      <td>Health Care</td>\n",
       "      <td>41.89</td>\n",
       "      <td>2.55</td>\n",
       "      <td>25.79</td>\n",
       "      <td>1.62</td>\n",
       "      <td>14.10</td>\n",
       "      <td>36.00</td>\n",
       "      <td>51.74</td>\n",
       "      <td>61.54</td>\n",
       "      <td>4.40</td>\n",
       "      <td>2.98</td>\n",
       "      <td>2.93</td>\n",
       "      <td>http://www.sec.gov/cgi-bin/browse-edgar?action...</td>\n",
       "      <td>83.78</td>\n",
       "      <td>2.970922</td>\n",
       "    </tr>\n",
       "    <tr>\n",
       "      <th>ABBV</th>\n",
       "      <td>AbbVie</td>\n",
       "      <td>Health Care</td>\n",
       "      <td>64.16</td>\n",
       "      <td>3.60</td>\n",
       "      <td>19.29</td>\n",
       "      <td>3.33</td>\n",
       "      <td>2.87</td>\n",
       "      <td>45.45</td>\n",
       "      <td>71.60</td>\n",
       "      <td>103.77</td>\n",
       "      <td>10.30</td>\n",
       "      <td>4.31</td>\n",
       "      <td>22.09</td>\n",
       "      <td>http://www.sec.gov/cgi-bin/browse-edgar?action...</td>\n",
       "      <td>128.32</td>\n",
       "      <td>22.355401</td>\n",
       "    </tr>\n",
       "    <tr>\n",
       "      <th>ACN</th>\n",
       "      <td>Accenture plc</td>\n",
       "      <td>Information Technology</td>\n",
       "      <td>115.11</td>\n",
       "      <td>1.94</td>\n",
       "      <td>19.45</td>\n",
       "      <td>5.92</td>\n",
       "      <td>11.45</td>\n",
       "      <td>88.43</td>\n",
       "      <td>120.78</td>\n",
       "      <td>71.66</td>\n",
       "      <td>5.42</td>\n",
       "      <td>2.17</td>\n",
       "      <td>9.84</td>\n",
       "      <td>http://www.sec.gov/cgi-bin/browse-edgar?action...</td>\n",
       "      <td>230.22</td>\n",
       "      <td>10.053275</td>\n",
       "    </tr>\n",
       "    <tr>\n",
       "      <th>ATVI</th>\n",
       "      <td>Activision Blizzard</td>\n",
       "      <td>Information Technology</td>\n",
       "      <td>41.29</td>\n",
       "      <td>0.64</td>\n",
       "      <td>37.06</td>\n",
       "      <td>1.11</td>\n",
       "      <td>11.31</td>\n",
       "      <td>24.04</td>\n",
       "      <td>41.32</td>\n",
       "      <td>30.48</td>\n",
       "      <td>1.59</td>\n",
       "      <td>6.16</td>\n",
       "      <td>3.57</td>\n",
       "      <td>http://www.sec.gov/cgi-bin/browse-edgar?action...</td>\n",
       "      <td>82.58</td>\n",
       "      <td>3.650752</td>\n",
       "    </tr>\n",
       "  </tbody>\n",
       "</table>\n",
       "</div>"
      ],
      "text/plain": [
       "                       Name                  Sector   Price  Dividend Yield  \\\n",
       "Symbol                                                                        \n",
       "MMM              3M Company             Industrials  177.12            2.53   \n",
       "ABT     Abbott Laboratories             Health Care   41.89            2.55   \n",
       "ABBV                 AbbVie             Health Care   64.16            3.60   \n",
       "ACN           Accenture plc  Information Technology  115.11            1.94   \n",
       "ATVI    Activision Blizzard  Information Technology   41.29            0.64   \n",
       "\n",
       "        Price/Earnings  Earnings/Share  Book Value  52 week low  52 week high  \\\n",
       "Symbol                                                                          \n",
       "MMM              22.77            7.78       19.34       134.00        177.79   \n",
       "ABT              25.79            1.62       14.10        36.00         51.74   \n",
       "ABBV             19.29            3.33        2.87        45.45         71.60   \n",
       "ACN              19.45            5.92       11.45        88.43        120.78   \n",
       "ATVI             37.06            1.11       11.31        24.04         41.32   \n",
       "\n",
       "        Market Cap  EBITDA  Price/Sales  Price/Book  \\\n",
       "Symbol                                                \n",
       "MMM         107.43    8.57         3.52        9.04   \n",
       "ABT          61.54    4.40         2.98        2.93   \n",
       "ABBV        103.77   10.30         4.31       22.09   \n",
       "ACN          71.66    5.42         2.17        9.84   \n",
       "ATVI         30.48    1.59         6.16        3.57   \n",
       "\n",
       "                                              SEC Filings  TwicePrice  \\\n",
       "Symbol                                                                  \n",
       "MMM     http://www.sec.gov/cgi-bin/browse-edgar?action...      354.24   \n",
       "ABT     http://www.sec.gov/cgi-bin/browse-edgar?action...       83.78   \n",
       "ABBV    http://www.sec.gov/cgi-bin/browse-edgar?action...      128.32   \n",
       "ACN     http://www.sec.gov/cgi-bin/browse-edgar?action...      230.22   \n",
       "ATVI    http://www.sec.gov/cgi-bin/browse-edgar?action...       82.58   \n",
       "\n",
       "            ratio  \n",
       "Symbol             \n",
       "MMM      9.158221  \n",
       "ABT      2.970922  \n",
       "ABBV    22.355401  \n",
       "ACN     10.053275  \n",
       "ATVI     3.650752  "
      ]
     },
     "execution_count": 168,
     "metadata": {},
     "output_type": "execute_result"
    }
   ],
   "source": [
    "# del 키워드로 삭제\n",
    "del copy['TriplePrice']\n",
    "copy.head()"
   ]
  },
  {
   "cell_type": "markdown",
   "metadata": {},
   "source": [
    " * **row 추가/삭제하기**"
   ]
  },
  {
   "cell_type": "code",
   "execution_count": 169,
   "metadata": {},
   "outputs": [
    {
     "name": "stdout",
     "output_type": "stream",
     "text": [
      "                       Name       Sector   Price  Dividend Yield  \\\n",
      "Symbol                                                             \n",
      "MMM              3M Company  Industrials  177.12            2.53   \n",
      "ABT     Abbott Laboratories  Health Care   41.89            2.55   \n",
      "ABBV                 AbbVie  Health Care   64.16            3.60   \n",
      "\n",
      "        Price/Earnings  Earnings/Share  Book Value  52 week low  52 week high  \\\n",
      "Symbol                                                                          \n",
      "MMM              22.77            7.78       19.34       134.00        177.79   \n",
      "ABT              25.79            1.62       14.10        36.00         51.74   \n",
      "ABBV             19.29            3.33        2.87        45.45         71.60   \n",
      "\n",
      "        Market Cap  EBITDA  Price/Sales  Price/Book  \\\n",
      "Symbol                                                \n",
      "MMM         107.43    8.57         3.52        9.04   \n",
      "ABT          61.54    4.40         2.98        2.93   \n",
      "ABBV        103.77   10.30         4.31       22.09   \n",
      "\n",
      "                                              SEC Filings  TwicePrice  \\\n",
      "Symbol                                                                  \n",
      "MMM     http://www.sec.gov/cgi-bin/browse-edgar?action...      354.24   \n",
      "ABT     http://www.sec.gov/cgi-bin/browse-edgar?action...       83.78   \n",
      "ABBV    http://www.sec.gov/cgi-bin/browse-edgar?action...      128.32   \n",
      "\n",
      "            ratio  \n",
      "Symbol             \n",
      "MMM      9.158221  \n",
      "ABT      2.970922  \n",
      "ABBV    22.355401  \n",
      "                       Name       Sector   Price  Dividend Yield  \\\n",
      "Symbol                                                             \n",
      "ZION          Zions Bancorp   Financials   24.74            0.98   \n",
      "ZTS                  Zoetis  Health Care   48.50            0.80   \n",
      "MMM              3M Company  Industrials  177.12            2.53   \n",
      "ABT     Abbott Laboratories  Health Care   41.89            2.55   \n",
      "ABBV                 AbbVie  Health Care   64.16            3.60   \n",
      "\n",
      "        Price/Earnings  Earnings/Share  Book Value  52 week low  52 week high  \\\n",
      "Symbol                                                                          \n",
      "ZION             20.45            1.21       33.23        19.65         32.42   \n",
      "ZTS              63.98            0.76        2.35        37.73         50.39   \n",
      "MMM              22.77            7.78       19.34       134.00        177.79   \n",
      "ABT              25.79            1.62       14.10        36.00         51.74   \n",
      "ABBV             19.29            3.33        2.87        45.45         71.60   \n",
      "\n",
      "        Market Cap  EBITDA  Price/Sales  Price/Book  \\\n",
      "Symbol                                                \n",
      "ZION          5.06    0.00         2.44        0.73   \n",
      "ZTS          24.07    1.53         4.90       20.32   \n",
      "MMM         107.43    8.57         3.52        9.04   \n",
      "ABT          61.54    4.40         2.98        2.93   \n",
      "ABBV        103.77   10.30         4.31       22.09   \n",
      "\n",
      "                                              SEC Filings  TwicePrice  \\\n",
      "Symbol                                                                  \n",
      "ZION    http://www.sec.gov/cgi-bin/browse-edgar?action...       49.48   \n",
      "ZTS     http://www.sec.gov/cgi-bin/browse-edgar?action...       97.00   \n",
      "MMM     http://www.sec.gov/cgi-bin/browse-edgar?action...      354.24   \n",
      "ABT     http://www.sec.gov/cgi-bin/browse-edgar?action...       83.78   \n",
      "ABBV    http://www.sec.gov/cgi-bin/browse-edgar?action...      128.32   \n",
      "\n",
      "            ratio  \n",
      "Symbol             \n",
      "ZION     0.744508  \n",
      "ZTS     20.638298  \n",
      "MMM      9.158221  \n",
      "ABT      2.970922  \n",
      "ABBV    22.355401  \n"
     ]
    }
   ],
   "source": [
    "df1 = copy.iloc[0:3].copy() #카피본을 0부터 3까지 iloc으로 해서 다시 카피한 다음 df1에 넣음\n",
    "print(df1)\n",
    "\n",
    "# append 함수 사용\n",
    "copy = copy.append(df1)\n",
    "print(copy.tail())"
   ]
  },
  {
   "cell_type": "code",
   "execution_count": 211,
   "metadata": {},
   "outputs": [
    {
     "name": "stdout",
     "output_type": "stream",
     "text": [
      "                       Name                  Sector   Price  Dividend Yield  \\\n",
      "Symbol                                                                        \n",
      "ABT     Abbott Laboratories             Health Care   41.89            2.55   \n",
      "ACN           Accenture plc  Information Technology  115.11            1.94   \n",
      "MMM              3M Company             Industrials  177.12            2.53   \n",
      "ABT     Abbott Laboratories             Health Care   41.89            2.55   \n",
      "ACN           Accenture plc  Information Technology  115.11            1.94   \n",
      "\n",
      "        Price/Earnings  Earnings/Share  Book Value  52 week low  52 week high  \\\n",
      "Symbol                                                                          \n",
      "ABT              25.79            1.62       14.10        36.00         51.74   \n",
      "ACN              19.45            5.92       11.45        88.43        120.78   \n",
      "MMM              22.77            7.78       19.34       134.00        177.79   \n",
      "ABT              25.79            1.62       14.10        36.00         51.74   \n",
      "ACN              19.45            5.92       11.45        88.43        120.78   \n",
      "\n",
      "        Market Cap  EBITDA  Price/Sales  Price/Book  \\\n",
      "Symbol                                                \n",
      "ABT          61.54    4.40         2.98        2.93   \n",
      "ACN          71.66    5.42         2.17        9.84   \n",
      "MMM         107.43    8.57         3.52        9.04   \n",
      "ABT          61.54    4.40         2.98        2.93   \n",
      "ACN          71.66    5.42         2.17        9.84   \n",
      "\n",
      "                                              SEC Filings  TwicePrice  \\\n",
      "Symbol                                                                  \n",
      "ABT     http://www.sec.gov/cgi-bin/browse-edgar?action...       83.78   \n",
      "ACN     http://www.sec.gov/cgi-bin/browse-edgar?action...      230.22   \n",
      "MMM     http://www.sec.gov/cgi-bin/browse-edgar?action...      354.24   \n",
      "ABT     http://www.sec.gov/cgi-bin/browse-edgar?action...       83.78   \n",
      "ACN     http://www.sec.gov/cgi-bin/browse-edgar?action...      230.22   \n",
      "\n",
      "            ratio  \n",
      "Symbol             \n",
      "ABT      2.970922  \n",
      "ACN     10.053275  \n",
      "MMM      9.158221  \n",
      "ABT      2.970922  \n",
      "ACN     10.053275   \n",
      "\n"
     ]
    },
    {
     "data": {
      "text/html": [
       "<div>\n",
       "<style>\n",
       "    .dataframe thead tr:only-child th {\n",
       "        text-align: right;\n",
       "    }\n",
       "\n",
       "    .dataframe thead th {\n",
       "        text-align: left;\n",
       "    }\n",
       "\n",
       "    .dataframe tbody tr th {\n",
       "        vertical-align: top;\n",
       "    }\n",
       "</style>\n",
       "<table border=\"1\" class=\"dataframe\">\n",
       "  <thead>\n",
       "    <tr style=\"text-align: right;\">\n",
       "      <th></th>\n",
       "      <th>Name</th>\n",
       "      <th>Sector</th>\n",
       "      <th>Price</th>\n",
       "      <th>Dividend Yield</th>\n",
       "      <th>Price/Earnings</th>\n",
       "      <th>Earnings/Share</th>\n",
       "      <th>Book Value</th>\n",
       "      <th>52 week low</th>\n",
       "      <th>52 week high</th>\n",
       "      <th>Market Cap</th>\n",
       "      <th>EBITDA</th>\n",
       "      <th>Price/Sales</th>\n",
       "      <th>Price/Book</th>\n",
       "      <th>SEC Filings</th>\n",
       "      <th>TwicePrice</th>\n",
       "      <th>ratio</th>\n",
       "    </tr>\n",
       "    <tr>\n",
       "      <th>Symbol</th>\n",
       "      <th></th>\n",
       "      <th></th>\n",
       "      <th></th>\n",
       "      <th></th>\n",
       "      <th></th>\n",
       "      <th></th>\n",
       "      <th></th>\n",
       "      <th></th>\n",
       "      <th></th>\n",
       "      <th></th>\n",
       "      <th></th>\n",
       "      <th></th>\n",
       "      <th></th>\n",
       "      <th></th>\n",
       "      <th></th>\n",
       "      <th></th>\n",
       "    </tr>\n",
       "  </thead>\n",
       "  <tbody>\n",
       "    <tr>\n",
       "      <th>ABT</th>\n",
       "      <td>Abbott Laboratories</td>\n",
       "      <td>Health Care</td>\n",
       "      <td>41.89</td>\n",
       "      <td>2.55</td>\n",
       "      <td>25.79</td>\n",
       "      <td>1.62</td>\n",
       "      <td>14.10</td>\n",
       "      <td>36.00</td>\n",
       "      <td>51.74</td>\n",
       "      <td>61.54</td>\n",
       "      <td>4.40</td>\n",
       "      <td>2.98</td>\n",
       "      <td>2.93</td>\n",
       "      <td>http://www.sec.gov/cgi-bin/browse-edgar?action...</td>\n",
       "      <td>83.78</td>\n",
       "      <td>2.970922</td>\n",
       "    </tr>\n",
       "    <tr>\n",
       "      <th>ACN</th>\n",
       "      <td>Accenture plc</td>\n",
       "      <td>Information Technology</td>\n",
       "      <td>115.11</td>\n",
       "      <td>1.94</td>\n",
       "      <td>19.45</td>\n",
       "      <td>5.92</td>\n",
       "      <td>11.45</td>\n",
       "      <td>88.43</td>\n",
       "      <td>120.78</td>\n",
       "      <td>71.66</td>\n",
       "      <td>5.42</td>\n",
       "      <td>2.17</td>\n",
       "      <td>9.84</td>\n",
       "      <td>http://www.sec.gov/cgi-bin/browse-edgar?action...</td>\n",
       "      <td>230.22</td>\n",
       "      <td>10.053275</td>\n",
       "    </tr>\n",
       "    <tr>\n",
       "      <th>MMM</th>\n",
       "      <td>3M Company</td>\n",
       "      <td>Industrials</td>\n",
       "      <td>177.12</td>\n",
       "      <td>2.53</td>\n",
       "      <td>22.77</td>\n",
       "      <td>7.78</td>\n",
       "      <td>19.34</td>\n",
       "      <td>134.00</td>\n",
       "      <td>177.79</td>\n",
       "      <td>107.43</td>\n",
       "      <td>8.57</td>\n",
       "      <td>3.52</td>\n",
       "      <td>9.04</td>\n",
       "      <td>http://www.sec.gov/cgi-bin/browse-edgar?action...</td>\n",
       "      <td>354.24</td>\n",
       "      <td>9.158221</td>\n",
       "    </tr>\n",
       "    <tr>\n",
       "      <th>ABT</th>\n",
       "      <td>Abbott Laboratories</td>\n",
       "      <td>Health Care</td>\n",
       "      <td>41.89</td>\n",
       "      <td>2.55</td>\n",
       "      <td>25.79</td>\n",
       "      <td>1.62</td>\n",
       "      <td>14.10</td>\n",
       "      <td>36.00</td>\n",
       "      <td>51.74</td>\n",
       "      <td>61.54</td>\n",
       "      <td>4.40</td>\n",
       "      <td>2.98</td>\n",
       "      <td>2.93</td>\n",
       "      <td>http://www.sec.gov/cgi-bin/browse-edgar?action...</td>\n",
       "      <td>83.78</td>\n",
       "      <td>2.970922</td>\n",
       "    </tr>\n",
       "    <tr>\n",
       "      <th>ACN</th>\n",
       "      <td>Accenture plc</td>\n",
       "      <td>Information Technology</td>\n",
       "      <td>115.11</td>\n",
       "      <td>1.94</td>\n",
       "      <td>19.45</td>\n",
       "      <td>5.92</td>\n",
       "      <td>11.45</td>\n",
       "      <td>88.43</td>\n",
       "      <td>120.78</td>\n",
       "      <td>71.66</td>\n",
       "      <td>5.42</td>\n",
       "      <td>2.17</td>\n",
       "      <td>9.84</td>\n",
       "      <td>http://www.sec.gov/cgi-bin/browse-edgar?action...</td>\n",
       "      <td>230.22</td>\n",
       "      <td>10.053275</td>\n",
       "    </tr>\n",
       "  </tbody>\n",
       "</table>\n",
       "</div>"
      ],
      "text/plain": [
       "                       Name                  Sector   Price  Dividend Yield  \\\n",
       "Symbol                                                                        \n",
       "ABT     Abbott Laboratories             Health Care   41.89            2.55   \n",
       "ACN           Accenture plc  Information Technology  115.11            1.94   \n",
       "MMM              3M Company             Industrials  177.12            2.53   \n",
       "ABT     Abbott Laboratories             Health Care   41.89            2.55   \n",
       "ACN           Accenture plc  Information Technology  115.11            1.94   \n",
       "\n",
       "        Price/Earnings  Earnings/Share  Book Value  52 week low  52 week high  \\\n",
       "Symbol                                                                          \n",
       "ABT              25.79            1.62       14.10        36.00         51.74   \n",
       "ACN              19.45            5.92       11.45        88.43        120.78   \n",
       "MMM              22.77            7.78       19.34       134.00        177.79   \n",
       "ABT              25.79            1.62       14.10        36.00         51.74   \n",
       "ACN              19.45            5.92       11.45        88.43        120.78   \n",
       "\n",
       "        Market Cap  EBITDA  Price/Sales  Price/Book  \\\n",
       "Symbol                                                \n",
       "ABT          61.54    4.40         2.98        2.93   \n",
       "ACN          71.66    5.42         2.17        9.84   \n",
       "MMM         107.43    8.57         3.52        9.04   \n",
       "ABT          61.54    4.40         2.98        2.93   \n",
       "ACN          71.66    5.42         2.17        9.84   \n",
       "\n",
       "                                              SEC Filings  TwicePrice  \\\n",
       "Symbol                                                                  \n",
       "ABT     http://www.sec.gov/cgi-bin/browse-edgar?action...       83.78   \n",
       "ACN     http://www.sec.gov/cgi-bin/browse-edgar?action...      230.22   \n",
       "MMM     http://www.sec.gov/cgi-bin/browse-edgar?action...      354.24   \n",
       "ABT     http://www.sec.gov/cgi-bin/browse-edgar?action...       83.78   \n",
       "ACN     http://www.sec.gov/cgi-bin/browse-edgar?action...      230.22   \n",
       "\n",
       "            ratio  \n",
       "Symbol             \n",
       "ABT      2.970922  \n",
       "ACN     10.053275  \n",
       "MMM      9.158221  \n",
       "ABT      2.970922  \n",
       "ACN     10.053275  "
      ]
     },
     "execution_count": 211,
     "metadata": {},
     "output_type": "execute_result"
    }
   ],
   "source": [
    "# drop 함수를 사용하여 해당 row 제거\n",
    "copy = copy.drop(['ABBV'])\n",
    "\n",
    "print(copy.tail(), '\\n')\n",
    "copy.tail()"
   ]
  },
  {
   "cell_type": "code",
   "execution_count": null,
   "metadata": {
    "collapsed": true
   },
   "outputs": [],
   "source": []
  }
 ],
 "metadata": {
  "kernelspec": {
   "display_name": "Python 3",
   "language": "python",
   "name": "python3"
  },
  "language_info": {
   "codemirror_mode": {
    "name": "ipython",
    "version": 3
   },
   "file_extension": ".py",
   "mimetype": "text/x-python",
   "name": "python",
   "nbconvert_exporter": "python",
   "pygments_lexer": "ipython3",
   "version": "3.6.3"
  }
 },
 "nbformat": 4,
 "nbformat_minor": 1
}
