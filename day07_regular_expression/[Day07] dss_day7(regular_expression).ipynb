{
 "cells": [
  {
   "cell_type": "markdown",
   "metadata": {
    "collapsed": true
   },
   "source": [
    " # 정규표현식(Regular Expression)"
   ]
  },
  {
   "cell_type": "markdown",
   "metadata": {},
   "source": [
    "## 학습목표\n",
    " + 정규표현식(re) 에 대한 이해 및 숙지"
   ]
  },
  {
   "cell_type": "raw",
   "metadata": {},
   "source": [
    "Hello, my email: abc@abc.com 에서 이메일만 따로 뽑아내려면 rule을 계속 추가하면서 추출(검색), 치환하는 것..."
   ]
  },
  {
   "cell_type": "markdown",
   "metadata": {},
   "source": [
    "* 정규표현식 \n",
    " - regular expression\n",
    " - 특정한 패턴과 일치하는 문자열를 '검색', '치환', '제거' 하는 기능을 지원\n",
    " - 정규표현식의 도움없이 패턴을 찾는 작업(Rule 기반)은 불완전 하거나, 작업의 cost가 높음\n",
    " - e.g) 이메일 형식 판별, 전화번호 형식 판별, 숫자로만 이루어진 문자열 등"
   ]
  },
  {
   "cell_type": "markdown",
   "metadata": {},
   "source": [
    "python re module로 제공\n",
    " - 아래의 함수로 각각의 기능을 제공\n",
    " - search\n",
    " - match\n",
    " - findall\n",
    " - sub\n",
    " - split\n",
    " - compile"
   ]
  },
  {
   "cell_type": "markdown",
   "metadata": {},
   "source": [
    "* **기본 패턴**\n",
    " - a, X, 9 등등 문자 하나하나의 character들은 정확히 해당 문자와 일치\n",
    "   - e.g) 패턴 test는 test 문자열과 일치\n",
    "   - 대소문자의 경우 기본적으로 구별하나, 구별하지 않도록 설정 가능\n",
    " - 몇몇 문자들에 대해서는 예외가 존재하는데, 이들은 특별한 의미로 사용 됨\n",
    "   - . ^ $ * + ? { } [ ] \\ | ( )\n",
    " \n",
    " - . (마침표) - 어떤 한개의 character와 일치 (newline(엔터) 제외)\n",
    " \n",
    " - \\w - 문자 character와 일치 [a-zA-Z0-9_]\n",
    " - \\s - 공백문자와 일치\n",
    " - \\t, \\n, \\r - tab, newline, return\n",
    " - \\d - 숫자 character와 일치 [0-9]\n",
    " - ^ = 시작, $ = 끝 각각 문자열의 시작과 끝을 의미\n",
    " - \\가 붙으면 스페셜한 의미가 없어짐. 예를들어 \\\\.는 .자체를 의미 \\\\\\는 \\를 의미\n",
    " - 자세한 내용은 링크 참조 https://docs.python.org/2/library/re.html"
   ]
  },
  {
   "cell_type": "markdown",
   "metadata": {},
   "source": [
    "* **raw string**\n",
    " - 문자열 앞에 r이 붙으면 해당 문자열이 구성된 그대로 문자열로 변환"
   ]
  },
  {
   "cell_type": "code",
   "execution_count": 2,
   "metadata": {},
   "outputs": [
    {
     "name": "stdout",
     "output_type": "stream",
     "text": [
      "abcdef\n",
      "\n",
      "abcdef\\n\n"
     ]
    }
   ],
   "source": [
    "a = 'abcdef\\n'               #-----> 특정 기능을 하게 하는 것임\n",
    "print(a)\n",
    "\n",
    "# raw string\n",
    "b = r'abcdef\\n'             # r을 추가하면 \\n도 무시하고 그냥 문자열로 인식하게 함\n",
    "print(b)"
   ]
  },
  {
   "cell_type": "markdown",
   "metadata": {},
   "source": [
    "* **search method**\n",
    " - 첫번째로 패턴을 찾으면 match 객체를 반환\n",
    " - 패턴을 찾지 못하면 None 반환"
   ]
  },
  {
   "cell_type": "code",
   "execution_count": 2,
   "metadata": {
    "collapsed": true
   },
   "outputs": [],
   "source": [
    "import re"
   ]
  },
  {
   "cell_type": "code",
   "execution_count": null,
   "metadata": {
    "collapsed": true
   },
   "outputs": [],
   "source": [
    "# 패턴과 패턴을 검색할 문자열을 입력으로 전달\n",
    "# 일반적으로 패턴은 escape문자열이 사용 되기 때문에, raw string으로 사용함/ 뒤는 그냥 문자열\n",
    "m = re.search(r'test', 'test')           # r'test'와 'test'가 일치하는 것이 있는가 하는 의미/// 항상 패턴에는 앞에  r을 붙여준다.\n",
    "print(m)\n",
    "\n",
    "# 가장 기본적으로는 각 문자는 해당 문자와 매칭 되기 때문에\n",
    "# 위의 경우에서는 test가 test라는 패턴과 일치하여 결과를 match 객체를 반환"
   ]
  },
  {
   "cell_type": "code",
   "execution_count": 9,
   "metadata": {},
   "outputs": [
    {
     "name": "stdout",
     "output_type": "stream",
     "text": [
      "None\n"
     ]
    }
   ],
   "source": [
    "# 패턴과 패턴을 검색할 문자열을 입력으로 전달\n",
    "# 일반적으로 패턴은 escape문자열이 사용 되기 때문에, raw string으로 사용함/ 뒤는 그냥 문자열\n",
    "m = re.search(r'testi', 'test')           # r'test'와 'test'가 일치하는 것이 있는가 하는 의미/// 항상 패턴에는 앞에  r을 붙여준다.\n",
    "print(m)\n",
    "\n",
    "# 가장 기본적으로는 각 문자는 해당 문자와 매칭 되기 때문에\n",
    "# 위의 경우에서는 test가 test라는 패턴과 일치하여 결과를 match 객체를 반환"
   ]
  },
  {
   "cell_type": "code",
   "execution_count": 11,
   "metadata": {},
   "outputs": [
    {
     "name": "stdout",
     "output_type": "stream",
     "text": [
      "<_sre.SRE_Match object; span=(1, 4), match='iii'>\n"
     ]
    }
   ],
   "source": [
    "# piiig에 패턴 iii가 속해 있음\n",
    "match = re.search(r'iii', 'piiig') # 패턴을 찾은 경우     -----------> 왼쪽에 있는 것보다 오른쪽에 있는 문자열이 더 크고 더 많아야 하는듯...\n",
    "print(match)"
   ]
  },
  {
   "cell_type": "code",
   "execution_count": 12,
   "metadata": {},
   "outputs": [
    {
     "name": "stdout",
     "output_type": "stream",
     "text": [
      "1\n",
      "4\n",
      "iii\n"
     ]
    }
   ],
   "source": [
    "print(match.start()) # 문자열에서 매치하는 패턴의 시작 인덱스 (시작하는 매치)\n",
    "print(match.end())   # 문자열에서 매치하는 패턴의 마지막 인덱스 + 1 (+1은 나중에 슬라이싱하기 위해서 쓰는 것)\n",
    "print(match.group()) # 문자열에서 매치하는 패턴 문자열"
   ]
  },
  {
   "cell_type": "code",
   "execution_count": 13,
   "metadata": {},
   "outputs": [
    {
     "name": "stdout",
     "output_type": "stream",
     "text": [
      "None\n"
     ]
    }
   ],
   "source": [
    "match = re.search(r'iiiig', 'piiig') # 패턴이 없는 경우\n",
    "print(match) # None 반환"
   ]
  },
  {
   "cell_type": "code",
   "execution_count": 5,
   "metadata": {},
   "outputs": [
    {
     "data": {
      "text/plain": [
       "'he'"
      ]
     },
     "execution_count": 5,
     "metadata": {},
     "output_type": "execute_result"
    }
   ],
   "source": [
    "match = re.search(r'..', 'hello')       #아무거나 문자 2개. 근데 처음부터...\n",
    "match.group()"
   ]
  },
  {
   "cell_type": "code",
   "execution_count": 21,
   "metadata": {},
   "outputs": [
    {
     "data": {
      "text/plain": [
       "'he'"
      ]
     },
     "execution_count": 21,
     "metadata": {},
     "output_type": "execute_result"
    }
   ],
   "source": [
    "match = re.search(r'\\w\\w', 'hello')\n",
    "match.group()"
   ]
  },
  {
   "cell_type": "code",
   "execution_count": 13,
   "metadata": {},
   "outputs": [
    {
     "data": {
      "text/plain": [
       "'llo'"
      ]
     },
     "execution_count": 13,
     "metadata": {},
     "output_type": "execute_result"
    }
   ],
   "source": [
    "match = re.search(r'\\w\\wo', 'hello')   #----> 문자 1개(\\w), 또 문자 1개(\\w)에 o가 들어간 부분을 포함하여 총\n",
    "match.group()                                 # 문자 3개를 반환"
   ]
  },
  {
   "cell_type": "code",
   "execution_count": 19,
   "metadata": {
    "scrolled": true
   },
   "outputs": [
    {
     "ename": "AttributeError",
     "evalue": "'NoneType' object has no attribute 'group'",
     "output_type": "error",
     "traceback": [
      "\u001b[1;31m---------------------------------------------------------------------------\u001b[0m",
      "\u001b[1;31mAttributeError\u001b[0m                            Traceback (most recent call last)",
      "\u001b[1;32m<ipython-input-19-59d9cb8090ec>\u001b[0m in \u001b[0;36m<module>\u001b[1;34m()\u001b[0m\n\u001b[0;32m      1\u001b[0m \u001b[0mmatch\u001b[0m \u001b[1;33m=\u001b[0m \u001b[0mre\u001b[0m\u001b[1;33m.\u001b[0m\u001b[0msearch\u001b[0m\u001b[1;33m(\u001b[0m\u001b[1;34mr'\\d\\do'\u001b[0m\u001b[1;33m,\u001b[0m \u001b[1;34m'hello'\u001b[0m\u001b[1;33m)\u001b[0m       \u001b[1;31m#아무거나 문자 2개. 근데 처음부터...\u001b[0m\u001b[1;33m\u001b[0m\u001b[0m\n\u001b[1;32m----> 2\u001b[1;33m \u001b[0mmatch\u001b[0m\u001b[1;33m.\u001b[0m\u001b[0mgroup\u001b[0m\u001b[1;33m(\u001b[0m\u001b[1;33m)\u001b[0m\u001b[1;33m\u001b[0m\u001b[0m\n\u001b[0m",
      "\u001b[1;31mAttributeError\u001b[0m: 'NoneType' object has no attribute 'group'"
     ]
    }
   ],
   "source": [
    "match = re.search(r'\\d\\do', 'hello')\n",
    "match.group()"
   ]
  },
  {
   "cell_type": "code",
   "execution_count": 23,
   "metadata": {},
   "outputs": [
    {
     "data": {
      "text/plain": [
       "'51o'"
      ]
     },
     "execution_count": 23,
     "metadata": {},
     "output_type": "execute_result"
    }
   ],
   "source": [
    "match = re.search(r'\\d\\do', 'he2654651o')\n",
    "match.group()"
   ]
  },
  {
   "cell_type": "markdown",
   "metadata": {},
   "source": [
    "* **metacharacters (메타 캐릭터)**"
   ]
  },
  {
   "cell_type": "markdown",
   "metadata": {},
   "source": [
    "- **[]** 문자들의 범위를 나타내기 위해 사용\n",
    "   - [] 내부의 메타 캐릭터는 캐릭터 자체를 나타냄\n",
    "   - e.g)\n",
    "   - [abck] : a or b or c or k\n",
    "   - [abc.^] : a or b or c or . or ^(-----> 문자열)\n",
    "   - [a-d]  : -와 함께 사용되면 해당 문자 사이의 범위에 속하는 문자 중 하나\n",
    "   - [0-9]  : 모든 숫자\n",
    "   - [a-z]  : 모든 소문자\n",
    "   - [A-Z]  : 모든 대문자\n",
    "   - [a-zA-Z0-9] : 모든 알파벳 문자 및 숫자\n",
    "   - [^0-9] : ^가 맨 앞에 사용 되는 경우 해당 문자 패턴이 아닌 것과 매칭       (----> not 0-9, 즉 숫자가 아닌 것)"
   ]
  },
  {
   "cell_type": "code",
   "execution_count": 24,
   "metadata": {},
   "outputs": [
    {
     "name": "stdout",
     "output_type": "stream",
     "text": [
      "<_sre.SRE_Match object; span=(0, 3), match='cat'>\n",
      "<_sre.SRE_Match object; span=(0, 3), match='bat'>\n",
      "<_sre.SRE_Match object; span=(0, 3), match='mat'>\n",
      "None\n"
     ]
    }
   ],
   "source": [
    "print(re.search(r'[cbm]at', 'cat'))    #[cbm]은 문자 3개가 아니라 그냥 1개로 취급 [cbm]중에 한개만 있으면 ok\n",
    "print(re.search(r'[cbm]at', 'bat'))\n",
    "print(re.search(r'[cbm]at', 'mat'))\n",
    "print(re.search(r'[cbm]at', 'aat'))"
   ]
  },
  {
   "cell_type": "code",
   "execution_count": 25,
   "metadata": {},
   "outputs": [
    {
     "name": "stdout",
     "output_type": "stream",
     "text": [
      "<_sre.SRE_Match object; span=(0, 5), match='1haha'>\n",
      "None\n"
     ]
    }
   ],
   "source": [
    "print(re.search(r'[0-9]haha', '1haha'))\n",
    "print(re.search(r'[0-4]haha', '7haha'))"
   ]
  },
  {
   "cell_type": "code",
   "execution_count": 24,
   "metadata": {},
   "outputs": [
    {
     "name": "stdout",
     "output_type": "stream",
     "text": [
      "None\n",
      "<_sre.SRE_Match object; span=(0, 5), match='caron'>\n",
      "<_sre.SRE_Match object; span=(0, 5), match='^aron'>\n",
      "<_sre.SRE_Match object; span=(0, 5), match='.aron'>\n"
     ]
    }
   ],
   "source": [
    "print(re.search(r'[abc.^]aron', 'daron'))     # abc.^과 매칭되는 문자가 없기 때문에 None 출력\n",
    "print(re.search(r'[abc.^]aron', 'caron'))\n",
    "print(re.search(r'[abc.^]aron', '^aron'))    # abc와 점(.)은 없으나 ^가 있기 때문에 None을 출력하지 않음\n",
    "print(re.search(r'[abc.^]aron', '.aron'))\n",
    "\n",
    "#^가 제일 뒤에 들어가있으면 같이 묶여있는 문자들 중 어느 것이라도 그 다음 문자열의 <제일 앞 문자>와 일치하면 출력"
   ]
  },
  {
   "cell_type": "code",
   "execution_count": 33,
   "metadata": {},
   "outputs": [
    {
     "name": "stdout",
     "output_type": "stream",
     "text": [
      "<_sre.SRE_Match object; span=(0, 5), match='^aron'>\n",
      "None\n",
      "None\n",
      "None\n",
      "<_sre.SRE_Match object; span=(0, 5), match='daron'>\n",
      "<_sre.SRE_Match object; span=(0, 5), match='karon'>\n"
     ]
    }
   ],
   "source": [
    "print(re.search(r'[^abc]aron', '^aron'))          #abc 아닌 것....^가 맨 앞이면 not\n",
    "print(re.search(r'[^abc]aron', 'aaron'))\n",
    "print(re.search(r'[^abc]aron', 'baron'))\n",
    "print(re.search(r'[^abc]aron', 'caron'))\n",
    "print(re.search(r'[^abc]aron', 'daron'))\n",
    "print(re.search(r'[^abc.]aron', 'karon'))\n",
    "\n",
    "# ^가 제일 앞에 나왔을 경우는 같이 묶여있는 문자들 중 어느 것이라도, 그 다음 문자열의 어느 순서에 있든 '있으면' None"
   ]
  },
  {
   "cell_type": "code",
   "execution_count": 29,
   "metadata": {},
   "outputs": [
    {
     "name": "stdout",
     "output_type": "stream",
     "text": [
      "<_sre.SRE_Match object; span=(0, 5), match='^aron'>\n",
      "None\n",
      "None\n",
      "None\n",
      "<_sre.SRE_Match object; span=(0, 5), match='daron'>\n"
     ]
    }
   ],
   "source": [
    "print(re.search(r'[^abc]aron', '^aron'))          #abc 아닌 것....^가 맨 앞이면 not\n",
    "print(re.search(r'[^abc]aron', 'aaron'))\n",
    "print(re.search(r'[^abc]aron', 'baron'))\n",
    "print(re.search(r'[^abc]aron', 'caron'))\n",
    "print(re.search(r'[^abc]aron', 'daron karon paron'))     # ----> 이렇게 해도 문자열에서 가장 처음 나오는 인식값만 출력"
   ]
  },
  {
   "cell_type": "markdown",
   "metadata": {},
   "source": [
    "* **\\** \n",
    " 1. 다른 문자와 함께 사용되어 특수한 의미를 지님\n",
    "   - \\d : 숫자를          [0-9]와 동일\n",
    "   - \\D : 숫자가 아닌 문자  [^0-9]와 동일\n",
    "   - \\s : 공백 문자(띄어쓰기, 탭, 엔터 등)\n",
    "   - \\S : 공백이 아닌 문자\n",
    "   - \\w : 알파벳대소문자, 숫자 [0-9a-zA-Z]와 동일\n",
    "   - \\W : non alpha-numeric 문자 [^0-9a-zA-Z]와 동일        -----> 따라서 특수기호와 같은 것만 인식\n",
    " 2. 메타 캐릭터가 캐릭터 자체를 표현하도록 할 경우 사용\n",
    "   - \\\\. , \\\\\\        ---> 점 자체를 인식시키고 싶을때 사용\n",
    "   - 원래 . 은 문자 전체를 의미함"
   ]
  },
  {
   "cell_type": "code",
   "execution_count": 38,
   "metadata": {},
   "outputs": [
    {
     "name": "stdout",
     "output_type": "stream",
     "text": [
      "123\n",
      "123\n",
      "abc\n",
      "ab0\n",
      "@%\n",
      "None\n",
      "<_sre.SRE_Match object; span=(0, 3), match='ABC'>\n"
     ]
    }
   ],
   "source": [
    "m = re.search(r'\\d\\d\\d', 'p123g') \n",
    "print(m.group())\n",
    "\n",
    "m = re.search(r'\\d\\d\\d', '오마이갓123이럴수가') \n",
    "print(m.group())\n",
    "\n",
    "m = re.search(r'\\w\\w\\w', '@@abcd!!')\n",
    "print(m.group())\n",
    "\n",
    "m = re.search(r'\\w\\w\\w', '@@ab0!!')\n",
    "print(m.group())\n",
    "\n",
    "m = re.search(r'\\W\\W', '@%a!!')\n",
    "print(m.group())\n",
    "\n",
    "m = re.search(r'\\w\\w\\w', '@@ab!!')         # 3개를 원하는데 문자가 3개가 아니라서 None\n",
    "print(m)\n",
    "\n",
    "m = re.search(r'abc', 'ABC', flags=re.IGNORECASE)       # flag라는 parameter를 줄 수 있는데 이 안에서 ignorecase를 주면 인식하게 해줌\n",
    "print(m)                                                                    # 왼쪽에 있는 명령어를 무시하도록 하는 것\n",
    "\n",
    "   #  ↑ 위의 코드는 r'abc' 이므로 abc가 있으면 출력을 하고 없으면 None이지만, ignorecase때문에 그냥 출력한 것."
   ]
  },
  {
   "cell_type": "markdown",
   "metadata": {},
   "source": [
    "* **.** \n",
    " - 모든 문자를 의미"
   ]
  },
  {
   "cell_type": "code",
   "execution_count": 37,
   "metadata": {},
   "outputs": [
    {
     "name": "stdout",
     "output_type": "stream",
     "text": [
      "b@@ab\n"
     ]
    }
   ],
   "source": [
    "m = re.search(r'...a.', 'b@@ab0!!a')\n",
    "print(m.group())"
   ]
  },
  {
   "cell_type": "code",
   "execution_count": 39,
   "metadata": {},
   "outputs": [
    {
     "name": "stdout",
     "output_type": "stream",
     "text": [
      "None\n"
     ]
    }
   ],
   "source": [
    "m = re.search(r'....a.', 'b@@ab0!!a')  # 다섯번째에서 a가 나타날 경우 그 앞의 4개가 무엇이든 출력해야 하지만\n",
    "print(m)                                           # a는 다섯번째가 아닌 네번째 이므로 오류가 생겨서 None을 반환"
   ]
  },
  {
   "cell_type": "code",
   "execution_count": 41,
   "metadata": {},
   "outputs": [
    {
     "name": "stdout",
     "output_type": "stream",
     "text": [
      "1\n",
      "iii\n"
     ]
    }
   ],
   "source": [
    "m = re.search(r'iii', 'piiiigiiiiik') # 맨 첫번째로 매칭되는 문자열을 반환 \n",
    "print(m.start())         # ------> 첫번째 그룹을 의미....??\n",
    "print(m.group())"
   ]
  },
  {
   "cell_type": "markdown",
   "metadata": {},
   "source": [
    "* **반복패턴**\n",
    " - 패턴 뒤에 위치하는 *, +, ?는 해당 패턴이 반복적으로 존재하는지 검사 \n",
    "   - '+' -> 1번 이상의 패턴이 발생\n",
    "   - '*' -> 0번 이상의 패턴이 발생\n",
    "   - '?' -> 0 혹은 1번의 패턴이 발생\n",
    " - 반복을 패턴의 경우 greedy하게 검색 함, 즉 가능한 많은 부분이 매칭되도록 함\n",
    "  - e.g) a[bcd]*b  패턴을 abcbdccb에서 검색하는 경우\n",
    "    - ab, abcb, abcbdccb 전부 가능 하지만 최대한 많은 부분이 매칭된 abcbdccb가 검색된 패턴"
   ]
  },
  {
   "cell_type": "code",
   "execution_count": 43,
   "metadata": {},
   "outputs": [
    {
     "name": "stdout",
     "output_type": "stream",
     "text": [
      "sdfsdfsf54546\n"
     ]
    }
   ],
   "source": [
    "m = re.search(r'\\w+\\d*', 'sdfsdfsf54546')     #대소문자숫자 한번 이상, 숫자 0번 이상\n",
    "print(m.group())"
   ]
  },
  {
   "cell_type": "code",
   "execution_count": 45,
   "metadata": {},
   "outputs": [
    {
     "data": {
      "text/plain": [
       "'abcbdccb'"
      ]
     },
     "execution_count": 45,
     "metadata": {},
     "output_type": "execute_result"
    }
   ],
   "source": [
    "re.search(r'a[bcd]*b', 'abcbdccb').group()        #------->greedy. 일단 최대한 호출하려는 문자가 있는데까지 가면서 걸리는 것 모두 반환"
   ]
  },
  {
   "cell_type": "code",
   "execution_count": 46,
   "metadata": {},
   "outputs": [
    {
     "name": "stdout",
     "output_type": "stream",
     "text": [
      "piiig\n",
      "None\n",
      "pig\n"
     ]
    }
   ],
   "source": [
    "m = re.search(r'pi+g', 'piiig')\n",
    "print(m.group())\n",
    "\n",
    "m = re.search(r'pi+g', 'pg')        # i가 무조건 한번 이상이어야 하므로 None\n",
    "print(m)\n",
    "\n",
    "m = re.search(r'pi*g', 'pig')       # i가 0번 이상이므로 None이 아님\n",
    "print(m.group())"
   ]
  },
  {
   "cell_type": "code",
   "execution_count": 47,
   "metadata": {},
   "outputs": [
    {
     "name": "stdout",
     "output_type": "stream",
     "text": [
      "ii\n"
     ]
    }
   ],
   "source": [
    "m = re.search(r'i+', 'piigiiii')\n",
    "print(m.group()) # search는 앞에서 부터 검색 함"
   ]
  },
  {
   "cell_type": "code",
   "execution_count": 48,
   "metadata": {},
   "outputs": [
    {
     "name": "stdout",
     "output_type": "stream",
     "text": [
      "1 2   3\n"
     ]
    }
   ],
   "source": [
    "m = re.search(r'\\d\\s*\\d\\s*\\d', 'xx1 2   3xx')\n",
    "print(m.group())"
   ]
  },
  {
   "cell_type": "markdown",
   "metadata": {},
   "source": [
    "<Cf.> ?는 0번 또는 1번이므로 있거나 없거나. Ex) http[s]?:// ----> s가 있거나 없거나...."
   ]
  },
  {
   "cell_type": "markdown",
   "metadata": {},
   "source": [
    "* **^**, **$**\n",
    " - ^  문자열의 맨 앞부터 일치하는 경우 검색\n",
    " \n",
    " - $  문자열의 맨 뒤부터 일치하는 경우 검색"
   ]
  },
  {
   "cell_type": "code",
   "execution_count": 44,
   "metadata": {},
   "outputs": [
    {
     "name": "stdout",
     "output_type": "stream",
     "text": [
      "bana\n",
      "None\n",
      "banana\n",
      "bana\n",
      "bbbbbbana\n",
      "cabana\n"
     ]
    }
   ],
   "source": [
    "m = re.search(r'b\\w+a', 'cabana')\n",
    "print(m.group())\n",
    "\n",
    "m = re.search(r'^b\\w+a', 'cabana')        # 첫번째부터 있어야 하는데 시작이 b가 아니라 c이므로 None\n",
    "print(m)\n",
    "\n",
    "m = re.search(r'^b\\w+a', 'banana') # a가 중간에도 있지만, 문자가 그대로 이어지고 마지막에도 있으므로 전체가 반환\n",
    "print(m.group())\n",
    "\n",
    "m = re.search(r'b\\w+a$', 'cabana')\n",
    "print(m.group())\n",
    "\n",
    "m = re.search(r'b\\w+a$', 'cabbbbbbana')\n",
    "print(m.group())\n",
    "\n",
    "m = re.search(r'^c\\w+a$', 'cabana')\n",
    "print(m.group())"
   ]
  },
  {
   "cell_type": "markdown",
   "metadata": {},
   "source": [
    "* **간단 email 주소 패턴**"
   ]
  },
  {
   "cell_type": "code",
   "execution_count": 52,
   "metadata": {
    "collapsed": true
   },
   "outputs": [],
   "source": [
    "str1 = 'haha this is awesom macmath22@ macmath22@gmail.com test@gmail.co.kr monkey summer hot'"
   ]
  },
  {
   "cell_type": "markdown",
   "metadata": {},
   "source": [
    "* 연습문제) 위의 문자열에서 이메일 주소를 추출해 보세요"
   ]
  },
  {
   "cell_type": "code",
   "execution_count": 54,
   "metadata": {},
   "outputs": [
    {
     "ename": "TypeError",
     "evalue": "search() missing 1 required positional argument: 'string'",
     "output_type": "error",
     "traceback": [
      "\u001b[1;31m---------------------------------------------------------------------------\u001b[0m",
      "\u001b[1;31mTypeError\u001b[0m                                 Traceback (most recent call last)",
      "\u001b[1;32m<ipython-input-54-3e6b41507079>\u001b[0m in \u001b[0;36m<module>\u001b[1;34m()\u001b[0m\n\u001b[1;32m----> 1\u001b[1;33m \u001b[0mstr1\u001b[0m \u001b[1;33m=\u001b[0m \u001b[0mre\u001b[0m\u001b[1;33m.\u001b[0m\u001b[0msearch\u001b[0m\u001b[1;33m(\u001b[0m\u001b[1;34mr'm\\w\\W.m'\u001b[0m\u001b[1;33m)\u001b[0m\u001b[1;33m\u001b[0m\u001b[0m\n\u001b[0m\u001b[0;32m      2\u001b[0m \u001b[0mprint\u001b[0m\u001b[1;33m(\u001b[0m\u001b[0mstr1\u001b[0m\u001b[1;33m.\u001b[0m\u001b[0mgroup\u001b[0m\u001b[1;33m(\u001b[0m\u001b[1;33m)\u001b[0m\u001b[1;33m)\u001b[0m\u001b[1;33m\u001b[0m\u001b[0m\n",
      "\u001b[1;31mTypeError\u001b[0m: search() missing 1 required positional argument: 'string'"
     ]
    }
   ],
   "source": [
    "str1 = re.search(r'm\\w\\W.m')\n",
    "print(str1.group())"
   ]
  },
  {
   "cell_type": "code",
   "execution_count": 51,
   "metadata": {
    "scrolled": true
   },
   "outputs": [
    {
     "ename": "AttributeError",
     "evalue": "'NoneType' object has no attribute 'group'",
     "output_type": "error",
     "traceback": [
      "\u001b[1;31m---------------------------------------------------------------------------\u001b[0m",
      "\u001b[1;31mAttributeError\u001b[0m                            Traceback (most recent call last)",
      "\u001b[1;32m<ipython-input-51-2a17702efdd5>\u001b[0m in \u001b[0;36m<module>\u001b[1;34m()\u001b[0m\n\u001b[0;32m      1\u001b[0m \u001b[0mstr1\u001b[0m \u001b[1;33m=\u001b[0m \u001b[1;34m'haha this is awesom macmath22@ macmath22@gmail.com test@gmail.co.kr monkey summer hot'\u001b[0m\u001b[1;33m\u001b[0m\u001b[0m\n\u001b[0;32m      2\u001b[0m \u001b[0mm\u001b[0m \u001b[1;33m=\u001b[0m \u001b[0mre\u001b[0m\u001b[1;33m.\u001b[0m\u001b[0msearch\u001b[0m\u001b[1;33m(\u001b[0m\u001b[1;34mr'm\\w+@\\w+\\.\\w+m$'\u001b[0m\u001b[1;33m,\u001b[0m \u001b[0mstr1\u001b[0m\u001b[1;33m)\u001b[0m\u001b[1;33m\u001b[0m\u001b[0m\n\u001b[1;32m----> 3\u001b[1;33m \u001b[0mprint\u001b[0m\u001b[1;33m(\u001b[0m\u001b[0mm\u001b[0m\u001b[1;33m.\u001b[0m\u001b[0mgroup\u001b[0m\u001b[1;33m(\u001b[0m\u001b[1;33m)\u001b[0m\u001b[1;33m)\u001b[0m\u001b[1;33m\u001b[0m\u001b[0m\n\u001b[0m",
      "\u001b[1;31mAttributeError\u001b[0m: 'NoneType' object has no attribute 'group'"
     ]
    }
   ],
   "source": [
    "str1 = 'haha this is awesom macmath22@ macmath22@gmail.com test@gmail.co.kr monkey summer hot'\n",
    "m = re.search(r'm\\w+@\\w+\\.\\w+m$', str1)\n",
    "print(m.group())"
   ]
  },
  {
   "cell_type": "code",
   "execution_count": 56,
   "metadata": {},
   "outputs": [
    {
     "name": "stdout",
     "output_type": "stream",
     "text": [
      "macmath22@gmail.com\n"
     ]
    }
   ],
   "source": [
    "match = re.search(r'\\w+@\\w+\\.[\\w.]+', str1)\n",
    "if match:\n",
    "    print(match.group())"
   ]
  },
  {
   "cell_type": "code",
   "execution_count": 57,
   "metadata": {},
   "outputs": [
    {
     "name": "stdout",
     "output_type": "stream",
     "text": [
      "macmath22@gmail.com <class 'str'>\n"
     ]
    }
   ],
   "source": [
    "m = re.search(r'[\\w.-]+@[\\w.-]+',\n",
    "              \"My email is macmath22@gmail.com\")\n",
    "\n",
    "print(m.group(), type(m.group()))"
   ]
  },
  {
   "cell_type": "code",
   "execution_count": 57,
   "metadata": {},
   "outputs": [
    {
     "data": {
      "text/plain": [
       "'macmath22@gmail.co.kr'"
      ]
     },
     "execution_count": 57,
     "metadata": {},
     "output_type": "execute_result"
    }
   ],
   "source": [
    "# python email checker regex\n",
    "email_regex = r\"(^[a-zA-Z0-9_.+-]+@[a-zA-Z0-9-]+\\.[a-zA-Z0-9-.]+$)\"\n",
    "\n",
    "m = re.search(email_regex,\n",
    "              \"macmath22@gmail.co.kr\")\n",
    "\n",
    "m.group()"
   ]
  },
  {
   "cell_type": "markdown",
   "metadata": {},
   "source": [
    " * **grouping**\n",
    "  - ()을 사용하여 그루핑\n",
    "  - 매칭 결과를 각 그룹별로 분리 가능\n",
    "  - 패턴 명시 할 때, 각 그룹을 괄호() 안에 넣어 분리하여 사용"
   ]
  },
  {
   "cell_type": "code",
   "execution_count": 63,
   "metadata": {},
   "outputs": [
    {
     "name": "stdout",
     "output_type": "stream",
     "text": [
      "macmath22@gmail.com\n",
      "macmath22@gmail.com\n",
      "macmath22\n",
      "gmail.com\n"
     ]
    }
   ],
   "source": [
    "m = re.search(r'(\\w+)@(.+)',\n",
    "              \"My email is macmath22@gmail.com\")\n",
    "\n",
    "print(m.group())           #그룹을 안주면 기본적으로 디폴트가 0\n",
    "print(m.group(0))\n",
    "print(m.group(1))          # 첫번째 그룹\n",
    "print(m.group(2))          # 두번째 그룹"
   ]
  },
  {
   "cell_type": "code",
   "execution_count": 61,
   "metadata": {},
   "outputs": [
    {
     "name": "stdout",
     "output_type": "stream",
     "text": [
      "macmath22@gmail.com\n"
     ]
    }
   ],
   "source": [
    "m = re.search(r'\\w+@.+',\n",
    "              \"My email is macmath22@gmail.com\")\n",
    "print(m.group())"
   ]
  },
  {
   "cell_type": "code",
   "execution_count": 64,
   "metadata": {},
   "outputs": [
    {
     "name": "stdout",
     "output_type": "stream",
     "text": [
      "macmath22@gmail.com\n",
      "macmath22@gmail.com\n",
      "macmath22\n",
      "gmail.com\n"
     ]
    }
   ],
   "source": [
    "print(m.group()) # 전체결과를 가져옴\n",
    "print(m.group(0)) # 전체결과를 가져옴\n",
    "\n",
    "print(m.group(1)) # 1번째 서브그룹\n",
    "print(m.group(2)) # 2번째 서브그룹"
   ]
  },
  {
   "cell_type": "code",
   "execution_count": 65,
   "metadata": {},
   "outputs": [
    {
     "name": "stdout",
     "output_type": "stream",
     "text": [
      "('macmath22', 'gmail.com')\n"
     ]
    }
   ],
   "source": [
    "print(m.groups()) # 전체 그룹을 튜플로 반환"
   ]
  },
  {
   "cell_type": "code",
   "execution_count": 67,
   "metadata": {},
   "outputs": [
    {
     "name": "stdout",
     "output_type": "stream",
     "text": [
      "pipikkk12345\n",
      "pipikkk12345\n",
      "pi\n",
      "kkk\n",
      "12345\n",
      "('pi', 'kkk', '12345')\n"
     ]
    }
   ],
   "source": [
    "# 반복이 사용되는 경우 그루핑과 반복의 위치가 중요\n",
    "# 반복이 그루핑 내에 사용되는 경우 전체 매칭이 서브그룹화\n",
    "# 반복이 그루핑 밖에 사용 되는 경우 마지막 매칭만 서브 그룹화\n",
    "\n",
    "m = re.search(r'(pi)+(k+)(\\d)+', 'pipipipikkk12345')\n",
    "m = re.search(r'(pi)+(k+)(\\d+)', 'pitpitpipikkk12345')\n",
    "\n",
    "print(m.group())\n",
    "print(m.group(0))\n",
    "print(m.group(1))\n",
    "print(m.group(2))        #k는 (k+)로 1개 이상을 모두 불러들이는 것이기 때문에 kkk가  출력됨.\n",
    "print(m.group(3))\n",
    "\n",
    "print(m.groups())"
   ]
  },
  {
   "cell_type": "markdown",
   "metadata": {},
   "source": [
    "* 연습문제) \n",
    " - 다음 뉴스의 본문을 크롤링 하는 함수가 주어짐\n",
    " - 이때, 본문의 텍스트에는 기자의 이메일이 포함 됨 \n",
    " - 이때, 기자 이메일 주소를 추출하시오"
   ]
  },
  {
   "cell_type": "code",
   "execution_count": 60,
   "metadata": {
    "collapsed": true
   },
   "outputs": [],
   "source": [
    "import requests\n",
    "from bs4 import BeautifulSoup\n",
    "# 위의 두 모듈이 없는 경우에는 pip install requests bs4 실행\n",
    "\n",
    "def get_news_content(url):\n",
    "    response = requests.get(url)\n",
    "    content = response.text\n",
    "\n",
    "    soup = BeautifulSoup(content, 'html5lib')\n",
    "\n",
    "    div = soup.find('div', attrs = {'id' : 'harmonyContainer'})\n",
    "    \n",
    "    content = ''\n",
    "    for paragraph in div.find_all('p'):\n",
    "        content += paragraph.get_text()\n",
    "        \n",
    "    return content"
   ]
  },
  {
   "cell_type": "code",
   "execution_count": 61,
   "metadata": {
    "collapsed": true
   },
   "outputs": [],
   "source": [
    "news1 = get_news_content('http://v.media.daum.net/v/20170918164130845')\n",
    "news2 = get_news_content('http://v.media.daum.net/v/20170918142847946')"
   ]
  },
  {
   "cell_type": "code",
   "execution_count": 62,
   "metadata": {
    "scrolled": true
   },
   "outputs": [
    {
     "name": "stdout",
     "output_type": "stream",
     "text": [
      "#지난해 10월 태풍 '차바' 피해현장에서 인명을 구조하려다 급류에 휩쓸려 순직한 고(故) 강기봉 소방사는 구조현장에 투입돼선 안되는 '구급대원'이었다. 구급대원 특채로 임용된 그는 온산소방서 소속 구급대원으로 근무했다. 당시 강 소방사는 고립된 차에 사람이 있다는 신고를 받고 동료 2명과 함께 회야강변 울주군 회야댐 수질개선사업소로 출동했다가, 불어난 강물에 휩쓸려 숨졌다.강원 강릉 석란정 사고로 소방관 2명이 생명을 잃은 가운데 소방관들의 근본적 처우 개선이 필요하다는 목소리가 높아지고 있다. 특히 소방관들의 숙원인 '국가직 전환'을 신속히 추진해 지방자치단체마다 제각각인 처우를 끌어올리고 인력 부족도 해소해야 한다는 지적이 나오고 있다.18일 소방청에 따르면 지난해 말 기준 전국 소방공무원은 4만4293명으로 소방기본법이 제시하는 기준 인력(5만2714명)보다 1만9254명 부족하다. 특히 화재 진압과 환자 구조 등에 필요한 현장 인력은 3만2460명에 불과하다.일선 소방관들이 느끼는 상황은 더 심각하다. 서울 일선 소방서의 한 소방관은 \"10명이 3교대 근무를 해야할 것을 8명이 근무하고, 부족한 인력을 여러 지역 소방관들이 땜빵식으로 해결하는 상황\"이라며 \"서울은 그나마 낫고 지방은 더 열악하다\"고 말했다.서울 지역 또 다른 소방관도 \"인명구조 할 사람도 필요하고 화재 진압도 해야하는데 불끄다 인명 구조 못하는 상황이 생긴다\"고 말했다.소방관들이 화재 현장에서 사망하는 안타까운 소식이 전해질 때마다 처우 개선을 해야한다는 여론이 컸지만 실상은 제자리 걸음이다. 세월호 참사 후 국민안전처로 합쳐졌던 소방청이 다시 독립기관으로 분리된 정도다.특히 국가직 공무원 전환은 소방관들의 숙원이다. 전체 소방공무원 중 1%만 국가직 공무원이고 나머지 99%는 지자체 소속 지방직 공무원이다. 현재 소방에서 사용되는 전체 예산이 4조590억원 정도인데, 이중 3조9540억원(97%)이 지자체 예산이다. 지자체 재원에 따라 소방관들의 장비와 처우 등이 천차만별인 상황이다.최근 온라인 커뮤니티에 공개돼 화제를 모은 5년차 소방관의 월급 내역은 급여합계 182만8560원, 실수령액 156만9890원 등이었다. 위험수당은 4만5000원에 불과했다.장비도 충분치 않다. 서울 일선 소방서에 근무하는 한 소방관은 \"서울은 화재가 많아서 방화복을 2~3년에 한 번은 바꿔줘야 한다\"며 \"그런데도 내구연한이 5년이라며 일괄 적용하고 있다\"고 말했다.관련법은 통과조차 못하고 있다. 지난해 7월 이재정 더불어민주당 의원이 발의한 '소방관 눈물 닦아주기 법' 6개 법률안은 1년 넘게 국회 계류 중이다. 이 법안에는 국가직 전환 등의 내용이 담겼다.그러는 동안 소방관들은 위험 상황에 노출되고 있다. 국회 바른정당 홍철호 의원이 소방청으로부터 제출받은 자료에 따르면 소방관들의 정신과 병원 진료 및 상담 건수는 2012년 484건에서 지난해 5087건으로 4년새 10.5배 증가했다. 올해는 7월 말 3898건이다. 최근 5년 7개월간 자살한 소방관은 총 47명인 것으로 집계됐다.전문가들은 소방관들의 처우 개선을 위해 구체적 방안을 마련해야 한다고 조언한다. 공하성 경일대 소방방재학과 교수는 \"문재인 대통령이 올해 용산 소방서를 방문해 국가직 전환을 약속했는데 언제까지 하겠다는 실행 계획이 없다\"며 \"박근혜 정부 때도 국가직 전환을 하겠다고 했는데 못했고, 세부 방안이 필요하다\"고 말했다.남형도 기자 human@mt.co.kr\n"
     ]
    }
   ],
   "source": [
    "print(news1)"
   ]
  },
  {
   "cell_type": "code",
   "execution_count": 63,
   "metadata": {
    "scrolled": false
   },
   "outputs": [
    {
     "name": "stdout",
     "output_type": "stream",
     "text": [
      "human@mt.co.kr\n"
     ]
    }
   ],
   "source": [
    "match = re.search(r'\\w+@\\w+\\.[\\w.]+', news1)\n",
    "print(match.group())"
   ]
  },
  {
   "cell_type": "code",
   "execution_count": 64,
   "metadata": {},
   "outputs": [
    {
     "name": "stdout",
     "output_type": "stream",
     "text": [
      "human@mt.co.kr\n"
     ]
    }
   ],
   "source": [
    "pattern = re.search(r'\\w+@.+', news1)\n",
    "print(pattern.group())"
   ]
  },
  {
   "cell_type": "code",
   "execution_count": 71,
   "metadata": {
    "scrolled": true
   },
   "outputs": [
    {
     "name": "stdout",
     "output_type": "stream",
     "text": [
      "(서울=연합뉴스) 임화섭 기자 = 스마트폰 갤럭시노트8 출시를 계기로 지난 주말 일부 이동통신 집단상가에서 불법보조금 살포 등 시장 과열 현상이 나타난 데 대해 방송통신위원회가 이동통신 3사 중 한 곳에 구두경고를 했다고 18일 밝혔다.방통위 관계자는 \"지난 주말에 일부 과열 상황이 생겨 이런 상황에 책임이 큰 1개 이통사에 오늘 공식으로 구두경고를 하도록 조치했다\"며 \"시장 상황을 지속적으로 모니터링하고 수시로 구두경고 등을 내릴 것\"이라고 설명했다.그는 \"다만 올 봄 갤럭시S8 발매 당시와 비교해 보면 아직 과열이 심각한 수준은 아니었다고 판단한다\"며 당장 추가 조치를 취할 계획은 지금으로서는 없다고 설명했다. 삼성전자의 신제품 갤럭시노트8은 사전 예약자 대상의 개통 첫날인 15일 약 20만대가, 다음날인 16일에는 약 7만대가 각각 개통됐다.이동통신 시장의 분위기를 가늠하는 잣대인 번호이동 수치는 15일 3만8천여건, 16일 2만6천여건으로 방송통신위원회가 보는 시장과열 기준(하루 2만4천건)을 이틀 연속으로 넘었다. 17일에는 전산 휴무로 번호이동이 없었다.일부 집단상가와 SNS 등 온라인 유통망에서는 법적 상한선(33만원)을 훌쩍 뛰어넘는 불법 보조금이 유포됐다. 방통위가 15일부터 시장 모니터링을 강화했으나, 시간대별로 치고 빠지는 '떴다방식'(스팟성) 보조금이 기승을 부렸다.지원금을 받는 번호이동의 경우 갤노트8 64GB의 실구매가가 지난 주말에는 40만원 안팎까지 떨어졌다. 64GB 모델의 출고가가 109만원대인 점을 고려하면 공시 지원금 외에 보조금이 40만원 이상 추가로 지급된 셈이다.solatido@yna.co.kr\n"
     ]
    }
   ],
   "source": [
    "print(news2)"
   ]
  },
  {
   "cell_type": "markdown",
   "metadata": {},
   "source": [
    "* **연습문제)**\n",
    " - 전화번호를 추출하는 정규표현식을 작성하시오\n",
    " - 010-1111-2222"
   ]
  },
  {
   "cell_type": "code",
   "execution_count": 84,
   "metadata": {},
   "outputs": [
    {
     "name": "stdout",
     "output_type": "stream",
     "text": [
      "010-1111-2222\n"
     ]
    }
   ],
   "source": [
    "number = r'\\d+-\\d+-\\d+'\n",
    "match = re.search(number, '010-1111-2222')\n",
    "print(match.group())"
   ]
  },
  {
   "cell_type": "code",
   "execution_count": 66,
   "metadata": {},
   "outputs": [
    {
     "name": "stdout",
     "output_type": "stream",
     "text": [
      "010-3457-6360\n"
     ]
    }
   ],
   "source": [
    "pattern = r'^0\\d+-\\d+-\\d+'\n",
    "m = re.search(pattern, '010-3457-6360')\n",
    "print(m.group())\n"
   ]
  },
  {
   "cell_type": "markdown",
   "metadata": {},
   "source": [
    " * **{}**\n",
    "  - *, +, ?을 사용하여 반복적인 패턴을 찾는 것이 가능하나, 반복의 횟수 제한은 불가\n",
    "  - 패턴뒤에 위치하는 중괄호{}에 숫자를 명시하면 해당 숫자 만큼의 반복인 경우에만 매칭\n",
    "  - {4} - 4번 반복\n",
    "  - {3,4} - 3 ~ 4번 반복"
   ]
  },
  {
   "cell_type": "code",
   "execution_count": 68,
   "metadata": {},
   "outputs": [
    {
     "name": "stdout",
     "output_type": "stream",
     "text": [
      "010-1111-6360\n",
      "010-111-6360\n"
     ]
    },
    {
     "ename": "AttributeError",
     "evalue": "'NoneType' object has no attribute 'group'",
     "output_type": "error",
     "traceback": [
      "\u001b[1;31m---------------------------------------------------------------------------\u001b[0m",
      "\u001b[1;31mAttributeError\u001b[0m                            Traceback (most recent call last)",
      "\u001b[1;32m<ipython-input-68-32b6eea95ea3>\u001b[0m in \u001b[0;36m<module>\u001b[1;34m()\u001b[0m\n\u001b[0;32m      2\u001b[0m \u001b[0mprint\u001b[0m\u001b[1;33m(\u001b[0m\u001b[0mre\u001b[0m\u001b[1;33m.\u001b[0m\u001b[0msearch\u001b[0m\u001b[1;33m(\u001b[0m\u001b[0mpattern\u001b[0m\u001b[1;33m,\u001b[0m \u001b[1;34m'010-1111-6360'\u001b[0m\u001b[1;33m)\u001b[0m\u001b[1;33m.\u001b[0m\u001b[0mgroup\u001b[0m\u001b[1;33m(\u001b[0m\u001b[1;33m)\u001b[0m\u001b[1;33m)\u001b[0m\u001b[1;33m\u001b[0m\u001b[0m\n\u001b[0;32m      3\u001b[0m \u001b[0mprint\u001b[0m\u001b[1;33m(\u001b[0m\u001b[0mre\u001b[0m\u001b[1;33m.\u001b[0m\u001b[0msearch\u001b[0m\u001b[1;33m(\u001b[0m\u001b[0mpattern\u001b[0m\u001b[1;33m,\u001b[0m \u001b[1;34m'010-111-6360'\u001b[0m\u001b[1;33m)\u001b[0m\u001b[1;33m.\u001b[0m\u001b[0mgroup\u001b[0m\u001b[1;33m(\u001b[0m\u001b[1;33m)\u001b[0m\u001b[1;33m)\u001b[0m\u001b[1;33m\u001b[0m\u001b[0m\n\u001b[1;32m----> 4\u001b[1;33m \u001b[0mprint\u001b[0m\u001b[1;33m(\u001b[0m\u001b[0mre\u001b[0m\u001b[1;33m.\u001b[0m\u001b[0msearch\u001b[0m\u001b[1;33m(\u001b[0m\u001b[0mpattern\u001b[0m\u001b[1;33m,\u001b[0m \u001b[1;34m'010-11-6360'\u001b[0m\u001b[1;33m)\u001b[0m\u001b[1;33m.\u001b[0m\u001b[0mgroup\u001b[0m\u001b[1;33m(\u001b[0m\u001b[1;33m)\u001b[0m\u001b[1;33m)\u001b[0m\u001b[1;33m\u001b[0m\u001b[0m\n\u001b[0m",
      "\u001b[1;31mAttributeError\u001b[0m: 'NoneType' object has no attribute 'group'"
     ]
    }
   ],
   "source": [
    "pattern = r'^01\\d{1}-\\d{3,4}-\\d{4}'     # \\d{1}은 숫자 1개만, \\d{3, 4}는 3개나 4개, \\d(4)는 4개가 있어야 출력\n",
    "print(re.search(pattern, '010-1111-6360').group())\n",
    "print(re.search(pattern, '010-111-6360').group())\n",
    "print(re.search(pattern, '010-11-6360').group())"
   ]
  },
  {
   "cell_type": "markdown",
   "metadata": {},
   "source": [
    "* **match**\n",
    " - search와 유사하나, 주어진 문자열의 시작부터 비교하여 패턴이 있는지 확인\n",
    " - 시작부터 해당 패턴이 존재하지 않다면 None 반환"
   ]
  },
  {
   "cell_type": "code",
   "execution_count": 86,
   "metadata": {},
   "outputs": [
    {
     "name": "stdout",
     "output_type": "stream",
     "text": [
      "No pattern\n",
      "macmath22@gmail\n"
     ]
    }
   ],
   "source": [
    "m = re.match(r'[\\w-]@[\\w-]+',\n",
    "              \"My email is macmath22@gmail.com\")    #match는 ^ 표시가 맨 앞에 있어서 맨 앞에 찾고자 하는 것이 없으면 출력하지 못하는 것과 같다\n",
    "\n",
    "if m != None:\n",
    "    print(m.group())\n",
    "else:\n",
    "    print('No pattern')\n",
    "    \n",
    "    \n",
    "m = re.match(r'[\\w-]+@[\\w-]+',\n",
    "              \"macmath22@gmail.com is my email\")\n",
    "\n",
    "if m != None:\n",
    "    print(m.group())"
   ]
  },
  {
   "cell_type": "markdown",
   "metadata": {},
   "source": [
    "* **findall**\n",
    " - search가 최초로 매칭되는 패턴만 반환한다면, findall은 매칭되는 전체의 패턴을 반환\n",
    " - 매칭되는 모든 결과를 리스트 형태로 반환"
   ]
  },
  {
   "cell_type": "code",
   "execution_count": 88,
   "metadata": {},
   "outputs": [
    {
     "name": "stdout",
     "output_type": "stream",
     "text": [
      "macmath22@gmail\n",
      "test@test\n",
      "mina@minas\n"
     ]
    }
   ],
   "source": [
    "str = 'What a nice weather macmath22@gmail.com, test@test.com mina@minas.net'\n",
    "emails = re.findall(r'[\\w-]+@[\\w-]+', str) \n",
    "for email in emails:\n",
    "    print(email)\n",
    "    \n",
    "# findall은 모든 값을 찾아서 리스트 형식으로 출력"
   ]
  },
  {
   "cell_type": "code",
   "execution_count": 89,
   "metadata": {},
   "outputs": [
    {
     "name": "stdout",
     "output_type": "stream",
     "text": [
      "('macmath22', 'gmail.com') macmath22 gmail.com\n",
      "('test', 'test.com') test test.com\n",
      "('mina', 'minas.net') mina minas.net\n"
     ]
    }
   ],
   "source": [
    "str = 'What a nice weather macmath22@gmail.com, test@test.com mina@minas.net'\n",
    "emails = re.findall(r'([\\w\\.-]+)@([\\w\\.-]+)', str) \n",
    "for email in emails:\n",
    "    print(email, email[0], email[1]) "
   ]
  },
  {
   "cell_type": "markdown",
   "metadata": {},
   "source": [
    "* **미니멈 매칭(non-greedy way)**\n",
    " - 기본적으로 *, +, ?를 사용하면 greedy(맥시멈 매칭)하게 동작함\n",
    "   - 따라서 패턴 <.+> 가 문자열 <html> hahah </html>의 패턴을 찾는데 사용되면 전체 문자열이 매칭 됨\n",
    " - 이것은 <html>만을 찾고자 하는 의도한 결과가 아니기 때문에, 미니멈 매칭이 필요한 경우도 있음\n",
    " - *?, +?, ??을 이용하여 해당 기능을 구현           ------> [최소한의 매칭만 찾으면 종료]\n",
    " - 위의 세가지를 사용하면 최소로 만족하는 조건을 검색"
   ]
  },
  {
   "cell_type": "code",
   "execution_count": 90,
   "metadata": {},
   "outputs": [
    {
     "name": "stdout",
     "output_type": "stream",
     "text": [
      "<html> haha </html>\n",
      "0\n",
      "19\n"
     ]
    }
   ],
   "source": [
    "m = re.search('<.+>', '<html> haha </html>')\n",
    "print(m.group())             #-----> 이렇게 하면 첫번째만 매칭하지 않고 모든 것을 매칭함\n",
    "print(m.start())\n",
    "print(m.end())"
   ]
  },
  {
   "cell_type": "code",
   "execution_count": 92,
   "metadata": {},
   "outputs": [
    {
     "name": "stdout",
     "output_type": "stream",
     "text": [
      "<html>\n",
      "0\n",
      "6\n"
     ]
    }
   ],
   "source": [
    "m = re.search('<.+?>', '<html> haha </html>')\n",
    "print(m.group())               #-----> 이렇게 ?를 달면 첫번째만 매칭해서 출력\n",
    "print(m.start())\n",
    "print(m.end())"
   ]
  },
  {
   "cell_type": "code",
   "execution_count": 94,
   "metadata": {},
   "outputs": [
    {
     "name": "stdout",
     "output_type": "stream",
     "text": [
      "abccbbdbb\n"
     ]
    }
   ],
   "source": [
    "print(re.search(r'a[bcd]*b', 'abccbbdbbd').group())       #마지막 b까지"
   ]
  },
  {
   "cell_type": "code",
   "execution_count": 93,
   "metadata": {},
   "outputs": [
    {
     "name": "stdout",
     "output_type": "stream",
     "text": [
      "ab\n"
     ]
    }
   ],
   "source": [
    "print(re.search(r'a[bcd]*?b', 'abccbbdbbd').group())      #첫번째 b까지"
   ]
  },
  {
   "cell_type": "code",
   "execution_count": 95,
   "metadata": {},
   "outputs": [
    {
     "name": "stdout",
     "output_type": "stream",
     "text": [
      "abccbbdbb\n"
     ]
    }
   ],
   "source": [
    "print(re.search(r'a[bcd]+b', 'abccbbdbbd').group())"
   ]
  },
  {
   "cell_type": "code",
   "execution_count": 104,
   "metadata": {},
   "outputs": [
    {
     "name": "stdout",
     "output_type": "stream",
     "text": [
      "abccb\n"
     ]
    }
   ],
   "source": [
    "print(re.search(r'a[bcd]+?b', 'abccbbdbbd').group())     #bcd중 하나는 나와야 하므로 나올때까지 출력하다가 스톱\n",
    "                                                                                 #이거 왜 d까지 안가나...??"
   ]
  },
  {
   "cell_type": "markdown",
   "metadata": {},
   "source": [
    "* **{}?**\n",
    " - {m,n}의 경우 m번 혹은 n번 반복하나 greedy하게 동작\n",
    " - {m,n}?로 사용하면 non-greedy하게 동작. 즉, 최소 m번만 매칭하면 만족"
   ]
  },
  {
   "cell_type": "code",
   "execution_count": 101,
   "metadata": {},
   "outputs": [
    {
     "name": "stdout",
     "output_type": "stream",
     "text": [
      "aaaaa\n"
     ]
    }
   ],
   "source": [
    "print(re.search(r'a{3,5}', 'aaaaaa').group())         #맥시멈"
   ]
  },
  {
   "cell_type": "code",
   "execution_count": 102,
   "metadata": {},
   "outputs": [
    {
     "name": "stdout",
     "output_type": "stream",
     "text": [
      "aaa\n"
     ]
    }
   ],
   "source": [
    "print(re.search(r'a{3,5}?', 'aaaaaa').group())       #미니멈"
   ]
  },
  {
   "cell_type": "code",
   "execution_count": 106,
   "metadata": {
    "scrolled": true
   },
   "outputs": [
    {
     "name": "stdout",
     "output_type": "stream",
     "text": [
      "pipipiipiiippp\n",
      "pipipi\n",
      "p\n",
      "pip\n",
      "pi\n",
      "pipipi\n",
      "pipi\n"
     ]
    }
   ],
   "source": [
    "print(re.search(r'[pi]+', 'pipipiipiiipppg').group())\n",
    "print(re.search(r'(pi)+', 'pipipiipiiipppg').group())          #pi가 끝나는 첫번째 지점에서 스톱\n",
    "print(re.search(r'[pi]+?', 'pipipiipiiipppg').group())\n",
    "print(re.search(r'[pi]{2,3}', 'pipipiipiiipppg').group())\n",
    "print(re.search(r'[pi]{2,3}?', 'pipipiipiiipppg').group())\n",
    "print(re.search(r'(pi){2,3}', 'pipipiipiiipppg').group())\n",
    "print(re.search(r'(pi){2,3}?', 'pipipiipiiipppg').group())"
   ]
  },
  {
   "cell_type": "markdown",
   "metadata": {},
   "source": [
    "* 연습문제)\n",
    " - 문자열 리스트내에서 올바른 파이썬 변수명만 있는지 판단하시오\n",
    " - 대소문자를 제외한 the라는 단어가 content 문자열에서 몇번 나왔는지 개수를 구하시오 \n",
    " - def is_substring(s, query)를 구현하시오"
   ]
  },
  {
   "cell_type": "code",
   "execution_count": 110,
   "metadata": {},
   "outputs": [
    {
     "ename": "AttributeError",
     "evalue": "'str' object has no attribute 'content'",
     "output_type": "error",
     "traceback": [
      "\u001b[1;31m---------------------------------------------------------------------------\u001b[0m",
      "\u001b[1;31mAttributeError\u001b[0m                            Traceback (most recent call last)",
      "\u001b[1;32m<ipython-input-110-3893669b4cd7>\u001b[0m in \u001b[0;36m<module>\u001b[1;34m()\u001b[0m\n\u001b[0;32m      7\u001b[0m '''\n\u001b[0;32m      8\u001b[0m \u001b[1;33m\u001b[0m\u001b[0m\n\u001b[1;32m----> 9\u001b[1;33m \u001b[0mcount\u001b[0m \u001b[1;33m=\u001b[0m \u001b[0mre\u001b[0m\u001b[1;33m.\u001b[0m\u001b[0msearch\u001b[0m\u001b[1;33m(\u001b[0m\u001b[1;34mr'[Python]+'\u001b[0m\u001b[1;33m.\u001b[0m\u001b[0mcontent\u001b[0m\u001b[1;33m(\u001b[0m\u001b[1;33m)\u001b[0m\u001b[1;33m,\u001b[0m \u001b[0mstr\u001b[0m\u001b[1;33m)\u001b[0m\u001b[1;33m\u001b[0m\u001b[0m\n\u001b[0m\u001b[0;32m     10\u001b[0m \u001b[0mprint\u001b[0m\u001b[1;33m(\u001b[0m\u001b[0mcount\u001b[0m\u001b[1;33m.\u001b[0m\u001b[0mgroup\u001b[0m\u001b[1;33m(\u001b[0m\u001b[1;33m)\u001b[0m\u001b[1;33m)\u001b[0m\u001b[1;33m\u001b[0m\u001b[0m\n",
      "\u001b[1;31mAttributeError\u001b[0m: 'str' object has no attribute 'content'"
     ]
    }
   ],
   "source": [
    "content = '''Python is very concise language compared to the other ones\n",
    "Python has powerful tools and the tools are very nice\n",
    "The tools include debugger profiler and the compiler\n",
    "Python is used widely for many reasons and mostly for web apis\n",
    "The apis built from python is about 2 times faster than ruby\n",
    "python is language and also a specification python can be implemented in any language\n",
    "'''\n",
    "\n",
    "count = re.search(r'[Python]+'.content(), str)\n",
    "print(count.group())"
   ]
  },
  {
   "cell_type": "code",
   "execution_count": 122,
   "metadata": {
    "collapsed": true
   },
   "outputs": [],
   "source": [
    "content = '''Python is very concise language compared to the other ones\n",
    "Python has powerful tools and the tools are very nice\n",
    "The tools include debugger profiler and the compiler\n",
    "Python is used widely for many reasons and mostly for web apis\n",
    "The apis built from python is about 2 times faster than ruby\n",
    "python is language and also a specification python can be implemented in any language\n",
    "'''"
   ]
  },
  {
   "cell_type": "code",
   "execution_count": 125,
   "metadata": {},
   "outputs": [
    {
     "data": {
      "text/plain": [
       "['the', 'the', 'The', 'the', 'The']"
      ]
     },
     "execution_count": 125,
     "metadata": {},
     "output_type": "execute_result"
    }
   ],
   "source": [
    "#pattern = r'\\s[tT]he\\s'       # \\s를 하는 이유는 공백문자 제외된 것을 사용??\n",
    "pattern = r'\\b[tT]he\\b'\n",
    "\n",
    "re.findall(pattern, content)"
   ]
  },
  {
   "cell_type": "code",
   "execution_count": 120,
   "metadata": {
    "scrolled": false
   },
   "outputs": [
    {
     "ename": "TypeError",
     "evalue": "expected string or bytes-like object",
     "output_type": "error",
     "traceback": [
      "\u001b[1;31m---------------------------------------------------------------------------\u001b[0m",
      "\u001b[1;31mTypeError\u001b[0m                                 Traceback (most recent call last)",
      "\u001b[1;32m<ipython-input-120-55cba31ba124>\u001b[0m in \u001b[0;36m<module>\u001b[1;34m()\u001b[0m\n\u001b[0;32m      1\u001b[0m \u001b[0mvariables\u001b[0m \u001b[1;33m=\u001b[0m \u001b[1;33m[\u001b[0m\u001b[1;34m'abc'\u001b[0m\u001b[1;33m,\u001b[0m \u001b[1;34m'3dbd'\u001b[0m\u001b[1;33m,\u001b[0m \u001b[1;34m'a_bdd'\u001b[0m\u001b[1;33m,\u001b[0m \u001b[1;34m'good344'\u001b[0m\u001b[1;33m,\u001b[0m \u001b[1;34m'aB_23'\u001b[0m\u001b[1;33m]\u001b[0m \u001b[1;31m# 각 문자열이 python 변수 명이라고 가정\u001b[0m\u001b[1;33m\u001b[0m\u001b[0m\n\u001b[0;32m      2\u001b[0m \u001b[1;33m\u001b[0m\u001b[0m\n\u001b[1;32m----> 3\u001b[1;33m \u001b[0mvar\u001b[0m \u001b[1;33m=\u001b[0m \u001b[0mre\u001b[0m\u001b[1;33m.\u001b[0m\u001b[0msearch\u001b[0m\u001b[1;33m(\u001b[0m\u001b[1;34mr'^\\d+'\u001b[0m\u001b[1;33m,\u001b[0m \u001b[0mvariables\u001b[0m\u001b[1;33m)\u001b[0m\u001b[1;33m\u001b[0m\u001b[0m\n\u001b[0m\u001b[0;32m      4\u001b[0m \u001b[0mprint\u001b[0m\u001b[1;33m(\u001b[0m\u001b[0mvar\u001b[0m\u001b[1;33m.\u001b[0m\u001b[0mgroup\u001b[0m\u001b[1;33m(\u001b[0m\u001b[1;33m)\u001b[0m\u001b[1;33m)\u001b[0m\u001b[1;33m\u001b[0m\u001b[0m\n",
      "\u001b[1;32mc:\\python36\\lib\\re.py\u001b[0m in \u001b[0;36msearch\u001b[1;34m(pattern, string, flags)\u001b[0m\n\u001b[0;32m    180\u001b[0m     \"\"\"Scan through string looking for a match to the pattern, returning\n\u001b[0;32m    181\u001b[0m     a match object, or None if no match was found.\"\"\"\n\u001b[1;32m--> 182\u001b[1;33m     \u001b[1;32mreturn\u001b[0m \u001b[0m_compile\u001b[0m\u001b[1;33m(\u001b[0m\u001b[0mpattern\u001b[0m\u001b[1;33m,\u001b[0m \u001b[0mflags\u001b[0m\u001b[1;33m)\u001b[0m\u001b[1;33m.\u001b[0m\u001b[0msearch\u001b[0m\u001b[1;33m(\u001b[0m\u001b[0mstring\u001b[0m\u001b[1;33m)\u001b[0m\u001b[1;33m\u001b[0m\u001b[0m\n\u001b[0m\u001b[0;32m    183\u001b[0m \u001b[1;33m\u001b[0m\u001b[0m\n\u001b[0;32m    184\u001b[0m \u001b[1;32mdef\u001b[0m \u001b[0msub\u001b[0m\u001b[1;33m(\u001b[0m\u001b[0mpattern\u001b[0m\u001b[1;33m,\u001b[0m \u001b[0mrepl\u001b[0m\u001b[1;33m,\u001b[0m \u001b[0mstring\u001b[0m\u001b[1;33m,\u001b[0m \u001b[0mcount\u001b[0m\u001b[1;33m=\u001b[0m\u001b[1;36m0\u001b[0m\u001b[1;33m,\u001b[0m \u001b[0mflags\u001b[0m\u001b[1;33m=\u001b[0m\u001b[1;36m0\u001b[0m\u001b[1;33m)\u001b[0m\u001b[1;33m:\u001b[0m\u001b[1;33m\u001b[0m\u001b[0m\n",
      "\u001b[1;31mTypeError\u001b[0m: expected string or bytes-like object"
     ]
    }
   ],
   "source": [
    "variables = ['abc', '3dbd', 'a_bdd', 'good344', 'aB_23'] # 각 문자열이 python 변수 명이라고 가정\n",
    "\n",
    "var = re.search(r'^\\d+', variables)\n",
    "print(var.group())"
   ]
  },
  {
   "cell_type": "code",
   "execution_count": 9,
   "metadata": {
    "scrolled": true
   },
   "outputs": [
    {
     "name": "stdout",
     "output_type": "stream",
     "text": [
      "abc\n",
      "a_bdd\n",
      "good344\n",
      "aB_23\n"
     ]
    }
   ],
   "source": [
    "variables = ['abc', '3dbd', 'a_bdd', 'good344', 'aB_23'] # 각 문자열이 python 변수 명이라고 가정\n",
    "\n",
    "pattern = r'^[_a-zA-Z]+\\w*'        # 여기에 ^가 붙으면 위의 리스트 2번째에 있는 '3dbd' 자체가 생략되지만, ^를 없애면 3만 사라지고\n",
    "                                                 #  dbd가 출력이 된다. 따라서 제외가 되는 상황이 아니게 되므로 오류가 발생한 것이라고 볼 수 있다.\n",
    "\n",
    "for var in variables:\n",
    "    m = re.search(pattern, var)\n",
    "    if m:\n",
    "        print(m.group())"
   ]
  },
  {
   "cell_type": "code",
   "execution_count": null,
   "metadata": {
    "collapsed": true
   },
   "outputs": [],
   "source": []
  },
  {
   "cell_type": "code",
   "execution_count": 7,
   "metadata": {},
   "outputs": [
    {
     "name": "stdout",
     "output_type": "stream",
     "text": [
      "<_sre.SRE_Match object; span=(7, 11), match='test'>\n"
     ]
    }
   ],
   "source": [
    "# str1이 str2의 부분 문자열인지?\n",
    "def is_substring(str1, str2):\n",
    "    return re.search(str1, str2)\n",
    "\n",
    "print(is_substring(r'test', 'hahaha testsdfsdf'))"
   ]
  },
  {
   "cell_type": "markdown",
   "metadata": {},
   "source": [
    "* **sub**\n",
    " - 주어진 문자열에서 일치하는 모든 패턴을 replace\n",
    " - 그 결과를 문자열로 다시 반환함\n",
    " - 두번째 인자는 특정 문자열이 될 수도 있고, 함수가 될 수 도 있음\n",
    " - count가 0인 경우는 전체를, 1이상이면 해당 숫자만큼 치환 됨"
   ]
  },
  {
   "cell_type": "code",
   "execution_count": 6,
   "metadata": {},
   "outputs": [
    {
     "name": "stdout",
     "output_type": "stream",
     "text": [
      "What a nice weather test, test test\n"
     ]
    }
   ],
   "source": [
    "str = 'What a nice weather macmath22@gmail.com, test@test.com mina@minas.net'\n",
    "replaced = re.sub(r'[\\w.-]+@[\\w.-]+', r'test', str) \n",
    "print(replaced)"
   ]
  },
  {
   "cell_type": "code",
   "execution_count": 8,
   "metadata": {},
   "outputs": [
    {
     "name": "stdout",
     "output_type": "stream",
     "text": [
      "one to the two to the three\n"
     ]
    }
   ],
   "source": [
    "nmap = {'1': 'one', '2': 'two', '3': 'three'}\n",
    "s = \"1 to the 2 to the 3\"\n",
    "\n",
    "# 함수가 사용될 경우, 파라미터로 match객체가 전달됨. 따라서 group을 호출해 주어야 제대로 동작함\n",
    "print(re.sub(r'\\d', lambda m: nmap[m.group()], s))               # 여기서 m은 match"
   ]
  },
  {
   "cell_type": "markdown",
   "metadata": {},
   "source": [
    "* 실습)\n",
    " - 010-3335-5555형식의 번호를 (010) 3335-5555로 변환하는 함수를 만드시오\n",
    " - grouping을 이용"
   ]
  },
  {
   "cell_type": "code",
   "execution_count": 6,
   "metadata": {},
   "outputs": [
    {
     "name": "stdout",
     "output_type": "stream",
     "text": [
      "(010) 3457-6360\n"
     ]
    }
   ],
   "source": [
    "pattern = r'(\\d{3})-(\\d{4})-(\\d{4})'\n",
    "replace = r'(\\1) \\2-\\3'                             #그룹을 이용해서 형식을 바꿈\n",
    "\n",
    "result = re.sub(pattern, replace, '010-3457-6360')\n",
    "print(result)\n",
    "\n",
    "#위와 같은 형식은 'sub'만이 가능하다."
   ]
  },
  {
   "cell_type": "markdown",
   "metadata": {},
   "source": [
    "* 연습문제\n",
    " - \"one, two three.four*five:six\"에서 one, two, three, four, five, six로 추출해보시오"
   ]
  },
  {
   "cell_type": "code",
   "execution_count": 14,
   "metadata": {},
   "outputs": [
    {
     "name": "stdout",
     "output_type": "stream",
     "text": [
      "one\n",
      "two\n"
     ]
    }
   ],
   "source": [
    "a = \"one,two three.four*five:six\"\n",
    "b = a.split(',')\n",
    "c = b[1].split(' ')\n",
    "print(b[0])\n",
    "print(c[0])"
   ]
  },
  {
   "cell_type": "markdown",
   "metadata": {},
   "source": [
    "* **split**\n",
    " - 문자열의 split과 유사하나, 정규표현식을 이용하여 더 편리하게 분할 가능"
   ]
  },
  {
   "cell_type": "code",
   "execution_count": 3,
   "metadata": {},
   "outputs": [
    {
     "name": "stdout",
     "output_type": "stream",
     "text": [
      "['one', 'two', 'three', 'four', 'five', 'six']\n"
     ]
    },
    {
     "name": "stderr",
     "output_type": "stream",
     "text": [
      "c:\\python36\\lib\\re.py:212: FutureWarning: split() requires a non-empty pattern match.\n",
      "  return _compile(pattern, flags).split(string, maxsplit)\n"
     ]
    }
   ],
   "source": [
    "a = \"one,two three.four*five:six\"\n",
    "print(re.split(r'[:,.*\\s]*', a))"
   ]
  },
  {
   "cell_type": "markdown",
   "metadata": {},
   "source": [
    "* **compile**\n",
    " - 동일한 정규표현식을 매번 다시 쓰기 번거로움을 해결\n",
    " - compile로 해당표현식을 re.RegexObject 객체로 저장하여 사용가능"
   ]
  },
  {
   "cell_type": "code",
   "execution_count": 17,
   "metadata": {},
   "outputs": [
    {
     "name": "stdout",
     "output_type": "stream",
     "text": [
      "macmath22@gmail.com\n",
      "['macmath22@gmail.com', 'test@test.com', 'mina@minas.net']\n",
      "My email is test\n"
     ]
    }
   ],
   "source": [
    "import re\n",
    "\n",
    "                                                                           # compile을 이용하면 해당 표현식에 대해서 반복적으로 사용할 수 있도록 해줌.\n",
    "email_reg = re.compile(r'[\\w.-]+@[\\w.-]+')            #미리 실행가능한 상태로 첫 머리에 compile해주는 것\n",
    "\n",
    "m = email_reg.search('What a nice weather macmath22@gmail.com, test@test.com mina@minas.net')\n",
    "if m:\n",
    "    print(m.group())\n",
    "    \n",
    "\n",
    "print(email_reg.findall('What a nice weather macmath22@gmail.com, test@test.com mina@minas.net'))\n",
    "\n",
    "print(email_reg.sub('test', 'My email is macmath22@gmail.com'))"
   ]
  },
  {
   "cell_type": "markdown",
   "metadata": {},
   "source": [
    " * 연습문제 \n",
    "  - 다음중 올바른 (http, https) 웹페이지만 찾으시오"
   ]
  },
  {
   "cell_type": "code",
   "execution_count": 7,
   "metadata": {
    "collapsed": true
   },
   "outputs": [],
   "source": [
    "webs = ['http://www.test.co.kr', \n",
    "        'https://www.test1.com', \n",
    "        'http://www.test.com', \n",
    "        'ftp://www.test.com', \n",
    "        'http:://www.test.com',\n",
    "       'htp://www.test.com',\n",
    "       'http://www.google.com', \n",
    "       'https://www.homepage.com']"
   ]
  },
  {
   "cell_type": "code",
   "execution_count": 10,
   "metadata": {},
   "outputs": [
    {
     "ename": "TypeError",
     "evalue": "search() missing 1 required positional argument: 'string'",
     "output_type": "error",
     "traceback": [
      "\u001b[1;31m---------------------------------------------------------------------------\u001b[0m",
      "\u001b[1;31mTypeError\u001b[0m                                 Traceback (most recent call last)",
      "\u001b[1;32m<ipython-input-10-877dd5f9a8e3>\u001b[0m in \u001b[0;36m<module>\u001b[1;34m()\u001b[0m\n\u001b[1;32m----> 1\u001b[1;33m \u001b[0mis_searching\u001b[0m \u001b[1;33m=\u001b[0m \u001b[0mre\u001b[0m\u001b[1;33m.\u001b[0m\u001b[0msearch\u001b[0m\u001b[1;33m(\u001b[0m\u001b[1;34mr'^http[s]+'\u001b[0m\u001b[1;33m)\u001b[0m\u001b[1;33m\u001b[0m\u001b[0m\n\u001b[0m\u001b[0;32m      2\u001b[0m \u001b[0mprint\u001b[0m\u001b[1;33m(\u001b[0m\u001b[0mis_searching\u001b[0m\u001b[1;33m.\u001b[0m\u001b[0mgroup\u001b[0m\u001b[1;33m(\u001b[0m\u001b[1;33m)\u001b[0m\u001b[1;33m,\u001b[0m \u001b[0mwebs\u001b[0m\u001b[1;33m)\u001b[0m\u001b[1;33m\u001b[0m\u001b[0m\n",
      "\u001b[1;31mTypeError\u001b[0m: search() missing 1 required positional argument: 'string'"
     ]
    }
   ],
   "source": [
    "is_searching = re.search(r'^http[s]+')\n",
    "print(is_searching.group(), webs)"
   ]
  },
  {
   "cell_type": "code",
   "execution_count": 19,
   "metadata": {
    "scrolled": true
   },
   "outputs": [
    {
     "name": "stdout",
     "output_type": "stream",
     "text": [
      "http://www.test.co.kr\n",
      "https://www.test1.com\n",
      "http://www.test.com\n",
      "http://www.google.com\n",
      "https://www.homepage.com\n"
     ]
    }
   ],
   "source": [
    "import re\n",
    "                                                                           # compile을 이용하면 해당 표현식에 대해서 반복적으로 사용할 수 있도록 해줌.\n",
    "url_regex = re.compile('https?://[\\w.]+')\n",
    "\n",
    "for url in webs:\n",
    "    m = url_regex.search(url)\n",
    "    if m:\n",
    "        print(m.group())"
   ]
  }
 ],
 "metadata": {
  "kernelspec": {
   "display_name": "Python 3",
   "language": "python",
   "name": "python3"
  },
  "language_info": {
   "codemirror_mode": {
    "name": "ipython",
    "version": 3
   },
   "file_extension": ".py",
   "mimetype": "text/x-python",
   "name": "python",
   "nbconvert_exporter": "python",
   "pygments_lexer": "ipython3",
   "version": "3.6.3"
  }
 },
 "nbformat": 4,
 "nbformat_minor": 1
}
